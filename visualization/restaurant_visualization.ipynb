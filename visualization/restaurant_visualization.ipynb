{
 "cells": [
  {
   "cell_type": "code",
   "execution_count": 40,
   "metadata": {},
   "outputs": [
    {
     "name": "stderr",
     "output_type": "stream",
     "text": [
      "/tmp/ipykernel_13930/2761295241.py:13: UserWarning:\n",
      "\n",
      "pandas only supports SQLAlchemy connectable (engine/connection) or database string URI or sqlite3 DBAPI2 connection. Other DBAPI2 objects are not tested. Please consider using SQLAlchemy.\n",
      "\n"
     ]
    },
    {
     "data": {
      "text/html": [
       "<div>\n",
       "<style scoped>\n",
       "    .dataframe tbody tr th:only-of-type {\n",
       "        vertical-align: middle;\n",
       "    }\n",
       "\n",
       "    .dataframe tbody tr th {\n",
       "        vertical-align: top;\n",
       "    }\n",
       "\n",
       "    .dataframe thead th {\n",
       "        text-align: right;\n",
       "    }\n",
       "</style>\n",
       "<table border=\"1\" class=\"dataframe\">\n",
       "  <thead>\n",
       "    <tr style=\"text-align: right;\">\n",
       "      <th></th>\n",
       "      <th>name</th>\n",
       "      <th>station</th>\n",
       "      <th>category</th>\n",
       "      <th>score</th>\n",
       "      <th>review</th>\n",
       "      <th>price</th>\n",
       "      <th>address</th>\n",
       "      <th>latitude</th>\n",
       "      <th>longitude</th>\n",
       "    </tr>\n",
       "  </thead>\n",
       "  <tbody>\n",
       "    <tr>\n",
       "      <th>0</th>\n",
       "      <td>100-17이태리선술집</td>\n",
       "      <td>신길역</td>\n",
       "      <td>호프,요리주점</td>\n",
       "      <td>4.9</td>\n",
       "      <td>171</td>\n",
       "      <td>13750</td>\n",
       "      <td>서울 영등포구 도신로 254 (우)07352</td>\n",
       "      <td>37.513005</td>\n",
       "      <td>126.919179</td>\n",
       "    </tr>\n",
       "    <tr>\n",
       "      <th>1</th>\n",
       "      <td>103호</td>\n",
       "      <td>당산역</td>\n",
       "      <td>실내포장마차</td>\n",
       "      <td>4.3</td>\n",
       "      <td>222</td>\n",
       "      <td>11000</td>\n",
       "      <td>서울 영등포구 양평로 64-1 1층 (우)07222</td>\n",
       "      <td>37.535288</td>\n",
       "      <td>126.899660</td>\n",
       "    </tr>\n",
       "    <tr>\n",
       "      <th>2</th>\n",
       "      <td>10G</td>\n",
       "      <td>여의나루역</td>\n",
       "      <td>디저트카페</td>\n",
       "      <td>3.9</td>\n",
       "      <td>120</td>\n",
       "      <td>6000</td>\n",
       "      <td>서울 영등포구 국제금융로 10 1층 (우)07326</td>\n",
       "      <td>37.524978</td>\n",
       "      <td>126.925298</td>\n",
       "    </tr>\n",
       "    <tr>\n",
       "      <th>3</th>\n",
       "      <td>10꼬르소꼬모서울카페</td>\n",
       "      <td>압구정로데오역</td>\n",
       "      <td>카페</td>\n",
       "      <td>3.2</td>\n",
       "      <td>70</td>\n",
       "      <td>16250</td>\n",
       "      <td>서울 강남구 압구정로 416 더트리니티빌딩 지하1층 (우)06015</td>\n",
       "      <td>37.526916</td>\n",
       "      <td>127.042419</td>\n",
       "    </tr>\n",
       "    <tr>\n",
       "      <th>4</th>\n",
       "      <td>153구포국수 군자점</td>\n",
       "      <td>군자(능동)역</td>\n",
       "      <td>분식</td>\n",
       "      <td>4.6</td>\n",
       "      <td>93</td>\n",
       "      <td>7375</td>\n",
       "      <td>서울 광진구 동일로60길 37 (우)04994</td>\n",
       "      <td>37.557979</td>\n",
       "      <td>127.075491</td>\n",
       "    </tr>\n",
       "  </tbody>\n",
       "</table>\n",
       "</div>"
      ],
      "text/plain": [
       "           name  station category  score  review  price  \\\n",
       "0  100-17이태리선술집      신길역  호프,요리주점    4.9     171  13750   \n",
       "1          103호      당산역   실내포장마차    4.3     222  11000   \n",
       "2           10G    여의나루역    디저트카페    3.9     120   6000   \n",
       "3   10꼬르소꼬모서울카페  압구정로데오역       카페    3.2      70  16250   \n",
       "4   153구포국수 군자점  군자(능동)역       분식    4.6      93   7375   \n",
       "\n",
       "                                 address   latitude   longitude  \n",
       "0               서울 영등포구 도신로 254 (우)07352  37.513005  126.919179  \n",
       "1           서울 영등포구 양평로 64-1 1층 (우)07222  37.535288  126.899660  \n",
       "2           서울 영등포구 국제금융로 10 1층 (우)07326  37.524978  126.925298  \n",
       "3  서울 강남구 압구정로 416 더트리니티빌딩 지하1층 (우)06015  37.526916  127.042419  \n",
       "4              서울 광진구 동일로60길 37 (우)04994  37.557979  127.075491  "
      ]
     },
     "execution_count": 40,
     "metadata": {},
     "output_type": "execute_result"
    }
   ],
   "source": [
    "import mysql.connector\n",
    "import pandas as pd\n",
    "\n",
    "ojk = mysql.connector.connect(\n",
    "    host = \"database-1.cnu82kme6p4d.ap-northeast-2.rds.amazonaws.com\",\n",
    "    port = 3306,\n",
    "    user = \"eda\",\n",
    "    password = \"ojk0707\",\n",
    "    database = \"ojk\"\n",
    ")\n",
    "cursor = ojk.cursor()\n",
    "query = \"SELECT * FROM restaurant where score > 3.0\"\n",
    "restaurant = pd.read_sql(query, ojk)\n",
    "restaurant.head()"
   ]
  },
  {
   "cell_type": "code",
   "execution_count": 41,
   "metadata": {},
   "outputs": [
    {
     "data": {
      "text/html": [
       "<div>\n",
       "<style scoped>\n",
       "    .dataframe tbody tr th:only-of-type {\n",
       "        vertical-align: middle;\n",
       "    }\n",
       "\n",
       "    .dataframe tbody tr th {\n",
       "        vertical-align: top;\n",
       "    }\n",
       "\n",
       "    .dataframe thead th {\n",
       "        text-align: right;\n",
       "    }\n",
       "</style>\n",
       "<table border=\"1\" class=\"dataframe\">\n",
       "  <thead>\n",
       "    <tr style=\"text-align: right;\">\n",
       "      <th></th>\n",
       "      <th>name</th>\n",
       "      <th>station</th>\n",
       "      <th>category</th>\n",
       "      <th>score</th>\n",
       "      <th>review</th>\n",
       "      <th>price</th>\n",
       "      <th>address</th>\n",
       "      <th>latitude</th>\n",
       "      <th>longitude</th>\n",
       "      <th>value</th>\n",
       "    </tr>\n",
       "  </thead>\n",
       "  <tbody>\n",
       "    <tr>\n",
       "      <th>0</th>\n",
       "      <td>100-17이태리선술집</td>\n",
       "      <td>신길역</td>\n",
       "      <td>호프,요리주점</td>\n",
       "      <td>4.9</td>\n",
       "      <td>171</td>\n",
       "      <td>13750</td>\n",
       "      <td>서울 영등포구 도신로 254 (우)07352</td>\n",
       "      <td>37.513005</td>\n",
       "      <td>126.919179</td>\n",
       "      <td>25.222723</td>\n",
       "    </tr>\n",
       "    <tr>\n",
       "      <th>1</th>\n",
       "      <td>103호</td>\n",
       "      <td>당산역</td>\n",
       "      <td>실내포장마차</td>\n",
       "      <td>4.3</td>\n",
       "      <td>222</td>\n",
       "      <td>11000</td>\n",
       "      <td>서울 영등포구 양평로 64-1 1층 (우)07222</td>\n",
       "      <td>37.535288</td>\n",
       "      <td>126.899660</td>\n",
       "      <td>23.250839</td>\n",
       "    </tr>\n",
       "    <tr>\n",
       "      <th>2</th>\n",
       "      <td>10G</td>\n",
       "      <td>여의나루역</td>\n",
       "      <td>디저트카페</td>\n",
       "      <td>3.9</td>\n",
       "      <td>120</td>\n",
       "      <td>6000</td>\n",
       "      <td>서울 영등포구 국제금융로 10 1층 (우)07326</td>\n",
       "      <td>37.524978</td>\n",
       "      <td>126.925298</td>\n",
       "      <td>18.703583</td>\n",
       "    </tr>\n",
       "    <tr>\n",
       "      <th>3</th>\n",
       "      <td>10꼬르소꼬모서울카페</td>\n",
       "      <td>압구정로데오역</td>\n",
       "      <td>카페</td>\n",
       "      <td>3.2</td>\n",
       "      <td>70</td>\n",
       "      <td>16250</td>\n",
       "      <td>서울 강남구 압구정로 416 더트리니티빌딩 지하1층 (우)06015</td>\n",
       "      <td>37.526916</td>\n",
       "      <td>127.042419</td>\n",
       "      <td>13.640576</td>\n",
       "    </tr>\n",
       "    <tr>\n",
       "      <th>4</th>\n",
       "      <td>153구포국수 군자점</td>\n",
       "      <td>군자(능동)역</td>\n",
       "      <td>분식</td>\n",
       "      <td>4.6</td>\n",
       "      <td>93</td>\n",
       "      <td>7375</td>\n",
       "      <td>서울 광진구 동일로60길 37 (우)04994</td>\n",
       "      <td>37.557979</td>\n",
       "      <td>127.075491</td>\n",
       "      <td>20.899156</td>\n",
       "    </tr>\n",
       "  </tbody>\n",
       "</table>\n",
       "</div>"
      ],
      "text/plain": [
       "           name  station category  score  review  price  \\\n",
       "0  100-17이태리선술집      신길역  호프,요리주점    4.9     171  13750   \n",
       "1          103호      당산역   실내포장마차    4.3     222  11000   \n",
       "2           10G    여의나루역    디저트카페    3.9     120   6000   \n",
       "3   10꼬르소꼬모서울카페  압구정로데오역       카페    3.2      70  16250   \n",
       "4   153구포국수 군자점  군자(능동)역       분식    4.6      93   7375   \n",
       "\n",
       "                                 address   latitude   longitude      value  \n",
       "0               서울 영등포구 도신로 254 (우)07352  37.513005  126.919179  25.222723  \n",
       "1           서울 영등포구 양평로 64-1 1층 (우)07222  37.535288  126.899660  23.250839  \n",
       "2           서울 영등포구 국제금융로 10 1층 (우)07326  37.524978  126.925298  18.703583  \n",
       "3  서울 강남구 압구정로 416 더트리니티빌딩 지하1층 (우)06015  37.526916  127.042419  13.640576  \n",
       "4              서울 광진구 동일로60길 37 (우)04994  37.557979  127.075491  20.899156  "
      ]
     },
     "execution_count": 41,
     "metadata": {},
     "output_type": "execute_result"
    }
   ],
   "source": [
    "import numpy as np\n",
    "\n",
    "restaurant['value'] = restaurant['score'] * np.log(restaurant['review']+1)\n",
    "restaurant.head()"
   ]
  },
  {
   "cell_type": "code",
   "execution_count": 42,
   "metadata": {},
   "outputs": [
    {
     "data": {
      "application/vnd.plotly.v1+json": {
       "config": {
        "plotlyServerURL": "https://plot.ly"
       },
       "data": [
        {
         "bingroup": "x",
         "hovertemplate": "value=%{x}<br>count=%{y}<extra></extra>",
         "legendgroup": "",
         "marker": {
          "color": "green",
          "pattern": {
           "shape": ""
          }
         },
         "name": "",
         "orientation": "v",
         "showlegend": false,
         "type": "histogram",
         "x": {
          "bdata": "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",
          "dtype": "f8"
         },
         "xaxis": "x",
         "yaxis": "y"
        }
       ],
       "layout": {
        "barmode": "relative",
        "legend": {
         "tracegroupgap": 0
        },
        "template": {
         "data": {
          "bar": [
           {
            "error_x": {
             "color": "#2a3f5f"
            },
            "error_y": {
             "color": "#2a3f5f"
            },
            "marker": {
             "line": {
              "color": "#E5ECF6",
              "width": 0.5
             },
             "pattern": {
              "fillmode": "overlay",
              "size": 10,
              "solidity": 0.2
             }
            },
            "type": "bar"
           }
          ],
          "barpolar": [
           {
            "marker": {
             "line": {
              "color": "#E5ECF6",
              "width": 0.5
             },
             "pattern": {
              "fillmode": "overlay",
              "size": 10,
              "solidity": 0.2
             }
            },
            "type": "barpolar"
           }
          ],
          "carpet": [
           {
            "aaxis": {
             "endlinecolor": "#2a3f5f",
             "gridcolor": "white",
             "linecolor": "white",
             "minorgridcolor": "white",
             "startlinecolor": "#2a3f5f"
            },
            "baxis": {
             "endlinecolor": "#2a3f5f",
             "gridcolor": "white",
             "linecolor": "white",
             "minorgridcolor": "white",
             "startlinecolor": "#2a3f5f"
            },
            "type": "carpet"
           }
          ],
          "choropleth": [
           {
            "colorbar": {
             "outlinewidth": 0,
             "ticks": ""
            },
            "type": "choropleth"
           }
          ],
          "contour": [
           {
            "colorbar": {
             "outlinewidth": 0,
             "ticks": ""
            },
            "colorscale": [
             [
              0,
              "#0d0887"
             ],
             [
              0.1111111111111111,
              "#46039f"
             ],
             [
              0.2222222222222222,
              "#7201a8"
             ],
             [
              0.3333333333333333,
              "#9c179e"
             ],
             [
              0.4444444444444444,
              "#bd3786"
             ],
             [
              0.5555555555555556,
              "#d8576b"
             ],
             [
              0.6666666666666666,
              "#ed7953"
             ],
             [
              0.7777777777777778,
              "#fb9f3a"
             ],
             [
              0.8888888888888888,
              "#fdca26"
             ],
             [
              1,
              "#f0f921"
             ]
            ],
            "type": "contour"
           }
          ],
          "contourcarpet": [
           {
            "colorbar": {
             "outlinewidth": 0,
             "ticks": ""
            },
            "type": "contourcarpet"
           }
          ],
          "heatmap": [
           {
            "colorbar": {
             "outlinewidth": 0,
             "ticks": ""
            },
            "colorscale": [
             [
              0,
              "#0d0887"
             ],
             [
              0.1111111111111111,
              "#46039f"
             ],
             [
              0.2222222222222222,
              "#7201a8"
             ],
             [
              0.3333333333333333,
              "#9c179e"
             ],
             [
              0.4444444444444444,
              "#bd3786"
             ],
             [
              0.5555555555555556,
              "#d8576b"
             ],
             [
              0.6666666666666666,
              "#ed7953"
             ],
             [
              0.7777777777777778,
              "#fb9f3a"
             ],
             [
              0.8888888888888888,
              "#fdca26"
             ],
             [
              1,
              "#f0f921"
             ]
            ],
            "type": "heatmap"
           }
          ],
          "histogram": [
           {
            "marker": {
             "pattern": {
              "fillmode": "overlay",
              "size": 10,
              "solidity": 0.2
             }
            },
            "type": "histogram"
           }
          ],
          "histogram2d": [
           {
            "colorbar": {
             "outlinewidth": 0,
             "ticks": ""
            },
            "colorscale": [
             [
              0,
              "#0d0887"
             ],
             [
              0.1111111111111111,
              "#46039f"
             ],
             [
              0.2222222222222222,
              "#7201a8"
             ],
             [
              0.3333333333333333,
              "#9c179e"
             ],
             [
              0.4444444444444444,
              "#bd3786"
             ],
             [
              0.5555555555555556,
              "#d8576b"
             ],
             [
              0.6666666666666666,
              "#ed7953"
             ],
             [
              0.7777777777777778,
              "#fb9f3a"
             ],
             [
              0.8888888888888888,
              "#fdca26"
             ],
             [
              1,
              "#f0f921"
             ]
            ],
            "type": "histogram2d"
           }
          ],
          "histogram2dcontour": [
           {
            "colorbar": {
             "outlinewidth": 0,
             "ticks": ""
            },
            "colorscale": [
             [
              0,
              "#0d0887"
             ],
             [
              0.1111111111111111,
              "#46039f"
             ],
             [
              0.2222222222222222,
              "#7201a8"
             ],
             [
              0.3333333333333333,
              "#9c179e"
             ],
             [
              0.4444444444444444,
              "#bd3786"
             ],
             [
              0.5555555555555556,
              "#d8576b"
             ],
             [
              0.6666666666666666,
              "#ed7953"
             ],
             [
              0.7777777777777778,
              "#fb9f3a"
             ],
             [
              0.8888888888888888,
              "#fdca26"
             ],
             [
              1,
              "#f0f921"
             ]
            ],
            "type": "histogram2dcontour"
           }
          ],
          "mesh3d": [
           {
            "colorbar": {
             "outlinewidth": 0,
             "ticks": ""
            },
            "type": "mesh3d"
           }
          ],
          "parcoords": [
           {
            "line": {
             "colorbar": {
              "outlinewidth": 0,
              "ticks": ""
             }
            },
            "type": "parcoords"
           }
          ],
          "pie": [
           {
            "automargin": true,
            "type": "pie"
           }
          ],
          "scatter": [
           {
            "fillpattern": {
             "fillmode": "overlay",
             "size": 10,
             "solidity": 0.2
            },
            "type": "scatter"
           }
          ],
          "scatter3d": [
           {
            "line": {
             "colorbar": {
              "outlinewidth": 0,
              "ticks": ""
             }
            },
            "marker": {
             "colorbar": {
              "outlinewidth": 0,
              "ticks": ""
             }
            },
            "type": "scatter3d"
           }
          ],
          "scattercarpet": [
           {
            "marker": {
             "colorbar": {
              "outlinewidth": 0,
              "ticks": ""
             }
            },
            "type": "scattercarpet"
           }
          ],
          "scattergeo": [
           {
            "marker": {
             "colorbar": {
              "outlinewidth": 0,
              "ticks": ""
             }
            },
            "type": "scattergeo"
           }
          ],
          "scattergl": [
           {
            "marker": {
             "colorbar": {
              "outlinewidth": 0,
              "ticks": ""
             }
            },
            "type": "scattergl"
           }
          ],
          "scattermap": [
           {
            "marker": {
             "colorbar": {
              "outlinewidth": 0,
              "ticks": ""
             }
            },
            "type": "scattermap"
           }
          ],
          "scattermapbox": [
           {
            "marker": {
             "colorbar": {
              "outlinewidth": 0,
              "ticks": ""
             }
            },
            "type": "scattermapbox"
           }
          ],
          "scatterpolar": [
           {
            "marker": {
             "colorbar": {
              "outlinewidth": 0,
              "ticks": ""
             }
            },
            "type": "scatterpolar"
           }
          ],
          "scatterpolargl": [
           {
            "marker": {
             "colorbar": {
              "outlinewidth": 0,
              "ticks": ""
             }
            },
            "type": "scatterpolargl"
           }
          ],
          "scatterternary": [
           {
            "marker": {
             "colorbar": {
              "outlinewidth": 0,
              "ticks": ""
             }
            },
            "type": "scatterternary"
           }
          ],
          "surface": [
           {
            "colorbar": {
             "outlinewidth": 0,
             "ticks": ""
            },
            "colorscale": [
             [
              0,
              "#0d0887"
             ],
             [
              0.1111111111111111,
              "#46039f"
             ],
             [
              0.2222222222222222,
              "#7201a8"
             ],
             [
              0.3333333333333333,
              "#9c179e"
             ],
             [
              0.4444444444444444,
              "#bd3786"
             ],
             [
              0.5555555555555556,
              "#d8576b"
             ],
             [
              0.6666666666666666,
              "#ed7953"
             ],
             [
              0.7777777777777778,
              "#fb9f3a"
             ],
             [
              0.8888888888888888,
              "#fdca26"
             ],
             [
              1,
              "#f0f921"
             ]
            ],
            "type": "surface"
           }
          ],
          "table": [
           {
            "cells": {
             "fill": {
              "color": "#EBF0F8"
             },
             "line": {
              "color": "white"
             }
            },
            "header": {
             "fill": {
              "color": "#C8D4E3"
             },
             "line": {
              "color": "white"
             }
            },
            "type": "table"
           }
          ]
         },
         "layout": {
          "annotationdefaults": {
           "arrowcolor": "#2a3f5f",
           "arrowhead": 0,
           "arrowwidth": 1
          },
          "autotypenumbers": "strict",
          "coloraxis": {
           "colorbar": {
            "outlinewidth": 0,
            "ticks": ""
           }
          },
          "colorscale": {
           "diverging": [
            [
             0,
             "#8e0152"
            ],
            [
             0.1,
             "#c51b7d"
            ],
            [
             0.2,
             "#de77ae"
            ],
            [
             0.3,
             "#f1b6da"
            ],
            [
             0.4,
             "#fde0ef"
            ],
            [
             0.5,
             "#f7f7f7"
            ],
            [
             0.6,
             "#e6f5d0"
            ],
            [
             0.7,
             "#b8e186"
            ],
            [
             0.8,
             "#7fbc41"
            ],
            [
             0.9,
             "#4d9221"
            ],
            [
             1,
             "#276419"
            ]
           ],
           "sequential": [
            [
             0,
             "#0d0887"
            ],
            [
             0.1111111111111111,
             "#46039f"
            ],
            [
             0.2222222222222222,
             "#7201a8"
            ],
            [
             0.3333333333333333,
             "#9c179e"
            ],
            [
             0.4444444444444444,
             "#bd3786"
            ],
            [
             0.5555555555555556,
             "#d8576b"
            ],
            [
             0.6666666666666666,
             "#ed7953"
            ],
            [
             0.7777777777777778,
             "#fb9f3a"
            ],
            [
             0.8888888888888888,
             "#fdca26"
            ],
            [
             1,
             "#f0f921"
            ]
           ],
           "sequentialminus": [
            [
             0,
             "#0d0887"
            ],
            [
             0.1111111111111111,
             "#46039f"
            ],
            [
             0.2222222222222222,
             "#7201a8"
            ],
            [
             0.3333333333333333,
             "#9c179e"
            ],
            [
             0.4444444444444444,
             "#bd3786"
            ],
            [
             0.5555555555555556,
             "#d8576b"
            ],
            [
             0.6666666666666666,
             "#ed7953"
            ],
            [
             0.7777777777777778,
             "#fb9f3a"
            ],
            [
             0.8888888888888888,
             "#fdca26"
            ],
            [
             1,
             "#f0f921"
            ]
           ]
          },
          "colorway": [
           "#636efa",
           "#EF553B",
           "#00cc96",
           "#ab63fa",
           "#FFA15A",
           "#19d3f3",
           "#FF6692",
           "#B6E880",
           "#FF97FF",
           "#FECB52"
          ],
          "font": {
           "color": "#2a3f5f"
          },
          "geo": {
           "bgcolor": "white",
           "lakecolor": "white",
           "landcolor": "#E5ECF6",
           "showlakes": true,
           "showland": true,
           "subunitcolor": "white"
          },
          "hoverlabel": {
           "align": "left"
          },
          "hovermode": "closest",
          "mapbox": {
           "style": "light"
          },
          "paper_bgcolor": "white",
          "plot_bgcolor": "#E5ECF6",
          "polar": {
           "angularaxis": {
            "gridcolor": "white",
            "linecolor": "white",
            "ticks": ""
           },
           "bgcolor": "#E5ECF6",
           "radialaxis": {
            "gridcolor": "white",
            "linecolor": "white",
            "ticks": ""
           }
          },
          "scene": {
           "xaxis": {
            "backgroundcolor": "#E5ECF6",
            "gridcolor": "white",
            "gridwidth": 2,
            "linecolor": "white",
            "showbackground": true,
            "ticks": "",
            "zerolinecolor": "white"
           },
           "yaxis": {
            "backgroundcolor": "#E5ECF6",
            "gridcolor": "white",
            "gridwidth": 2,
            "linecolor": "white",
            "showbackground": true,
            "ticks": "",
            "zerolinecolor": "white"
           },
           "zaxis": {
            "backgroundcolor": "#E5ECF6",
            "gridcolor": "white",
            "gridwidth": 2,
            "linecolor": "white",
            "showbackground": true,
            "ticks": "",
            "zerolinecolor": "white"
           }
          },
          "shapedefaults": {
           "line": {
            "color": "#2a3f5f"
           }
          },
          "ternary": {
           "aaxis": {
            "gridcolor": "white",
            "linecolor": "white",
            "ticks": ""
           },
           "baxis": {
            "gridcolor": "white",
            "linecolor": "white",
            "ticks": ""
           },
           "bgcolor": "#E5ECF6",
           "caxis": {
            "gridcolor": "white",
            "linecolor": "white",
            "ticks": ""
           }
          },
          "title": {
           "x": 0.05
          },
          "xaxis": {
           "automargin": true,
           "gridcolor": "white",
           "linecolor": "white",
           "ticks": "",
           "title": {
            "standoff": 15
           },
           "zerolinecolor": "white",
           "zerolinewidth": 2
          },
          "yaxis": {
           "automargin": true,
           "gridcolor": "white",
           "linecolor": "white",
           "ticks": "",
           "title": {
            "standoff": 15
           },
           "zerolinecolor": "white",
           "zerolinewidth": 2
          }
         }
        },
        "title": {
         "text": "평가지수별 맛집 분포"
        },
        "xaxis": {
         "anchor": "y",
         "domain": [
          0,
          1
         ],
         "title": {
          "text": "평가지수 (평점 × log(리뷰수 + 1))"
         }
        },
        "yaxis": {
         "anchor": "x",
         "domain": [
          0,
          1
         ],
         "title": {
          "text": "맛집 수"
         }
        }
       }
      }
     },
     "metadata": {},
     "output_type": "display_data"
    }
   ],
   "source": [
    "import plotly.express as px\n",
    "\n",
    "fig = px.histogram(restaurant,x='value',title='평가지수별 맛집 분포',color_discrete_sequence=['green'])\n",
    "fig.update_layout(\n",
    "    xaxis_title='평가지수 (평점 × log(리뷰수 + 1))',\n",
    "    yaxis_title='맛집 수'\n",
    ")\n",
    "fig.show()"
   ]
  },
  {
   "cell_type": "code",
   "execution_count": 43,
   "metadata": {},
   "outputs": [
    {
     "name": "stdout",
     "output_type": "stream",
     "text": [
      "전체 맛집의 평균 평가지수: 19.016617384289333\n"
     ]
    }
   ],
   "source": [
    "avg_value_value = restaurant['value'].mean()\n",
    "print(\"전체 맛집의 평균 평가지수:\", avg_value_value)"
   ]
  },
  {
   "cell_type": "code",
   "execution_count": 44,
   "metadata": {},
   "outputs": [
    {
     "name": "stdout",
     "output_type": "stream",
     "text": [
      "전체 맛집의 평균 평가지수: 19.016617384289333\n"
     ]
    },
    {
     "data": {
      "application/vnd.plotly.v1+json": {
       "config": {
        "plotlyServerURL": "https://plot.ly"
       },
       "data": [
        {
         "bingroup": "x",
         "hovertemplate": "value=%{x}<br>count=%{y}<extra></extra>",
         "legendgroup": "",
         "marker": {
          "color": "green",
          "pattern": {
           "shape": ""
          }
         },
         "name": "",
         "orientation": "v",
         "showlegend": false,
         "type": "histogram",
         "x": {
          "bdata": "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",
          "dtype": "f8"
         },
         "xaxis": "x",
         "yaxis": "y"
        }
       ],
       "layout": {
        "annotations": [
         {
          "font": {
           "color": "black"
          },
          "showarrow": false,
          "text": "평균 평가지수: 19.02",
          "x": 19.016617384289333,
          "y": 248,
          "yshift": 10
         }
        ],
        "barmode": "relative",
        "legend": {
         "tracegroupgap": 0
        },
        "shapes": [
         {
          "line": {
           "color": "black",
           "dash": "dash"
          },
          "type": "line",
          "x0": 19.016617384289333,
          "x1": 19.016617384289333,
          "y0": 0,
          "y1": 248
         }
        ],
        "template": {
         "data": {
          "bar": [
           {
            "error_x": {
             "color": "#2a3f5f"
            },
            "error_y": {
             "color": "#2a3f5f"
            },
            "marker": {
             "line": {
              "color": "#E5ECF6",
              "width": 0.5
             },
             "pattern": {
              "fillmode": "overlay",
              "size": 10,
              "solidity": 0.2
             }
            },
            "type": "bar"
           }
          ],
          "barpolar": [
           {
            "marker": {
             "line": {
              "color": "#E5ECF6",
              "width": 0.5
             },
             "pattern": {
              "fillmode": "overlay",
              "size": 10,
              "solidity": 0.2
             }
            },
            "type": "barpolar"
           }
          ],
          "carpet": [
           {
            "aaxis": {
             "endlinecolor": "#2a3f5f",
             "gridcolor": "white",
             "linecolor": "white",
             "minorgridcolor": "white",
             "startlinecolor": "#2a3f5f"
            },
            "baxis": {
             "endlinecolor": "#2a3f5f",
             "gridcolor": "white",
             "linecolor": "white",
             "minorgridcolor": "white",
             "startlinecolor": "#2a3f5f"
            },
            "type": "carpet"
           }
          ],
          "choropleth": [
           {
            "colorbar": {
             "outlinewidth": 0,
             "ticks": ""
            },
            "type": "choropleth"
           }
          ],
          "contour": [
           {
            "colorbar": {
             "outlinewidth": 0,
             "ticks": ""
            },
            "colorscale": [
             [
              0,
              "#0d0887"
             ],
             [
              0.1111111111111111,
              "#46039f"
             ],
             [
              0.2222222222222222,
              "#7201a8"
             ],
             [
              0.3333333333333333,
              "#9c179e"
             ],
             [
              0.4444444444444444,
              "#bd3786"
             ],
             [
              0.5555555555555556,
              "#d8576b"
             ],
             [
              0.6666666666666666,
              "#ed7953"
             ],
             [
              0.7777777777777778,
              "#fb9f3a"
             ],
             [
              0.8888888888888888,
              "#fdca26"
             ],
             [
              1,
              "#f0f921"
             ]
            ],
            "type": "contour"
           }
          ],
          "contourcarpet": [
           {
            "colorbar": {
             "outlinewidth": 0,
             "ticks": ""
            },
            "type": "contourcarpet"
           }
          ],
          "heatmap": [
           {
            "colorbar": {
             "outlinewidth": 0,
             "ticks": ""
            },
            "colorscale": [
             [
              0,
              "#0d0887"
             ],
             [
              0.1111111111111111,
              "#46039f"
             ],
             [
              0.2222222222222222,
              "#7201a8"
             ],
             [
              0.3333333333333333,
              "#9c179e"
             ],
             [
              0.4444444444444444,
              "#bd3786"
             ],
             [
              0.5555555555555556,
              "#d8576b"
             ],
             [
              0.6666666666666666,
              "#ed7953"
             ],
             [
              0.7777777777777778,
              "#fb9f3a"
             ],
             [
              0.8888888888888888,
              "#fdca26"
             ],
             [
              1,
              "#f0f921"
             ]
            ],
            "type": "heatmap"
           }
          ],
          "histogram": [
           {
            "marker": {
             "pattern": {
              "fillmode": "overlay",
              "size": 10,
              "solidity": 0.2
             }
            },
            "type": "histogram"
           }
          ],
          "histogram2d": [
           {
            "colorbar": {
             "outlinewidth": 0,
             "ticks": ""
            },
            "colorscale": [
             [
              0,
              "#0d0887"
             ],
             [
              0.1111111111111111,
              "#46039f"
             ],
             [
              0.2222222222222222,
              "#7201a8"
             ],
             [
              0.3333333333333333,
              "#9c179e"
             ],
             [
              0.4444444444444444,
              "#bd3786"
             ],
             [
              0.5555555555555556,
              "#d8576b"
             ],
             [
              0.6666666666666666,
              "#ed7953"
             ],
             [
              0.7777777777777778,
              "#fb9f3a"
             ],
             [
              0.8888888888888888,
              "#fdca26"
             ],
             [
              1,
              "#f0f921"
             ]
            ],
            "type": "histogram2d"
           }
          ],
          "histogram2dcontour": [
           {
            "colorbar": {
             "outlinewidth": 0,
             "ticks": ""
            },
            "colorscale": [
             [
              0,
              "#0d0887"
             ],
             [
              0.1111111111111111,
              "#46039f"
             ],
             [
              0.2222222222222222,
              "#7201a8"
             ],
             [
              0.3333333333333333,
              "#9c179e"
             ],
             [
              0.4444444444444444,
              "#bd3786"
             ],
             [
              0.5555555555555556,
              "#d8576b"
             ],
             [
              0.6666666666666666,
              "#ed7953"
             ],
             [
              0.7777777777777778,
              "#fb9f3a"
             ],
             [
              0.8888888888888888,
              "#fdca26"
             ],
             [
              1,
              "#f0f921"
             ]
            ],
            "type": "histogram2dcontour"
           }
          ],
          "mesh3d": [
           {
            "colorbar": {
             "outlinewidth": 0,
             "ticks": ""
            },
            "type": "mesh3d"
           }
          ],
          "parcoords": [
           {
            "line": {
             "colorbar": {
              "outlinewidth": 0,
              "ticks": ""
             }
            },
            "type": "parcoords"
           }
          ],
          "pie": [
           {
            "automargin": true,
            "type": "pie"
           }
          ],
          "scatter": [
           {
            "fillpattern": {
             "fillmode": "overlay",
             "size": 10,
             "solidity": 0.2
            },
            "type": "scatter"
           }
          ],
          "scatter3d": [
           {
            "line": {
             "colorbar": {
              "outlinewidth": 0,
              "ticks": ""
             }
            },
            "marker": {
             "colorbar": {
              "outlinewidth": 0,
              "ticks": ""
             }
            },
            "type": "scatter3d"
           }
          ],
          "scattercarpet": [
           {
            "marker": {
             "colorbar": {
              "outlinewidth": 0,
              "ticks": ""
             }
            },
            "type": "scattercarpet"
           }
          ],
          "scattergeo": [
           {
            "marker": {
             "colorbar": {
              "outlinewidth": 0,
              "ticks": ""
             }
            },
            "type": "scattergeo"
           }
          ],
          "scattergl": [
           {
            "marker": {
             "colorbar": {
              "outlinewidth": 0,
              "ticks": ""
             }
            },
            "type": "scattergl"
           }
          ],
          "scattermap": [
           {
            "marker": {
             "colorbar": {
              "outlinewidth": 0,
              "ticks": ""
             }
            },
            "type": "scattermap"
           }
          ],
          "scattermapbox": [
           {
            "marker": {
             "colorbar": {
              "outlinewidth": 0,
              "ticks": ""
             }
            },
            "type": "scattermapbox"
           }
          ],
          "scatterpolar": [
           {
            "marker": {
             "colorbar": {
              "outlinewidth": 0,
              "ticks": ""
             }
            },
            "type": "scatterpolar"
           }
          ],
          "scatterpolargl": [
           {
            "marker": {
             "colorbar": {
              "outlinewidth": 0,
              "ticks": ""
             }
            },
            "type": "scatterpolargl"
           }
          ],
          "scatterternary": [
           {
            "marker": {
             "colorbar": {
              "outlinewidth": 0,
              "ticks": ""
             }
            },
            "type": "scatterternary"
           }
          ],
          "surface": [
           {
            "colorbar": {
             "outlinewidth": 0,
             "ticks": ""
            },
            "colorscale": [
             [
              0,
              "#0d0887"
             ],
             [
              0.1111111111111111,
              "#46039f"
             ],
             [
              0.2222222222222222,
              "#7201a8"
             ],
             [
              0.3333333333333333,
              "#9c179e"
             ],
             [
              0.4444444444444444,
              "#bd3786"
             ],
             [
              0.5555555555555556,
              "#d8576b"
             ],
             [
              0.6666666666666666,
              "#ed7953"
             ],
             [
              0.7777777777777778,
              "#fb9f3a"
             ],
             [
              0.8888888888888888,
              "#fdca26"
             ],
             [
              1,
              "#f0f921"
             ]
            ],
            "type": "surface"
           }
          ],
          "table": [
           {
            "cells": {
             "fill": {
              "color": "#EBF0F8"
             },
             "line": {
              "color": "white"
             }
            },
            "header": {
             "fill": {
              "color": "#C8D4E3"
             },
             "line": {
              "color": "white"
             }
            },
            "type": "table"
           }
          ]
         },
         "layout": {
          "annotationdefaults": {
           "arrowcolor": "#2a3f5f",
           "arrowhead": 0,
           "arrowwidth": 1
          },
          "autotypenumbers": "strict",
          "coloraxis": {
           "colorbar": {
            "outlinewidth": 0,
            "ticks": ""
           }
          },
          "colorscale": {
           "diverging": [
            [
             0,
             "#8e0152"
            ],
            [
             0.1,
             "#c51b7d"
            ],
            [
             0.2,
             "#de77ae"
            ],
            [
             0.3,
             "#f1b6da"
            ],
            [
             0.4,
             "#fde0ef"
            ],
            [
             0.5,
             "#f7f7f7"
            ],
            [
             0.6,
             "#e6f5d0"
            ],
            [
             0.7,
             "#b8e186"
            ],
            [
             0.8,
             "#7fbc41"
            ],
            [
             0.9,
             "#4d9221"
            ],
            [
             1,
             "#276419"
            ]
           ],
           "sequential": [
            [
             0,
             "#0d0887"
            ],
            [
             0.1111111111111111,
             "#46039f"
            ],
            [
             0.2222222222222222,
             "#7201a8"
            ],
            [
             0.3333333333333333,
             "#9c179e"
            ],
            [
             0.4444444444444444,
             "#bd3786"
            ],
            [
             0.5555555555555556,
             "#d8576b"
            ],
            [
             0.6666666666666666,
             "#ed7953"
            ],
            [
             0.7777777777777778,
             "#fb9f3a"
            ],
            [
             0.8888888888888888,
             "#fdca26"
            ],
            [
             1,
             "#f0f921"
            ]
           ],
           "sequentialminus": [
            [
             0,
             "#0d0887"
            ],
            [
             0.1111111111111111,
             "#46039f"
            ],
            [
             0.2222222222222222,
             "#7201a8"
            ],
            [
             0.3333333333333333,
             "#9c179e"
            ],
            [
             0.4444444444444444,
             "#bd3786"
            ],
            [
             0.5555555555555556,
             "#d8576b"
            ],
            [
             0.6666666666666666,
             "#ed7953"
            ],
            [
             0.7777777777777778,
             "#fb9f3a"
            ],
            [
             0.8888888888888888,
             "#fdca26"
            ],
            [
             1,
             "#f0f921"
            ]
           ]
          },
          "colorway": [
           "#636efa",
           "#EF553B",
           "#00cc96",
           "#ab63fa",
           "#FFA15A",
           "#19d3f3",
           "#FF6692",
           "#B6E880",
           "#FF97FF",
           "#FECB52"
          ],
          "font": {
           "color": "#2a3f5f"
          },
          "geo": {
           "bgcolor": "white",
           "lakecolor": "white",
           "landcolor": "#E5ECF6",
           "showlakes": true,
           "showland": true,
           "subunitcolor": "white"
          },
          "hoverlabel": {
           "align": "left"
          },
          "hovermode": "closest",
          "mapbox": {
           "style": "light"
          },
          "paper_bgcolor": "white",
          "plot_bgcolor": "#E5ECF6",
          "polar": {
           "angularaxis": {
            "gridcolor": "white",
            "linecolor": "white",
            "ticks": ""
           },
           "bgcolor": "#E5ECF6",
           "radialaxis": {
            "gridcolor": "white",
            "linecolor": "white",
            "ticks": ""
           }
          },
          "scene": {
           "xaxis": {
            "backgroundcolor": "#E5ECF6",
            "gridcolor": "white",
            "gridwidth": 2,
            "linecolor": "white",
            "showbackground": true,
            "ticks": "",
            "zerolinecolor": "white"
           },
           "yaxis": {
            "backgroundcolor": "#E5ECF6",
            "gridcolor": "white",
            "gridwidth": 2,
            "linecolor": "white",
            "showbackground": true,
            "ticks": "",
            "zerolinecolor": "white"
           },
           "zaxis": {
            "backgroundcolor": "#E5ECF6",
            "gridcolor": "white",
            "gridwidth": 2,
            "linecolor": "white",
            "showbackground": true,
            "ticks": "",
            "zerolinecolor": "white"
           }
          },
          "shapedefaults": {
           "line": {
            "color": "#2a3f5f"
           }
          },
          "ternary": {
           "aaxis": {
            "gridcolor": "white",
            "linecolor": "white",
            "ticks": ""
           },
           "baxis": {
            "gridcolor": "white",
            "linecolor": "white",
            "ticks": ""
           },
           "bgcolor": "#E5ECF6",
           "caxis": {
            "gridcolor": "white",
            "linecolor": "white",
            "ticks": ""
           }
          },
          "title": {
           "x": 0.05
          },
          "xaxis": {
           "automargin": true,
           "gridcolor": "white",
           "linecolor": "white",
           "ticks": "",
           "title": {
            "standoff": 15
           },
           "zerolinecolor": "white",
           "zerolinewidth": 2
          },
          "yaxis": {
           "automargin": true,
           "gridcolor": "white",
           "linecolor": "white",
           "ticks": "",
           "title": {
            "standoff": 15
           },
           "zerolinecolor": "white",
           "zerolinewidth": 2
          }
         }
        },
        "title": {
         "text": "평가지수별 맛집 분포"
        },
        "xaxis": {
         "anchor": "y",
         "domain": [
          0,
          1
         ],
         "title": {
          "text": "평가지수 (평점 × log(리뷰수 + 1))"
         }
        },
        "yaxis": {
         "anchor": "x",
         "domain": [
          0,
          1
         ],
         "title": {
          "text": "맛집 수"
         }
        }
       }
      }
     },
     "metadata": {},
     "output_type": "display_data"
    }
   ],
   "source": [
    "import plotly.express as px\n",
    "\n",
    "# 평균 평가지수 계산\n",
    "avg_value_value = restaurant['value'].mean()\n",
    "print(\"전체 맛집의 평균 평가지수:\", avg_value_value)\n",
    "\n",
    "# 히스토그램 생성\n",
    "fig = px.histogram(\n",
    "    restaurant,\n",
    "    x='value',\n",
    "    title='평가지수별 맛집 분포',\n",
    "    color_discrete_sequence=['green']\n",
    ")\n",
    "\n",
    "# 레이아웃 설정\n",
    "fig.update_layout(\n",
    "    xaxis_title='평가지수 (평점 × log(리뷰수 + 1))',\n",
    "    yaxis_title='맛집 수'\n",
    ")\n",
    "\n",
    "# y축 최대값 추정 (히스토그램의 최대 빈도 수치)\n",
    "y_max = restaurant['value'].value_counts(bins=50).max()  # bin 수는 실제 그래프와 맞춰줘야 함\n",
    "\n",
    "# 평균선 추가 (적당한 y1 사용)\n",
    "fig.add_shape(\n",
    "    type='line',\n",
    "    x0=avg_value_value,\n",
    "    x1=avg_value_value,\n",
    "    y0=0,\n",
    "    y1=y_max,\n",
    "    line=dict(color='black', dash='dash')\n",
    ")\n",
    "\n",
    "# 평균선 텍스트 라벨\n",
    "fig.add_annotation(\n",
    "    x=avg_value_value,\n",
    "    y=y_max,\n",
    "    text=f\"평균 평가지수: {avg_value_value:.2f}\",\n",
    "    showarrow=False,\n",
    "    yshift=10,\n",
    "    font=dict(color='black')\n",
    ")\n",
    "\n",
    "fig.show()\n",
    "\n"
   ]
  },
  {
   "cell_type": "code",
   "execution_count": 86,
   "metadata": {},
   "outputs": [
    {
     "name": "stdout",
     "output_type": "stream",
     "text": [
      "평가지수 25 이상 26 미만인 맛집 수: 323\n"
     ]
    }
   ],
   "source": [
    "count = restaurant[(restaurant['value'] >= 20) & (restaurant['value'] < 21)].shape[0]\n",
    "print(\"평가지수 25 이상 26 미만인 맛집 수:\", count)"
   ]
  },
  {
   "cell_type": "code",
   "execution_count": 87,
   "metadata": {},
   "outputs": [
    {
     "data": {
      "text/html": [
       "<div>\n",
       "<style scoped>\n",
       "    .dataframe tbody tr th:only-of-type {\n",
       "        vertical-align: middle;\n",
       "    }\n",
       "\n",
       "    .dataframe tbody tr th {\n",
       "        vertical-align: top;\n",
       "    }\n",
       "\n",
       "    .dataframe thead th {\n",
       "        text-align: right;\n",
       "    }\n",
       "</style>\n",
       "<table border=\"1\" class=\"dataframe\">\n",
       "  <thead>\n",
       "    <tr style=\"text-align: right;\">\n",
       "      <th></th>\n",
       "      <th>name</th>\n",
       "      <th>score</th>\n",
       "      <th>review</th>\n",
       "    </tr>\n",
       "  </thead>\n",
       "  <tbody>\n",
       "    <tr>\n",
       "      <th>4</th>\n",
       "      <td>153구포국수 군자점</td>\n",
       "      <td>4.6</td>\n",
       "      <td>93</td>\n",
       "    </tr>\n",
       "    <tr>\n",
       "      <th>13</th>\n",
       "      <td>28총각</td>\n",
       "      <td>4.4</td>\n",
       "      <td>97</td>\n",
       "    </tr>\n",
       "    <tr>\n",
       "      <th>60</th>\n",
       "      <td>가람떡갈비</td>\n",
       "      <td>3.3</td>\n",
       "      <td>515</td>\n",
       "    </tr>\n",
       "    <tr>\n",
       "      <th>64</th>\n",
       "      <td>가마솥손두부</td>\n",
       "      <td>4.0</td>\n",
       "      <td>182</td>\n",
       "    </tr>\n",
       "    <tr>\n",
       "      <th>105</th>\n",
       "      <td>강강술래 역삼점</td>\n",
       "      <td>3.7</td>\n",
       "      <td>233</td>\n",
       "    </tr>\n",
       "    <tr>\n",
       "      <th>...</th>\n",
       "      <td>...</td>\n",
       "      <td>...</td>\n",
       "      <td>...</td>\n",
       "    </tr>\n",
       "    <tr>\n",
       "      <th>4334</th>\n",
       "      <td>홍어한마리</td>\n",
       "      <td>4.8</td>\n",
       "      <td>71</td>\n",
       "    </tr>\n",
       "    <tr>\n",
       "      <th>4359</th>\n",
       "      <td>화양연가</td>\n",
       "      <td>4.5</td>\n",
       "      <td>101</td>\n",
       "    </tr>\n",
       "    <tr>\n",
       "      <th>4362</th>\n",
       "      <td>화이트캐롯</td>\n",
       "      <td>4.6</td>\n",
       "      <td>85</td>\n",
       "    </tr>\n",
       "    <tr>\n",
       "      <th>4385</th>\n",
       "      <td>회기버거 본점</td>\n",
       "      <td>4.3</td>\n",
       "      <td>119</td>\n",
       "    </tr>\n",
       "    <tr>\n",
       "      <th>4408</th>\n",
       "      <td>훕훕베이글</td>\n",
       "      <td>3.9</td>\n",
       "      <td>216</td>\n",
       "    </tr>\n",
       "  </tbody>\n",
       "</table>\n",
       "<p>323 rows × 3 columns</p>\n",
       "</div>"
      ],
      "text/plain": [
       "             name  score  review\n",
       "4     153구포국수 군자점    4.6      93\n",
       "13           28총각    4.4      97\n",
       "60          가람떡갈비    3.3     515\n",
       "64         가마솥손두부    4.0     182\n",
       "105      강강술래 역삼점    3.7     233\n",
       "...           ...    ...     ...\n",
       "4334        홍어한마리    4.8      71\n",
       "4359         화양연가    4.5     101\n",
       "4362        화이트캐롯    4.6      85\n",
       "4385      회기버거 본점    4.3     119\n",
       "4408        훕훕베이글    3.9     216\n",
       "\n",
       "[323 rows x 3 columns]"
      ]
     },
     "execution_count": 87,
     "metadata": {},
     "output_type": "execute_result"
    }
   ],
   "source": [
    "# 조건에 해당하는 데이터 추출\n",
    "subset= restaurant[(restaurant['value'] >= 20) & (restaurant['value'] < 21)]\n",
    "\n",
    "# 평점과 리뷰수 컬럼만 보기\n",
    "subset[['name', 'score', 'review']]"
   ]
  },
  {
   "cell_type": "code",
   "execution_count": 88,
   "metadata": {},
   "outputs": [
    {
     "name": "stdout",
     "output_type": "stream",
     "text": [
      "                      name  score  review      value\n",
      "3579              최영희언양불고기    3.1     788  20.679376\n",
      "718   더 리버사이드 호텔 뷔페 더 가든키친    3.1     708  20.347952\n",
      "3538                   청류벽    3.2     629  20.626303\n",
      "4315             호호식당 대학로점    3.2     615  20.554390\n",
      "672                   대두족발    3.2     530  20.079238\n"
     ]
    }
   ],
   "source": [
    "# score가 가장 낮은 맛집 한 곳 보기\n",
    "lowest_score_row = subset.sort_values(by='score').head(5)\n",
    "\n",
    "# name, score, review_count 확인\n",
    "print(lowest_score_row[['name', 'score','review','value']])"
   ]
  },
  {
   "cell_type": "code",
   "execution_count": null,
   "metadata": {},
   "outputs": [],
   "source": [
    "# 상위 10% 기준 value 값 계산\n",
    "threshold = restaurant['value'].quantile(0.90)\n",
    "print(f\"상위 10% 평가지수 기준: {threshold:.2f}\")\n",
    "\n",
    "# 그 이상인 맛집만 추출\n",
    "top_restaurants = restaurant[restaurant['value'] >= threshold]"
   ]
  },
  {
   "cell_type": "code",
   "execution_count": 45,
   "metadata": {},
   "outputs": [
    {
     "data": {
      "application/vnd.plotly.v1+json": {
       "config": {
        "plotlyServerURL": "https://plot.ly"
       },
       "data": [
        {
         "hovertemplate": "지하철역=%{x}<br>평균 평가지수=%{y}<extra></extra>",
         "legendgroup": "",
         "marker": {
          "color": "green",
          "pattern": {
           "shape": ""
          }
         },
         "name": "",
         "orientation": "v",
         "showlegend": false,
         "textposition": "auto",
         "type": "bar",
         "x": [
          "홍대입구역",
          "안국역",
          "잠실역",
          "합정역",
          "종로3가역",
          "강남역",
          "시청역",
          "혜화역",
          "뚝섬역",
          "경복궁역",
          "응봉역",
          "압구정로데오역",
          "건대입구역",
          "동대입구역",
          "잠실나루역",
          "역삼역",
          "신사역",
          "신길역",
          "신도림역",
          "충정로역",
          "동대문역",
          "신촌역",
          "성신여대입구역",
          "선릉역",
          "서울대입구역",
          "용산역",
          "신림역",
          "회현역",
          "삼각지역",
          "종로5가역",
          "천호(풍납토성)역",
          "왕십리역",
          "서울숲역",
          "종각역",
          "사당역",
          "여의나루역",
          "종합운동장역",
          "당산역",
          "삼성역",
          "이태원역",
          "고속터미널역",
          "총신대입구(이수)역",
          "대방역",
          "서울역",
          "뚝섬유원지역",
          "마곡나루역",
          "구로디지털단지역",
          "군자(능동)역",
          "오목교(목동운동장앞)역",
          "신반포역",
          "노량진역",
          "대림역",
          "녹사평역",
          "제기동역",
          "수유역",
          "증미역",
          "교대역",
          "미아사거리역",
          "아차산(어린이대공원후문)역",
          "응암역",
          "가락시장역",
          "디지털미디어시티역",
          "남구로역",
          "외대앞역",
          "장한평역",
          "동대문역사문화공원역",
          "쌍문역",
          "장지역",
          "암사역",
          "가산디지털단지역",
          "방배역",
          "창동역",
          "노들역",
          "구로역",
          "이촌역",
          "김포공항역",
          "용마산역",
          "암사역사공원역",
          "방화역",
          "고덕역",
          "청계산입구역",
          "구일역",
          "대공원역"
         ],
         "xaxis": "x",
         "y": {
          "bdata": "RaVIgd4VOEAF9IL6oH83QBVrMyXWJjdAdwUDP9vdNkCMWmfA4pQ2QB1hQbliiDZA2R8jIkB8NkBs7NJLsmc2QLABYlYAWDZAL8bo6fRUNkAmI2JIcFA2QJBbH45WNjZALOFiNWcGNkDj8DSFHMw1QCZafybzxDVAZ7vG9Ey9NUASm7B9X5s1QC7geT0ObDVAIC+gN6FfNUA8LYMcbx81QCTs6FCLCjVASJ8L8zQJNUAxhTI2nO00QExPFz6h5zRA5i1PiUPONEBsgzlCBco0QMwnq69XxzRAdWh/4t3ANEDBwMKyMbA0QNS4dUhNjDRAUYH9d0Z0NEAh448vx280QA/bYe/LWDRACnpWp61FNEAOiz5PBT00QLQTIpjXFzRAQ47i45T5M0Bl4io4j8kzQDteEJj0ZzNAhZyQIXxcM0B0J5E/+lkzQLR902z4VzNAb4IA1SJCM0AK64PjijAzQGHs7x6BMDNAfqBb5EAeM0D7e4j8+/syQNoYNbRr0jJA4mBejC7LMkAVUgPwY70yQNixqjPZqzJA8p5XODicMkAsLIcjznEyQKGahOzpVzJAv45g10BWMkDMTWrLoTwyQOTWmj4pJzJA/aJx2BgjMkDmT/WzCh8yQNZVNFqyFzJARqDbH4gSMkBo7yQS/eIxQIjM+U1loDFAtfeSt3R9MUDQFoKPnF8xQIcm1fs3LjFA85rvZttlMECR4r0yllowQP4czlXcFzBAepJJHYKPL0DTh6Ia6Y0vQCfDg/vOOS9ACzl2xZ84L0C1LvcHIw0vQAApZRcUBy5Ad30kna5QLUDqnh7Vq0stQLohaAK01CxAPwPzKTUqLEBMqxRIHOwrQGqJGueYdCtAHGa6bQcwKUDCLg/1MsMgQA==",
          "dtype": "f8"
         },
         "yaxis": "y"
        }
       ],
       "layout": {
        "barmode": "relative",
        "legend": {
         "tracegroupgap": 0
        },
        "template": {
         "data": {
          "bar": [
           {
            "error_x": {
             "color": "#2a3f5f"
            },
            "error_y": {
             "color": "#2a3f5f"
            },
            "marker": {
             "line": {
              "color": "#E5ECF6",
              "width": 0.5
             },
             "pattern": {
              "fillmode": "overlay",
              "size": 10,
              "solidity": 0.2
             }
            },
            "type": "bar"
           }
          ],
          "barpolar": [
           {
            "marker": {
             "line": {
              "color": "#E5ECF6",
              "width": 0.5
             },
             "pattern": {
              "fillmode": "overlay",
              "size": 10,
              "solidity": 0.2
             }
            },
            "type": "barpolar"
           }
          ],
          "carpet": [
           {
            "aaxis": {
             "endlinecolor": "#2a3f5f",
             "gridcolor": "white",
             "linecolor": "white",
             "minorgridcolor": "white",
             "startlinecolor": "#2a3f5f"
            },
            "baxis": {
             "endlinecolor": "#2a3f5f",
             "gridcolor": "white",
             "linecolor": "white",
             "minorgridcolor": "white",
             "startlinecolor": "#2a3f5f"
            },
            "type": "carpet"
           }
          ],
          "choropleth": [
           {
            "colorbar": {
             "outlinewidth": 0,
             "ticks": ""
            },
            "type": "choropleth"
           }
          ],
          "contour": [
           {
            "colorbar": {
             "outlinewidth": 0,
             "ticks": ""
            },
            "colorscale": [
             [
              0,
              "#0d0887"
             ],
             [
              0.1111111111111111,
              "#46039f"
             ],
             [
              0.2222222222222222,
              "#7201a8"
             ],
             [
              0.3333333333333333,
              "#9c179e"
             ],
             [
              0.4444444444444444,
              "#bd3786"
             ],
             [
              0.5555555555555556,
              "#d8576b"
             ],
             [
              0.6666666666666666,
              "#ed7953"
             ],
             [
              0.7777777777777778,
              "#fb9f3a"
             ],
             [
              0.8888888888888888,
              "#fdca26"
             ],
             [
              1,
              "#f0f921"
             ]
            ],
            "type": "contour"
           }
          ],
          "contourcarpet": [
           {
            "colorbar": {
             "outlinewidth": 0,
             "ticks": ""
            },
            "type": "contourcarpet"
           }
          ],
          "heatmap": [
           {
            "colorbar": {
             "outlinewidth": 0,
             "ticks": ""
            },
            "colorscale": [
             [
              0,
              "#0d0887"
             ],
             [
              0.1111111111111111,
              "#46039f"
             ],
             [
              0.2222222222222222,
              "#7201a8"
             ],
             [
              0.3333333333333333,
              "#9c179e"
             ],
             [
              0.4444444444444444,
              "#bd3786"
             ],
             [
              0.5555555555555556,
              "#d8576b"
             ],
             [
              0.6666666666666666,
              "#ed7953"
             ],
             [
              0.7777777777777778,
              "#fb9f3a"
             ],
             [
              0.8888888888888888,
              "#fdca26"
             ],
             [
              1,
              "#f0f921"
             ]
            ],
            "type": "heatmap"
           }
          ],
          "histogram": [
           {
            "marker": {
             "pattern": {
              "fillmode": "overlay",
              "size": 10,
              "solidity": 0.2
             }
            },
            "type": "histogram"
           }
          ],
          "histogram2d": [
           {
            "colorbar": {
             "outlinewidth": 0,
             "ticks": ""
            },
            "colorscale": [
             [
              0,
              "#0d0887"
             ],
             [
              0.1111111111111111,
              "#46039f"
             ],
             [
              0.2222222222222222,
              "#7201a8"
             ],
             [
              0.3333333333333333,
              "#9c179e"
             ],
             [
              0.4444444444444444,
              "#bd3786"
             ],
             [
              0.5555555555555556,
              "#d8576b"
             ],
             [
              0.6666666666666666,
              "#ed7953"
             ],
             [
              0.7777777777777778,
              "#fb9f3a"
             ],
             [
              0.8888888888888888,
              "#fdca26"
             ],
             [
              1,
              "#f0f921"
             ]
            ],
            "type": "histogram2d"
           }
          ],
          "histogram2dcontour": [
           {
            "colorbar": {
             "outlinewidth": 0,
             "ticks": ""
            },
            "colorscale": [
             [
              0,
              "#0d0887"
             ],
             [
              0.1111111111111111,
              "#46039f"
             ],
             [
              0.2222222222222222,
              "#7201a8"
             ],
             [
              0.3333333333333333,
              "#9c179e"
             ],
             [
              0.4444444444444444,
              "#bd3786"
             ],
             [
              0.5555555555555556,
              "#d8576b"
             ],
             [
              0.6666666666666666,
              "#ed7953"
             ],
             [
              0.7777777777777778,
              "#fb9f3a"
             ],
             [
              0.8888888888888888,
              "#fdca26"
             ],
             [
              1,
              "#f0f921"
             ]
            ],
            "type": "histogram2dcontour"
           }
          ],
          "mesh3d": [
           {
            "colorbar": {
             "outlinewidth": 0,
             "ticks": ""
            },
            "type": "mesh3d"
           }
          ],
          "parcoords": [
           {
            "line": {
             "colorbar": {
              "outlinewidth": 0,
              "ticks": ""
             }
            },
            "type": "parcoords"
           }
          ],
          "pie": [
           {
            "automargin": true,
            "type": "pie"
           }
          ],
          "scatter": [
           {
            "fillpattern": {
             "fillmode": "overlay",
             "size": 10,
             "solidity": 0.2
            },
            "type": "scatter"
           }
          ],
          "scatter3d": [
           {
            "line": {
             "colorbar": {
              "outlinewidth": 0,
              "ticks": ""
             }
            },
            "marker": {
             "colorbar": {
              "outlinewidth": 0,
              "ticks": ""
             }
            },
            "type": "scatter3d"
           }
          ],
          "scattercarpet": [
           {
            "marker": {
             "colorbar": {
              "outlinewidth": 0,
              "ticks": ""
             }
            },
            "type": "scattercarpet"
           }
          ],
          "scattergeo": [
           {
            "marker": {
             "colorbar": {
              "outlinewidth": 0,
              "ticks": ""
             }
            },
            "type": "scattergeo"
           }
          ],
          "scattergl": [
           {
            "marker": {
             "colorbar": {
              "outlinewidth": 0,
              "ticks": ""
             }
            },
            "type": "scattergl"
           }
          ],
          "scattermap": [
           {
            "marker": {
             "colorbar": {
              "outlinewidth": 0,
              "ticks": ""
             }
            },
            "type": "scattermap"
           }
          ],
          "scattermapbox": [
           {
            "marker": {
             "colorbar": {
              "outlinewidth": 0,
              "ticks": ""
             }
            },
            "type": "scattermapbox"
           }
          ],
          "scatterpolar": [
           {
            "marker": {
             "colorbar": {
              "outlinewidth": 0,
              "ticks": ""
             }
            },
            "type": "scatterpolar"
           }
          ],
          "scatterpolargl": [
           {
            "marker": {
             "colorbar": {
              "outlinewidth": 0,
              "ticks": ""
             }
            },
            "type": "scatterpolargl"
           }
          ],
          "scatterternary": [
           {
            "marker": {
             "colorbar": {
              "outlinewidth": 0,
              "ticks": ""
             }
            },
            "type": "scatterternary"
           }
          ],
          "surface": [
           {
            "colorbar": {
             "outlinewidth": 0,
             "ticks": ""
            },
            "colorscale": [
             [
              0,
              "#0d0887"
             ],
             [
              0.1111111111111111,
              "#46039f"
             ],
             [
              0.2222222222222222,
              "#7201a8"
             ],
             [
              0.3333333333333333,
              "#9c179e"
             ],
             [
              0.4444444444444444,
              "#bd3786"
             ],
             [
              0.5555555555555556,
              "#d8576b"
             ],
             [
              0.6666666666666666,
              "#ed7953"
             ],
             [
              0.7777777777777778,
              "#fb9f3a"
             ],
             [
              0.8888888888888888,
              "#fdca26"
             ],
             [
              1,
              "#f0f921"
             ]
            ],
            "type": "surface"
           }
          ],
          "table": [
           {
            "cells": {
             "fill": {
              "color": "#EBF0F8"
             },
             "line": {
              "color": "white"
             }
            },
            "header": {
             "fill": {
              "color": "#C8D4E3"
             },
             "line": {
              "color": "white"
             }
            },
            "type": "table"
           }
          ]
         },
         "layout": {
          "annotationdefaults": {
           "arrowcolor": "#2a3f5f",
           "arrowhead": 0,
           "arrowwidth": 1
          },
          "autotypenumbers": "strict",
          "coloraxis": {
           "colorbar": {
            "outlinewidth": 0,
            "ticks": ""
           }
          },
          "colorscale": {
           "diverging": [
            [
             0,
             "#8e0152"
            ],
            [
             0.1,
             "#c51b7d"
            ],
            [
             0.2,
             "#de77ae"
            ],
            [
             0.3,
             "#f1b6da"
            ],
            [
             0.4,
             "#fde0ef"
            ],
            [
             0.5,
             "#f7f7f7"
            ],
            [
             0.6,
             "#e6f5d0"
            ],
            [
             0.7,
             "#b8e186"
            ],
            [
             0.8,
             "#7fbc41"
            ],
            [
             0.9,
             "#4d9221"
            ],
            [
             1,
             "#276419"
            ]
           ],
           "sequential": [
            [
             0,
             "#0d0887"
            ],
            [
             0.1111111111111111,
             "#46039f"
            ],
            [
             0.2222222222222222,
             "#7201a8"
            ],
            [
             0.3333333333333333,
             "#9c179e"
            ],
            [
             0.4444444444444444,
             "#bd3786"
            ],
            [
             0.5555555555555556,
             "#d8576b"
            ],
            [
             0.6666666666666666,
             "#ed7953"
            ],
            [
             0.7777777777777778,
             "#fb9f3a"
            ],
            [
             0.8888888888888888,
             "#fdca26"
            ],
            [
             1,
             "#f0f921"
            ]
           ],
           "sequentialminus": [
            [
             0,
             "#0d0887"
            ],
            [
             0.1111111111111111,
             "#46039f"
            ],
            [
             0.2222222222222222,
             "#7201a8"
            ],
            [
             0.3333333333333333,
             "#9c179e"
            ],
            [
             0.4444444444444444,
             "#bd3786"
            ],
            [
             0.5555555555555556,
             "#d8576b"
            ],
            [
             0.6666666666666666,
             "#ed7953"
            ],
            [
             0.7777777777777778,
             "#fb9f3a"
            ],
            [
             0.8888888888888888,
             "#fdca26"
            ],
            [
             1,
             "#f0f921"
            ]
           ]
          },
          "colorway": [
           "#636efa",
           "#EF553B",
           "#00cc96",
           "#ab63fa",
           "#FFA15A",
           "#19d3f3",
           "#FF6692",
           "#B6E880",
           "#FF97FF",
           "#FECB52"
          ],
          "font": {
           "color": "#2a3f5f"
          },
          "geo": {
           "bgcolor": "white",
           "lakecolor": "white",
           "landcolor": "#E5ECF6",
           "showlakes": true,
           "showland": true,
           "subunitcolor": "white"
          },
          "hoverlabel": {
           "align": "left"
          },
          "hovermode": "closest",
          "mapbox": {
           "style": "light"
          },
          "paper_bgcolor": "white",
          "plot_bgcolor": "#E5ECF6",
          "polar": {
           "angularaxis": {
            "gridcolor": "white",
            "linecolor": "white",
            "ticks": ""
           },
           "bgcolor": "#E5ECF6",
           "radialaxis": {
            "gridcolor": "white",
            "linecolor": "white",
            "ticks": ""
           }
          },
          "scene": {
           "xaxis": {
            "backgroundcolor": "#E5ECF6",
            "gridcolor": "white",
            "gridwidth": 2,
            "linecolor": "white",
            "showbackground": true,
            "ticks": "",
            "zerolinecolor": "white"
           },
           "yaxis": {
            "backgroundcolor": "#E5ECF6",
            "gridcolor": "white",
            "gridwidth": 2,
            "linecolor": "white",
            "showbackground": true,
            "ticks": "",
            "zerolinecolor": "white"
           },
           "zaxis": {
            "backgroundcolor": "#E5ECF6",
            "gridcolor": "white",
            "gridwidth": 2,
            "linecolor": "white",
            "showbackground": true,
            "ticks": "",
            "zerolinecolor": "white"
           }
          },
          "shapedefaults": {
           "line": {
            "color": "#2a3f5f"
           }
          },
          "ternary": {
           "aaxis": {
            "gridcolor": "white",
            "linecolor": "white",
            "ticks": ""
           },
           "baxis": {
            "gridcolor": "white",
            "linecolor": "white",
            "ticks": ""
           },
           "bgcolor": "#E5ECF6",
           "caxis": {
            "gridcolor": "white",
            "linecolor": "white",
            "ticks": ""
           }
          },
          "title": {
           "x": 0.05
          },
          "xaxis": {
           "automargin": true,
           "gridcolor": "white",
           "linecolor": "white",
           "ticks": "",
           "title": {
            "standoff": 15
           },
           "zerolinecolor": "white",
           "zerolinewidth": 2
          },
          "yaxis": {
           "automargin": true,
           "gridcolor": "white",
           "linecolor": "white",
           "ticks": "",
           "title": {
            "standoff": 15
           },
           "zerolinecolor": "white",
           "zerolinewidth": 2
          }
         }
        },
        "title": {
         "text": "지하철역별 맛집 평가지수 평균"
        },
        "xaxis": {
         "anchor": "y",
         "domain": [
          0,
          1
         ],
         "title": {
          "text": "지하철역"
         }
        },
        "yaxis": {
         "anchor": "x",
         "domain": [
          0,
          1
         ],
         "title": {
          "text": "평균 평가지수"
         }
        }
       }
      }
     },
     "metadata": {},
     "output_type": "display_data"
    }
   ],
   "source": [
    "# 역별 평균 value 계산\n",
    "station_value_avg = restaurant.groupby('station', as_index=False)['value'].mean()\n",
    "station_value_avg = station_value_avg.sort_values(by='value', ascending=False)\n",
    "# 막대그래프 시각화\n",
    "fig = px.bar(\n",
    "    station_value_avg,\n",
    "    x='station',\n",
    "    y='value',\n",
    "    title='지하철역별 맛집 평가지수 평균',\n",
    "    labels={'station': '지하철역', 'value': '평균 평가지수'},\n",
    "    color_discrete_sequence=['green']\n",
    ")\n",
    "\n",
    "fig.show()"
   ]
  },
  {
   "cell_type": "code",
   "execution_count": 46,
   "metadata": {},
   "outputs": [
    {
     "data": {
      "application/vnd.plotly.v1+json": {
       "config": {
        "plotlyServerURL": "https://plot.ly"
       },
       "data": [
        {
         "hovertemplate": "station=%{x}<br>value=%{y}<extra></extra>",
         "legendgroup": "",
         "marker": {
          "color": "red",
          "pattern": {
           "shape": ""
          }
         },
         "name": "",
         "orientation": "v",
         "showlegend": false,
         "textposition": "auto",
         "type": "bar",
         "x": [
          "홍대입구역",
          "안국역",
          "잠실역",
          "합정역",
          "종로3가역",
          "강남역",
          "시청역",
          "혜화역",
          "뚝섬역",
          "경복궁역"
         ],
         "xaxis": "x",
         "y": {
          "bdata": "RaVIgd4VOEAF9IL6oH83QBVrMyXWJjdAdwUDP9vdNkCMWmfA4pQ2QB1hQbliiDZA2R8jIkB8NkBs7NJLsmc2QLABYlYAWDZAL8bo6fRUNkA=",
          "dtype": "f8"
         },
         "yaxis": "y"
        }
       ],
       "layout": {
        "bargap": 0.3,
        "barmode": "relative",
        "height": 500,
        "legend": {
         "tracegroupgap": 0
        },
        "template": {
         "data": {
          "bar": [
           {
            "error_x": {
             "color": "#2a3f5f"
            },
            "error_y": {
             "color": "#2a3f5f"
            },
            "marker": {
             "line": {
              "color": "#E5ECF6",
              "width": 0.5
             },
             "pattern": {
              "fillmode": "overlay",
              "size": 10,
              "solidity": 0.2
             }
            },
            "type": "bar"
           }
          ],
          "barpolar": [
           {
            "marker": {
             "line": {
              "color": "#E5ECF6",
              "width": 0.5
             },
             "pattern": {
              "fillmode": "overlay",
              "size": 10,
              "solidity": 0.2
             }
            },
            "type": "barpolar"
           }
          ],
          "carpet": [
           {
            "aaxis": {
             "endlinecolor": "#2a3f5f",
             "gridcolor": "white",
             "linecolor": "white",
             "minorgridcolor": "white",
             "startlinecolor": "#2a3f5f"
            },
            "baxis": {
             "endlinecolor": "#2a3f5f",
             "gridcolor": "white",
             "linecolor": "white",
             "minorgridcolor": "white",
             "startlinecolor": "#2a3f5f"
            },
            "type": "carpet"
           }
          ],
          "choropleth": [
           {
            "colorbar": {
             "outlinewidth": 0,
             "ticks": ""
            },
            "type": "choropleth"
           }
          ],
          "contour": [
           {
            "colorbar": {
             "outlinewidth": 0,
             "ticks": ""
            },
            "colorscale": [
             [
              0,
              "#0d0887"
             ],
             [
              0.1111111111111111,
              "#46039f"
             ],
             [
              0.2222222222222222,
              "#7201a8"
             ],
             [
              0.3333333333333333,
              "#9c179e"
             ],
             [
              0.4444444444444444,
              "#bd3786"
             ],
             [
              0.5555555555555556,
              "#d8576b"
             ],
             [
              0.6666666666666666,
              "#ed7953"
             ],
             [
              0.7777777777777778,
              "#fb9f3a"
             ],
             [
              0.8888888888888888,
              "#fdca26"
             ],
             [
              1,
              "#f0f921"
             ]
            ],
            "type": "contour"
           }
          ],
          "contourcarpet": [
           {
            "colorbar": {
             "outlinewidth": 0,
             "ticks": ""
            },
            "type": "contourcarpet"
           }
          ],
          "heatmap": [
           {
            "colorbar": {
             "outlinewidth": 0,
             "ticks": ""
            },
            "colorscale": [
             [
              0,
              "#0d0887"
             ],
             [
              0.1111111111111111,
              "#46039f"
             ],
             [
              0.2222222222222222,
              "#7201a8"
             ],
             [
              0.3333333333333333,
              "#9c179e"
             ],
             [
              0.4444444444444444,
              "#bd3786"
             ],
             [
              0.5555555555555556,
              "#d8576b"
             ],
             [
              0.6666666666666666,
              "#ed7953"
             ],
             [
              0.7777777777777778,
              "#fb9f3a"
             ],
             [
              0.8888888888888888,
              "#fdca26"
             ],
             [
              1,
              "#f0f921"
             ]
            ],
            "type": "heatmap"
           }
          ],
          "histogram": [
           {
            "marker": {
             "pattern": {
              "fillmode": "overlay",
              "size": 10,
              "solidity": 0.2
             }
            },
            "type": "histogram"
           }
          ],
          "histogram2d": [
           {
            "colorbar": {
             "outlinewidth": 0,
             "ticks": ""
            },
            "colorscale": [
             [
              0,
              "#0d0887"
             ],
             [
              0.1111111111111111,
              "#46039f"
             ],
             [
              0.2222222222222222,
              "#7201a8"
             ],
             [
              0.3333333333333333,
              "#9c179e"
             ],
             [
              0.4444444444444444,
              "#bd3786"
             ],
             [
              0.5555555555555556,
              "#d8576b"
             ],
             [
              0.6666666666666666,
              "#ed7953"
             ],
             [
              0.7777777777777778,
              "#fb9f3a"
             ],
             [
              0.8888888888888888,
              "#fdca26"
             ],
             [
              1,
              "#f0f921"
             ]
            ],
            "type": "histogram2d"
           }
          ],
          "histogram2dcontour": [
           {
            "colorbar": {
             "outlinewidth": 0,
             "ticks": ""
            },
            "colorscale": [
             [
              0,
              "#0d0887"
             ],
             [
              0.1111111111111111,
              "#46039f"
             ],
             [
              0.2222222222222222,
              "#7201a8"
             ],
             [
              0.3333333333333333,
              "#9c179e"
             ],
             [
              0.4444444444444444,
              "#bd3786"
             ],
             [
              0.5555555555555556,
              "#d8576b"
             ],
             [
              0.6666666666666666,
              "#ed7953"
             ],
             [
              0.7777777777777778,
              "#fb9f3a"
             ],
             [
              0.8888888888888888,
              "#fdca26"
             ],
             [
              1,
              "#f0f921"
             ]
            ],
            "type": "histogram2dcontour"
           }
          ],
          "mesh3d": [
           {
            "colorbar": {
             "outlinewidth": 0,
             "ticks": ""
            },
            "type": "mesh3d"
           }
          ],
          "parcoords": [
           {
            "line": {
             "colorbar": {
              "outlinewidth": 0,
              "ticks": ""
             }
            },
            "type": "parcoords"
           }
          ],
          "pie": [
           {
            "automargin": true,
            "type": "pie"
           }
          ],
          "scatter": [
           {
            "fillpattern": {
             "fillmode": "overlay",
             "size": 10,
             "solidity": 0.2
            },
            "type": "scatter"
           }
          ],
          "scatter3d": [
           {
            "line": {
             "colorbar": {
              "outlinewidth": 0,
              "ticks": ""
             }
            },
            "marker": {
             "colorbar": {
              "outlinewidth": 0,
              "ticks": ""
             }
            },
            "type": "scatter3d"
           }
          ],
          "scattercarpet": [
           {
            "marker": {
             "colorbar": {
              "outlinewidth": 0,
              "ticks": ""
             }
            },
            "type": "scattercarpet"
           }
          ],
          "scattergeo": [
           {
            "marker": {
             "colorbar": {
              "outlinewidth": 0,
              "ticks": ""
             }
            },
            "type": "scattergeo"
           }
          ],
          "scattergl": [
           {
            "marker": {
             "colorbar": {
              "outlinewidth": 0,
              "ticks": ""
             }
            },
            "type": "scattergl"
           }
          ],
          "scattermap": [
           {
            "marker": {
             "colorbar": {
              "outlinewidth": 0,
              "ticks": ""
             }
            },
            "type": "scattermap"
           }
          ],
          "scattermapbox": [
           {
            "marker": {
             "colorbar": {
              "outlinewidth": 0,
              "ticks": ""
             }
            },
            "type": "scattermapbox"
           }
          ],
          "scatterpolar": [
           {
            "marker": {
             "colorbar": {
              "outlinewidth": 0,
              "ticks": ""
             }
            },
            "type": "scatterpolar"
           }
          ],
          "scatterpolargl": [
           {
            "marker": {
             "colorbar": {
              "outlinewidth": 0,
              "ticks": ""
             }
            },
            "type": "scatterpolargl"
           }
          ],
          "scatterternary": [
           {
            "marker": {
             "colorbar": {
              "outlinewidth": 0,
              "ticks": ""
             }
            },
            "type": "scatterternary"
           }
          ],
          "surface": [
           {
            "colorbar": {
             "outlinewidth": 0,
             "ticks": ""
            },
            "colorscale": [
             [
              0,
              "#0d0887"
             ],
             [
              0.1111111111111111,
              "#46039f"
             ],
             [
              0.2222222222222222,
              "#7201a8"
             ],
             [
              0.3333333333333333,
              "#9c179e"
             ],
             [
              0.4444444444444444,
              "#bd3786"
             ],
             [
              0.5555555555555556,
              "#d8576b"
             ],
             [
              0.6666666666666666,
              "#ed7953"
             ],
             [
              0.7777777777777778,
              "#fb9f3a"
             ],
             [
              0.8888888888888888,
              "#fdca26"
             ],
             [
              1,
              "#f0f921"
             ]
            ],
            "type": "surface"
           }
          ],
          "table": [
           {
            "cells": {
             "fill": {
              "color": "#EBF0F8"
             },
             "line": {
              "color": "white"
             }
            },
            "header": {
             "fill": {
              "color": "#C8D4E3"
             },
             "line": {
              "color": "white"
             }
            },
            "type": "table"
           }
          ]
         },
         "layout": {
          "annotationdefaults": {
           "arrowcolor": "#2a3f5f",
           "arrowhead": 0,
           "arrowwidth": 1
          },
          "autotypenumbers": "strict",
          "coloraxis": {
           "colorbar": {
            "outlinewidth": 0,
            "ticks": ""
           }
          },
          "colorscale": {
           "diverging": [
            [
             0,
             "#8e0152"
            ],
            [
             0.1,
             "#c51b7d"
            ],
            [
             0.2,
             "#de77ae"
            ],
            [
             0.3,
             "#f1b6da"
            ],
            [
             0.4,
             "#fde0ef"
            ],
            [
             0.5,
             "#f7f7f7"
            ],
            [
             0.6,
             "#e6f5d0"
            ],
            [
             0.7,
             "#b8e186"
            ],
            [
             0.8,
             "#7fbc41"
            ],
            [
             0.9,
             "#4d9221"
            ],
            [
             1,
             "#276419"
            ]
           ],
           "sequential": [
            [
             0,
             "#0d0887"
            ],
            [
             0.1111111111111111,
             "#46039f"
            ],
            [
             0.2222222222222222,
             "#7201a8"
            ],
            [
             0.3333333333333333,
             "#9c179e"
            ],
            [
             0.4444444444444444,
             "#bd3786"
            ],
            [
             0.5555555555555556,
             "#d8576b"
            ],
            [
             0.6666666666666666,
             "#ed7953"
            ],
            [
             0.7777777777777778,
             "#fb9f3a"
            ],
            [
             0.8888888888888888,
             "#fdca26"
            ],
            [
             1,
             "#f0f921"
            ]
           ],
           "sequentialminus": [
            [
             0,
             "#0d0887"
            ],
            [
             0.1111111111111111,
             "#46039f"
            ],
            [
             0.2222222222222222,
             "#7201a8"
            ],
            [
             0.3333333333333333,
             "#9c179e"
            ],
            [
             0.4444444444444444,
             "#bd3786"
            ],
            [
             0.5555555555555556,
             "#d8576b"
            ],
            [
             0.6666666666666666,
             "#ed7953"
            ],
            [
             0.7777777777777778,
             "#fb9f3a"
            ],
            [
             0.8888888888888888,
             "#fdca26"
            ],
            [
             1,
             "#f0f921"
            ]
           ]
          },
          "colorway": [
           "#636efa",
           "#EF553B",
           "#00cc96",
           "#ab63fa",
           "#FFA15A",
           "#19d3f3",
           "#FF6692",
           "#B6E880",
           "#FF97FF",
           "#FECB52"
          ],
          "font": {
           "color": "#2a3f5f"
          },
          "geo": {
           "bgcolor": "white",
           "lakecolor": "white",
           "landcolor": "#E5ECF6",
           "showlakes": true,
           "showland": true,
           "subunitcolor": "white"
          },
          "hoverlabel": {
           "align": "left"
          },
          "hovermode": "closest",
          "mapbox": {
           "style": "light"
          },
          "paper_bgcolor": "white",
          "plot_bgcolor": "#E5ECF6",
          "polar": {
           "angularaxis": {
            "gridcolor": "white",
            "linecolor": "white",
            "ticks": ""
           },
           "bgcolor": "#E5ECF6",
           "radialaxis": {
            "gridcolor": "white",
            "linecolor": "white",
            "ticks": ""
           }
          },
          "scene": {
           "xaxis": {
            "backgroundcolor": "#E5ECF6",
            "gridcolor": "white",
            "gridwidth": 2,
            "linecolor": "white",
            "showbackground": true,
            "ticks": "",
            "zerolinecolor": "white"
           },
           "yaxis": {
            "backgroundcolor": "#E5ECF6",
            "gridcolor": "white",
            "gridwidth": 2,
            "linecolor": "white",
            "showbackground": true,
            "ticks": "",
            "zerolinecolor": "white"
           },
           "zaxis": {
            "backgroundcolor": "#E5ECF6",
            "gridcolor": "white",
            "gridwidth": 2,
            "linecolor": "white",
            "showbackground": true,
            "ticks": "",
            "zerolinecolor": "white"
           }
          },
          "shapedefaults": {
           "line": {
            "color": "#2a3f5f"
           }
          },
          "ternary": {
           "aaxis": {
            "gridcolor": "white",
            "linecolor": "white",
            "ticks": ""
           },
           "baxis": {
            "gridcolor": "white",
            "linecolor": "white",
            "ticks": ""
           },
           "bgcolor": "#E5ECF6",
           "caxis": {
            "gridcolor": "white",
            "linecolor": "white",
            "ticks": ""
           }
          },
          "title": {
           "x": 0.05
          },
          "xaxis": {
           "automargin": true,
           "gridcolor": "white",
           "linecolor": "white",
           "ticks": "",
           "title": {
            "standoff": 15
           },
           "zerolinecolor": "white",
           "zerolinewidth": 2
          },
          "yaxis": {
           "automargin": true,
           "gridcolor": "white",
           "linecolor": "white",
           "ticks": "",
           "title": {
            "standoff": 15
           },
           "zerolinecolor": "white",
           "zerolinewidth": 2
          }
         }
        },
        "title": {
         "text": "맛집 평균 평가지수 기준 상위 10개 지하철역"
        },
        "width": 800,
        "xaxis": {
         "anchor": "y",
         "domain": [
          0,
          1
         ],
         "title": {
          "text": "지하철역"
         }
        },
        "yaxis": {
         "anchor": "x",
         "domain": [
          0,
          1
         ],
         "title": {
          "text": "평균 평가지수"
         }
        }
       }
      }
     },
     "metadata": {},
     "output_type": "display_data"
    }
   ],
   "source": [
    "# 상위 10개만 추출\n",
    "value_top10 = station_value_avg.head(10)\n",
    "\n",
    "# 그래프 그리기\n",
    "fig = px.bar(\n",
    "    value_top10,\n",
    "    x='station',\n",
    "    y='value',\n",
    "    title='평균 평가지수 기준 상위 10개 지하철역',\n",
    "    color_discrete_sequence=['red']\n",
    "\n",
    ")\n",
    "fig.update_layout(\n",
    "    width=800,\n",
    "    height=500,\n",
    "    bargap=0.3,  # 바 간격 (막대 폭 줄이기 효과)\n",
    "    title='맛집 평균 평가지수 기준 상위 10개 지하철역',\n",
    "    xaxis_title='지하철역',\n",
    "    yaxis_title='평균 평가지수'\n",
    ")\n",
    "fig.show()"
   ]
  },
  {
   "cell_type": "code",
   "execution_count": 47,
   "metadata": {},
   "outputs": [
    {
     "data": {
      "application/vnd.plotly.v1+json": {
       "config": {
        "plotlyServerURL": "https://plot.ly"
       },
       "data": [
        {
         "hovertemplate": "station=%{x}<br>value=%{y}<extra></extra>",
         "legendgroup": "",
         "marker": {
          "color": "blue",
          "pattern": {
           "shape": ""
          }
         },
         "name": "",
         "orientation": "v",
         "showlegend": false,
         "textposition": "auto",
         "type": "bar",
         "x": [
          "대공원역",
          "구일역",
          "청계산입구역",
          "고덕역",
          "방화역",
          "암사역사공원역",
          "용마산역",
          "김포공항역",
          "이촌역",
          "구로역"
         ],
         "xaxis": "x",
         "y": {
          "bdata": "wi4P9TLDIEAcZrptBzApQGqJGueYdCtATKsUSBzsK0A/A/MpNSosQLohaAK01CxA6p4e1atLLUB3fSSdrlAtQAApZRcUBy5AtS73ByMNL0A=",
          "dtype": "f8"
         },
         "yaxis": "y"
        }
       ],
       "layout": {
        "bargap": 0.3,
        "barmode": "relative",
        "height": 500,
        "legend": {
         "tracegroupgap": 0
        },
        "template": {
         "data": {
          "bar": [
           {
            "error_x": {
             "color": "#2a3f5f"
            },
            "error_y": {
             "color": "#2a3f5f"
            },
            "marker": {
             "line": {
              "color": "#E5ECF6",
              "width": 0.5
             },
             "pattern": {
              "fillmode": "overlay",
              "size": 10,
              "solidity": 0.2
             }
            },
            "type": "bar"
           }
          ],
          "barpolar": [
           {
            "marker": {
             "line": {
              "color": "#E5ECF6",
              "width": 0.5
             },
             "pattern": {
              "fillmode": "overlay",
              "size": 10,
              "solidity": 0.2
             }
            },
            "type": "barpolar"
           }
          ],
          "carpet": [
           {
            "aaxis": {
             "endlinecolor": "#2a3f5f",
             "gridcolor": "white",
             "linecolor": "white",
             "minorgridcolor": "white",
             "startlinecolor": "#2a3f5f"
            },
            "baxis": {
             "endlinecolor": "#2a3f5f",
             "gridcolor": "white",
             "linecolor": "white",
             "minorgridcolor": "white",
             "startlinecolor": "#2a3f5f"
            },
            "type": "carpet"
           }
          ],
          "choropleth": [
           {
            "colorbar": {
             "outlinewidth": 0,
             "ticks": ""
            },
            "type": "choropleth"
           }
          ],
          "contour": [
           {
            "colorbar": {
             "outlinewidth": 0,
             "ticks": ""
            },
            "colorscale": [
             [
              0,
              "#0d0887"
             ],
             [
              0.1111111111111111,
              "#46039f"
             ],
             [
              0.2222222222222222,
              "#7201a8"
             ],
             [
              0.3333333333333333,
              "#9c179e"
             ],
             [
              0.4444444444444444,
              "#bd3786"
             ],
             [
              0.5555555555555556,
              "#d8576b"
             ],
             [
              0.6666666666666666,
              "#ed7953"
             ],
             [
              0.7777777777777778,
              "#fb9f3a"
             ],
             [
              0.8888888888888888,
              "#fdca26"
             ],
             [
              1,
              "#f0f921"
             ]
            ],
            "type": "contour"
           }
          ],
          "contourcarpet": [
           {
            "colorbar": {
             "outlinewidth": 0,
             "ticks": ""
            },
            "type": "contourcarpet"
           }
          ],
          "heatmap": [
           {
            "colorbar": {
             "outlinewidth": 0,
             "ticks": ""
            },
            "colorscale": [
             [
              0,
              "#0d0887"
             ],
             [
              0.1111111111111111,
              "#46039f"
             ],
             [
              0.2222222222222222,
              "#7201a8"
             ],
             [
              0.3333333333333333,
              "#9c179e"
             ],
             [
              0.4444444444444444,
              "#bd3786"
             ],
             [
              0.5555555555555556,
              "#d8576b"
             ],
             [
              0.6666666666666666,
              "#ed7953"
             ],
             [
              0.7777777777777778,
              "#fb9f3a"
             ],
             [
              0.8888888888888888,
              "#fdca26"
             ],
             [
              1,
              "#f0f921"
             ]
            ],
            "type": "heatmap"
           }
          ],
          "histogram": [
           {
            "marker": {
             "pattern": {
              "fillmode": "overlay",
              "size": 10,
              "solidity": 0.2
             }
            },
            "type": "histogram"
           }
          ],
          "histogram2d": [
           {
            "colorbar": {
             "outlinewidth": 0,
             "ticks": ""
            },
            "colorscale": [
             [
              0,
              "#0d0887"
             ],
             [
              0.1111111111111111,
              "#46039f"
             ],
             [
              0.2222222222222222,
              "#7201a8"
             ],
             [
              0.3333333333333333,
              "#9c179e"
             ],
             [
              0.4444444444444444,
              "#bd3786"
             ],
             [
              0.5555555555555556,
              "#d8576b"
             ],
             [
              0.6666666666666666,
              "#ed7953"
             ],
             [
              0.7777777777777778,
              "#fb9f3a"
             ],
             [
              0.8888888888888888,
              "#fdca26"
             ],
             [
              1,
              "#f0f921"
             ]
            ],
            "type": "histogram2d"
           }
          ],
          "histogram2dcontour": [
           {
            "colorbar": {
             "outlinewidth": 0,
             "ticks": ""
            },
            "colorscale": [
             [
              0,
              "#0d0887"
             ],
             [
              0.1111111111111111,
              "#46039f"
             ],
             [
              0.2222222222222222,
              "#7201a8"
             ],
             [
              0.3333333333333333,
              "#9c179e"
             ],
             [
              0.4444444444444444,
              "#bd3786"
             ],
             [
              0.5555555555555556,
              "#d8576b"
             ],
             [
              0.6666666666666666,
              "#ed7953"
             ],
             [
              0.7777777777777778,
              "#fb9f3a"
             ],
             [
              0.8888888888888888,
              "#fdca26"
             ],
             [
              1,
              "#f0f921"
             ]
            ],
            "type": "histogram2dcontour"
           }
          ],
          "mesh3d": [
           {
            "colorbar": {
             "outlinewidth": 0,
             "ticks": ""
            },
            "type": "mesh3d"
           }
          ],
          "parcoords": [
           {
            "line": {
             "colorbar": {
              "outlinewidth": 0,
              "ticks": ""
             }
            },
            "type": "parcoords"
           }
          ],
          "pie": [
           {
            "automargin": true,
            "type": "pie"
           }
          ],
          "scatter": [
           {
            "fillpattern": {
             "fillmode": "overlay",
             "size": 10,
             "solidity": 0.2
            },
            "type": "scatter"
           }
          ],
          "scatter3d": [
           {
            "line": {
             "colorbar": {
              "outlinewidth": 0,
              "ticks": ""
             }
            },
            "marker": {
             "colorbar": {
              "outlinewidth": 0,
              "ticks": ""
             }
            },
            "type": "scatter3d"
           }
          ],
          "scattercarpet": [
           {
            "marker": {
             "colorbar": {
              "outlinewidth": 0,
              "ticks": ""
             }
            },
            "type": "scattercarpet"
           }
          ],
          "scattergeo": [
           {
            "marker": {
             "colorbar": {
              "outlinewidth": 0,
              "ticks": ""
             }
            },
            "type": "scattergeo"
           }
          ],
          "scattergl": [
           {
            "marker": {
             "colorbar": {
              "outlinewidth": 0,
              "ticks": ""
             }
            },
            "type": "scattergl"
           }
          ],
          "scattermap": [
           {
            "marker": {
             "colorbar": {
              "outlinewidth": 0,
              "ticks": ""
             }
            },
            "type": "scattermap"
           }
          ],
          "scattermapbox": [
           {
            "marker": {
             "colorbar": {
              "outlinewidth": 0,
              "ticks": ""
             }
            },
            "type": "scattermapbox"
           }
          ],
          "scatterpolar": [
           {
            "marker": {
             "colorbar": {
              "outlinewidth": 0,
              "ticks": ""
             }
            },
            "type": "scatterpolar"
           }
          ],
          "scatterpolargl": [
           {
            "marker": {
             "colorbar": {
              "outlinewidth": 0,
              "ticks": ""
             }
            },
            "type": "scatterpolargl"
           }
          ],
          "scatterternary": [
           {
            "marker": {
             "colorbar": {
              "outlinewidth": 0,
              "ticks": ""
             }
            },
            "type": "scatterternary"
           }
          ],
          "surface": [
           {
            "colorbar": {
             "outlinewidth": 0,
             "ticks": ""
            },
            "colorscale": [
             [
              0,
              "#0d0887"
             ],
             [
              0.1111111111111111,
              "#46039f"
             ],
             [
              0.2222222222222222,
              "#7201a8"
             ],
             [
              0.3333333333333333,
              "#9c179e"
             ],
             [
              0.4444444444444444,
              "#bd3786"
             ],
             [
              0.5555555555555556,
              "#d8576b"
             ],
             [
              0.6666666666666666,
              "#ed7953"
             ],
             [
              0.7777777777777778,
              "#fb9f3a"
             ],
             [
              0.8888888888888888,
              "#fdca26"
             ],
             [
              1,
              "#f0f921"
             ]
            ],
            "type": "surface"
           }
          ],
          "table": [
           {
            "cells": {
             "fill": {
              "color": "#EBF0F8"
             },
             "line": {
              "color": "white"
             }
            },
            "header": {
             "fill": {
              "color": "#C8D4E3"
             },
             "line": {
              "color": "white"
             }
            },
            "type": "table"
           }
          ]
         },
         "layout": {
          "annotationdefaults": {
           "arrowcolor": "#2a3f5f",
           "arrowhead": 0,
           "arrowwidth": 1
          },
          "autotypenumbers": "strict",
          "coloraxis": {
           "colorbar": {
            "outlinewidth": 0,
            "ticks": ""
           }
          },
          "colorscale": {
           "diverging": [
            [
             0,
             "#8e0152"
            ],
            [
             0.1,
             "#c51b7d"
            ],
            [
             0.2,
             "#de77ae"
            ],
            [
             0.3,
             "#f1b6da"
            ],
            [
             0.4,
             "#fde0ef"
            ],
            [
             0.5,
             "#f7f7f7"
            ],
            [
             0.6,
             "#e6f5d0"
            ],
            [
             0.7,
             "#b8e186"
            ],
            [
             0.8,
             "#7fbc41"
            ],
            [
             0.9,
             "#4d9221"
            ],
            [
             1,
             "#276419"
            ]
           ],
           "sequential": [
            [
             0,
             "#0d0887"
            ],
            [
             0.1111111111111111,
             "#46039f"
            ],
            [
             0.2222222222222222,
             "#7201a8"
            ],
            [
             0.3333333333333333,
             "#9c179e"
            ],
            [
             0.4444444444444444,
             "#bd3786"
            ],
            [
             0.5555555555555556,
             "#d8576b"
            ],
            [
             0.6666666666666666,
             "#ed7953"
            ],
            [
             0.7777777777777778,
             "#fb9f3a"
            ],
            [
             0.8888888888888888,
             "#fdca26"
            ],
            [
             1,
             "#f0f921"
            ]
           ],
           "sequentialminus": [
            [
             0,
             "#0d0887"
            ],
            [
             0.1111111111111111,
             "#46039f"
            ],
            [
             0.2222222222222222,
             "#7201a8"
            ],
            [
             0.3333333333333333,
             "#9c179e"
            ],
            [
             0.4444444444444444,
             "#bd3786"
            ],
            [
             0.5555555555555556,
             "#d8576b"
            ],
            [
             0.6666666666666666,
             "#ed7953"
            ],
            [
             0.7777777777777778,
             "#fb9f3a"
            ],
            [
             0.8888888888888888,
             "#fdca26"
            ],
            [
             1,
             "#f0f921"
            ]
           ]
          },
          "colorway": [
           "#636efa",
           "#EF553B",
           "#00cc96",
           "#ab63fa",
           "#FFA15A",
           "#19d3f3",
           "#FF6692",
           "#B6E880",
           "#FF97FF",
           "#FECB52"
          ],
          "font": {
           "color": "#2a3f5f"
          },
          "geo": {
           "bgcolor": "white",
           "lakecolor": "white",
           "landcolor": "#E5ECF6",
           "showlakes": true,
           "showland": true,
           "subunitcolor": "white"
          },
          "hoverlabel": {
           "align": "left"
          },
          "hovermode": "closest",
          "mapbox": {
           "style": "light"
          },
          "paper_bgcolor": "white",
          "plot_bgcolor": "#E5ECF6",
          "polar": {
           "angularaxis": {
            "gridcolor": "white",
            "linecolor": "white",
            "ticks": ""
           },
           "bgcolor": "#E5ECF6",
           "radialaxis": {
            "gridcolor": "white",
            "linecolor": "white",
            "ticks": ""
           }
          },
          "scene": {
           "xaxis": {
            "backgroundcolor": "#E5ECF6",
            "gridcolor": "white",
            "gridwidth": 2,
            "linecolor": "white",
            "showbackground": true,
            "ticks": "",
            "zerolinecolor": "white"
           },
           "yaxis": {
            "backgroundcolor": "#E5ECF6",
            "gridcolor": "white",
            "gridwidth": 2,
            "linecolor": "white",
            "showbackground": true,
            "ticks": "",
            "zerolinecolor": "white"
           },
           "zaxis": {
            "backgroundcolor": "#E5ECF6",
            "gridcolor": "white",
            "gridwidth": 2,
            "linecolor": "white",
            "showbackground": true,
            "ticks": "",
            "zerolinecolor": "white"
           }
          },
          "shapedefaults": {
           "line": {
            "color": "#2a3f5f"
           }
          },
          "ternary": {
           "aaxis": {
            "gridcolor": "white",
            "linecolor": "white",
            "ticks": ""
           },
           "baxis": {
            "gridcolor": "white",
            "linecolor": "white",
            "ticks": ""
           },
           "bgcolor": "#E5ECF6",
           "caxis": {
            "gridcolor": "white",
            "linecolor": "white",
            "ticks": ""
           }
          },
          "title": {
           "x": 0.05
          },
          "xaxis": {
           "automargin": true,
           "gridcolor": "white",
           "linecolor": "white",
           "ticks": "",
           "title": {
            "standoff": 15
           },
           "zerolinecolor": "white",
           "zerolinewidth": 2
          },
          "yaxis": {
           "automargin": true,
           "gridcolor": "white",
           "linecolor": "white",
           "ticks": "",
           "title": {
            "standoff": 15
           },
           "zerolinecolor": "white",
           "zerolinewidth": 2
          }
         }
        },
        "title": {
         "text": "맛집 평균 평가지수 기준 하위 10개 지하철역"
        },
        "width": 800,
        "xaxis": {
         "anchor": "y",
         "domain": [
          0,
          1
         ],
         "title": {
          "text": "지하철역"
         }
        },
        "yaxis": {
         "anchor": "x",
         "domain": [
          0,
          1
         ],
         "title": {
          "text": "평균 평가지수"
         }
        }
       }
      }
     },
     "metadata": {},
     "output_type": "display_data"
    }
   ],
   "source": [
    "# value 오름차순 정렬 (작은 값이 먼저 오게)\n",
    "station_avg_value_sorted = station_value_avg.sort_values(by='value', ascending=True)\n",
    "\n",
    "# 하위 10개만 추출\n",
    "value_bottom10 = station_avg_value_sorted.head(10)\n",
    "\n",
    "# 그래프 그리기\n",
    "fig = px.bar(\n",
    "    value_bottom10,\n",
    "    x='station',\n",
    "    y='value',\n",
    "    title='맛집 평균 평가지수 기준 하위 10개 지하철역',\n",
    "    color_discrete_sequence=['blue']\n",
    ")\n",
    "\n",
    "fig.update_layout(\n",
    "    width=800,\n",
    "    height=500,\n",
    "    bargap=0.3,\n",
    "    xaxis_title='지하철역',\n",
    "    yaxis_title='평균 평가지수'\n",
    ")\n",
    "\n",
    "fig.show()"
   ]
  },
  {
   "cell_type": "code",
   "execution_count": 48,
   "metadata": {},
   "outputs": [
    {
     "data": {
      "text/html": [
       "<div>\n",
       "<style scoped>\n",
       "    .dataframe tbody tr th:only-of-type {\n",
       "        vertical-align: middle;\n",
       "    }\n",
       "\n",
       "    .dataframe tbody tr th {\n",
       "        vertical-align: top;\n",
       "    }\n",
       "\n",
       "    .dataframe thead th {\n",
       "        text-align: right;\n",
       "    }\n",
       "</style>\n",
       "<table border=\"1\" class=\"dataframe\">\n",
       "  <thead>\n",
       "    <tr style=\"text-align: right;\">\n",
       "      <th></th>\n",
       "      <th>name</th>\n",
       "      <th>station</th>\n",
       "      <th>category</th>\n",
       "      <th>score</th>\n",
       "      <th>review</th>\n",
       "      <th>price</th>\n",
       "      <th>address</th>\n",
       "      <th>latitude</th>\n",
       "      <th>longitude</th>\n",
       "      <th>value</th>\n",
       "      <th>performance</th>\n",
       "    </tr>\n",
       "  </thead>\n",
       "  <tbody>\n",
       "    <tr>\n",
       "      <th>0</th>\n",
       "      <td>100-17이태리선술집</td>\n",
       "      <td>신길역</td>\n",
       "      <td>호프,요리주점</td>\n",
       "      <td>4.9</td>\n",
       "      <td>171</td>\n",
       "      <td>13750</td>\n",
       "      <td>서울 영등포구 도신로 254 (우)07352</td>\n",
       "      <td>37.513005</td>\n",
       "      <td>126.919179</td>\n",
       "      <td>25.222723</td>\n",
       "      <td>0.000356</td>\n",
       "    </tr>\n",
       "    <tr>\n",
       "      <th>1</th>\n",
       "      <td>103호</td>\n",
       "      <td>당산역</td>\n",
       "      <td>실내포장마차</td>\n",
       "      <td>4.3</td>\n",
       "      <td>222</td>\n",
       "      <td>11000</td>\n",
       "      <td>서울 영등포구 양평로 64-1 1층 (우)07222</td>\n",
       "      <td>37.535288</td>\n",
       "      <td>126.899660</td>\n",
       "      <td>23.250839</td>\n",
       "      <td>0.000391</td>\n",
       "    </tr>\n",
       "    <tr>\n",
       "      <th>2</th>\n",
       "      <td>10G</td>\n",
       "      <td>여의나루역</td>\n",
       "      <td>디저트카페</td>\n",
       "      <td>3.9</td>\n",
       "      <td>120</td>\n",
       "      <td>6000</td>\n",
       "      <td>서울 영등포구 국제금융로 10 1층 (우)07326</td>\n",
       "      <td>37.524978</td>\n",
       "      <td>126.925298</td>\n",
       "      <td>18.703583</td>\n",
       "      <td>0.000650</td>\n",
       "    </tr>\n",
       "    <tr>\n",
       "      <th>3</th>\n",
       "      <td>10꼬르소꼬모서울카페</td>\n",
       "      <td>압구정로데오역</td>\n",
       "      <td>카페</td>\n",
       "      <td>3.2</td>\n",
       "      <td>70</td>\n",
       "      <td>16250</td>\n",
       "      <td>서울 강남구 압구정로 416 더트리니티빌딩 지하1층 (우)06015</td>\n",
       "      <td>37.526916</td>\n",
       "      <td>127.042419</td>\n",
       "      <td>13.640576</td>\n",
       "      <td>0.000197</td>\n",
       "    </tr>\n",
       "    <tr>\n",
       "      <th>4</th>\n",
       "      <td>153구포국수 군자점</td>\n",
       "      <td>군자(능동)역</td>\n",
       "      <td>분식</td>\n",
       "      <td>4.6</td>\n",
       "      <td>93</td>\n",
       "      <td>7375</td>\n",
       "      <td>서울 광진구 동일로60길 37 (우)04994</td>\n",
       "      <td>37.557979</td>\n",
       "      <td>127.075491</td>\n",
       "      <td>20.899156</td>\n",
       "      <td>0.000624</td>\n",
       "    </tr>\n",
       "  </tbody>\n",
       "</table>\n",
       "</div>"
      ],
      "text/plain": [
       "           name  station category  score  review  price  \\\n",
       "0  100-17이태리선술집      신길역  호프,요리주점    4.9     171  13750   \n",
       "1          103호      당산역   실내포장마차    4.3     222  11000   \n",
       "2           10G    여의나루역    디저트카페    3.9     120   6000   \n",
       "3   10꼬르소꼬모서울카페  압구정로데오역       카페    3.2      70  16250   \n",
       "4   153구포국수 군자점  군자(능동)역       분식    4.6      93   7375   \n",
       "\n",
       "                                 address   latitude   longitude      value  \\\n",
       "0               서울 영등포구 도신로 254 (우)07352  37.513005  126.919179  25.222723   \n",
       "1           서울 영등포구 양평로 64-1 1층 (우)07222  37.535288  126.899660  23.250839   \n",
       "2           서울 영등포구 국제금융로 10 1층 (우)07326  37.524978  126.925298  18.703583   \n",
       "3  서울 강남구 압구정로 416 더트리니티빌딩 지하1층 (우)06015  37.526916  127.042419  13.640576   \n",
       "4              서울 광진구 동일로60길 37 (우)04994  37.557979  127.075491  20.899156   \n",
       "\n",
       "   performance  \n",
       "0     0.000356  \n",
       "1     0.000391  \n",
       "2     0.000650  \n",
       "3     0.000197  \n",
       "4     0.000624  "
      ]
     },
     "execution_count": 48,
     "metadata": {},
     "output_type": "execute_result"
    }
   ],
   "source": [
    "restaurant['performance'] = np.where(restaurant['price'] == 0, 0, restaurant['score'] / restaurant['price'])\n",
    "restaurant.head()"
   ]
  },
  {
   "cell_type": "code",
   "execution_count": 49,
   "metadata": {},
   "outputs": [
    {
     "data": {
      "application/vnd.plotly.v1+json": {
       "config": {
        "plotlyServerURL": "https://plot.ly"
       },
       "data": [
        {
         "bingroup": "x",
         "hovertemplate": "performance=%{x}<br>count=%{y}<extra></extra>",
         "legendgroup": "",
         "marker": {
          "color": "green",
          "pattern": {
           "shape": ""
          }
         },
         "name": "",
         "orientation": "v",
         "showlegend": false,
         "type": "histogram",
         "x": {
          "bdata": "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",
          "dtype": "f8"
         },
         "xaxis": "x",
         "yaxis": "y"
        }
       ],
       "layout": {
        "barmode": "relative",
        "legend": {
         "tracegroupgap": 0
        },
        "template": {
         "data": {
          "bar": [
           {
            "error_x": {
             "color": "#2a3f5f"
            },
            "error_y": {
             "color": "#2a3f5f"
            },
            "marker": {
             "line": {
              "color": "#E5ECF6",
              "width": 0.5
             },
             "pattern": {
              "fillmode": "overlay",
              "size": 10,
              "solidity": 0.2
             }
            },
            "type": "bar"
           }
          ],
          "barpolar": [
           {
            "marker": {
             "line": {
              "color": "#E5ECF6",
              "width": 0.5
             },
             "pattern": {
              "fillmode": "overlay",
              "size": 10,
              "solidity": 0.2
             }
            },
            "type": "barpolar"
           }
          ],
          "carpet": [
           {
            "aaxis": {
             "endlinecolor": "#2a3f5f",
             "gridcolor": "white",
             "linecolor": "white",
             "minorgridcolor": "white",
             "startlinecolor": "#2a3f5f"
            },
            "baxis": {
             "endlinecolor": "#2a3f5f",
             "gridcolor": "white",
             "linecolor": "white",
             "minorgridcolor": "white",
             "startlinecolor": "#2a3f5f"
            },
            "type": "carpet"
           }
          ],
          "choropleth": [
           {
            "colorbar": {
             "outlinewidth": 0,
             "ticks": ""
            },
            "type": "choropleth"
           }
          ],
          "contour": [
           {
            "colorbar": {
             "outlinewidth": 0,
             "ticks": ""
            },
            "colorscale": [
             [
              0,
              "#0d0887"
             ],
             [
              0.1111111111111111,
              "#46039f"
             ],
             [
              0.2222222222222222,
              "#7201a8"
             ],
             [
              0.3333333333333333,
              "#9c179e"
             ],
             [
              0.4444444444444444,
              "#bd3786"
             ],
             [
              0.5555555555555556,
              "#d8576b"
             ],
             [
              0.6666666666666666,
              "#ed7953"
             ],
             [
              0.7777777777777778,
              "#fb9f3a"
             ],
             [
              0.8888888888888888,
              "#fdca26"
             ],
             [
              1,
              "#f0f921"
             ]
            ],
            "type": "contour"
           }
          ],
          "contourcarpet": [
           {
            "colorbar": {
             "outlinewidth": 0,
             "ticks": ""
            },
            "type": "contourcarpet"
           }
          ],
          "heatmap": [
           {
            "colorbar": {
             "outlinewidth": 0,
             "ticks": ""
            },
            "colorscale": [
             [
              0,
              "#0d0887"
             ],
             [
              0.1111111111111111,
              "#46039f"
             ],
             [
              0.2222222222222222,
              "#7201a8"
             ],
             [
              0.3333333333333333,
              "#9c179e"
             ],
             [
              0.4444444444444444,
              "#bd3786"
             ],
             [
              0.5555555555555556,
              "#d8576b"
             ],
             [
              0.6666666666666666,
              "#ed7953"
             ],
             [
              0.7777777777777778,
              "#fb9f3a"
             ],
             [
              0.8888888888888888,
              "#fdca26"
             ],
             [
              1,
              "#f0f921"
             ]
            ],
            "type": "heatmap"
           }
          ],
          "histogram": [
           {
            "marker": {
             "pattern": {
              "fillmode": "overlay",
              "size": 10,
              "solidity": 0.2
             }
            },
            "type": "histogram"
           }
          ],
          "histogram2d": [
           {
            "colorbar": {
             "outlinewidth": 0,
             "ticks": ""
            },
            "colorscale": [
             [
              0,
              "#0d0887"
             ],
             [
              0.1111111111111111,
              "#46039f"
             ],
             [
              0.2222222222222222,
              "#7201a8"
             ],
             [
              0.3333333333333333,
              "#9c179e"
             ],
             [
              0.4444444444444444,
              "#bd3786"
             ],
             [
              0.5555555555555556,
              "#d8576b"
             ],
             [
              0.6666666666666666,
              "#ed7953"
             ],
             [
              0.7777777777777778,
              "#fb9f3a"
             ],
             [
              0.8888888888888888,
              "#fdca26"
             ],
             [
              1,
              "#f0f921"
             ]
            ],
            "type": "histogram2d"
           }
          ],
          "histogram2dcontour": [
           {
            "colorbar": {
             "outlinewidth": 0,
             "ticks": ""
            },
            "colorscale": [
             [
              0,
              "#0d0887"
             ],
             [
              0.1111111111111111,
              "#46039f"
             ],
             [
              0.2222222222222222,
              "#7201a8"
             ],
             [
              0.3333333333333333,
              "#9c179e"
             ],
             [
              0.4444444444444444,
              "#bd3786"
             ],
             [
              0.5555555555555556,
              "#d8576b"
             ],
             [
              0.6666666666666666,
              "#ed7953"
             ],
             [
              0.7777777777777778,
              "#fb9f3a"
             ],
             [
              0.8888888888888888,
              "#fdca26"
             ],
             [
              1,
              "#f0f921"
             ]
            ],
            "type": "histogram2dcontour"
           }
          ],
          "mesh3d": [
           {
            "colorbar": {
             "outlinewidth": 0,
             "ticks": ""
            },
            "type": "mesh3d"
           }
          ],
          "parcoords": [
           {
            "line": {
             "colorbar": {
              "outlinewidth": 0,
              "ticks": ""
             }
            },
            "type": "parcoords"
           }
          ],
          "pie": [
           {
            "automargin": true,
            "type": "pie"
           }
          ],
          "scatter": [
           {
            "fillpattern": {
             "fillmode": "overlay",
             "size": 10,
             "solidity": 0.2
            },
            "type": "scatter"
           }
          ],
          "scatter3d": [
           {
            "line": {
             "colorbar": {
              "outlinewidth": 0,
              "ticks": ""
             }
            },
            "marker": {
             "colorbar": {
              "outlinewidth": 0,
              "ticks": ""
             }
            },
            "type": "scatter3d"
           }
          ],
          "scattercarpet": [
           {
            "marker": {
             "colorbar": {
              "outlinewidth": 0,
              "ticks": ""
             }
            },
            "type": "scattercarpet"
           }
          ],
          "scattergeo": [
           {
            "marker": {
             "colorbar": {
              "outlinewidth": 0,
              "ticks": ""
             }
            },
            "type": "scattergeo"
           }
          ],
          "scattergl": [
           {
            "marker": {
             "colorbar": {
              "outlinewidth": 0,
              "ticks": ""
             }
            },
            "type": "scattergl"
           }
          ],
          "scattermap": [
           {
            "marker": {
             "colorbar": {
              "outlinewidth": 0,
              "ticks": ""
             }
            },
            "type": "scattermap"
           }
          ],
          "scattermapbox": [
           {
            "marker": {
             "colorbar": {
              "outlinewidth": 0,
              "ticks": ""
             }
            },
            "type": "scattermapbox"
           }
          ],
          "scatterpolar": [
           {
            "marker": {
             "colorbar": {
              "outlinewidth": 0,
              "ticks": ""
             }
            },
            "type": "scatterpolar"
           }
          ],
          "scatterpolargl": [
           {
            "marker": {
             "colorbar": {
              "outlinewidth": 0,
              "ticks": ""
             }
            },
            "type": "scatterpolargl"
           }
          ],
          "scatterternary": [
           {
            "marker": {
             "colorbar": {
              "outlinewidth": 0,
              "ticks": ""
             }
            },
            "type": "scatterternary"
           }
          ],
          "surface": [
           {
            "colorbar": {
             "outlinewidth": 0,
             "ticks": ""
            },
            "colorscale": [
             [
              0,
              "#0d0887"
             ],
             [
              0.1111111111111111,
              "#46039f"
             ],
             [
              0.2222222222222222,
              "#7201a8"
             ],
             [
              0.3333333333333333,
              "#9c179e"
             ],
             [
              0.4444444444444444,
              "#bd3786"
             ],
             [
              0.5555555555555556,
              "#d8576b"
             ],
             [
              0.6666666666666666,
              "#ed7953"
             ],
             [
              0.7777777777777778,
              "#fb9f3a"
             ],
             [
              0.8888888888888888,
              "#fdca26"
             ],
             [
              1,
              "#f0f921"
             ]
            ],
            "type": "surface"
           }
          ],
          "table": [
           {
            "cells": {
             "fill": {
              "color": "#EBF0F8"
             },
             "line": {
              "color": "white"
             }
            },
            "header": {
             "fill": {
              "color": "#C8D4E3"
             },
             "line": {
              "color": "white"
             }
            },
            "type": "table"
           }
          ]
         },
         "layout": {
          "annotationdefaults": {
           "arrowcolor": "#2a3f5f",
           "arrowhead": 0,
           "arrowwidth": 1
          },
          "autotypenumbers": "strict",
          "coloraxis": {
           "colorbar": {
            "outlinewidth": 0,
            "ticks": ""
           }
          },
          "colorscale": {
           "diverging": [
            [
             0,
             "#8e0152"
            ],
            [
             0.1,
             "#c51b7d"
            ],
            [
             0.2,
             "#de77ae"
            ],
            [
             0.3,
             "#f1b6da"
            ],
            [
             0.4,
             "#fde0ef"
            ],
            [
             0.5,
             "#f7f7f7"
            ],
            [
             0.6,
             "#e6f5d0"
            ],
            [
             0.7,
             "#b8e186"
            ],
            [
             0.8,
             "#7fbc41"
            ],
            [
             0.9,
             "#4d9221"
            ],
            [
             1,
             "#276419"
            ]
           ],
           "sequential": [
            [
             0,
             "#0d0887"
            ],
            [
             0.1111111111111111,
             "#46039f"
            ],
            [
             0.2222222222222222,
             "#7201a8"
            ],
            [
             0.3333333333333333,
             "#9c179e"
            ],
            [
             0.4444444444444444,
             "#bd3786"
            ],
            [
             0.5555555555555556,
             "#d8576b"
            ],
            [
             0.6666666666666666,
             "#ed7953"
            ],
            [
             0.7777777777777778,
             "#fb9f3a"
            ],
            [
             0.8888888888888888,
             "#fdca26"
            ],
            [
             1,
             "#f0f921"
            ]
           ],
           "sequentialminus": [
            [
             0,
             "#0d0887"
            ],
            [
             0.1111111111111111,
             "#46039f"
            ],
            [
             0.2222222222222222,
             "#7201a8"
            ],
            [
             0.3333333333333333,
             "#9c179e"
            ],
            [
             0.4444444444444444,
             "#bd3786"
            ],
            [
             0.5555555555555556,
             "#d8576b"
            ],
            [
             0.6666666666666666,
             "#ed7953"
            ],
            [
             0.7777777777777778,
             "#fb9f3a"
            ],
            [
             0.8888888888888888,
             "#fdca26"
            ],
            [
             1,
             "#f0f921"
            ]
           ]
          },
          "colorway": [
           "#636efa",
           "#EF553B",
           "#00cc96",
           "#ab63fa",
           "#FFA15A",
           "#19d3f3",
           "#FF6692",
           "#B6E880",
           "#FF97FF",
           "#FECB52"
          ],
          "font": {
           "color": "#2a3f5f"
          },
          "geo": {
           "bgcolor": "white",
           "lakecolor": "white",
           "landcolor": "#E5ECF6",
           "showlakes": true,
           "showland": true,
           "subunitcolor": "white"
          },
          "hoverlabel": {
           "align": "left"
          },
          "hovermode": "closest",
          "mapbox": {
           "style": "light"
          },
          "paper_bgcolor": "white",
          "plot_bgcolor": "#E5ECF6",
          "polar": {
           "angularaxis": {
            "gridcolor": "white",
            "linecolor": "white",
            "ticks": ""
           },
           "bgcolor": "#E5ECF6",
           "radialaxis": {
            "gridcolor": "white",
            "linecolor": "white",
            "ticks": ""
           }
          },
          "scene": {
           "xaxis": {
            "backgroundcolor": "#E5ECF6",
            "gridcolor": "white",
            "gridwidth": 2,
            "linecolor": "white",
            "showbackground": true,
            "ticks": "",
            "zerolinecolor": "white"
           },
           "yaxis": {
            "backgroundcolor": "#E5ECF6",
            "gridcolor": "white",
            "gridwidth": 2,
            "linecolor": "white",
            "showbackground": true,
            "ticks": "",
            "zerolinecolor": "white"
           },
           "zaxis": {
            "backgroundcolor": "#E5ECF6",
            "gridcolor": "white",
            "gridwidth": 2,
            "linecolor": "white",
            "showbackground": true,
            "ticks": "",
            "zerolinecolor": "white"
           }
          },
          "shapedefaults": {
           "line": {
            "color": "#2a3f5f"
           }
          },
          "ternary": {
           "aaxis": {
            "gridcolor": "white",
            "linecolor": "white",
            "ticks": ""
           },
           "baxis": {
            "gridcolor": "white",
            "linecolor": "white",
            "ticks": ""
           },
           "bgcolor": "#E5ECF6",
           "caxis": {
            "gridcolor": "white",
            "linecolor": "white",
            "ticks": ""
           }
          },
          "title": {
           "x": 0.05
          },
          "xaxis": {
           "automargin": true,
           "gridcolor": "white",
           "linecolor": "white",
           "ticks": "",
           "title": {
            "standoff": 15
           },
           "zerolinecolor": "white",
           "zerolinewidth": 2
          },
          "yaxis": {
           "automargin": true,
           "gridcolor": "white",
           "linecolor": "white",
           "ticks": "",
           "title": {
            "standoff": 15
           },
           "zerolinecolor": "white",
           "zerolinewidth": 2
          }
         }
        },
        "title": {
         "text": "가성비지수별 맛집 분포"
        },
        "xaxis": {
         "anchor": "y",
         "domain": [
          0,
          1
         ],
         "title": {
          "text": "가성비지수 (평점/평균 가격)"
         }
        },
        "yaxis": {
         "anchor": "x",
         "domain": [
          0,
          1
         ],
         "title": {
          "text": "맛집 수"
         }
        }
       }
      }
     },
     "metadata": {},
     "output_type": "display_data"
    }
   ],
   "source": [
    "import plotly.express as px\n",
    "\n",
    "fig = px.histogram(restaurant,x='performance',title='가성비지수별 맛집 분포',color_discrete_sequence=['green'])\n",
    "fig.update_layout(\n",
    "    xaxis_title='가성비지수 (평점/평균 가격)',\n",
    "    yaxis_title='맛집 수'\n",
    ")\n",
    "fig.show()"
   ]
  },
  {
   "cell_type": "code",
   "execution_count": 50,
   "metadata": {},
   "outputs": [
    {
     "name": "stdout",
     "output_type": "stream",
     "text": [
      "전체 맛집의 평균 평가지수: 0.00032463639767451723\n"
     ]
    }
   ],
   "source": [
    "avg_performance_value = restaurant['performance'].mean()\n",
    "print(\"전체 맛집의 평균 평가지수:\", avg_performance_value)"
   ]
  },
  {
   "cell_type": "code",
   "execution_count": 51,
   "metadata": {},
   "outputs": [
    {
     "name": "stdout",
     "output_type": "stream",
     "text": [
      "전체 맛집의 평균 가성비지수: 0.00032463639767451723\n"
     ]
    },
    {
     "data": {
      "application/vnd.plotly.v1+json": {
       "config": {
        "plotlyServerURL": "https://plot.ly"
       },
       "data": [
        {
         "bingroup": "x",
         "hovertemplate": "performance=%{x}<br>count=%{y}<extra></extra>",
         "legendgroup": "",
         "marker": {
          "color": "green",
          "pattern": {
           "shape": ""
          }
         },
         "name": "",
         "orientation": "v",
         "showlegend": false,
         "type": "histogram",
         "x": {
          "bdata": "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",
          "dtype": "f8"
         },
         "xaxis": "x",
         "yaxis": "y"
        }
       ],
       "layout": {
        "annotations": [
         {
          "font": {
           "color": "black"
          },
          "showarrow": false,
          "text": "평균 가성비지수: 0.00032",
          "x": 0.00032463639767451723,
          "y": 1065,
          "yshift": 10
         }
        ],
        "barmode": "relative",
        "legend": {
         "tracegroupgap": 0
        },
        "shapes": [
         {
          "line": {
           "color": "black",
           "dash": "dash"
          },
          "type": "line",
          "x0": 0.00032463639767451723,
          "x1": 0.00032463639767451723,
          "y0": 0,
          "y1": 1065
         }
        ],
        "template": {
         "data": {
          "bar": [
           {
            "error_x": {
             "color": "#2a3f5f"
            },
            "error_y": {
             "color": "#2a3f5f"
            },
            "marker": {
             "line": {
              "color": "#E5ECF6",
              "width": 0.5
             },
             "pattern": {
              "fillmode": "overlay",
              "size": 10,
              "solidity": 0.2
             }
            },
            "type": "bar"
           }
          ],
          "barpolar": [
           {
            "marker": {
             "line": {
              "color": "#E5ECF6",
              "width": 0.5
             },
             "pattern": {
              "fillmode": "overlay",
              "size": 10,
              "solidity": 0.2
             }
            },
            "type": "barpolar"
           }
          ],
          "carpet": [
           {
            "aaxis": {
             "endlinecolor": "#2a3f5f",
             "gridcolor": "white",
             "linecolor": "white",
             "minorgridcolor": "white",
             "startlinecolor": "#2a3f5f"
            },
            "baxis": {
             "endlinecolor": "#2a3f5f",
             "gridcolor": "white",
             "linecolor": "white",
             "minorgridcolor": "white",
             "startlinecolor": "#2a3f5f"
            },
            "type": "carpet"
           }
          ],
          "choropleth": [
           {
            "colorbar": {
             "outlinewidth": 0,
             "ticks": ""
            },
            "type": "choropleth"
           }
          ],
          "contour": [
           {
            "colorbar": {
             "outlinewidth": 0,
             "ticks": ""
            },
            "colorscale": [
             [
              0,
              "#0d0887"
             ],
             [
              0.1111111111111111,
              "#46039f"
             ],
             [
              0.2222222222222222,
              "#7201a8"
             ],
             [
              0.3333333333333333,
              "#9c179e"
             ],
             [
              0.4444444444444444,
              "#bd3786"
             ],
             [
              0.5555555555555556,
              "#d8576b"
             ],
             [
              0.6666666666666666,
              "#ed7953"
             ],
             [
              0.7777777777777778,
              "#fb9f3a"
             ],
             [
              0.8888888888888888,
              "#fdca26"
             ],
             [
              1,
              "#f0f921"
             ]
            ],
            "type": "contour"
           }
          ],
          "contourcarpet": [
           {
            "colorbar": {
             "outlinewidth": 0,
             "ticks": ""
            },
            "type": "contourcarpet"
           }
          ],
          "heatmap": [
           {
            "colorbar": {
             "outlinewidth": 0,
             "ticks": ""
            },
            "colorscale": [
             [
              0,
              "#0d0887"
             ],
             [
              0.1111111111111111,
              "#46039f"
             ],
             [
              0.2222222222222222,
              "#7201a8"
             ],
             [
              0.3333333333333333,
              "#9c179e"
             ],
             [
              0.4444444444444444,
              "#bd3786"
             ],
             [
              0.5555555555555556,
              "#d8576b"
             ],
             [
              0.6666666666666666,
              "#ed7953"
             ],
             [
              0.7777777777777778,
              "#fb9f3a"
             ],
             [
              0.8888888888888888,
              "#fdca26"
             ],
             [
              1,
              "#f0f921"
             ]
            ],
            "type": "heatmap"
           }
          ],
          "histogram": [
           {
            "marker": {
             "pattern": {
              "fillmode": "overlay",
              "size": 10,
              "solidity": 0.2
             }
            },
            "type": "histogram"
           }
          ],
          "histogram2d": [
           {
            "colorbar": {
             "outlinewidth": 0,
             "ticks": ""
            },
            "colorscale": [
             [
              0,
              "#0d0887"
             ],
             [
              0.1111111111111111,
              "#46039f"
             ],
             [
              0.2222222222222222,
              "#7201a8"
             ],
             [
              0.3333333333333333,
              "#9c179e"
             ],
             [
              0.4444444444444444,
              "#bd3786"
             ],
             [
              0.5555555555555556,
              "#d8576b"
             ],
             [
              0.6666666666666666,
              "#ed7953"
             ],
             [
              0.7777777777777778,
              "#fb9f3a"
             ],
             [
              0.8888888888888888,
              "#fdca26"
             ],
             [
              1,
              "#f0f921"
             ]
            ],
            "type": "histogram2d"
           }
          ],
          "histogram2dcontour": [
           {
            "colorbar": {
             "outlinewidth": 0,
             "ticks": ""
            },
            "colorscale": [
             [
              0,
              "#0d0887"
             ],
             [
              0.1111111111111111,
              "#46039f"
             ],
             [
              0.2222222222222222,
              "#7201a8"
             ],
             [
              0.3333333333333333,
              "#9c179e"
             ],
             [
              0.4444444444444444,
              "#bd3786"
             ],
             [
              0.5555555555555556,
              "#d8576b"
             ],
             [
              0.6666666666666666,
              "#ed7953"
             ],
             [
              0.7777777777777778,
              "#fb9f3a"
             ],
             [
              0.8888888888888888,
              "#fdca26"
             ],
             [
              1,
              "#f0f921"
             ]
            ],
            "type": "histogram2dcontour"
           }
          ],
          "mesh3d": [
           {
            "colorbar": {
             "outlinewidth": 0,
             "ticks": ""
            },
            "type": "mesh3d"
           }
          ],
          "parcoords": [
           {
            "line": {
             "colorbar": {
              "outlinewidth": 0,
              "ticks": ""
             }
            },
            "type": "parcoords"
           }
          ],
          "pie": [
           {
            "automargin": true,
            "type": "pie"
           }
          ],
          "scatter": [
           {
            "fillpattern": {
             "fillmode": "overlay",
             "size": 10,
             "solidity": 0.2
            },
            "type": "scatter"
           }
          ],
          "scatter3d": [
           {
            "line": {
             "colorbar": {
              "outlinewidth": 0,
              "ticks": ""
             }
            },
            "marker": {
             "colorbar": {
              "outlinewidth": 0,
              "ticks": ""
             }
            },
            "type": "scatter3d"
           }
          ],
          "scattercarpet": [
           {
            "marker": {
             "colorbar": {
              "outlinewidth": 0,
              "ticks": ""
             }
            },
            "type": "scattercarpet"
           }
          ],
          "scattergeo": [
           {
            "marker": {
             "colorbar": {
              "outlinewidth": 0,
              "ticks": ""
             }
            },
            "type": "scattergeo"
           }
          ],
          "scattergl": [
           {
            "marker": {
             "colorbar": {
              "outlinewidth": 0,
              "ticks": ""
             }
            },
            "type": "scattergl"
           }
          ],
          "scattermap": [
           {
            "marker": {
             "colorbar": {
              "outlinewidth": 0,
              "ticks": ""
             }
            },
            "type": "scattermap"
           }
          ],
          "scattermapbox": [
           {
            "marker": {
             "colorbar": {
              "outlinewidth": 0,
              "ticks": ""
             }
            },
            "type": "scattermapbox"
           }
          ],
          "scatterpolar": [
           {
            "marker": {
             "colorbar": {
              "outlinewidth": 0,
              "ticks": ""
             }
            },
            "type": "scatterpolar"
           }
          ],
          "scatterpolargl": [
           {
            "marker": {
             "colorbar": {
              "outlinewidth": 0,
              "ticks": ""
             }
            },
            "type": "scatterpolargl"
           }
          ],
          "scatterternary": [
           {
            "marker": {
             "colorbar": {
              "outlinewidth": 0,
              "ticks": ""
             }
            },
            "type": "scatterternary"
           }
          ],
          "surface": [
           {
            "colorbar": {
             "outlinewidth": 0,
             "ticks": ""
            },
            "colorscale": [
             [
              0,
              "#0d0887"
             ],
             [
              0.1111111111111111,
              "#46039f"
             ],
             [
              0.2222222222222222,
              "#7201a8"
             ],
             [
              0.3333333333333333,
              "#9c179e"
             ],
             [
              0.4444444444444444,
              "#bd3786"
             ],
             [
              0.5555555555555556,
              "#d8576b"
             ],
             [
              0.6666666666666666,
              "#ed7953"
             ],
             [
              0.7777777777777778,
              "#fb9f3a"
             ],
             [
              0.8888888888888888,
              "#fdca26"
             ],
             [
              1,
              "#f0f921"
             ]
            ],
            "type": "surface"
           }
          ],
          "table": [
           {
            "cells": {
             "fill": {
              "color": "#EBF0F8"
             },
             "line": {
              "color": "white"
             }
            },
            "header": {
             "fill": {
              "color": "#C8D4E3"
             },
             "line": {
              "color": "white"
             }
            },
            "type": "table"
           }
          ]
         },
         "layout": {
          "annotationdefaults": {
           "arrowcolor": "#2a3f5f",
           "arrowhead": 0,
           "arrowwidth": 1
          },
          "autotypenumbers": "strict",
          "coloraxis": {
           "colorbar": {
            "outlinewidth": 0,
            "ticks": ""
           }
          },
          "colorscale": {
           "diverging": [
            [
             0,
             "#8e0152"
            ],
            [
             0.1,
             "#c51b7d"
            ],
            [
             0.2,
             "#de77ae"
            ],
            [
             0.3,
             "#f1b6da"
            ],
            [
             0.4,
             "#fde0ef"
            ],
            [
             0.5,
             "#f7f7f7"
            ],
            [
             0.6,
             "#e6f5d0"
            ],
            [
             0.7,
             "#b8e186"
            ],
            [
             0.8,
             "#7fbc41"
            ],
            [
             0.9,
             "#4d9221"
            ],
            [
             1,
             "#276419"
            ]
           ],
           "sequential": [
            [
             0,
             "#0d0887"
            ],
            [
             0.1111111111111111,
             "#46039f"
            ],
            [
             0.2222222222222222,
             "#7201a8"
            ],
            [
             0.3333333333333333,
             "#9c179e"
            ],
            [
             0.4444444444444444,
             "#bd3786"
            ],
            [
             0.5555555555555556,
             "#d8576b"
            ],
            [
             0.6666666666666666,
             "#ed7953"
            ],
            [
             0.7777777777777778,
             "#fb9f3a"
            ],
            [
             0.8888888888888888,
             "#fdca26"
            ],
            [
             1,
             "#f0f921"
            ]
           ],
           "sequentialminus": [
            [
             0,
             "#0d0887"
            ],
            [
             0.1111111111111111,
             "#46039f"
            ],
            [
             0.2222222222222222,
             "#7201a8"
            ],
            [
             0.3333333333333333,
             "#9c179e"
            ],
            [
             0.4444444444444444,
             "#bd3786"
            ],
            [
             0.5555555555555556,
             "#d8576b"
            ],
            [
             0.6666666666666666,
             "#ed7953"
            ],
            [
             0.7777777777777778,
             "#fb9f3a"
            ],
            [
             0.8888888888888888,
             "#fdca26"
            ],
            [
             1,
             "#f0f921"
            ]
           ]
          },
          "colorway": [
           "#636efa",
           "#EF553B",
           "#00cc96",
           "#ab63fa",
           "#FFA15A",
           "#19d3f3",
           "#FF6692",
           "#B6E880",
           "#FF97FF",
           "#FECB52"
          ],
          "font": {
           "color": "#2a3f5f"
          },
          "geo": {
           "bgcolor": "white",
           "lakecolor": "white",
           "landcolor": "#E5ECF6",
           "showlakes": true,
           "showland": true,
           "subunitcolor": "white"
          },
          "hoverlabel": {
           "align": "left"
          },
          "hovermode": "closest",
          "mapbox": {
           "style": "light"
          },
          "paper_bgcolor": "white",
          "plot_bgcolor": "#E5ECF6",
          "polar": {
           "angularaxis": {
            "gridcolor": "white",
            "linecolor": "white",
            "ticks": ""
           },
           "bgcolor": "#E5ECF6",
           "radialaxis": {
            "gridcolor": "white",
            "linecolor": "white",
            "ticks": ""
           }
          },
          "scene": {
           "xaxis": {
            "backgroundcolor": "#E5ECF6",
            "gridcolor": "white",
            "gridwidth": 2,
            "linecolor": "white",
            "showbackground": true,
            "ticks": "",
            "zerolinecolor": "white"
           },
           "yaxis": {
            "backgroundcolor": "#E5ECF6",
            "gridcolor": "white",
            "gridwidth": 2,
            "linecolor": "white",
            "showbackground": true,
            "ticks": "",
            "zerolinecolor": "white"
           },
           "zaxis": {
            "backgroundcolor": "#E5ECF6",
            "gridcolor": "white",
            "gridwidth": 2,
            "linecolor": "white",
            "showbackground": true,
            "ticks": "",
            "zerolinecolor": "white"
           }
          },
          "shapedefaults": {
           "line": {
            "color": "#2a3f5f"
           }
          },
          "ternary": {
           "aaxis": {
            "gridcolor": "white",
            "linecolor": "white",
            "ticks": ""
           },
           "baxis": {
            "gridcolor": "white",
            "linecolor": "white",
            "ticks": ""
           },
           "bgcolor": "#E5ECF6",
           "caxis": {
            "gridcolor": "white",
            "linecolor": "white",
            "ticks": ""
           }
          },
          "title": {
           "x": 0.05
          },
          "xaxis": {
           "automargin": true,
           "gridcolor": "white",
           "linecolor": "white",
           "ticks": "",
           "title": {
            "standoff": 15
           },
           "zerolinecolor": "white",
           "zerolinewidth": 2
          },
          "yaxis": {
           "automargin": true,
           "gridcolor": "white",
           "linecolor": "white",
           "ticks": "",
           "title": {
            "standoff": 15
           },
           "zerolinecolor": "white",
           "zerolinewidth": 2
          }
         }
        },
        "title": {
         "text": "가성비지수별 맛집 분포"
        },
        "xaxis": {
         "anchor": "y",
         "domain": [
          0,
          1
         ],
         "title": {
          "text": "가성비지수 (평점 / 평균 가격)"
         }
        },
        "yaxis": {
         "anchor": "x",
         "domain": [
          0,
          1
         ],
         "title": {
          "text": "맛집 수"
         }
        }
       }
      }
     },
     "metadata": {},
     "output_type": "display_data"
    }
   ],
   "source": [
    "import plotly.express as px\n",
    "\n",
    "# 평균 가성비지수 계산\n",
    "avg_performance_value = restaurant['performance'].mean()\n",
    "print(\"전체 맛집의 평균 가성비지수:\", avg_performance_value)\n",
    "\n",
    "# 히스토그램 생성\n",
    "fig = px.histogram(\n",
    "    restaurant,\n",
    "    x='performance',\n",
    "    title='가성비지수별 맛집 분포',\n",
    "    color_discrete_sequence=['green']\n",
    ")\n",
    "\n",
    "# 레이아웃 설정\n",
    "fig.update_layout(\n",
    "    xaxis_title='가성비지수 (평점 / 평균 가격)',\n",
    "    yaxis_title='맛집 수'\n",
    ")\n",
    "\n",
    "# y축 최대값 추정 (적절한 길이의 선)\n",
    "y_max = restaurant['performance'].value_counts(bins=50).max()\n",
    "\n",
    "# 평균선 추가\n",
    "fig.add_shape(\n",
    "    type='line',\n",
    "    x0=avg_performance_value,\n",
    "    x1=avg_performance_value,\n",
    "    y0=0,\n",
    "    y1=y_max,\n",
    "    line=dict(color='black', dash='dash')\n",
    ")\n",
    "\n",
    "# 평균선 텍스트 라벨\n",
    "fig.add_annotation(\n",
    "    x=avg_performance_value,\n",
    "    y=y_max,\n",
    "    text=f\"평균 가성비지수: {avg_performance_value:.5f}\",\n",
    "    showarrow=False,\n",
    "    yshift=10,\n",
    "    font=dict(color='black')\n",
    ")\n",
    "\n",
    "fig.show()\n"
   ]
  },
  {
   "cell_type": "code",
   "execution_count": 52,
   "metadata": {},
   "outputs": [
    {
     "data": {
      "application/vnd.plotly.v1+json": {
       "config": {
        "plotlyServerURL": "https://plot.ly"
       },
       "data": [
        {
         "hovertemplate": "지하철역=%{x}<br>평균 가성비지수=%{y}<extra></extra>",
         "legendgroup": "",
         "marker": {
          "color": "green",
          "pattern": {
           "shape": ""
          }
         },
         "name": "",
         "orientation": "v",
         "showlegend": false,
         "textposition": "auto",
         "type": "bar",
         "x": [
          "노들역",
          "가산디지털단지역",
          "방배역",
          "외대앞역",
          "뚝섬유원지역",
          "고덕역",
          "방화역",
          "응봉역",
          "암사역",
          "용마산역",
          "성신여대입구역",
          "뚝섬역",
          "동대입구역",
          "혜화역",
          "당산역",
          "암사역사공원역",
          "미아사거리역",
          "이태원역",
          "쌍문역",
          "아차산(어린이대공원후문)역",
          "홍대입구역",
          "왕십리역",
          "제기동역",
          "청계산입구역",
          "천호(풍납토성)역",
          "종각역",
          "대공원역",
          "응암역",
          "동대문역",
          "서울대입구역",
          "건대입구역",
          "신촌역",
          "합정역",
          "증미역",
          "경복궁역",
          "서울숲역",
          "신림역",
          "삼각지역",
          "장지역",
          "회현역",
          "이촌역",
          "구일역",
          "서울역",
          "대림역",
          "신길역",
          "총신대입구(이수)역",
          "종로3가역",
          "디지털미디어시티역",
          "대방역",
          "군자(능동)역",
          "수유역",
          "남구로역",
          "창동역",
          "노량진역",
          "장한평역",
          "안국역",
          "김포공항역",
          "종합운동장역",
          "고속터미널역",
          "충정로역",
          "녹사평역",
          "잠실역",
          "마곡나루역",
          "가락시장역",
          "오목교(목동운동장앞)역",
          "동대문역사문화공원역",
          "종로5가역",
          "삼성역",
          "잠실나루역",
          "강남역",
          "신사역",
          "용산역",
          "신도림역",
          "구로디지털단지역",
          "구로역",
          "여의나루역",
          "선릉역",
          "신반포역",
          "사당역",
          "압구정로데오역",
          "역삼역",
          "시청역",
          "교대역"
         ],
         "xaxis": "x",
         "y": {
          "bdata": "YrOerKdCQj+3xJ/RVfJAPzRturQMBD4/pqYR/eKkPT9rDrguP0M8Pw0gLlxLJTw/3QPYT3rmOz9gmYr1rU87P4nxcKVT4Do/imanUsppOT+/ngzH10U5P6B22KXIFTk/MPt2UUwFOT8ErhmUQq84P4km6mTHqTg//45ptOGKOD/+elnIxGI4P2fpPwxHWDg/qvFzKJhGOD+fUTLpQwo4P6ukR0ALADg/R/B9ylu/Nz+ZsQdaw7U3P+ul4Lb0rDc/54t0DhR2Nz8wesQ5wmw3Pyz7vIqQMTc/mEYN/R8ONz8WGoTN9O02P7nl3EMRqDY/CtaW1yY2Nj/dKRBPaSg2PyOvc/jNJjY/mq/7TeMkNj8J0KgQxSE2P63AubYw7DU/PyaXJ6C+NT99JTiHgqM1P0TmihkfTjU/aw9ND30+NT+KZssgECw1P2RjpIcj6TQ/mfDS1kLBND+CZmRp/Fw0P439g4wJKDQ/zvzwZBb0Mz+EwU4cLe8zPzRa0pwj7DM/heAqAxjlMz9Ogbu+vMMzP3N+G/36mjM//1pEu+VqMz/6FkWzqWozPz5UYmu5TjM/NB8IRxYqMz+ZdYJEvx8zPxOB23hUFDM/3buS7IaoMj9ExfSiqywyPzOfazQy5TE/MlotCs/bMT9jDqc5TpAxPxKUwfy7ijE/4a44N+1NMT+l4jYID0sxP5v5WymdPzE/P5Ug0ZoNMT+itZ+IVQUxPxdYPW42aDA/mb3QiGlFMD+PfcyF0DwwP0rz932xFjA/sCzSagIEMD/wTwyh2NwvP0ByoKQ9Gy8/fc90wfT/Lj+CvWWgQGAuP58/5N4FyC0/gCYns+tFLT/0nKXe8TgsP4TlmGlS3ys/dK1AK3DNKj9Q40343oYpPw==",
          "dtype": "f8"
         },
         "yaxis": "y"
        }
       ],
       "layout": {
        "barmode": "relative",
        "legend": {
         "tracegroupgap": 0
        },
        "template": {
         "data": {
          "bar": [
           {
            "error_x": {
             "color": "#2a3f5f"
            },
            "error_y": {
             "color": "#2a3f5f"
            },
            "marker": {
             "line": {
              "color": "#E5ECF6",
              "width": 0.5
             },
             "pattern": {
              "fillmode": "overlay",
              "size": 10,
              "solidity": 0.2
             }
            },
            "type": "bar"
           }
          ],
          "barpolar": [
           {
            "marker": {
             "line": {
              "color": "#E5ECF6",
              "width": 0.5
             },
             "pattern": {
              "fillmode": "overlay",
              "size": 10,
              "solidity": 0.2
             }
            },
            "type": "barpolar"
           }
          ],
          "carpet": [
           {
            "aaxis": {
             "endlinecolor": "#2a3f5f",
             "gridcolor": "white",
             "linecolor": "white",
             "minorgridcolor": "white",
             "startlinecolor": "#2a3f5f"
            },
            "baxis": {
             "endlinecolor": "#2a3f5f",
             "gridcolor": "white",
             "linecolor": "white",
             "minorgridcolor": "white",
             "startlinecolor": "#2a3f5f"
            },
            "type": "carpet"
           }
          ],
          "choropleth": [
           {
            "colorbar": {
             "outlinewidth": 0,
             "ticks": ""
            },
            "type": "choropleth"
           }
          ],
          "contour": [
           {
            "colorbar": {
             "outlinewidth": 0,
             "ticks": ""
            },
            "colorscale": [
             [
              0,
              "#0d0887"
             ],
             [
              0.1111111111111111,
              "#46039f"
             ],
             [
              0.2222222222222222,
              "#7201a8"
             ],
             [
              0.3333333333333333,
              "#9c179e"
             ],
             [
              0.4444444444444444,
              "#bd3786"
             ],
             [
              0.5555555555555556,
              "#d8576b"
             ],
             [
              0.6666666666666666,
              "#ed7953"
             ],
             [
              0.7777777777777778,
              "#fb9f3a"
             ],
             [
              0.8888888888888888,
              "#fdca26"
             ],
             [
              1,
              "#f0f921"
             ]
            ],
            "type": "contour"
           }
          ],
          "contourcarpet": [
           {
            "colorbar": {
             "outlinewidth": 0,
             "ticks": ""
            },
            "type": "contourcarpet"
           }
          ],
          "heatmap": [
           {
            "colorbar": {
             "outlinewidth": 0,
             "ticks": ""
            },
            "colorscale": [
             [
              0,
              "#0d0887"
             ],
             [
              0.1111111111111111,
              "#46039f"
             ],
             [
              0.2222222222222222,
              "#7201a8"
             ],
             [
              0.3333333333333333,
              "#9c179e"
             ],
             [
              0.4444444444444444,
              "#bd3786"
             ],
             [
              0.5555555555555556,
              "#d8576b"
             ],
             [
              0.6666666666666666,
              "#ed7953"
             ],
             [
              0.7777777777777778,
              "#fb9f3a"
             ],
             [
              0.8888888888888888,
              "#fdca26"
             ],
             [
              1,
              "#f0f921"
             ]
            ],
            "type": "heatmap"
           }
          ],
          "histogram": [
           {
            "marker": {
             "pattern": {
              "fillmode": "overlay",
              "size": 10,
              "solidity": 0.2
             }
            },
            "type": "histogram"
           }
          ],
          "histogram2d": [
           {
            "colorbar": {
             "outlinewidth": 0,
             "ticks": ""
            },
            "colorscale": [
             [
              0,
              "#0d0887"
             ],
             [
              0.1111111111111111,
              "#46039f"
             ],
             [
              0.2222222222222222,
              "#7201a8"
             ],
             [
              0.3333333333333333,
              "#9c179e"
             ],
             [
              0.4444444444444444,
              "#bd3786"
             ],
             [
              0.5555555555555556,
              "#d8576b"
             ],
             [
              0.6666666666666666,
              "#ed7953"
             ],
             [
              0.7777777777777778,
              "#fb9f3a"
             ],
             [
              0.8888888888888888,
              "#fdca26"
             ],
             [
              1,
              "#f0f921"
             ]
            ],
            "type": "histogram2d"
           }
          ],
          "histogram2dcontour": [
           {
            "colorbar": {
             "outlinewidth": 0,
             "ticks": ""
            },
            "colorscale": [
             [
              0,
              "#0d0887"
             ],
             [
              0.1111111111111111,
              "#46039f"
             ],
             [
              0.2222222222222222,
              "#7201a8"
             ],
             [
              0.3333333333333333,
              "#9c179e"
             ],
             [
              0.4444444444444444,
              "#bd3786"
             ],
             [
              0.5555555555555556,
              "#d8576b"
             ],
             [
              0.6666666666666666,
              "#ed7953"
             ],
             [
              0.7777777777777778,
              "#fb9f3a"
             ],
             [
              0.8888888888888888,
              "#fdca26"
             ],
             [
              1,
              "#f0f921"
             ]
            ],
            "type": "histogram2dcontour"
           }
          ],
          "mesh3d": [
           {
            "colorbar": {
             "outlinewidth": 0,
             "ticks": ""
            },
            "type": "mesh3d"
           }
          ],
          "parcoords": [
           {
            "line": {
             "colorbar": {
              "outlinewidth": 0,
              "ticks": ""
             }
            },
            "type": "parcoords"
           }
          ],
          "pie": [
           {
            "automargin": true,
            "type": "pie"
           }
          ],
          "scatter": [
           {
            "fillpattern": {
             "fillmode": "overlay",
             "size": 10,
             "solidity": 0.2
            },
            "type": "scatter"
           }
          ],
          "scatter3d": [
           {
            "line": {
             "colorbar": {
              "outlinewidth": 0,
              "ticks": ""
             }
            },
            "marker": {
             "colorbar": {
              "outlinewidth": 0,
              "ticks": ""
             }
            },
            "type": "scatter3d"
           }
          ],
          "scattercarpet": [
           {
            "marker": {
             "colorbar": {
              "outlinewidth": 0,
              "ticks": ""
             }
            },
            "type": "scattercarpet"
           }
          ],
          "scattergeo": [
           {
            "marker": {
             "colorbar": {
              "outlinewidth": 0,
              "ticks": ""
             }
            },
            "type": "scattergeo"
           }
          ],
          "scattergl": [
           {
            "marker": {
             "colorbar": {
              "outlinewidth": 0,
              "ticks": ""
             }
            },
            "type": "scattergl"
           }
          ],
          "scattermap": [
           {
            "marker": {
             "colorbar": {
              "outlinewidth": 0,
              "ticks": ""
             }
            },
            "type": "scattermap"
           }
          ],
          "scattermapbox": [
           {
            "marker": {
             "colorbar": {
              "outlinewidth": 0,
              "ticks": ""
             }
            },
            "type": "scattermapbox"
           }
          ],
          "scatterpolar": [
           {
            "marker": {
             "colorbar": {
              "outlinewidth": 0,
              "ticks": ""
             }
            },
            "type": "scatterpolar"
           }
          ],
          "scatterpolargl": [
           {
            "marker": {
             "colorbar": {
              "outlinewidth": 0,
              "ticks": ""
             }
            },
            "type": "scatterpolargl"
           }
          ],
          "scatterternary": [
           {
            "marker": {
             "colorbar": {
              "outlinewidth": 0,
              "ticks": ""
             }
            },
            "type": "scatterternary"
           }
          ],
          "surface": [
           {
            "colorbar": {
             "outlinewidth": 0,
             "ticks": ""
            },
            "colorscale": [
             [
              0,
              "#0d0887"
             ],
             [
              0.1111111111111111,
              "#46039f"
             ],
             [
              0.2222222222222222,
              "#7201a8"
             ],
             [
              0.3333333333333333,
              "#9c179e"
             ],
             [
              0.4444444444444444,
              "#bd3786"
             ],
             [
              0.5555555555555556,
              "#d8576b"
             ],
             [
              0.6666666666666666,
              "#ed7953"
             ],
             [
              0.7777777777777778,
              "#fb9f3a"
             ],
             [
              0.8888888888888888,
              "#fdca26"
             ],
             [
              1,
              "#f0f921"
             ]
            ],
            "type": "surface"
           }
          ],
          "table": [
           {
            "cells": {
             "fill": {
              "color": "#EBF0F8"
             },
             "line": {
              "color": "white"
             }
            },
            "header": {
             "fill": {
              "color": "#C8D4E3"
             },
             "line": {
              "color": "white"
             }
            },
            "type": "table"
           }
          ]
         },
         "layout": {
          "annotationdefaults": {
           "arrowcolor": "#2a3f5f",
           "arrowhead": 0,
           "arrowwidth": 1
          },
          "autotypenumbers": "strict",
          "coloraxis": {
           "colorbar": {
            "outlinewidth": 0,
            "ticks": ""
           }
          },
          "colorscale": {
           "diverging": [
            [
             0,
             "#8e0152"
            ],
            [
             0.1,
             "#c51b7d"
            ],
            [
             0.2,
             "#de77ae"
            ],
            [
             0.3,
             "#f1b6da"
            ],
            [
             0.4,
             "#fde0ef"
            ],
            [
             0.5,
             "#f7f7f7"
            ],
            [
             0.6,
             "#e6f5d0"
            ],
            [
             0.7,
             "#b8e186"
            ],
            [
             0.8,
             "#7fbc41"
            ],
            [
             0.9,
             "#4d9221"
            ],
            [
             1,
             "#276419"
            ]
           ],
           "sequential": [
            [
             0,
             "#0d0887"
            ],
            [
             0.1111111111111111,
             "#46039f"
            ],
            [
             0.2222222222222222,
             "#7201a8"
            ],
            [
             0.3333333333333333,
             "#9c179e"
            ],
            [
             0.4444444444444444,
             "#bd3786"
            ],
            [
             0.5555555555555556,
             "#d8576b"
            ],
            [
             0.6666666666666666,
             "#ed7953"
            ],
            [
             0.7777777777777778,
             "#fb9f3a"
            ],
            [
             0.8888888888888888,
             "#fdca26"
            ],
            [
             1,
             "#f0f921"
            ]
           ],
           "sequentialminus": [
            [
             0,
             "#0d0887"
            ],
            [
             0.1111111111111111,
             "#46039f"
            ],
            [
             0.2222222222222222,
             "#7201a8"
            ],
            [
             0.3333333333333333,
             "#9c179e"
            ],
            [
             0.4444444444444444,
             "#bd3786"
            ],
            [
             0.5555555555555556,
             "#d8576b"
            ],
            [
             0.6666666666666666,
             "#ed7953"
            ],
            [
             0.7777777777777778,
             "#fb9f3a"
            ],
            [
             0.8888888888888888,
             "#fdca26"
            ],
            [
             1,
             "#f0f921"
            ]
           ]
          },
          "colorway": [
           "#636efa",
           "#EF553B",
           "#00cc96",
           "#ab63fa",
           "#FFA15A",
           "#19d3f3",
           "#FF6692",
           "#B6E880",
           "#FF97FF",
           "#FECB52"
          ],
          "font": {
           "color": "#2a3f5f"
          },
          "geo": {
           "bgcolor": "white",
           "lakecolor": "white",
           "landcolor": "#E5ECF6",
           "showlakes": true,
           "showland": true,
           "subunitcolor": "white"
          },
          "hoverlabel": {
           "align": "left"
          },
          "hovermode": "closest",
          "mapbox": {
           "style": "light"
          },
          "paper_bgcolor": "white",
          "plot_bgcolor": "#E5ECF6",
          "polar": {
           "angularaxis": {
            "gridcolor": "white",
            "linecolor": "white",
            "ticks": ""
           },
           "bgcolor": "#E5ECF6",
           "radialaxis": {
            "gridcolor": "white",
            "linecolor": "white",
            "ticks": ""
           }
          },
          "scene": {
           "xaxis": {
            "backgroundcolor": "#E5ECF6",
            "gridcolor": "white",
            "gridwidth": 2,
            "linecolor": "white",
            "showbackground": true,
            "ticks": "",
            "zerolinecolor": "white"
           },
           "yaxis": {
            "backgroundcolor": "#E5ECF6",
            "gridcolor": "white",
            "gridwidth": 2,
            "linecolor": "white",
            "showbackground": true,
            "ticks": "",
            "zerolinecolor": "white"
           },
           "zaxis": {
            "backgroundcolor": "#E5ECF6",
            "gridcolor": "white",
            "gridwidth": 2,
            "linecolor": "white",
            "showbackground": true,
            "ticks": "",
            "zerolinecolor": "white"
           }
          },
          "shapedefaults": {
           "line": {
            "color": "#2a3f5f"
           }
          },
          "ternary": {
           "aaxis": {
            "gridcolor": "white",
            "linecolor": "white",
            "ticks": ""
           },
           "baxis": {
            "gridcolor": "white",
            "linecolor": "white",
            "ticks": ""
           },
           "bgcolor": "#E5ECF6",
           "caxis": {
            "gridcolor": "white",
            "linecolor": "white",
            "ticks": ""
           }
          },
          "title": {
           "x": 0.05
          },
          "xaxis": {
           "automargin": true,
           "gridcolor": "white",
           "linecolor": "white",
           "ticks": "",
           "title": {
            "standoff": 15
           },
           "zerolinecolor": "white",
           "zerolinewidth": 2
          },
          "yaxis": {
           "automargin": true,
           "gridcolor": "white",
           "linecolor": "white",
           "ticks": "",
           "title": {
            "standoff": 15
           },
           "zerolinecolor": "white",
           "zerolinewidth": 2
          }
         }
        },
        "title": {
         "text": "지하철역별 맛집 가성비지수 평균"
        },
        "xaxis": {
         "anchor": "y",
         "domain": [
          0,
          1
         ],
         "title": {
          "text": "지하철역"
         }
        },
        "yaxis": {
         "anchor": "x",
         "domain": [
          0,
          1
         ],
         "title": {
          "text": "평균 가성비지수"
         }
        }
       }
      }
     },
     "metadata": {},
     "output_type": "display_data"
    }
   ],
   "source": [
    "# 역별 평균 value 계산\n",
    "station_performance_avg = restaurant.groupby('station', as_index=False)['performance'].mean()\n",
    "station_performance_avg = station_performance_avg.sort_values(by='performance', ascending=False)\n",
    "# 막대그래프 시각화\n",
    "fig = px.bar(\n",
    "    station_performance_avg,\n",
    "    x='station',\n",
    "    y='performance',\n",
    "    title='지하철역별 맛집 가성비지수 평균',\n",
    "    labels={'station': '지하철역', 'performance': '평균 가성비지수'},\n",
    "    color_discrete_sequence=['green']\n",
    ")\n",
    "\n",
    "fig.show()"
   ]
  },
  {
   "cell_type": "code",
   "execution_count": 53,
   "metadata": {},
   "outputs": [
    {
     "data": {
      "application/vnd.plotly.v1+json": {
       "config": {
        "plotlyServerURL": "https://plot.ly"
       },
       "data": [
        {
         "hovertemplate": "station=%{x}<br>performance=%{y}<extra></extra>",
         "legendgroup": "",
         "marker": {
          "color": "red",
          "pattern": {
           "shape": ""
          }
         },
         "name": "",
         "orientation": "v",
         "showlegend": false,
         "textposition": "auto",
         "type": "bar",
         "x": [
          "노들역",
          "가산디지털단지역",
          "방배역",
          "외대앞역",
          "뚝섬유원지역",
          "고덕역",
          "방화역",
          "응봉역",
          "암사역",
          "용마산역"
         ],
         "xaxis": "x",
         "y": {
          "bdata": "YrOerKdCQj+3xJ/RVfJAPzRturQMBD4/pqYR/eKkPT9rDrguP0M8Pw0gLlxLJTw/3QPYT3rmOz9gmYr1rU87P4nxcKVT4Do/imanUsppOT8=",
          "dtype": "f8"
         },
         "yaxis": "y"
        }
       ],
       "layout": {
        "bargap": 0.3,
        "barmode": "relative",
        "height": 500,
        "legend": {
         "tracegroupgap": 0
        },
        "template": {
         "data": {
          "bar": [
           {
            "error_x": {
             "color": "#2a3f5f"
            },
            "error_y": {
             "color": "#2a3f5f"
            },
            "marker": {
             "line": {
              "color": "#E5ECF6",
              "width": 0.5
             },
             "pattern": {
              "fillmode": "overlay",
              "size": 10,
              "solidity": 0.2
             }
            },
            "type": "bar"
           }
          ],
          "barpolar": [
           {
            "marker": {
             "line": {
              "color": "#E5ECF6",
              "width": 0.5
             },
             "pattern": {
              "fillmode": "overlay",
              "size": 10,
              "solidity": 0.2
             }
            },
            "type": "barpolar"
           }
          ],
          "carpet": [
           {
            "aaxis": {
             "endlinecolor": "#2a3f5f",
             "gridcolor": "white",
             "linecolor": "white",
             "minorgridcolor": "white",
             "startlinecolor": "#2a3f5f"
            },
            "baxis": {
             "endlinecolor": "#2a3f5f",
             "gridcolor": "white",
             "linecolor": "white",
             "minorgridcolor": "white",
             "startlinecolor": "#2a3f5f"
            },
            "type": "carpet"
           }
          ],
          "choropleth": [
           {
            "colorbar": {
             "outlinewidth": 0,
             "ticks": ""
            },
            "type": "choropleth"
           }
          ],
          "contour": [
           {
            "colorbar": {
             "outlinewidth": 0,
             "ticks": ""
            },
            "colorscale": [
             [
              0,
              "#0d0887"
             ],
             [
              0.1111111111111111,
              "#46039f"
             ],
             [
              0.2222222222222222,
              "#7201a8"
             ],
             [
              0.3333333333333333,
              "#9c179e"
             ],
             [
              0.4444444444444444,
              "#bd3786"
             ],
             [
              0.5555555555555556,
              "#d8576b"
             ],
             [
              0.6666666666666666,
              "#ed7953"
             ],
             [
              0.7777777777777778,
              "#fb9f3a"
             ],
             [
              0.8888888888888888,
              "#fdca26"
             ],
             [
              1,
              "#f0f921"
             ]
            ],
            "type": "contour"
           }
          ],
          "contourcarpet": [
           {
            "colorbar": {
             "outlinewidth": 0,
             "ticks": ""
            },
            "type": "contourcarpet"
           }
          ],
          "heatmap": [
           {
            "colorbar": {
             "outlinewidth": 0,
             "ticks": ""
            },
            "colorscale": [
             [
              0,
              "#0d0887"
             ],
             [
              0.1111111111111111,
              "#46039f"
             ],
             [
              0.2222222222222222,
              "#7201a8"
             ],
             [
              0.3333333333333333,
              "#9c179e"
             ],
             [
              0.4444444444444444,
              "#bd3786"
             ],
             [
              0.5555555555555556,
              "#d8576b"
             ],
             [
              0.6666666666666666,
              "#ed7953"
             ],
             [
              0.7777777777777778,
              "#fb9f3a"
             ],
             [
              0.8888888888888888,
              "#fdca26"
             ],
             [
              1,
              "#f0f921"
             ]
            ],
            "type": "heatmap"
           }
          ],
          "histogram": [
           {
            "marker": {
             "pattern": {
              "fillmode": "overlay",
              "size": 10,
              "solidity": 0.2
             }
            },
            "type": "histogram"
           }
          ],
          "histogram2d": [
           {
            "colorbar": {
             "outlinewidth": 0,
             "ticks": ""
            },
            "colorscale": [
             [
              0,
              "#0d0887"
             ],
             [
              0.1111111111111111,
              "#46039f"
             ],
             [
              0.2222222222222222,
              "#7201a8"
             ],
             [
              0.3333333333333333,
              "#9c179e"
             ],
             [
              0.4444444444444444,
              "#bd3786"
             ],
             [
              0.5555555555555556,
              "#d8576b"
             ],
             [
              0.6666666666666666,
              "#ed7953"
             ],
             [
              0.7777777777777778,
              "#fb9f3a"
             ],
             [
              0.8888888888888888,
              "#fdca26"
             ],
             [
              1,
              "#f0f921"
             ]
            ],
            "type": "histogram2d"
           }
          ],
          "histogram2dcontour": [
           {
            "colorbar": {
             "outlinewidth": 0,
             "ticks": ""
            },
            "colorscale": [
             [
              0,
              "#0d0887"
             ],
             [
              0.1111111111111111,
              "#46039f"
             ],
             [
              0.2222222222222222,
              "#7201a8"
             ],
             [
              0.3333333333333333,
              "#9c179e"
             ],
             [
              0.4444444444444444,
              "#bd3786"
             ],
             [
              0.5555555555555556,
              "#d8576b"
             ],
             [
              0.6666666666666666,
              "#ed7953"
             ],
             [
              0.7777777777777778,
              "#fb9f3a"
             ],
             [
              0.8888888888888888,
              "#fdca26"
             ],
             [
              1,
              "#f0f921"
             ]
            ],
            "type": "histogram2dcontour"
           }
          ],
          "mesh3d": [
           {
            "colorbar": {
             "outlinewidth": 0,
             "ticks": ""
            },
            "type": "mesh3d"
           }
          ],
          "parcoords": [
           {
            "line": {
             "colorbar": {
              "outlinewidth": 0,
              "ticks": ""
             }
            },
            "type": "parcoords"
           }
          ],
          "pie": [
           {
            "automargin": true,
            "type": "pie"
           }
          ],
          "scatter": [
           {
            "fillpattern": {
             "fillmode": "overlay",
             "size": 10,
             "solidity": 0.2
            },
            "type": "scatter"
           }
          ],
          "scatter3d": [
           {
            "line": {
             "colorbar": {
              "outlinewidth": 0,
              "ticks": ""
             }
            },
            "marker": {
             "colorbar": {
              "outlinewidth": 0,
              "ticks": ""
             }
            },
            "type": "scatter3d"
           }
          ],
          "scattercarpet": [
           {
            "marker": {
             "colorbar": {
              "outlinewidth": 0,
              "ticks": ""
             }
            },
            "type": "scattercarpet"
           }
          ],
          "scattergeo": [
           {
            "marker": {
             "colorbar": {
              "outlinewidth": 0,
              "ticks": ""
             }
            },
            "type": "scattergeo"
           }
          ],
          "scattergl": [
           {
            "marker": {
             "colorbar": {
              "outlinewidth": 0,
              "ticks": ""
             }
            },
            "type": "scattergl"
           }
          ],
          "scattermap": [
           {
            "marker": {
             "colorbar": {
              "outlinewidth": 0,
              "ticks": ""
             }
            },
            "type": "scattermap"
           }
          ],
          "scattermapbox": [
           {
            "marker": {
             "colorbar": {
              "outlinewidth": 0,
              "ticks": ""
             }
            },
            "type": "scattermapbox"
           }
          ],
          "scatterpolar": [
           {
            "marker": {
             "colorbar": {
              "outlinewidth": 0,
              "ticks": ""
             }
            },
            "type": "scatterpolar"
           }
          ],
          "scatterpolargl": [
           {
            "marker": {
             "colorbar": {
              "outlinewidth": 0,
              "ticks": ""
             }
            },
            "type": "scatterpolargl"
           }
          ],
          "scatterternary": [
           {
            "marker": {
             "colorbar": {
              "outlinewidth": 0,
              "ticks": ""
             }
            },
            "type": "scatterternary"
           }
          ],
          "surface": [
           {
            "colorbar": {
             "outlinewidth": 0,
             "ticks": ""
            },
            "colorscale": [
             [
              0,
              "#0d0887"
             ],
             [
              0.1111111111111111,
              "#46039f"
             ],
             [
              0.2222222222222222,
              "#7201a8"
             ],
             [
              0.3333333333333333,
              "#9c179e"
             ],
             [
              0.4444444444444444,
              "#bd3786"
             ],
             [
              0.5555555555555556,
              "#d8576b"
             ],
             [
              0.6666666666666666,
              "#ed7953"
             ],
             [
              0.7777777777777778,
              "#fb9f3a"
             ],
             [
              0.8888888888888888,
              "#fdca26"
             ],
             [
              1,
              "#f0f921"
             ]
            ],
            "type": "surface"
           }
          ],
          "table": [
           {
            "cells": {
             "fill": {
              "color": "#EBF0F8"
             },
             "line": {
              "color": "white"
             }
            },
            "header": {
             "fill": {
              "color": "#C8D4E3"
             },
             "line": {
              "color": "white"
             }
            },
            "type": "table"
           }
          ]
         },
         "layout": {
          "annotationdefaults": {
           "arrowcolor": "#2a3f5f",
           "arrowhead": 0,
           "arrowwidth": 1
          },
          "autotypenumbers": "strict",
          "coloraxis": {
           "colorbar": {
            "outlinewidth": 0,
            "ticks": ""
           }
          },
          "colorscale": {
           "diverging": [
            [
             0,
             "#8e0152"
            ],
            [
             0.1,
             "#c51b7d"
            ],
            [
             0.2,
             "#de77ae"
            ],
            [
             0.3,
             "#f1b6da"
            ],
            [
             0.4,
             "#fde0ef"
            ],
            [
             0.5,
             "#f7f7f7"
            ],
            [
             0.6,
             "#e6f5d0"
            ],
            [
             0.7,
             "#b8e186"
            ],
            [
             0.8,
             "#7fbc41"
            ],
            [
             0.9,
             "#4d9221"
            ],
            [
             1,
             "#276419"
            ]
           ],
           "sequential": [
            [
             0,
             "#0d0887"
            ],
            [
             0.1111111111111111,
             "#46039f"
            ],
            [
             0.2222222222222222,
             "#7201a8"
            ],
            [
             0.3333333333333333,
             "#9c179e"
            ],
            [
             0.4444444444444444,
             "#bd3786"
            ],
            [
             0.5555555555555556,
             "#d8576b"
            ],
            [
             0.6666666666666666,
             "#ed7953"
            ],
            [
             0.7777777777777778,
             "#fb9f3a"
            ],
            [
             0.8888888888888888,
             "#fdca26"
            ],
            [
             1,
             "#f0f921"
            ]
           ],
           "sequentialminus": [
            [
             0,
             "#0d0887"
            ],
            [
             0.1111111111111111,
             "#46039f"
            ],
            [
             0.2222222222222222,
             "#7201a8"
            ],
            [
             0.3333333333333333,
             "#9c179e"
            ],
            [
             0.4444444444444444,
             "#bd3786"
            ],
            [
             0.5555555555555556,
             "#d8576b"
            ],
            [
             0.6666666666666666,
             "#ed7953"
            ],
            [
             0.7777777777777778,
             "#fb9f3a"
            ],
            [
             0.8888888888888888,
             "#fdca26"
            ],
            [
             1,
             "#f0f921"
            ]
           ]
          },
          "colorway": [
           "#636efa",
           "#EF553B",
           "#00cc96",
           "#ab63fa",
           "#FFA15A",
           "#19d3f3",
           "#FF6692",
           "#B6E880",
           "#FF97FF",
           "#FECB52"
          ],
          "font": {
           "color": "#2a3f5f"
          },
          "geo": {
           "bgcolor": "white",
           "lakecolor": "white",
           "landcolor": "#E5ECF6",
           "showlakes": true,
           "showland": true,
           "subunitcolor": "white"
          },
          "hoverlabel": {
           "align": "left"
          },
          "hovermode": "closest",
          "mapbox": {
           "style": "light"
          },
          "paper_bgcolor": "white",
          "plot_bgcolor": "#E5ECF6",
          "polar": {
           "angularaxis": {
            "gridcolor": "white",
            "linecolor": "white",
            "ticks": ""
           },
           "bgcolor": "#E5ECF6",
           "radialaxis": {
            "gridcolor": "white",
            "linecolor": "white",
            "ticks": ""
           }
          },
          "scene": {
           "xaxis": {
            "backgroundcolor": "#E5ECF6",
            "gridcolor": "white",
            "gridwidth": 2,
            "linecolor": "white",
            "showbackground": true,
            "ticks": "",
            "zerolinecolor": "white"
           },
           "yaxis": {
            "backgroundcolor": "#E5ECF6",
            "gridcolor": "white",
            "gridwidth": 2,
            "linecolor": "white",
            "showbackground": true,
            "ticks": "",
            "zerolinecolor": "white"
           },
           "zaxis": {
            "backgroundcolor": "#E5ECF6",
            "gridcolor": "white",
            "gridwidth": 2,
            "linecolor": "white",
            "showbackground": true,
            "ticks": "",
            "zerolinecolor": "white"
           }
          },
          "shapedefaults": {
           "line": {
            "color": "#2a3f5f"
           }
          },
          "ternary": {
           "aaxis": {
            "gridcolor": "white",
            "linecolor": "white",
            "ticks": ""
           },
           "baxis": {
            "gridcolor": "white",
            "linecolor": "white",
            "ticks": ""
           },
           "bgcolor": "#E5ECF6",
           "caxis": {
            "gridcolor": "white",
            "linecolor": "white",
            "ticks": ""
           }
          },
          "title": {
           "x": 0.05
          },
          "xaxis": {
           "automargin": true,
           "gridcolor": "white",
           "linecolor": "white",
           "ticks": "",
           "title": {
            "standoff": 15
           },
           "zerolinecolor": "white",
           "zerolinewidth": 2
          },
          "yaxis": {
           "automargin": true,
           "gridcolor": "white",
           "linecolor": "white",
           "ticks": "",
           "title": {
            "standoff": 15
           },
           "zerolinecolor": "white",
           "zerolinewidth": 2
          }
         }
        },
        "title": {
         "text": "맛집 평균 가성비지수 기준 상위 10개 지하철역"
        },
        "width": 800,
        "xaxis": {
         "anchor": "y",
         "domain": [
          0,
          1
         ],
         "title": {
          "text": "지하철역"
         }
        },
        "yaxis": {
         "anchor": "x",
         "domain": [
          0,
          1
         ],
         "title": {
          "text": "평균 가성비지수"
         }
        }
       }
      }
     },
     "metadata": {},
     "output_type": "display_data"
    }
   ],
   "source": [
    "# 상위 10개만 추출\n",
    "performance_top10 = station_performance_avg.head(10)\n",
    "\n",
    "# 그래프 그리기\n",
    "fig = px.bar(\n",
    "    performance_top10,\n",
    "    x='station',\n",
    "    y='performance',\n",
    "    title='평균 가성비지수 기준 상위 10개 지하철역',\n",
    "    color_discrete_sequence=['red']\n",
    "\n",
    ")\n",
    "fig.update_layout(\n",
    "    width=800,\n",
    "    height=500,\n",
    "    bargap=0.3,  # 바 간격 (막대 폭 줄이기 효과)\n",
    "    title='맛집 평균 가성비지수 기준 상위 10개 지하철역',\n",
    "    xaxis_title='지하철역',\n",
    "    yaxis_title='평균 가성비지수'\n",
    ")\n",
    "fig.show()"
   ]
  },
  {
   "cell_type": "code",
   "execution_count": 54,
   "metadata": {},
   "outputs": [
    {
     "data": {
      "application/vnd.plotly.v1+json": {
       "config": {
        "plotlyServerURL": "https://plot.ly"
       },
       "data": [
        {
         "hovertemplate": "station=%{x}<br>performance=%{y}<extra></extra>",
         "legendgroup": "",
         "marker": {
          "color": "blue",
          "pattern": {
           "shape": ""
          }
         },
         "name": "",
         "orientation": "v",
         "showlegend": false,
         "textposition": "auto",
         "type": "bar",
         "x": [
          "교대역",
          "시청역",
          "역삼역",
          "압구정로데오역",
          "사당역",
          "신반포역",
          "선릉역",
          "여의나루역",
          "구로역",
          "구로디지털단지역"
         ],
         "xaxis": "x",
         "y": {
          "bdata": "UONN+N6GKT90rUArcM0qP4TlmGlS3ys/9Jyl3vE4LD+AJiez60UtP58/5N4FyC0/gr1loEBgLj99z3TB9P8uP0ByoKQ9Gy8/8E8ModjcLz8=",
          "dtype": "f8"
         },
         "yaxis": "y"
        }
       ],
       "layout": {
        "bargap": 0.3,
        "barmode": "relative",
        "height": 500,
        "legend": {
         "tracegroupgap": 0
        },
        "template": {
         "data": {
          "bar": [
           {
            "error_x": {
             "color": "#2a3f5f"
            },
            "error_y": {
             "color": "#2a3f5f"
            },
            "marker": {
             "line": {
              "color": "#E5ECF6",
              "width": 0.5
             },
             "pattern": {
              "fillmode": "overlay",
              "size": 10,
              "solidity": 0.2
             }
            },
            "type": "bar"
           }
          ],
          "barpolar": [
           {
            "marker": {
             "line": {
              "color": "#E5ECF6",
              "width": 0.5
             },
             "pattern": {
              "fillmode": "overlay",
              "size": 10,
              "solidity": 0.2
             }
            },
            "type": "barpolar"
           }
          ],
          "carpet": [
           {
            "aaxis": {
             "endlinecolor": "#2a3f5f",
             "gridcolor": "white",
             "linecolor": "white",
             "minorgridcolor": "white",
             "startlinecolor": "#2a3f5f"
            },
            "baxis": {
             "endlinecolor": "#2a3f5f",
             "gridcolor": "white",
             "linecolor": "white",
             "minorgridcolor": "white",
             "startlinecolor": "#2a3f5f"
            },
            "type": "carpet"
           }
          ],
          "choropleth": [
           {
            "colorbar": {
             "outlinewidth": 0,
             "ticks": ""
            },
            "type": "choropleth"
           }
          ],
          "contour": [
           {
            "colorbar": {
             "outlinewidth": 0,
             "ticks": ""
            },
            "colorscale": [
             [
              0,
              "#0d0887"
             ],
             [
              0.1111111111111111,
              "#46039f"
             ],
             [
              0.2222222222222222,
              "#7201a8"
             ],
             [
              0.3333333333333333,
              "#9c179e"
             ],
             [
              0.4444444444444444,
              "#bd3786"
             ],
             [
              0.5555555555555556,
              "#d8576b"
             ],
             [
              0.6666666666666666,
              "#ed7953"
             ],
             [
              0.7777777777777778,
              "#fb9f3a"
             ],
             [
              0.8888888888888888,
              "#fdca26"
             ],
             [
              1,
              "#f0f921"
             ]
            ],
            "type": "contour"
           }
          ],
          "contourcarpet": [
           {
            "colorbar": {
             "outlinewidth": 0,
             "ticks": ""
            },
            "type": "contourcarpet"
           }
          ],
          "heatmap": [
           {
            "colorbar": {
             "outlinewidth": 0,
             "ticks": ""
            },
            "colorscale": [
             [
              0,
              "#0d0887"
             ],
             [
              0.1111111111111111,
              "#46039f"
             ],
             [
              0.2222222222222222,
              "#7201a8"
             ],
             [
              0.3333333333333333,
              "#9c179e"
             ],
             [
              0.4444444444444444,
              "#bd3786"
             ],
             [
              0.5555555555555556,
              "#d8576b"
             ],
             [
              0.6666666666666666,
              "#ed7953"
             ],
             [
              0.7777777777777778,
              "#fb9f3a"
             ],
             [
              0.8888888888888888,
              "#fdca26"
             ],
             [
              1,
              "#f0f921"
             ]
            ],
            "type": "heatmap"
           }
          ],
          "histogram": [
           {
            "marker": {
             "pattern": {
              "fillmode": "overlay",
              "size": 10,
              "solidity": 0.2
             }
            },
            "type": "histogram"
           }
          ],
          "histogram2d": [
           {
            "colorbar": {
             "outlinewidth": 0,
             "ticks": ""
            },
            "colorscale": [
             [
              0,
              "#0d0887"
             ],
             [
              0.1111111111111111,
              "#46039f"
             ],
             [
              0.2222222222222222,
              "#7201a8"
             ],
             [
              0.3333333333333333,
              "#9c179e"
             ],
             [
              0.4444444444444444,
              "#bd3786"
             ],
             [
              0.5555555555555556,
              "#d8576b"
             ],
             [
              0.6666666666666666,
              "#ed7953"
             ],
             [
              0.7777777777777778,
              "#fb9f3a"
             ],
             [
              0.8888888888888888,
              "#fdca26"
             ],
             [
              1,
              "#f0f921"
             ]
            ],
            "type": "histogram2d"
           }
          ],
          "histogram2dcontour": [
           {
            "colorbar": {
             "outlinewidth": 0,
             "ticks": ""
            },
            "colorscale": [
             [
              0,
              "#0d0887"
             ],
             [
              0.1111111111111111,
              "#46039f"
             ],
             [
              0.2222222222222222,
              "#7201a8"
             ],
             [
              0.3333333333333333,
              "#9c179e"
             ],
             [
              0.4444444444444444,
              "#bd3786"
             ],
             [
              0.5555555555555556,
              "#d8576b"
             ],
             [
              0.6666666666666666,
              "#ed7953"
             ],
             [
              0.7777777777777778,
              "#fb9f3a"
             ],
             [
              0.8888888888888888,
              "#fdca26"
             ],
             [
              1,
              "#f0f921"
             ]
            ],
            "type": "histogram2dcontour"
           }
          ],
          "mesh3d": [
           {
            "colorbar": {
             "outlinewidth": 0,
             "ticks": ""
            },
            "type": "mesh3d"
           }
          ],
          "parcoords": [
           {
            "line": {
             "colorbar": {
              "outlinewidth": 0,
              "ticks": ""
             }
            },
            "type": "parcoords"
           }
          ],
          "pie": [
           {
            "automargin": true,
            "type": "pie"
           }
          ],
          "scatter": [
           {
            "fillpattern": {
             "fillmode": "overlay",
             "size": 10,
             "solidity": 0.2
            },
            "type": "scatter"
           }
          ],
          "scatter3d": [
           {
            "line": {
             "colorbar": {
              "outlinewidth": 0,
              "ticks": ""
             }
            },
            "marker": {
             "colorbar": {
              "outlinewidth": 0,
              "ticks": ""
             }
            },
            "type": "scatter3d"
           }
          ],
          "scattercarpet": [
           {
            "marker": {
             "colorbar": {
              "outlinewidth": 0,
              "ticks": ""
             }
            },
            "type": "scattercarpet"
           }
          ],
          "scattergeo": [
           {
            "marker": {
             "colorbar": {
              "outlinewidth": 0,
              "ticks": ""
             }
            },
            "type": "scattergeo"
           }
          ],
          "scattergl": [
           {
            "marker": {
             "colorbar": {
              "outlinewidth": 0,
              "ticks": ""
             }
            },
            "type": "scattergl"
           }
          ],
          "scattermap": [
           {
            "marker": {
             "colorbar": {
              "outlinewidth": 0,
              "ticks": ""
             }
            },
            "type": "scattermap"
           }
          ],
          "scattermapbox": [
           {
            "marker": {
             "colorbar": {
              "outlinewidth": 0,
              "ticks": ""
             }
            },
            "type": "scattermapbox"
           }
          ],
          "scatterpolar": [
           {
            "marker": {
             "colorbar": {
              "outlinewidth": 0,
              "ticks": ""
             }
            },
            "type": "scatterpolar"
           }
          ],
          "scatterpolargl": [
           {
            "marker": {
             "colorbar": {
              "outlinewidth": 0,
              "ticks": ""
             }
            },
            "type": "scatterpolargl"
           }
          ],
          "scatterternary": [
           {
            "marker": {
             "colorbar": {
              "outlinewidth": 0,
              "ticks": ""
             }
            },
            "type": "scatterternary"
           }
          ],
          "surface": [
           {
            "colorbar": {
             "outlinewidth": 0,
             "ticks": ""
            },
            "colorscale": [
             [
              0,
              "#0d0887"
             ],
             [
              0.1111111111111111,
              "#46039f"
             ],
             [
              0.2222222222222222,
              "#7201a8"
             ],
             [
              0.3333333333333333,
              "#9c179e"
             ],
             [
              0.4444444444444444,
              "#bd3786"
             ],
             [
              0.5555555555555556,
              "#d8576b"
             ],
             [
              0.6666666666666666,
              "#ed7953"
             ],
             [
              0.7777777777777778,
              "#fb9f3a"
             ],
             [
              0.8888888888888888,
              "#fdca26"
             ],
             [
              1,
              "#f0f921"
             ]
            ],
            "type": "surface"
           }
          ],
          "table": [
           {
            "cells": {
             "fill": {
              "color": "#EBF0F8"
             },
             "line": {
              "color": "white"
             }
            },
            "header": {
             "fill": {
              "color": "#C8D4E3"
             },
             "line": {
              "color": "white"
             }
            },
            "type": "table"
           }
          ]
         },
         "layout": {
          "annotationdefaults": {
           "arrowcolor": "#2a3f5f",
           "arrowhead": 0,
           "arrowwidth": 1
          },
          "autotypenumbers": "strict",
          "coloraxis": {
           "colorbar": {
            "outlinewidth": 0,
            "ticks": ""
           }
          },
          "colorscale": {
           "diverging": [
            [
             0,
             "#8e0152"
            ],
            [
             0.1,
             "#c51b7d"
            ],
            [
             0.2,
             "#de77ae"
            ],
            [
             0.3,
             "#f1b6da"
            ],
            [
             0.4,
             "#fde0ef"
            ],
            [
             0.5,
             "#f7f7f7"
            ],
            [
             0.6,
             "#e6f5d0"
            ],
            [
             0.7,
             "#b8e186"
            ],
            [
             0.8,
             "#7fbc41"
            ],
            [
             0.9,
             "#4d9221"
            ],
            [
             1,
             "#276419"
            ]
           ],
           "sequential": [
            [
             0,
             "#0d0887"
            ],
            [
             0.1111111111111111,
             "#46039f"
            ],
            [
             0.2222222222222222,
             "#7201a8"
            ],
            [
             0.3333333333333333,
             "#9c179e"
            ],
            [
             0.4444444444444444,
             "#bd3786"
            ],
            [
             0.5555555555555556,
             "#d8576b"
            ],
            [
             0.6666666666666666,
             "#ed7953"
            ],
            [
             0.7777777777777778,
             "#fb9f3a"
            ],
            [
             0.8888888888888888,
             "#fdca26"
            ],
            [
             1,
             "#f0f921"
            ]
           ],
           "sequentialminus": [
            [
             0,
             "#0d0887"
            ],
            [
             0.1111111111111111,
             "#46039f"
            ],
            [
             0.2222222222222222,
             "#7201a8"
            ],
            [
             0.3333333333333333,
             "#9c179e"
            ],
            [
             0.4444444444444444,
             "#bd3786"
            ],
            [
             0.5555555555555556,
             "#d8576b"
            ],
            [
             0.6666666666666666,
             "#ed7953"
            ],
            [
             0.7777777777777778,
             "#fb9f3a"
            ],
            [
             0.8888888888888888,
             "#fdca26"
            ],
            [
             1,
             "#f0f921"
            ]
           ]
          },
          "colorway": [
           "#636efa",
           "#EF553B",
           "#00cc96",
           "#ab63fa",
           "#FFA15A",
           "#19d3f3",
           "#FF6692",
           "#B6E880",
           "#FF97FF",
           "#FECB52"
          ],
          "font": {
           "color": "#2a3f5f"
          },
          "geo": {
           "bgcolor": "white",
           "lakecolor": "white",
           "landcolor": "#E5ECF6",
           "showlakes": true,
           "showland": true,
           "subunitcolor": "white"
          },
          "hoverlabel": {
           "align": "left"
          },
          "hovermode": "closest",
          "mapbox": {
           "style": "light"
          },
          "paper_bgcolor": "white",
          "plot_bgcolor": "#E5ECF6",
          "polar": {
           "angularaxis": {
            "gridcolor": "white",
            "linecolor": "white",
            "ticks": ""
           },
           "bgcolor": "#E5ECF6",
           "radialaxis": {
            "gridcolor": "white",
            "linecolor": "white",
            "ticks": ""
           }
          },
          "scene": {
           "xaxis": {
            "backgroundcolor": "#E5ECF6",
            "gridcolor": "white",
            "gridwidth": 2,
            "linecolor": "white",
            "showbackground": true,
            "ticks": "",
            "zerolinecolor": "white"
           },
           "yaxis": {
            "backgroundcolor": "#E5ECF6",
            "gridcolor": "white",
            "gridwidth": 2,
            "linecolor": "white",
            "showbackground": true,
            "ticks": "",
            "zerolinecolor": "white"
           },
           "zaxis": {
            "backgroundcolor": "#E5ECF6",
            "gridcolor": "white",
            "gridwidth": 2,
            "linecolor": "white",
            "showbackground": true,
            "ticks": "",
            "zerolinecolor": "white"
           }
          },
          "shapedefaults": {
           "line": {
            "color": "#2a3f5f"
           }
          },
          "ternary": {
           "aaxis": {
            "gridcolor": "white",
            "linecolor": "white",
            "ticks": ""
           },
           "baxis": {
            "gridcolor": "white",
            "linecolor": "white",
            "ticks": ""
           },
           "bgcolor": "#E5ECF6",
           "caxis": {
            "gridcolor": "white",
            "linecolor": "white",
            "ticks": ""
           }
          },
          "title": {
           "x": 0.05
          },
          "xaxis": {
           "automargin": true,
           "gridcolor": "white",
           "linecolor": "white",
           "ticks": "",
           "title": {
            "standoff": 15
           },
           "zerolinecolor": "white",
           "zerolinewidth": 2
          },
          "yaxis": {
           "automargin": true,
           "gridcolor": "white",
           "linecolor": "white",
           "ticks": "",
           "title": {
            "standoff": 15
           },
           "zerolinecolor": "white",
           "zerolinewidth": 2
          }
         }
        },
        "title": {
         "text": "맛집 평균 가성비지수 기준 하위 10개 지하철역"
        },
        "width": 800,
        "xaxis": {
         "anchor": "y",
         "domain": [
          0,
          1
         ],
         "title": {
          "text": "지하철역"
         }
        },
        "yaxis": {
         "anchor": "x",
         "domain": [
          0,
          1
         ],
         "title": {
          "text": "평균 가성비지수"
         }
        }
       }
      }
     },
     "metadata": {},
     "output_type": "display_data"
    }
   ],
   "source": [
    "# value 오름차순 정렬 (작은 값이 먼저 오게)\n",
    "station_avg_performance_sorted = station_performance_avg.sort_values(by='performance', ascending=True)\n",
    "\n",
    "# 하위 10개만 추출\n",
    "performance_bottom10 = station_avg_performance_sorted.head(10)\n",
    "\n",
    "# 그래프 그리기\n",
    "fig = px.bar(\n",
    "    performance_bottom10,\n",
    "    x='station',\n",
    "    y='performance',\n",
    "    title='맛집 평균 가성비지수 기준 하위 10개 지하철역',\n",
    "    color_discrete_sequence=['blue']\n",
    ")\n",
    "\n",
    "fig.update_layout(\n",
    "    width=800,\n",
    "    height=500,\n",
    "    bargap=0.3,\n",
    "    xaxis_title='지하철역',\n",
    "    yaxis_title='평균 가성비지수'\n",
    ")\n",
    "\n",
    "fig.show()"
   ]
  },
  {
   "cell_type": "code",
   "execution_count": 55,
   "metadata": {},
   "outputs": [
    {
     "data": {
      "application/vnd.plotly.v1+json": {
       "config": {
        "plotlyServerURL": "https://plot.ly"
       },
       "data": [
        {
         "bingroup": "x",
         "hovertemplate": "price=%{x}<br>count=%{y}<extra></extra>",
         "legendgroup": "",
         "marker": {
          "color": "green",
          "pattern": {
           "shape": ""
          }
         },
         "name": "",
         "orientation": "v",
         "showlegend": false,
         "type": "histogram",
         "x": {
          "bdata": "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",
          "dtype": "i4"
         },
         "xaxis": "x",
         "yaxis": "y"
        }
       ],
       "layout": {
        "barmode": "relative",
        "legend": {
         "tracegroupgap": 0
        },
        "template": {
         "data": {
          "bar": [
           {
            "error_x": {
             "color": "#2a3f5f"
            },
            "error_y": {
             "color": "#2a3f5f"
            },
            "marker": {
             "line": {
              "color": "#E5ECF6",
              "width": 0.5
             },
             "pattern": {
              "fillmode": "overlay",
              "size": 10,
              "solidity": 0.2
             }
            },
            "type": "bar"
           }
          ],
          "barpolar": [
           {
            "marker": {
             "line": {
              "color": "#E5ECF6",
              "width": 0.5
             },
             "pattern": {
              "fillmode": "overlay",
              "size": 10,
              "solidity": 0.2
             }
            },
            "type": "barpolar"
           }
          ],
          "carpet": [
           {
            "aaxis": {
             "endlinecolor": "#2a3f5f",
             "gridcolor": "white",
             "linecolor": "white",
             "minorgridcolor": "white",
             "startlinecolor": "#2a3f5f"
            },
            "baxis": {
             "endlinecolor": "#2a3f5f",
             "gridcolor": "white",
             "linecolor": "white",
             "minorgridcolor": "white",
             "startlinecolor": "#2a3f5f"
            },
            "type": "carpet"
           }
          ],
          "choropleth": [
           {
            "colorbar": {
             "outlinewidth": 0,
             "ticks": ""
            },
            "type": "choropleth"
           }
          ],
          "contour": [
           {
            "colorbar": {
             "outlinewidth": 0,
             "ticks": ""
            },
            "colorscale": [
             [
              0,
              "#0d0887"
             ],
             [
              0.1111111111111111,
              "#46039f"
             ],
             [
              0.2222222222222222,
              "#7201a8"
             ],
             [
              0.3333333333333333,
              "#9c179e"
             ],
             [
              0.4444444444444444,
              "#bd3786"
             ],
             [
              0.5555555555555556,
              "#d8576b"
             ],
             [
              0.6666666666666666,
              "#ed7953"
             ],
             [
              0.7777777777777778,
              "#fb9f3a"
             ],
             [
              0.8888888888888888,
              "#fdca26"
             ],
             [
              1,
              "#f0f921"
             ]
            ],
            "type": "contour"
           }
          ],
          "contourcarpet": [
           {
            "colorbar": {
             "outlinewidth": 0,
             "ticks": ""
            },
            "type": "contourcarpet"
           }
          ],
          "heatmap": [
           {
            "colorbar": {
             "outlinewidth": 0,
             "ticks": ""
            },
            "colorscale": [
             [
              0,
              "#0d0887"
             ],
             [
              0.1111111111111111,
              "#46039f"
             ],
             [
              0.2222222222222222,
              "#7201a8"
             ],
             [
              0.3333333333333333,
              "#9c179e"
             ],
             [
              0.4444444444444444,
              "#bd3786"
             ],
             [
              0.5555555555555556,
              "#d8576b"
             ],
             [
              0.6666666666666666,
              "#ed7953"
             ],
             [
              0.7777777777777778,
              "#fb9f3a"
             ],
             [
              0.8888888888888888,
              "#fdca26"
             ],
             [
              1,
              "#f0f921"
             ]
            ],
            "type": "heatmap"
           }
          ],
          "histogram": [
           {
            "marker": {
             "pattern": {
              "fillmode": "overlay",
              "size": 10,
              "solidity": 0.2
             }
            },
            "type": "histogram"
           }
          ],
          "histogram2d": [
           {
            "colorbar": {
             "outlinewidth": 0,
             "ticks": ""
            },
            "colorscale": [
             [
              0,
              "#0d0887"
             ],
             [
              0.1111111111111111,
              "#46039f"
             ],
             [
              0.2222222222222222,
              "#7201a8"
             ],
             [
              0.3333333333333333,
              "#9c179e"
             ],
             [
              0.4444444444444444,
              "#bd3786"
             ],
             [
              0.5555555555555556,
              "#d8576b"
             ],
             [
              0.6666666666666666,
              "#ed7953"
             ],
             [
              0.7777777777777778,
              "#fb9f3a"
             ],
             [
              0.8888888888888888,
              "#fdca26"
             ],
             [
              1,
              "#f0f921"
             ]
            ],
            "type": "histogram2d"
           }
          ],
          "histogram2dcontour": [
           {
            "colorbar": {
             "outlinewidth": 0,
             "ticks": ""
            },
            "colorscale": [
             [
              0,
              "#0d0887"
             ],
             [
              0.1111111111111111,
              "#46039f"
             ],
             [
              0.2222222222222222,
              "#7201a8"
             ],
             [
              0.3333333333333333,
              "#9c179e"
             ],
             [
              0.4444444444444444,
              "#bd3786"
             ],
             [
              0.5555555555555556,
              "#d8576b"
             ],
             [
              0.6666666666666666,
              "#ed7953"
             ],
             [
              0.7777777777777778,
              "#fb9f3a"
             ],
             [
              0.8888888888888888,
              "#fdca26"
             ],
             [
              1,
              "#f0f921"
             ]
            ],
            "type": "histogram2dcontour"
           }
          ],
          "mesh3d": [
           {
            "colorbar": {
             "outlinewidth": 0,
             "ticks": ""
            },
            "type": "mesh3d"
           }
          ],
          "parcoords": [
           {
            "line": {
             "colorbar": {
              "outlinewidth": 0,
              "ticks": ""
             }
            },
            "type": "parcoords"
           }
          ],
          "pie": [
           {
            "automargin": true,
            "type": "pie"
           }
          ],
          "scatter": [
           {
            "fillpattern": {
             "fillmode": "overlay",
             "size": 10,
             "solidity": 0.2
            },
            "type": "scatter"
           }
          ],
          "scatter3d": [
           {
            "line": {
             "colorbar": {
              "outlinewidth": 0,
              "ticks": ""
             }
            },
            "marker": {
             "colorbar": {
              "outlinewidth": 0,
              "ticks": ""
             }
            },
            "type": "scatter3d"
           }
          ],
          "scattercarpet": [
           {
            "marker": {
             "colorbar": {
              "outlinewidth": 0,
              "ticks": ""
             }
            },
            "type": "scattercarpet"
           }
          ],
          "scattergeo": [
           {
            "marker": {
             "colorbar": {
              "outlinewidth": 0,
              "ticks": ""
             }
            },
            "type": "scattergeo"
           }
          ],
          "scattergl": [
           {
            "marker": {
             "colorbar": {
              "outlinewidth": 0,
              "ticks": ""
             }
            },
            "type": "scattergl"
           }
          ],
          "scattermap": [
           {
            "marker": {
             "colorbar": {
              "outlinewidth": 0,
              "ticks": ""
             }
            },
            "type": "scattermap"
           }
          ],
          "scattermapbox": [
           {
            "marker": {
             "colorbar": {
              "outlinewidth": 0,
              "ticks": ""
             }
            },
            "type": "scattermapbox"
           }
          ],
          "scatterpolar": [
           {
            "marker": {
             "colorbar": {
              "outlinewidth": 0,
              "ticks": ""
             }
            },
            "type": "scatterpolar"
           }
          ],
          "scatterpolargl": [
           {
            "marker": {
             "colorbar": {
              "outlinewidth": 0,
              "ticks": ""
             }
            },
            "type": "scatterpolargl"
           }
          ],
          "scatterternary": [
           {
            "marker": {
             "colorbar": {
              "outlinewidth": 0,
              "ticks": ""
             }
            },
            "type": "scatterternary"
           }
          ],
          "surface": [
           {
            "colorbar": {
             "outlinewidth": 0,
             "ticks": ""
            },
            "colorscale": [
             [
              0,
              "#0d0887"
             ],
             [
              0.1111111111111111,
              "#46039f"
             ],
             [
              0.2222222222222222,
              "#7201a8"
             ],
             [
              0.3333333333333333,
              "#9c179e"
             ],
             [
              0.4444444444444444,
              "#bd3786"
             ],
             [
              0.5555555555555556,
              "#d8576b"
             ],
             [
              0.6666666666666666,
              "#ed7953"
             ],
             [
              0.7777777777777778,
              "#fb9f3a"
             ],
             [
              0.8888888888888888,
              "#fdca26"
             ],
             [
              1,
              "#f0f921"
             ]
            ],
            "type": "surface"
           }
          ],
          "table": [
           {
            "cells": {
             "fill": {
              "color": "#EBF0F8"
             },
             "line": {
              "color": "white"
             }
            },
            "header": {
             "fill": {
              "color": "#C8D4E3"
             },
             "line": {
              "color": "white"
             }
            },
            "type": "table"
           }
          ]
         },
         "layout": {
          "annotationdefaults": {
           "arrowcolor": "#2a3f5f",
           "arrowhead": 0,
           "arrowwidth": 1
          },
          "autotypenumbers": "strict",
          "coloraxis": {
           "colorbar": {
            "outlinewidth": 0,
            "ticks": ""
           }
          },
          "colorscale": {
           "diverging": [
            [
             0,
             "#8e0152"
            ],
            [
             0.1,
             "#c51b7d"
            ],
            [
             0.2,
             "#de77ae"
            ],
            [
             0.3,
             "#f1b6da"
            ],
            [
             0.4,
             "#fde0ef"
            ],
            [
             0.5,
             "#f7f7f7"
            ],
            [
             0.6,
             "#e6f5d0"
            ],
            [
             0.7,
             "#b8e186"
            ],
            [
             0.8,
             "#7fbc41"
            ],
            [
             0.9,
             "#4d9221"
            ],
            [
             1,
             "#276419"
            ]
           ],
           "sequential": [
            [
             0,
             "#0d0887"
            ],
            [
             0.1111111111111111,
             "#46039f"
            ],
            [
             0.2222222222222222,
             "#7201a8"
            ],
            [
             0.3333333333333333,
             "#9c179e"
            ],
            [
             0.4444444444444444,
             "#bd3786"
            ],
            [
             0.5555555555555556,
             "#d8576b"
            ],
            [
             0.6666666666666666,
             "#ed7953"
            ],
            [
             0.7777777777777778,
             "#fb9f3a"
            ],
            [
             0.8888888888888888,
             "#fdca26"
            ],
            [
             1,
             "#f0f921"
            ]
           ],
           "sequentialminus": [
            [
             0,
             "#0d0887"
            ],
            [
             0.1111111111111111,
             "#46039f"
            ],
            [
             0.2222222222222222,
             "#7201a8"
            ],
            [
             0.3333333333333333,
             "#9c179e"
            ],
            [
             0.4444444444444444,
             "#bd3786"
            ],
            [
             0.5555555555555556,
             "#d8576b"
            ],
            [
             0.6666666666666666,
             "#ed7953"
            ],
            [
             0.7777777777777778,
             "#fb9f3a"
            ],
            [
             0.8888888888888888,
             "#fdca26"
            ],
            [
             1,
             "#f0f921"
            ]
           ]
          },
          "colorway": [
           "#636efa",
           "#EF553B",
           "#00cc96",
           "#ab63fa",
           "#FFA15A",
           "#19d3f3",
           "#FF6692",
           "#B6E880",
           "#FF97FF",
           "#FECB52"
          ],
          "font": {
           "color": "#2a3f5f"
          },
          "geo": {
           "bgcolor": "white",
           "lakecolor": "white",
           "landcolor": "#E5ECF6",
           "showlakes": true,
           "showland": true,
           "subunitcolor": "white"
          },
          "hoverlabel": {
           "align": "left"
          },
          "hovermode": "closest",
          "mapbox": {
           "style": "light"
          },
          "paper_bgcolor": "white",
          "plot_bgcolor": "#E5ECF6",
          "polar": {
           "angularaxis": {
            "gridcolor": "white",
            "linecolor": "white",
            "ticks": ""
           },
           "bgcolor": "#E5ECF6",
           "radialaxis": {
            "gridcolor": "white",
            "linecolor": "white",
            "ticks": ""
           }
          },
          "scene": {
           "xaxis": {
            "backgroundcolor": "#E5ECF6",
            "gridcolor": "white",
            "gridwidth": 2,
            "linecolor": "white",
            "showbackground": true,
            "ticks": "",
            "zerolinecolor": "white"
           },
           "yaxis": {
            "backgroundcolor": "#E5ECF6",
            "gridcolor": "white",
            "gridwidth": 2,
            "linecolor": "white",
            "showbackground": true,
            "ticks": "",
            "zerolinecolor": "white"
           },
           "zaxis": {
            "backgroundcolor": "#E5ECF6",
            "gridcolor": "white",
            "gridwidth": 2,
            "linecolor": "white",
            "showbackground": true,
            "ticks": "",
            "zerolinecolor": "white"
           }
          },
          "shapedefaults": {
           "line": {
            "color": "#2a3f5f"
           }
          },
          "ternary": {
           "aaxis": {
            "gridcolor": "white",
            "linecolor": "white",
            "ticks": ""
           },
           "baxis": {
            "gridcolor": "white",
            "linecolor": "white",
            "ticks": ""
           },
           "bgcolor": "#E5ECF6",
           "caxis": {
            "gridcolor": "white",
            "linecolor": "white",
            "ticks": ""
           }
          },
          "title": {
           "x": 0.05
          },
          "xaxis": {
           "automargin": true,
           "gridcolor": "white",
           "linecolor": "white",
           "ticks": "",
           "title": {
            "standoff": 15
           },
           "zerolinecolor": "white",
           "zerolinewidth": 2
          },
          "yaxis": {
           "automargin": true,
           "gridcolor": "white",
           "linecolor": "white",
           "ticks": "",
           "title": {
            "standoff": 15
           },
           "zerolinecolor": "white",
           "zerolinewidth": 2
          }
         }
        },
        "title": {
         "text": "가격별 맛집 분포"
        },
        "xaxis": {
         "anchor": "y",
         "domain": [
          0,
          1
         ],
         "title": {
          "text": "가격"
         }
        },
        "yaxis": {
         "anchor": "x",
         "domain": [
          0,
          1
         ],
         "title": {
          "text": "맛집 수"
         }
        }
       }
      }
     },
     "metadata": {},
     "output_type": "display_data"
    }
   ],
   "source": [
    "import plotly.express as px\n",
    "\n",
    "fig = px.histogram(restaurant,x='price',title='가격별 맛집 분포',color_discrete_sequence=['green'])\n",
    "fig.update_layout(\n",
    "    xaxis_title='가격',\n",
    "    yaxis_title='맛집 수'\n",
    ")\n",
    "fig.show()"
   ]
  },
  {
   "cell_type": "code",
   "execution_count": 56,
   "metadata": {},
   "outputs": [
    {
     "name": "stdout",
     "output_type": "stream",
     "text": [
      "전체 맛집의 평균 평가지수: 20284.293002257335\n"
     ]
    }
   ],
   "source": [
    "avg_price_value = restaurant['price'].mean()\n",
    "print(\"전체 맛집의 평균 평가지수:\", avg_price_value)\n"
   ]
  },
  {
   "cell_type": "code",
   "execution_count": 57,
   "metadata": {},
   "outputs": [
    {
     "name": "stdout",
     "output_type": "stream",
     "text": [
      "전체 맛집의 평균 가격: 20284.293002257335\n"
     ]
    },
    {
     "data": {
      "application/vnd.plotly.v1+json": {
       "config": {
        "plotlyServerURL": "https://plot.ly"
       },
       "data": [
        {
         "bingroup": "x",
         "hovertemplate": "price=%{x}<br>count=%{y}<extra></extra>",
         "legendgroup": "",
         "marker": {
          "color": "green",
          "pattern": {
           "shape": ""
          }
         },
         "name": "",
         "orientation": "v",
         "showlegend": false,
         "type": "histogram",
         "x": {
          "bdata": "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",
          "dtype": "i4"
         },
         "xaxis": "x",
         "yaxis": "y"
        }
       ],
       "layout": {
        "annotations": [
         {
          "font": {
           "color": "black"
          },
          "showarrow": false,
          "text": "평균 가격: 20284.29",
          "x": 20284.293002257335,
          "y": 251,
          "yshift": 10
         }
        ],
        "barmode": "relative",
        "legend": {
         "tracegroupgap": 0
        },
        "shapes": [
         {
          "line": {
           "color": "black",
           "dash": "dash"
          },
          "type": "line",
          "x0": 20284.293002257335,
          "x1": 20284.293002257335,
          "y0": 0,
          "y1": 251
         }
        ],
        "template": {
         "data": {
          "bar": [
           {
            "error_x": {
             "color": "#2a3f5f"
            },
            "error_y": {
             "color": "#2a3f5f"
            },
            "marker": {
             "line": {
              "color": "#E5ECF6",
              "width": 0.5
             },
             "pattern": {
              "fillmode": "overlay",
              "size": 10,
              "solidity": 0.2
             }
            },
            "type": "bar"
           }
          ],
          "barpolar": [
           {
            "marker": {
             "line": {
              "color": "#E5ECF6",
              "width": 0.5
             },
             "pattern": {
              "fillmode": "overlay",
              "size": 10,
              "solidity": 0.2
             }
            },
            "type": "barpolar"
           }
          ],
          "carpet": [
           {
            "aaxis": {
             "endlinecolor": "#2a3f5f",
             "gridcolor": "white",
             "linecolor": "white",
             "minorgridcolor": "white",
             "startlinecolor": "#2a3f5f"
            },
            "baxis": {
             "endlinecolor": "#2a3f5f",
             "gridcolor": "white",
             "linecolor": "white",
             "minorgridcolor": "white",
             "startlinecolor": "#2a3f5f"
            },
            "type": "carpet"
           }
          ],
          "choropleth": [
           {
            "colorbar": {
             "outlinewidth": 0,
             "ticks": ""
            },
            "type": "choropleth"
           }
          ],
          "contour": [
           {
            "colorbar": {
             "outlinewidth": 0,
             "ticks": ""
            },
            "colorscale": [
             [
              0,
              "#0d0887"
             ],
             [
              0.1111111111111111,
              "#46039f"
             ],
             [
              0.2222222222222222,
              "#7201a8"
             ],
             [
              0.3333333333333333,
              "#9c179e"
             ],
             [
              0.4444444444444444,
              "#bd3786"
             ],
             [
              0.5555555555555556,
              "#d8576b"
             ],
             [
              0.6666666666666666,
              "#ed7953"
             ],
             [
              0.7777777777777778,
              "#fb9f3a"
             ],
             [
              0.8888888888888888,
              "#fdca26"
             ],
             [
              1,
              "#f0f921"
             ]
            ],
            "type": "contour"
           }
          ],
          "contourcarpet": [
           {
            "colorbar": {
             "outlinewidth": 0,
             "ticks": ""
            },
            "type": "contourcarpet"
           }
          ],
          "heatmap": [
           {
            "colorbar": {
             "outlinewidth": 0,
             "ticks": ""
            },
            "colorscale": [
             [
              0,
              "#0d0887"
             ],
             [
              0.1111111111111111,
              "#46039f"
             ],
             [
              0.2222222222222222,
              "#7201a8"
             ],
             [
              0.3333333333333333,
              "#9c179e"
             ],
             [
              0.4444444444444444,
              "#bd3786"
             ],
             [
              0.5555555555555556,
              "#d8576b"
             ],
             [
              0.6666666666666666,
              "#ed7953"
             ],
             [
              0.7777777777777778,
              "#fb9f3a"
             ],
             [
              0.8888888888888888,
              "#fdca26"
             ],
             [
              1,
              "#f0f921"
             ]
            ],
            "type": "heatmap"
           }
          ],
          "histogram": [
           {
            "marker": {
             "pattern": {
              "fillmode": "overlay",
              "size": 10,
              "solidity": 0.2
             }
            },
            "type": "histogram"
           }
          ],
          "histogram2d": [
           {
            "colorbar": {
             "outlinewidth": 0,
             "ticks": ""
            },
            "colorscale": [
             [
              0,
              "#0d0887"
             ],
             [
              0.1111111111111111,
              "#46039f"
             ],
             [
              0.2222222222222222,
              "#7201a8"
             ],
             [
              0.3333333333333333,
              "#9c179e"
             ],
             [
              0.4444444444444444,
              "#bd3786"
             ],
             [
              0.5555555555555556,
              "#d8576b"
             ],
             [
              0.6666666666666666,
              "#ed7953"
             ],
             [
              0.7777777777777778,
              "#fb9f3a"
             ],
             [
              0.8888888888888888,
              "#fdca26"
             ],
             [
              1,
              "#f0f921"
             ]
            ],
            "type": "histogram2d"
           }
          ],
          "histogram2dcontour": [
           {
            "colorbar": {
             "outlinewidth": 0,
             "ticks": ""
            },
            "colorscale": [
             [
              0,
              "#0d0887"
             ],
             [
              0.1111111111111111,
              "#46039f"
             ],
             [
              0.2222222222222222,
              "#7201a8"
             ],
             [
              0.3333333333333333,
              "#9c179e"
             ],
             [
              0.4444444444444444,
              "#bd3786"
             ],
             [
              0.5555555555555556,
              "#d8576b"
             ],
             [
              0.6666666666666666,
              "#ed7953"
             ],
             [
              0.7777777777777778,
              "#fb9f3a"
             ],
             [
              0.8888888888888888,
              "#fdca26"
             ],
             [
              1,
              "#f0f921"
             ]
            ],
            "type": "histogram2dcontour"
           }
          ],
          "mesh3d": [
           {
            "colorbar": {
             "outlinewidth": 0,
             "ticks": ""
            },
            "type": "mesh3d"
           }
          ],
          "parcoords": [
           {
            "line": {
             "colorbar": {
              "outlinewidth": 0,
              "ticks": ""
             }
            },
            "type": "parcoords"
           }
          ],
          "pie": [
           {
            "automargin": true,
            "type": "pie"
           }
          ],
          "scatter": [
           {
            "fillpattern": {
             "fillmode": "overlay",
             "size": 10,
             "solidity": 0.2
            },
            "type": "scatter"
           }
          ],
          "scatter3d": [
           {
            "line": {
             "colorbar": {
              "outlinewidth": 0,
              "ticks": ""
             }
            },
            "marker": {
             "colorbar": {
              "outlinewidth": 0,
              "ticks": ""
             }
            },
            "type": "scatter3d"
           }
          ],
          "scattercarpet": [
           {
            "marker": {
             "colorbar": {
              "outlinewidth": 0,
              "ticks": ""
             }
            },
            "type": "scattercarpet"
           }
          ],
          "scattergeo": [
           {
            "marker": {
             "colorbar": {
              "outlinewidth": 0,
              "ticks": ""
             }
            },
            "type": "scattergeo"
           }
          ],
          "scattergl": [
           {
            "marker": {
             "colorbar": {
              "outlinewidth": 0,
              "ticks": ""
             }
            },
            "type": "scattergl"
           }
          ],
          "scattermap": [
           {
            "marker": {
             "colorbar": {
              "outlinewidth": 0,
              "ticks": ""
             }
            },
            "type": "scattermap"
           }
          ],
          "scattermapbox": [
           {
            "marker": {
             "colorbar": {
              "outlinewidth": 0,
              "ticks": ""
             }
            },
            "type": "scattermapbox"
           }
          ],
          "scatterpolar": [
           {
            "marker": {
             "colorbar": {
              "outlinewidth": 0,
              "ticks": ""
             }
            },
            "type": "scatterpolar"
           }
          ],
          "scatterpolargl": [
           {
            "marker": {
             "colorbar": {
              "outlinewidth": 0,
              "ticks": ""
             }
            },
            "type": "scatterpolargl"
           }
          ],
          "scatterternary": [
           {
            "marker": {
             "colorbar": {
              "outlinewidth": 0,
              "ticks": ""
             }
            },
            "type": "scatterternary"
           }
          ],
          "surface": [
           {
            "colorbar": {
             "outlinewidth": 0,
             "ticks": ""
            },
            "colorscale": [
             [
              0,
              "#0d0887"
             ],
             [
              0.1111111111111111,
              "#46039f"
             ],
             [
              0.2222222222222222,
              "#7201a8"
             ],
             [
              0.3333333333333333,
              "#9c179e"
             ],
             [
              0.4444444444444444,
              "#bd3786"
             ],
             [
              0.5555555555555556,
              "#d8576b"
             ],
             [
              0.6666666666666666,
              "#ed7953"
             ],
             [
              0.7777777777777778,
              "#fb9f3a"
             ],
             [
              0.8888888888888888,
              "#fdca26"
             ],
             [
              1,
              "#f0f921"
             ]
            ],
            "type": "surface"
           }
          ],
          "table": [
           {
            "cells": {
             "fill": {
              "color": "#EBF0F8"
             },
             "line": {
              "color": "white"
             }
            },
            "header": {
             "fill": {
              "color": "#C8D4E3"
             },
             "line": {
              "color": "white"
             }
            },
            "type": "table"
           }
          ]
         },
         "layout": {
          "annotationdefaults": {
           "arrowcolor": "#2a3f5f",
           "arrowhead": 0,
           "arrowwidth": 1
          },
          "autotypenumbers": "strict",
          "coloraxis": {
           "colorbar": {
            "outlinewidth": 0,
            "ticks": ""
           }
          },
          "colorscale": {
           "diverging": [
            [
             0,
             "#8e0152"
            ],
            [
             0.1,
             "#c51b7d"
            ],
            [
             0.2,
             "#de77ae"
            ],
            [
             0.3,
             "#f1b6da"
            ],
            [
             0.4,
             "#fde0ef"
            ],
            [
             0.5,
             "#f7f7f7"
            ],
            [
             0.6,
             "#e6f5d0"
            ],
            [
             0.7,
             "#b8e186"
            ],
            [
             0.8,
             "#7fbc41"
            ],
            [
             0.9,
             "#4d9221"
            ],
            [
             1,
             "#276419"
            ]
           ],
           "sequential": [
            [
             0,
             "#0d0887"
            ],
            [
             0.1111111111111111,
             "#46039f"
            ],
            [
             0.2222222222222222,
             "#7201a8"
            ],
            [
             0.3333333333333333,
             "#9c179e"
            ],
            [
             0.4444444444444444,
             "#bd3786"
            ],
            [
             0.5555555555555556,
             "#d8576b"
            ],
            [
             0.6666666666666666,
             "#ed7953"
            ],
            [
             0.7777777777777778,
             "#fb9f3a"
            ],
            [
             0.8888888888888888,
             "#fdca26"
            ],
            [
             1,
             "#f0f921"
            ]
           ],
           "sequentialminus": [
            [
             0,
             "#0d0887"
            ],
            [
             0.1111111111111111,
             "#46039f"
            ],
            [
             0.2222222222222222,
             "#7201a8"
            ],
            [
             0.3333333333333333,
             "#9c179e"
            ],
            [
             0.4444444444444444,
             "#bd3786"
            ],
            [
             0.5555555555555556,
             "#d8576b"
            ],
            [
             0.6666666666666666,
             "#ed7953"
            ],
            [
             0.7777777777777778,
             "#fb9f3a"
            ],
            [
             0.8888888888888888,
             "#fdca26"
            ],
            [
             1,
             "#f0f921"
            ]
           ]
          },
          "colorway": [
           "#636efa",
           "#EF553B",
           "#00cc96",
           "#ab63fa",
           "#FFA15A",
           "#19d3f3",
           "#FF6692",
           "#B6E880",
           "#FF97FF",
           "#FECB52"
          ],
          "font": {
           "color": "#2a3f5f"
          },
          "geo": {
           "bgcolor": "white",
           "lakecolor": "white",
           "landcolor": "#E5ECF6",
           "showlakes": true,
           "showland": true,
           "subunitcolor": "white"
          },
          "hoverlabel": {
           "align": "left"
          },
          "hovermode": "closest",
          "mapbox": {
           "style": "light"
          },
          "paper_bgcolor": "white",
          "plot_bgcolor": "#E5ECF6",
          "polar": {
           "angularaxis": {
            "gridcolor": "white",
            "linecolor": "white",
            "ticks": ""
           },
           "bgcolor": "#E5ECF6",
           "radialaxis": {
            "gridcolor": "white",
            "linecolor": "white",
            "ticks": ""
           }
          },
          "scene": {
           "xaxis": {
            "backgroundcolor": "#E5ECF6",
            "gridcolor": "white",
            "gridwidth": 2,
            "linecolor": "white",
            "showbackground": true,
            "ticks": "",
            "zerolinecolor": "white"
           },
           "yaxis": {
            "backgroundcolor": "#E5ECF6",
            "gridcolor": "white",
            "gridwidth": 2,
            "linecolor": "white",
            "showbackground": true,
            "ticks": "",
            "zerolinecolor": "white"
           },
           "zaxis": {
            "backgroundcolor": "#E5ECF6",
            "gridcolor": "white",
            "gridwidth": 2,
            "linecolor": "white",
            "showbackground": true,
            "ticks": "",
            "zerolinecolor": "white"
           }
          },
          "shapedefaults": {
           "line": {
            "color": "#2a3f5f"
           }
          },
          "ternary": {
           "aaxis": {
            "gridcolor": "white",
            "linecolor": "white",
            "ticks": ""
           },
           "baxis": {
            "gridcolor": "white",
            "linecolor": "white",
            "ticks": ""
           },
           "bgcolor": "#E5ECF6",
           "caxis": {
            "gridcolor": "white",
            "linecolor": "white",
            "ticks": ""
           }
          },
          "title": {
           "x": 0.05
          },
          "xaxis": {
           "automargin": true,
           "gridcolor": "white",
           "linecolor": "white",
           "ticks": "",
           "title": {
            "standoff": 15
           },
           "zerolinecolor": "white",
           "zerolinewidth": 2
          },
          "yaxis": {
           "automargin": true,
           "gridcolor": "white",
           "linecolor": "white",
           "ticks": "",
           "title": {
            "standoff": 15
           },
           "zerolinecolor": "white",
           "zerolinewidth": 2
          }
         }
        },
        "title": {
         "text": "가격별 맛집 분포"
        },
        "xaxis": {
         "anchor": "y",
         "domain": [
          0,
          1
         ],
         "title": {
          "text": "가격"
         }
        },
        "yaxis": {
         "anchor": "x",
         "domain": [
          0,
          1
         ],
         "title": {
          "text": "맛집 수"
         }
        }
       }
      }
     },
     "metadata": {},
     "output_type": "display_data"
    }
   ],
   "source": [
    "import plotly.express as px\n",
    "\n",
    "# 평균 가격 계산\n",
    "avg_price_value = restaurant['price'].mean()\n",
    "print(\"전체 맛집의 평균 가격:\", avg_price_value)\n",
    "\n",
    "# 히스토그램 생성\n",
    "fig = px.histogram(restaurant, x='price', title='가격별 맛집 분포',color_discrete_sequence=['green'])\n",
    "\n",
    "# 축 라벨 수정\n",
    "fig.update_layout(\n",
    "    xaxis_title='가격',\n",
    "    yaxis_title='맛집 수'\n",
    ")\n",
    "\n",
    "# 평균 가격선 추가\n",
    "fig.add_shape(\n",
    "    type='line',\n",
    "    x0=avg_price_value,\n",
    "    x1=avg_price_value,\n",
    "    y0=0,\n",
    "    y1=restaurant['price'].value_counts().max(),  # y축 최대값으로 선을 끝까지\n",
    "    line=dict(color='black', dash='dash')\n",
    ")\n",
    "\n",
    "# 선에 라벨 추가\n",
    "fig.add_annotation(\n",
    "    x=avg_price_value,\n",
    "    y=restaurant['price'].value_counts().max(),\n",
    "    text=f\"평균 가격: {avg_price_value:.2f}\",\n",
    "    showarrow=False,\n",
    "    yshift=10,\n",
    "    font=dict(color='black')\n",
    ")\n",
    "\n",
    "fig.show()"
   ]
  },
  {
   "cell_type": "code",
   "execution_count": 58,
   "metadata": {},
   "outputs": [
    {
     "data": {
      "text/html": [
       "<div>\n",
       "<style scoped>\n",
       "    .dataframe tbody tr th:only-of-type {\n",
       "        vertical-align: middle;\n",
       "    }\n",
       "\n",
       "    .dataframe tbody tr th {\n",
       "        vertical-align: top;\n",
       "    }\n",
       "\n",
       "    .dataframe thead th {\n",
       "        text-align: right;\n",
       "    }\n",
       "</style>\n",
       "<table border=\"1\" class=\"dataframe\">\n",
       "  <thead>\n",
       "    <tr style=\"text-align: right;\">\n",
       "      <th></th>\n",
       "      <th>name</th>\n",
       "      <th>station</th>\n",
       "      <th>category</th>\n",
       "      <th>score</th>\n",
       "      <th>review</th>\n",
       "      <th>price</th>\n",
       "      <th>address</th>\n",
       "      <th>latitude</th>\n",
       "      <th>longitude</th>\n",
       "      <th>value</th>\n",
       "      <th>performance</th>\n",
       "    </tr>\n",
       "  </thead>\n",
       "  <tbody>\n",
       "    <tr>\n",
       "      <th>0</th>\n",
       "      <td>100-17이태리선술집</td>\n",
       "      <td>신길역</td>\n",
       "      <td>호프,요리주점</td>\n",
       "      <td>4.9</td>\n",
       "      <td>171</td>\n",
       "      <td>13750</td>\n",
       "      <td>서울 영등포구 도신로 254 (우)07352</td>\n",
       "      <td>37.513005</td>\n",
       "      <td>126.919179</td>\n",
       "      <td>25.222723</td>\n",
       "      <td>0.000356</td>\n",
       "    </tr>\n",
       "    <tr>\n",
       "      <th>1</th>\n",
       "      <td>103호</td>\n",
       "      <td>당산역</td>\n",
       "      <td>실내포장마차</td>\n",
       "      <td>4.3</td>\n",
       "      <td>222</td>\n",
       "      <td>11000</td>\n",
       "      <td>서울 영등포구 양평로 64-1 1층 (우)07222</td>\n",
       "      <td>37.535288</td>\n",
       "      <td>126.899660</td>\n",
       "      <td>23.250839</td>\n",
       "      <td>0.000391</td>\n",
       "    </tr>\n",
       "    <tr>\n",
       "      <th>2</th>\n",
       "      <td>10G</td>\n",
       "      <td>여의나루역</td>\n",
       "      <td>디저트카페</td>\n",
       "      <td>3.9</td>\n",
       "      <td>120</td>\n",
       "      <td>6000</td>\n",
       "      <td>서울 영등포구 국제금융로 10 1층 (우)07326</td>\n",
       "      <td>37.524978</td>\n",
       "      <td>126.925298</td>\n",
       "      <td>18.703583</td>\n",
       "      <td>0.000650</td>\n",
       "    </tr>\n",
       "    <tr>\n",
       "      <th>3</th>\n",
       "      <td>10꼬르소꼬모서울카페</td>\n",
       "      <td>압구정로데오역</td>\n",
       "      <td>카페</td>\n",
       "      <td>3.2</td>\n",
       "      <td>70</td>\n",
       "      <td>16250</td>\n",
       "      <td>서울 강남구 압구정로 416 더트리니티빌딩 지하1층 (우)06015</td>\n",
       "      <td>37.526916</td>\n",
       "      <td>127.042419</td>\n",
       "      <td>13.640576</td>\n",
       "      <td>0.000197</td>\n",
       "    </tr>\n",
       "    <tr>\n",
       "      <th>4</th>\n",
       "      <td>153구포국수 군자점</td>\n",
       "      <td>군자(능동)역</td>\n",
       "      <td>분식</td>\n",
       "      <td>4.6</td>\n",
       "      <td>93</td>\n",
       "      <td>7375</td>\n",
       "      <td>서울 광진구 동일로60길 37 (우)04994</td>\n",
       "      <td>37.557979</td>\n",
       "      <td>127.075491</td>\n",
       "      <td>20.899156</td>\n",
       "      <td>0.000624</td>\n",
       "    </tr>\n",
       "  </tbody>\n",
       "</table>\n",
       "</div>"
      ],
      "text/plain": [
       "           name  station category  score  review  price  \\\n",
       "0  100-17이태리선술집      신길역  호프,요리주점    4.9     171  13750   \n",
       "1          103호      당산역   실내포장마차    4.3     222  11000   \n",
       "2           10G    여의나루역    디저트카페    3.9     120   6000   \n",
       "3   10꼬르소꼬모서울카페  압구정로데오역       카페    3.2      70  16250   \n",
       "4   153구포국수 군자점  군자(능동)역       분식    4.6      93   7375   \n",
       "\n",
       "                                 address   latitude   longitude      value  \\\n",
       "0               서울 영등포구 도신로 254 (우)07352  37.513005  126.919179  25.222723   \n",
       "1           서울 영등포구 양평로 64-1 1층 (우)07222  37.535288  126.899660  23.250839   \n",
       "2           서울 영등포구 국제금융로 10 1층 (우)07326  37.524978  126.925298  18.703583   \n",
       "3  서울 강남구 압구정로 416 더트리니티빌딩 지하1층 (우)06015  37.526916  127.042419  13.640576   \n",
       "4              서울 광진구 동일로60길 37 (우)04994  37.557979  127.075491  20.899156   \n",
       "\n",
       "   performance  \n",
       "0     0.000356  \n",
       "1     0.000391  \n",
       "2     0.000650  \n",
       "3     0.000197  \n",
       "4     0.000624  "
      ]
     },
     "execution_count": 58,
     "metadata": {},
     "output_type": "execute_result"
    }
   ],
   "source": [
    "\n",
    "restaurant.head()"
   ]
  },
  {
   "cell_type": "code",
   "execution_count": 63,
   "metadata": {},
   "outputs": [
    {
     "name": "stderr",
     "output_type": "stream",
     "text": [
      "/tmp/ipykernel_13930/1517381294.py:17: FutureWarning:\n",
      "\n",
      "The default value of observed=False is deprecated and will change to observed=True in a future version of pandas. Specify observed=False to silence this warning and retain the current behavior\n",
      "\n"
     ]
    },
    {
     "data": {
      "image/png": "[encoded data removed]",
      "text/plain": [
       "<Figure size 1000x600 with 2 Axes>"
      ]
     },
     "metadata": {},
     "output_type": "display_data"
    }
   ],
   "source": [
    "import pandas as pd\n",
    "import matplotlib.pyplot as plt\n",
    "import seaborn as sns\n",
    "import koreanize_matplotlib\n",
    "\n",
    "# 가격대 구간\n",
    "price_bins = [0, 5000, 10000, 15000, 20000, 30000, 50000]\n",
    "price_labels = ['~5천원', '5천~1만원', '1만~1.5만', '1.5만~2만', '2만~3만', '3만~5만']\n",
    "restaurant['price_range'] = pd.cut(restaurant['price'], bins=price_bins, labels=price_labels)\n",
    "\n",
    "# 평점 구간\n",
    "score_bins = [3, 3.5, 4, 4.5, 5.0]\n",
    "score_labels = [ '3~3.5', '3.5~4', '4~4.5', '4.5~5']\n",
    "restaurant['score_range'] = pd.cut(restaurant['score'], bins=score_bins, labels=score_labels)\n",
    "\n",
    "# 피벗 테이블\n",
    "pivot = restaurant.pivot_table(index='score_range', columns='price_range', aggfunc='size', fill_value=0)\n",
    "\n",
    "# ✅ 평점 구간 역순으로 정렬해서 y축 위로 갈수록 평점 높게\n",
    "pivot = pivot.reindex(index=score_labels[::-1])\n",
    "\n",
    "# 히트맵 그리기\n",
    "plt.figure(figsize=(10, 6))\n",
    "sns.heatmap(pivot, annot=True, fmt='d', cmap='Greens')\n",
    "plt.title('가격대별 평점별 맛집 수')\n",
    "plt.xlabel('가격대')\n",
    "plt.ylabel('평점 구간')\n",
    "plt.tight_layout()\n",
    "plt.show()\n"
   ]
  },
  {
   "cell_type": "code",
   "execution_count": 65,
   "metadata": {},
   "outputs": [
    {
     "name": "stderr",
     "output_type": "stream",
     "text": [
      "/tmp/ipykernel_13930/3299226385.py:18: FutureWarning:\n",
      "\n",
      "The default value of observed=False is deprecated and will change to observed=True in a future version of pandas. Specify observed=False to silence this warning and retain the current behavior\n",
      "\n"
     ]
    },
    {
     "data": {
      "image/png": "[encoded data removed]",
      "text/plain": [
       "<Figure size 1000x600 with 2 Axes>"
      ]
     },
     "metadata": {},
     "output_type": "display_data"
    }
   ],
   "source": [
    "import pandas as pd\n",
    "import matplotlib.pyplot as plt\n",
    "import seaborn as sns\n",
    "import koreanize_matplotlib\n",
    "import numpy as np\n",
    "\n",
    "# ✅ 가격대 구간\n",
    "price_bins = [0, 5000, 10000, 15000, 20000, 30000, 50000]\n",
    "price_labels = ['~5천원', '5천~1만원', '1만~1.5만', '1.5만~2만', '2만~3만', '3만~5만']\n",
    "restaurant['price_range'] = pd.cut(restaurant['price'], bins=price_bins, labels=price_labels)\n",
    "\n",
    "# ✅ 평가지수(value) 구간 설정\n",
    "value_bins = np.linspace(restaurant['value'].min(), restaurant['value'].max(), 6)  # 5개 구간\n",
    "value_labels = [f\"{round(value_bins[i], 1)}~{round(value_bins[i+1], 1)}\" for i in range(len(value_bins)-1)]\n",
    "restaurant['value_range'] = pd.cut(restaurant['value'], bins=value_bins, labels=value_labels)\n",
    "\n",
    "# ✅ 피벗 테이블 생성\n",
    "pivot = restaurant.pivot_table(index='value_range', columns='price_range', aggfunc='size', fill_value=0)\n",
    "\n",
    "# ✅ value 구간 역순 정렬 (높을수록 위로)\n",
    "pivot = pivot.reindex(index=value_labels[::-1])\n",
    "\n",
    "# ✅ 히트맵 시각화\n",
    "plt.figure(figsize=(10, 6))\n",
    "sns.heatmap(pivot, annot=True, fmt='d', cmap='Greens')\n",
    "plt.title('가격대별 평가지수별 맛집 수')\n",
    "plt.xlabel('가격대')\n",
    "plt.ylabel('평가지수 구간')\n",
    "plt.tight_layout()\n",
    "plt.show()\n"
   ]
  },
  {
   "cell_type": "code",
   "execution_count": 70,
   "metadata": {},
   "outputs": [
    {
     "name": "stderr",
     "output_type": "stream",
     "text": [
      "/tmp/ipykernel_13930/4082285860.py:32: FutureWarning:\n",
      "\n",
      "The default value of observed=False is deprecated and will change to observed=True in a future version of pandas. Specify observed=False to silence this warning and retain the current behavior\n",
      "\n"
     ]
    },
    {
     "data": {
      "image/png": "[encoded data removed]",
      "text/plain": [
       "<Figure size 1200x800 with 2 Axes>"
      ]
     },
     "metadata": {},
     "output_type": "display_data"
    }
   ],
   "source": [
    "import pandas as pd\n",
    "import matplotlib.pyplot as plt\n",
    "import seaborn as sns\n",
    "import koreanize_matplotlib\n",
    "import numpy as np\n",
    "\n",
    "# ✅ 가격대 구간 설정\n",
    "price_bins = [0, 5000, 10000, 15000, 20000, 30000, 50000]\n",
    "price_labels = ['~5천원', '5천~1만원', '1만~1.5만', '1.5만~2만', '2만~3만', '3만~5만']\n",
    "restaurant['price_range'] = pd.cut(restaurant['price'], bins=price_bins, labels=price_labels)\n",
    "\n",
    "# ✅ performance 구간 설정 (0 ~ 0.002, 10등분)\n",
    "performance_max = 0.002\n",
    "performance_bins = np.linspace(0, performance_max, 11)  # 10구간 → 11개의 경계\n",
    "performance_labels = [\n",
    "    f\"{round(performance_bins[i], 4)}~{round(performance_bins[i+1], 4)}\"\n",
    "    for i in range(len(performance_bins) - 1)\n",
    "]\n",
    "\n",
    "# ✅ restaurant['performance']가 0.002 초과인 데이터는 제외\n",
    "filtered_restaurant = restaurant[restaurant['performance'] <= performance_max].copy()\n",
    "\n",
    "# ✅ performance_range 생성\n",
    "filtered_restaurant['performance_range'] = pd.cut(\n",
    "    filtered_restaurant['performance'],\n",
    "    bins=performance_bins,\n",
    "    labels=performance_labels,\n",
    "    include_lowest=True\n",
    ")\n",
    "\n",
    "# ✅ 피벗 테이블 생성\n",
    "pivot = filtered_restaurant.pivot_table(\n",
    "    index='performance_range',\n",
    "    columns='price_range',\n",
    "    aggfunc='size',\n",
    "    fill_value=0\n",
    ")\n",
    "\n",
    "# ✅ 높은 성능이 위로 가도록 정렬\n",
    "pivot = pivot.reindex(index=performance_labels[::-1])\n",
    "\n",
    "# ✅ 히트맵 시각화\n",
    "plt.figure(figsize=(12, 8))\n",
    "sns.heatmap(pivot, annot=True, fmt='d', cmap='Greens')\n",
    "plt.title('가격대별 Performance별 맛집 수 (0~0.002 세분화)')\n",
    "plt.xlabel('가격대')\n",
    "plt.ylabel('Performance 구간 (0~0.002)')\n",
    "plt.tight_layout()\n",
    "plt.show()\n"
   ]
  },
  {
   "cell_type": "code",
   "execution_count": 60,
   "metadata": {},
   "outputs": [
    {
     "name": "stderr",
     "output_type": "stream",
     "text": [
      "/tmp/ipykernel_13930/2108747299.py:17: FutureWarning:\n",
      "\n",
      "The default value of observed=False is deprecated and will change to observed=True in a future version of pandas. Specify observed=False to silence this warning and retain the current behavior\n",
      "\n"
     ]
    },
    {
     "data": {
      "image/png": "[encoded data removed]",
      "text/plain": [
       "<Figure size 1000x600 with 2 Axes>"
      ]
     },
     "metadata": {},
     "output_type": "display_data"
    }
   ],
   "source": [
    "import pandas as pd\n",
    "import matplotlib.pyplot as plt\n",
    "import seaborn as sns\n",
    "import koreanize_matplotlib\n",
    "\n",
    "# 1. 가격대 구간 정의\n",
    "price_bins = [0, 5000, 10000, 15000, 20000, 30000, 50000]\n",
    "price_labels = ['~5천원', '5천~1만원', '1만~1.5만', '1.5만~2만', '2만~3만', '3만~5만']\n",
    "restaurant['price_range'] = pd.cut(restaurant['price'], bins=price_bins, labels=price_labels)\n",
    "\n",
    "# 2. 리뷰 수 구간 정의\n",
    "review_bins = [0, 50, 100, 200, 300, 500, 1000, 2000]\n",
    "review_labels = ['0~50', '51~100', '101~200', '201~300', '301~500', '501~1000', '1001~2000']\n",
    "restaurant['review_range'] = pd.cut(restaurant['review'], bins=review_bins, labels=review_labels)\n",
    "\n",
    "# 3. 피벗 테이블 생성\n",
    "pivot = restaurant.pivot_table(index='review_range', columns='price_range', aggfunc='size', fill_value=0)\n",
    "\n",
    "# 4. 리뷰 수 구간을 위로 갈수록 많게 정렬\n",
    "pivot = pivot.reindex(index=review_labels[::-1])\n",
    "\n",
    "# 5. 히트맵 시각화\n",
    "plt.figure(figsize=(10, 6))\n",
    "sns.heatmap(pivot, annot=True, fmt='d', cmap='Greens')\n",
    "plt.title('가격대별 리뷰 수 구간별 맛집 수')\n",
    "plt.xlabel('가격대')\n",
    "plt.ylabel('리뷰 수 구간')\n",
    "plt.tight_layout()\n",
    "plt.show()"
   ]
  },
  {
   "cell_type": "code",
   "execution_count": 62,
   "metadata": {},
   "outputs": [
    {
     "name": "stderr",
     "output_type": "stream",
     "text": [
      "/tmp/ipykernel_13930/3185126823.py:17: FutureWarning:\n",
      "\n",
      "The default value of observed=False is deprecated and will change to observed=True in a future version of pandas. Specify observed=False to silence this warning and retain the current behavior\n",
      "\n"
     ]
    },
    {
     "data": {
      "image/png": "[encoded data removed]",
      "text/plain": [
       "<Figure size 1000x600 with 2 Axes>"
      ]
     },
     "metadata": {},
     "output_type": "display_data"
    }
   ],
   "source": [
    "import pandas as pd\n",
    "import matplotlib.pyplot as plt\n",
    "import seaborn as sns\n",
    "import koreanize_matplotlib\n",
    "\n",
    "# 1. 평점 구간 정의\n",
    "score_bins = [ 3, 3.5, 4, 4.5, 5.0]\n",
    "score_labels = [ '3~3.5', '3.5~4', '4~4.5', '4.5~5']\n",
    "restaurant['score_range'] = pd.cut(restaurant['score'], bins=score_bins, labels=score_labels)\n",
    "\n",
    "# 2. 리뷰 수 구간 정의\n",
    "review_bins = [0, 50, 100, 200, 300, 500, 1000, 2000]\n",
    "review_labels = ['0~50', '51~100', '101~200', '201~300', '301~500', '501~1000', '1001~2000']\n",
    "restaurant['review_range'] = pd.cut(restaurant['review'], bins=review_bins, labels=review_labels)\n",
    "\n",
    "# 3. 피벗 테이블 생성\n",
    "pivot = restaurant.pivot_table(index='review_range', columns='score_range', aggfunc='size', fill_value=0)\n",
    "\n",
    "# 4. 리뷰 수 구간을 위로 갈수록 많게 정렬\n",
    "pivot = pivot.reindex(index=review_labels[::-1])\n",
    "pivot = pivot.reindex(columns=score_labels)  # score도 순서 맞추기\n",
    "\n",
    "# 5. 히트맵 시각화\n",
    "plt.figure(figsize=(10, 6))\n",
    "sns.heatmap(pivot, annot=True, fmt='d', cmap='Greens')\n",
    "plt.title('평점별 리뷰 수 구간별 맛집 수')\n",
    "plt.xlabel('평점 구간')\n",
    "plt.ylabel('리뷰 수 구간')\n",
    "plt.tight_layout()\n",
    "plt.show()"
   ]
  }
 ],
 "metadata": {
  "kernelspec": {
   "display_name": "eda_venv",
   "language": "python",
   "name": "python3"
  },
  "language_info": {
   "codemirror_mode": {
    "name": "ipython",
    "version": 3
   },
   "file_extension": ".py",
   "mimetype": "text/x-python",
   "name": "python",
   "nbconvert_exporter": "python",
   "pygments_lexer": "ipython3",
   "version": "3.12.3"
  }
 },
 "nbformat": 4,
 "nbformat_minor": 2
}
