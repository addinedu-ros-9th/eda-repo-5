{
 "cells": [
  {
   "cell_type": "code",
   "execution_count": 20,
   "metadata": {},
   "outputs": [
    {
     "name": "stderr",
     "output_type": "stream",
     "text": [
      "/tmp/ipykernel_24515/1667690205.py:13: UserWarning:\n",
      "\n",
      "pandas only supports SQLAlchemy connectable (engine/connection) or database string URI or sqlite3 DBAPI2 connection. Other DBAPI2 objects are not tested. Please consider using SQLAlchemy.\n",
      "\n"
     ]
    },
    {
     "data": {
      "text/html": [
       "<div>\n",
       "<style scoped>\n",
       "    .dataframe tbody tr th:only-of-type {\n",
       "        vertical-align: middle;\n",
       "    }\n",
       "\n",
       "    .dataframe tbody tr th {\n",
       "        vertical-align: top;\n",
       "    }\n",
       "\n",
       "    .dataframe thead th {\n",
       "        text-align: right;\n",
       "    }\n",
       "</style>\n",
       "<table border=\"1\" class=\"dataframe\">\n",
       "  <thead>\n",
       "    <tr style=\"text-align: right;\">\n",
       "      <th></th>\n",
       "      <th>name</th>\n",
       "      <th>station</th>\n",
       "      <th>category</th>\n",
       "      <th>type</th>\n",
       "      <th>review</th>\n",
       "      <th>address</th>\n",
       "      <th>latitude</th>\n",
       "      <th>longitude</th>\n",
       "    </tr>\n",
       "  </thead>\n",
       "  <tbody>\n",
       "    <tr>\n",
       "      <th>0</th>\n",
       "      <td>(Jokers)조커스</td>\n",
       "      <td>연신내역</td>\n",
       "      <td>보드카페</td>\n",
       "      <td>1</td>\n",
       "      <td>24</td>\n",
       "      <td>서울 은평구 서오릉로 100 지하1층</td>\n",
       "      <td>37.608935</td>\n",
       "      <td>126.921038</td>\n",
       "    </tr>\n",
       "    <tr>\n",
       "      <th>1</th>\n",
       "      <td>[푸에르자 부르타] FB씨어터</td>\n",
       "      <td>서울숲역</td>\n",
       "      <td>공연장</td>\n",
       "      <td>1</td>\n",
       "      <td>762</td>\n",
       "      <td>서울 성동구 고산자로 71 FB씨어터</td>\n",
       "      <td>37.544488</td>\n",
       "      <td>127.035898</td>\n",
       "    </tr>\n",
       "    <tr>\n",
       "      <th>2</th>\n",
       "      <td>00의 00</td>\n",
       "      <td>성신여대입구역</td>\n",
       "      <td>미술관</td>\n",
       "      <td>1</td>\n",
       "      <td>32</td>\n",
       "      <td>서울 성북구 성북로2길 8 지하1층</td>\n",
       "      <td>37.588997</td>\n",
       "      <td>127.006390</td>\n",
       "    </tr>\n",
       "    <tr>\n",
       "      <th>3</th>\n",
       "      <td>1101 어린이라운지</td>\n",
       "      <td>교대역</td>\n",
       "      <td>키즈카페,실내놀이터</td>\n",
       "      <td>1</td>\n",
       "      <td>3305</td>\n",
       "      <td>서울 서초구 남부순환로 2406 예술의전당 비타민스테이션 1101 어린이라운지</td>\n",
       "      <td>37.480231</td>\n",
       "      <td>127.013467</td>\n",
       "    </tr>\n",
       "    <tr>\n",
       "      <th>4</th>\n",
       "      <td>179아트스튜디오</td>\n",
       "      <td>서울역</td>\n",
       "      <td>셀프,대여스튜디오</td>\n",
       "      <td>1</td>\n",
       "      <td>22</td>\n",
       "      <td>서울 용산구 두텁바위로 179 2층/3층/4층</td>\n",
       "      <td>37.553534</td>\n",
       "      <td>126.978504</td>\n",
       "    </tr>\n",
       "  </tbody>\n",
       "</table>\n",
       "</div>"
      ],
      "text/plain": [
       "               name  station    category  type  review  \\\n",
       "0       (Jokers)조커스     연신내역        보드카페     1      24   \n",
       "1  [푸에르자 부르타] FB씨어터     서울숲역         공연장     1     762   \n",
       "2            00의 00  성신여대입구역         미술관     1      32   \n",
       "3       1101 어린이라운지      교대역  키즈카페,실내놀이터     1    3305   \n",
       "4         179아트스튜디오      서울역   셀프,대여스튜디오     1      22   \n",
       "\n",
       "                                       address   latitude   longitude  \n",
       "0                         서울 은평구 서오릉로 100 지하1층  37.608935  126.921038  \n",
       "1                         서울 성동구 고산자로 71 FB씨어터  37.544488  127.035898  \n",
       "2                          서울 성북구 성북로2길 8 지하1층  37.588997  127.006390  \n",
       "3  서울 서초구 남부순환로 2406 예술의전당 비타민스테이션 1101 어린이라운지  37.480231  127.013467  \n",
       "4                    서울 용산구 두텁바위로 179 2층/3층/4층  37.553534  126.978504  "
      ]
     },
     "execution_count": 20,
     "metadata": {},
     "output_type": "execute_result"
    }
   ],
   "source": [
    "import mysql.connector\n",
    "import pandas as pd\n",
    "\n",
    "ojk = mysql.connector.connect(\n",
    "    host = \"database-1.cnu82kme6p4d.ap-northeast-2.rds.amazonaws.com\",\n",
    "    port = 3306,\n",
    "    user = \"eda\",\n",
    "    password = \"ojk0707\",\n",
    "    database = \"ojk\"\n",
    ")\n",
    "cursor = ojk.cursor()\n",
    "query = \"SELECT * FROM enjoy\"\n",
    "enjoy = pd.read_sql(query, ojk)\n",
    "enjoy.head()"
   ]
  },
  {
   "cell_type": "code",
   "execution_count": 21,
   "metadata": {},
   "outputs": [
    {
     "data": {
      "text/html": [
       "<div>\n",
       "<style scoped>\n",
       "    .dataframe tbody tr th:only-of-type {\n",
       "        vertical-align: middle;\n",
       "    }\n",
       "\n",
       "    .dataframe tbody tr th {\n",
       "        vertical-align: top;\n",
       "    }\n",
       "\n",
       "    .dataframe thead th {\n",
       "        text-align: right;\n",
       "    }\n",
       "</style>\n",
       "<table border=\"1\" class=\"dataframe\">\n",
       "  <thead>\n",
       "    <tr style=\"text-align: right;\">\n",
       "      <th></th>\n",
       "      <th>name</th>\n",
       "      <th>station</th>\n",
       "      <th>category</th>\n",
       "      <th>type</th>\n",
       "      <th>review</th>\n",
       "      <th>address</th>\n",
       "      <th>latitude</th>\n",
       "      <th>longitude</th>\n",
       "      <th>indicator</th>\n",
       "    </tr>\n",
       "  </thead>\n",
       "  <tbody>\n",
       "    <tr>\n",
       "      <th>0</th>\n",
       "      <td>(Jokers)조커스</td>\n",
       "      <td>연신내역</td>\n",
       "      <td>보드카페</td>\n",
       "      <td>1</td>\n",
       "      <td>24</td>\n",
       "      <td>서울 은평구 서오릉로 100 지하1층</td>\n",
       "      <td>37.608935</td>\n",
       "      <td>126.921038</td>\n",
       "      <td>3.218876</td>\n",
       "    </tr>\n",
       "    <tr>\n",
       "      <th>1</th>\n",
       "      <td>[푸에르자 부르타] FB씨어터</td>\n",
       "      <td>서울숲역</td>\n",
       "      <td>공연장</td>\n",
       "      <td>1</td>\n",
       "      <td>762</td>\n",
       "      <td>서울 성동구 고산자로 71 FB씨어터</td>\n",
       "      <td>37.544488</td>\n",
       "      <td>127.035898</td>\n",
       "      <td>6.637258</td>\n",
       "    </tr>\n",
       "    <tr>\n",
       "      <th>2</th>\n",
       "      <td>00의 00</td>\n",
       "      <td>성신여대입구역</td>\n",
       "      <td>미술관</td>\n",
       "      <td>1</td>\n",
       "      <td>32</td>\n",
       "      <td>서울 성북구 성북로2길 8 지하1층</td>\n",
       "      <td>37.588997</td>\n",
       "      <td>127.006390</td>\n",
       "      <td>3.496508</td>\n",
       "    </tr>\n",
       "    <tr>\n",
       "      <th>3</th>\n",
       "      <td>1101 어린이라운지</td>\n",
       "      <td>교대역</td>\n",
       "      <td>키즈카페,실내놀이터</td>\n",
       "      <td>1</td>\n",
       "      <td>3305</td>\n",
       "      <td>서울 서초구 남부순환로 2406 예술의전당 비타민스테이션 1101 어린이라운지</td>\n",
       "      <td>37.480231</td>\n",
       "      <td>127.013467</td>\n",
       "      <td>8.103494</td>\n",
       "    </tr>\n",
       "    <tr>\n",
       "      <th>4</th>\n",
       "      <td>179아트스튜디오</td>\n",
       "      <td>서울역</td>\n",
       "      <td>셀프,대여스튜디오</td>\n",
       "      <td>1</td>\n",
       "      <td>22</td>\n",
       "      <td>서울 용산구 두텁바위로 179 2층/3층/4층</td>\n",
       "      <td>37.553534</td>\n",
       "      <td>126.978504</td>\n",
       "      <td>3.135494</td>\n",
       "    </tr>\n",
       "  </tbody>\n",
       "</table>\n",
       "</div>"
      ],
      "text/plain": [
       "               name  station    category  type  review  \\\n",
       "0       (Jokers)조커스     연신내역        보드카페     1      24   \n",
       "1  [푸에르자 부르타] FB씨어터     서울숲역         공연장     1     762   \n",
       "2            00의 00  성신여대입구역         미술관     1      32   \n",
       "3       1101 어린이라운지      교대역  키즈카페,실내놀이터     1    3305   \n",
       "4         179아트스튜디오      서울역   셀프,대여스튜디오     1      22   \n",
       "\n",
       "                                       address   latitude   longitude  \\\n",
       "0                         서울 은평구 서오릉로 100 지하1층  37.608935  126.921038   \n",
       "1                         서울 성동구 고산자로 71 FB씨어터  37.544488  127.035898   \n",
       "2                          서울 성북구 성북로2길 8 지하1층  37.588997  127.006390   \n",
       "3  서울 서초구 남부순환로 2406 예술의전당 비타민스테이션 1101 어린이라운지  37.480231  127.013467   \n",
       "4                    서울 용산구 두텁바위로 179 2층/3층/4층  37.553534  126.978504   \n",
       "\n",
       "   indicator  \n",
       "0   3.218876  \n",
       "1   6.637258  \n",
       "2   3.496508  \n",
       "3   8.103494  \n",
       "4   3.135494  "
      ]
     },
     "execution_count": 21,
     "metadata": {},
     "output_type": "execute_result"
    }
   ],
   "source": [
    "import numpy as np\n",
    "enjoy['indicator']=np.log(enjoy['review']+1)\n",
    "enjoy.head()"
   ]
  },
  {
   "cell_type": "code",
   "execution_count": 22,
   "metadata": {},
   "outputs": [
    {
     "data": {
      "application/vnd.plotly.v1+json": {
       "config": {
        "plotlyServerURL": "https://plot.ly"
       },
       "data": [
        {
         "bingroup": "x",
         "hovertemplate": "indicator=%{x}<br>count=%{y}<extra></extra>",
         "legendgroup": "",
         "marker": {
          "color": "green",
          "pattern": {
           "shape": ""
          }
         },
         "name": "",
         "orientation": "v",
         "showlegend": false,
         "type": "histogram",
         "x": {
          "bdata": "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",
          "dtype": "f8"
         },
         "xaxis": "x",
         "yaxis": "y"
        }
       ],
       "layout": {
        "barmode": "relative",
        "legend": {
         "tracegroupgap": 0
        },
        "template": {
         "data": {
          "bar": [
           {
            "error_x": {
             "color": "#2a3f5f"
            },
            "error_y": {
             "color": "#2a3f5f"
            },
            "marker": {
             "line": {
              "color": "#E5ECF6",
              "width": 0.5
             },
             "pattern": {
              "fillmode": "overlay",
              "size": 10,
              "solidity": 0.2
             }
            },
            "type": "bar"
           }
          ],
          "barpolar": [
           {
            "marker": {
             "line": {
              "color": "#E5ECF6",
              "width": 0.5
             },
             "pattern": {
              "fillmode": "overlay",
              "size": 10,
              "solidity": 0.2
             }
            },
            "type": "barpolar"
           }
          ],
          "carpet": [
           {
            "aaxis": {
             "endlinecolor": "#2a3f5f",
             "gridcolor": "white",
             "linecolor": "white",
             "minorgridcolor": "white",
             "startlinecolor": "#2a3f5f"
            },
            "baxis": {
             "endlinecolor": "#2a3f5f",
             "gridcolor": "white",
             "linecolor": "white",
             "minorgridcolor": "white",
             "startlinecolor": "#2a3f5f"
            },
            "type": "carpet"
           }
          ],
          "choropleth": [
           {
            "colorbar": {
             "outlinewidth": 0,
             "ticks": ""
            },
            "type": "choropleth"
           }
          ],
          "contour": [
           {
            "colorbar": {
             "outlinewidth": 0,
             "ticks": ""
            },
            "colorscale": [
             [
              0,
              "#0d0887"
             ],
             [
              0.1111111111111111,
              "#46039f"
             ],
             [
              0.2222222222222222,
              "#7201a8"
             ],
             [
              0.3333333333333333,
              "#9c179e"
             ],
             [
              0.4444444444444444,
              "#bd3786"
             ],
             [
              0.5555555555555556,
              "#d8576b"
             ],
             [
              0.6666666666666666,
              "#ed7953"
             ],
             [
              0.7777777777777778,
              "#fb9f3a"
             ],
             [
              0.8888888888888888,
              "#fdca26"
             ],
             [
              1,
              "#f0f921"
             ]
            ],
            "type": "contour"
           }
          ],
          "contourcarpet": [
           {
            "colorbar": {
             "outlinewidth": 0,
             "ticks": ""
            },
            "type": "contourcarpet"
           }
          ],
          "heatmap": [
           {
            "colorbar": {
             "outlinewidth": 0,
             "ticks": ""
            },
            "colorscale": [
             [
              0,
              "#0d0887"
             ],
             [
              0.1111111111111111,
              "#46039f"
             ],
             [
              0.2222222222222222,
              "#7201a8"
             ],
             [
              0.3333333333333333,
              "#9c179e"
             ],
             [
              0.4444444444444444,
              "#bd3786"
             ],
             [
              0.5555555555555556,
              "#d8576b"
             ],
             [
              0.6666666666666666,
              "#ed7953"
             ],
             [
              0.7777777777777778,
              "#fb9f3a"
             ],
             [
              0.8888888888888888,
              "#fdca26"
             ],
             [
              1,
              "#f0f921"
             ]
            ],
            "type": "heatmap"
           }
          ],
          "histogram": [
           {
            "marker": {
             "pattern": {
              "fillmode": "overlay",
              "size": 10,
              "solidity": 0.2
             }
            },
            "type": "histogram"
           }
          ],
          "histogram2d": [
           {
            "colorbar": {
             "outlinewidth": 0,
             "ticks": ""
            },
            "colorscale": [
             [
              0,
              "#0d0887"
             ],
             [
              0.1111111111111111,
              "#46039f"
             ],
             [
              0.2222222222222222,
              "#7201a8"
             ],
             [
              0.3333333333333333,
              "#9c179e"
             ],
             [
              0.4444444444444444,
              "#bd3786"
             ],
             [
              0.5555555555555556,
              "#d8576b"
             ],
             [
              0.6666666666666666,
              "#ed7953"
             ],
             [
              0.7777777777777778,
              "#fb9f3a"
             ],
             [
              0.8888888888888888,
              "#fdca26"
             ],
             [
              1,
              "#f0f921"
             ]
            ],
            "type": "histogram2d"
           }
          ],
          "histogram2dcontour": [
           {
            "colorbar": {
             "outlinewidth": 0,
             "ticks": ""
            },
            "colorscale": [
             [
              0,
              "#0d0887"
             ],
             [
              0.1111111111111111,
              "#46039f"
             ],
             [
              0.2222222222222222,
              "#7201a8"
             ],
             [
              0.3333333333333333,
              "#9c179e"
             ],
             [
              0.4444444444444444,
              "#bd3786"
             ],
             [
              0.5555555555555556,
              "#d8576b"
             ],
             [
              0.6666666666666666,
              "#ed7953"
             ],
             [
              0.7777777777777778,
              "#fb9f3a"
             ],
             [
              0.8888888888888888,
              "#fdca26"
             ],
             [
              1,
              "#f0f921"
             ]
            ],
            "type": "histogram2dcontour"
           }
          ],
          "mesh3d": [
           {
            "colorbar": {
             "outlinewidth": 0,
             "ticks": ""
            },
            "type": "mesh3d"
           }
          ],
          "parcoords": [
           {
            "line": {
             "colorbar": {
              "outlinewidth": 0,
              "ticks": ""
             }
            },
            "type": "parcoords"
           }
          ],
          "pie": [
           {
            "automargin": true,
            "type": "pie"
           }
          ],
          "scatter": [
           {
            "fillpattern": {
             "fillmode": "overlay",
             "size": 10,
             "solidity": 0.2
            },
            "type": "scatter"
           }
          ],
          "scatter3d": [
           {
            "line": {
             "colorbar": {
              "outlinewidth": 0,
              "ticks": ""
             }
            },
            "marker": {
             "colorbar": {
              "outlinewidth": 0,
              "ticks": ""
             }
            },
            "type": "scatter3d"
           }
          ],
          "scattercarpet": [
           {
            "marker": {
             "colorbar": {
              "outlinewidth": 0,
              "ticks": ""
             }
            },
            "type": "scattercarpet"
           }
          ],
          "scattergeo": [
           {
            "marker": {
             "colorbar": {
              "outlinewidth": 0,
              "ticks": ""
             }
            },
            "type": "scattergeo"
           }
          ],
          "scattergl": [
           {
            "marker": {
             "colorbar": {
              "outlinewidth": 0,
              "ticks": ""
             }
            },
            "type": "scattergl"
           }
          ],
          "scattermap": [
           {
            "marker": {
             "colorbar": {
              "outlinewidth": 0,
              "ticks": ""
             }
            },
            "type": "scattermap"
           }
          ],
          "scattermapbox": [
           {
            "marker": {
             "colorbar": {
              "outlinewidth": 0,
              "ticks": ""
             }
            },
            "type": "scattermapbox"
           }
          ],
          "scatterpolar": [
           {
            "marker": {
             "colorbar": {
              "outlinewidth": 0,
              "ticks": ""
             }
            },
            "type": "scatterpolar"
           }
          ],
          "scatterpolargl": [
           {
            "marker": {
             "colorbar": {
              "outlinewidth": 0,
              "ticks": ""
             }
            },
            "type": "scatterpolargl"
           }
          ],
          "scatterternary": [
           {
            "marker": {
             "colorbar": {
              "outlinewidth": 0,
              "ticks": ""
             }
            },
            "type": "scatterternary"
           }
          ],
          "surface": [
           {
            "colorbar": {
             "outlinewidth": 0,
             "ticks": ""
            },
            "colorscale": [
             [
              0,
              "#0d0887"
             ],
             [
              0.1111111111111111,
              "#46039f"
             ],
             [
              0.2222222222222222,
              "#7201a8"
             ],
             [
              0.3333333333333333,
              "#9c179e"
             ],
             [
              0.4444444444444444,
              "#bd3786"
             ],
             [
              0.5555555555555556,
              "#d8576b"
             ],
             [
              0.6666666666666666,
              "#ed7953"
             ],
             [
              0.7777777777777778,
              "#fb9f3a"
             ],
             [
              0.8888888888888888,
              "#fdca26"
             ],
             [
              1,
              "#f0f921"
             ]
            ],
            "type": "surface"
           }
          ],
          "table": [
           {
            "cells": {
             "fill": {
              "color": "#EBF0F8"
             },
             "line": {
              "color": "white"
             }
            },
            "header": {
             "fill": {
              "color": "#C8D4E3"
             },
             "line": {
              "color": "white"
             }
            },
            "type": "table"
           }
          ]
         },
         "layout": {
          "annotationdefaults": {
           "arrowcolor": "#2a3f5f",
           "arrowhead": 0,
           "arrowwidth": 1
          },
          "autotypenumbers": "strict",
          "coloraxis": {
           "colorbar": {
            "outlinewidth": 0,
            "ticks": ""
           }
          },
          "colorscale": {
           "diverging": [
            [
             0,
             "#8e0152"
            ],
            [
             0.1,
             "#c51b7d"
            ],
            [
             0.2,
             "#de77ae"
            ],
            [
             0.3,
             "#f1b6da"
            ],
            [
             0.4,
             "#fde0ef"
            ],
            [
             0.5,
             "#f7f7f7"
            ],
            [
             0.6,
             "#e6f5d0"
            ],
            [
             0.7,
             "#b8e186"
            ],
            [
             0.8,
             "#7fbc41"
            ],
            [
             0.9,
             "#4d9221"
            ],
            [
             1,
             "#276419"
            ]
           ],
           "sequential": [
            [
             0,
             "#0d0887"
            ],
            [
             0.1111111111111111,
             "#46039f"
            ],
            [
             0.2222222222222222,
             "#7201a8"
            ],
            [
             0.3333333333333333,
             "#9c179e"
            ],
            [
             0.4444444444444444,
             "#bd3786"
            ],
            [
             0.5555555555555556,
             "#d8576b"
            ],
            [
             0.6666666666666666,
             "#ed7953"
            ],
            [
             0.7777777777777778,
             "#fb9f3a"
            ],
            [
             0.8888888888888888,
             "#fdca26"
            ],
            [
             1,
             "#f0f921"
            ]
           ],
           "sequentialminus": [
            [
             0,
             "#0d0887"
            ],
            [
             0.1111111111111111,
             "#46039f"
            ],
            [
             0.2222222222222222,
             "#7201a8"
            ],
            [
             0.3333333333333333,
             "#9c179e"
            ],
            [
             0.4444444444444444,
             "#bd3786"
            ],
            [
             0.5555555555555556,
             "#d8576b"
            ],
            [
             0.6666666666666666,
             "#ed7953"
            ],
            [
             0.7777777777777778,
             "#fb9f3a"
            ],
            [
             0.8888888888888888,
             "#fdca26"
            ],
            [
             1,
             "#f0f921"
            ]
           ]
          },
          "colorway": [
           "#636efa",
           "#EF553B",
           "#00cc96",
           "#ab63fa",
           "#FFA15A",
           "#19d3f3",
           "#FF6692",
           "#B6E880",
           "#FF97FF",
           "#FECB52"
          ],
          "font": {
           "color": "#2a3f5f"
          },
          "geo": {
           "bgcolor": "white",
           "lakecolor": "white",
           "landcolor": "#E5ECF6",
           "showlakes": true,
           "showland": true,
           "subunitcolor": "white"
          },
          "hoverlabel": {
           "align": "left"
          },
          "hovermode": "closest",
          "mapbox": {
           "style": "light"
          },
          "paper_bgcolor": "white",
          "plot_bgcolor": "#E5ECF6",
          "polar": {
           "angularaxis": {
            "gridcolor": "white",
            "linecolor": "white",
            "ticks": ""
           },
           "bgcolor": "#E5ECF6",
           "radialaxis": {
            "gridcolor": "white",
            "linecolor": "white",
            "ticks": ""
           }
          },
          "scene": {
           "xaxis": {
            "backgroundcolor": "#E5ECF6",
            "gridcolor": "white",
            "gridwidth": 2,
            "linecolor": "white",
            "showbackground": true,
            "ticks": "",
            "zerolinecolor": "white"
           },
           "yaxis": {
            "backgroundcolor": "#E5ECF6",
            "gridcolor": "white",
            "gridwidth": 2,
            "linecolor": "white",
            "showbackground": true,
            "ticks": "",
            "zerolinecolor": "white"
           },
           "zaxis": {
            "backgroundcolor": "#E5ECF6",
            "gridcolor": "white",
            "gridwidth": 2,
            "linecolor": "white",
            "showbackground": true,
            "ticks": "",
            "zerolinecolor": "white"
           }
          },
          "shapedefaults": {
           "line": {
            "color": "#2a3f5f"
           }
          },
          "ternary": {
           "aaxis": {
            "gridcolor": "white",
            "linecolor": "white",
            "ticks": ""
           },
           "baxis": {
            "gridcolor": "white",
            "linecolor": "white",
            "ticks": ""
           },
           "bgcolor": "#E5ECF6",
           "caxis": {
            "gridcolor": "white",
            "linecolor": "white",
            "ticks": ""
           }
          },
          "title": {
           "x": 0.05
          },
          "xaxis": {
           "automargin": true,
           "gridcolor": "white",
           "linecolor": "white",
           "ticks": "",
           "title": {
            "standoff": 15
           },
           "zerolinecolor": "white",
           "zerolinewidth": 2
          },
          "yaxis": {
           "automargin": true,
           "gridcolor": "white",
           "linecolor": "white",
           "ticks": "",
           "title": {
            "standoff": 15
           },
           "zerolinecolor": "white",
           "zerolinewidth": 2
          }
         }
        },
        "title": {
         "text": "지표값별 놀거리 분포"
        },
        "xaxis": {
         "anchor": "y",
         "domain": [
          0,
          1
         ],
         "title": {
          "text": "지표값 (log(리뷰수 + 1))"
         }
        },
        "yaxis": {
         "anchor": "x",
         "domain": [
          0,
          1
         ],
         "title": {
          "text": "놀거리 수"
         }
        }
       }
      }
     },
     "metadata": {},
     "output_type": "display_data"
    }
   ],
   "source": [
    "import plotly.express as px\n",
    "\n",
    "fig = px.histogram(enjoy,x='indicator',title='지표값별 놀거리 분포',color_discrete_sequence=['green'])\n",
    "fig.update_layout(\n",
    "    xaxis_title='지표값 (log(리뷰수 + 1))',\n",
    "    yaxis_title='놀거리 수'\n",
    ")\n",
    "fig.show()"
   ]
  },
  {
   "cell_type": "code",
   "execution_count": 23,
   "metadata": {},
   "outputs": [
    {
     "name": "stdout",
     "output_type": "stream",
     "text": [
      "전체 맛집의 평균 평가지수: 4.784839175958799\n"
     ]
    }
   ],
   "source": [
    "avg_value_value = enjoy['indicator'].mean()\n",
    "print(\"전체 맛집의 평균 평가지수:\", avg_value_value)"
   ]
  },
  {
   "cell_type": "code",
   "execution_count": 24,
   "metadata": {},
   "outputs": [
    {
     "name": "stdout",
     "output_type": "stream",
     "text": [
      "전체 놀거리의 평균 지표값: 4.784839175958799\n"
     ]
    },
    {
     "data": {
      "application/vnd.plotly.v1+json": {
       "config": {
        "plotlyServerURL": "https://plot.ly"
       },
       "data": [
        {
         "bingroup": "x",
         "hovertemplate": "indicator=%{x}<br>count=%{y}<extra></extra>",
         "legendgroup": "",
         "marker": {
          "color": "green",
          "pattern": {
           "shape": ""
          }
         },
         "name": "",
         "orientation": "v",
         "showlegend": false,
         "type": "histogram",
         "x": {
          "bdata": "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",
          "dtype": "f8"
         },
         "xaxis": "x",
         "yaxis": "y"
        }
       ],
       "layout": {
        "annotations": [
         {
          "font": {
           "color": "black"
          },
          "showarrow": false,
          "text": "평균 지표값: 4.78",
          "x": 4.784839175958799,
          "y": 172,
          "yshift": 10
         }
        ],
        "barmode": "relative",
        "legend": {
         "tracegroupgap": 0
        },
        "shapes": [
         {
          "line": {
           "color": "black",
           "dash": "dash"
          },
          "type": "line",
          "x0": 4.784839175958799,
          "x1": 4.784839175958799,
          "y0": 0,
          "y1": 172
         }
        ],
        "template": {
         "data": {
          "bar": [
           {
            "error_x": {
             "color": "#2a3f5f"
            },
            "error_y": {
             "color": "#2a3f5f"
            },
            "marker": {
             "line": {
              "color": "#E5ECF6",
              "width": 0.5
             },
             "pattern": {
              "fillmode": "overlay",
              "size": 10,
              "solidity": 0.2
             }
            },
            "type": "bar"
           }
          ],
          "barpolar": [
           {
            "marker": {
             "line": {
              "color": "#E5ECF6",
              "width": 0.5
             },
             "pattern": {
              "fillmode": "overlay",
              "size": 10,
              "solidity": 0.2
             }
            },
            "type": "barpolar"
           }
          ],
          "carpet": [
           {
            "aaxis": {
             "endlinecolor": "#2a3f5f",
             "gridcolor": "white",
             "linecolor": "white",
             "minorgridcolor": "white",
             "startlinecolor": "#2a3f5f"
            },
            "baxis": {
             "endlinecolor": "#2a3f5f",
             "gridcolor": "white",
             "linecolor": "white",
             "minorgridcolor": "white",
             "startlinecolor": "#2a3f5f"
            },
            "type": "carpet"
           }
          ],
          "choropleth": [
           {
            "colorbar": {
             "outlinewidth": 0,
             "ticks": ""
            },
            "type": "choropleth"
           }
          ],
          "contour": [
           {
            "colorbar": {
             "outlinewidth": 0,
             "ticks": ""
            },
            "colorscale": [
             [
              0,
              "#0d0887"
             ],
             [
              0.1111111111111111,
              "#46039f"
             ],
             [
              0.2222222222222222,
              "#7201a8"
             ],
             [
              0.3333333333333333,
              "#9c179e"
             ],
             [
              0.4444444444444444,
              "#bd3786"
             ],
             [
              0.5555555555555556,
              "#d8576b"
             ],
             [
              0.6666666666666666,
              "#ed7953"
             ],
             [
              0.7777777777777778,
              "#fb9f3a"
             ],
             [
              0.8888888888888888,
              "#fdca26"
             ],
             [
              1,
              "#f0f921"
             ]
            ],
            "type": "contour"
           }
          ],
          "contourcarpet": [
           {
            "colorbar": {
             "outlinewidth": 0,
             "ticks": ""
            },
            "type": "contourcarpet"
           }
          ],
          "heatmap": [
           {
            "colorbar": {
             "outlinewidth": 0,
             "ticks": ""
            },
            "colorscale": [
             [
              0,
              "#0d0887"
             ],
             [
              0.1111111111111111,
              "#46039f"
             ],
             [
              0.2222222222222222,
              "#7201a8"
             ],
             [
              0.3333333333333333,
              "#9c179e"
             ],
             [
              0.4444444444444444,
              "#bd3786"
             ],
             [
              0.5555555555555556,
              "#d8576b"
             ],
             [
              0.6666666666666666,
              "#ed7953"
             ],
             [
              0.7777777777777778,
              "#fb9f3a"
             ],
             [
              0.8888888888888888,
              "#fdca26"
             ],
             [
              1,
              "#f0f921"
             ]
            ],
            "type": "heatmap"
           }
          ],
          "histogram": [
           {
            "marker": {
             "pattern": {
              "fillmode": "overlay",
              "size": 10,
              "solidity": 0.2
             }
            },
            "type": "histogram"
           }
          ],
          "histogram2d": [
           {
            "colorbar": {
             "outlinewidth": 0,
             "ticks": ""
            },
            "colorscale": [
             [
              0,
              "#0d0887"
             ],
             [
              0.1111111111111111,
              "#46039f"
             ],
             [
              0.2222222222222222,
              "#7201a8"
             ],
             [
              0.3333333333333333,
              "#9c179e"
             ],
             [
              0.4444444444444444,
              "#bd3786"
             ],
             [
              0.5555555555555556,
              "#d8576b"
             ],
             [
              0.6666666666666666,
              "#ed7953"
             ],
             [
              0.7777777777777778,
              "#fb9f3a"
             ],
             [
              0.8888888888888888,
              "#fdca26"
             ],
             [
              1,
              "#f0f921"
             ]
            ],
            "type": "histogram2d"
           }
          ],
          "histogram2dcontour": [
           {
            "colorbar": {
             "outlinewidth": 0,
             "ticks": ""
            },
            "colorscale": [
             [
              0,
              "#0d0887"
             ],
             [
              0.1111111111111111,
              "#46039f"
             ],
             [
              0.2222222222222222,
              "#7201a8"
             ],
             [
              0.3333333333333333,
              "#9c179e"
             ],
             [
              0.4444444444444444,
              "#bd3786"
             ],
             [
              0.5555555555555556,
              "#d8576b"
             ],
             [
              0.6666666666666666,
              "#ed7953"
             ],
             [
              0.7777777777777778,
              "#fb9f3a"
             ],
             [
              0.8888888888888888,
              "#fdca26"
             ],
             [
              1,
              "#f0f921"
             ]
            ],
            "type": "histogram2dcontour"
           }
          ],
          "mesh3d": [
           {
            "colorbar": {
             "outlinewidth": 0,
             "ticks": ""
            },
            "type": "mesh3d"
           }
          ],
          "parcoords": [
           {
            "line": {
             "colorbar": {
              "outlinewidth": 0,
              "ticks": ""
             }
            },
            "type": "parcoords"
           }
          ],
          "pie": [
           {
            "automargin": true,
            "type": "pie"
           }
          ],
          "scatter": [
           {
            "fillpattern": {
             "fillmode": "overlay",
             "size": 10,
             "solidity": 0.2
            },
            "type": "scatter"
           }
          ],
          "scatter3d": [
           {
            "line": {
             "colorbar": {
              "outlinewidth": 0,
              "ticks": ""
             }
            },
            "marker": {
             "colorbar": {
              "outlinewidth": 0,
              "ticks": ""
             }
            },
            "type": "scatter3d"
           }
          ],
          "scattercarpet": [
           {
            "marker": {
             "colorbar": {
              "outlinewidth": 0,
              "ticks": ""
             }
            },
            "type": "scattercarpet"
           }
          ],
          "scattergeo": [
           {
            "marker": {
             "colorbar": {
              "outlinewidth": 0,
              "ticks": ""
             }
            },
            "type": "scattergeo"
           }
          ],
          "scattergl": [
           {
            "marker": {
             "colorbar": {
              "outlinewidth": 0,
              "ticks": ""
             }
            },
            "type": "scattergl"
           }
          ],
          "scattermap": [
           {
            "marker": {
             "colorbar": {
              "outlinewidth": 0,
              "ticks": ""
             }
            },
            "type": "scattermap"
           }
          ],
          "scattermapbox": [
           {
            "marker": {
             "colorbar": {
              "outlinewidth": 0,
              "ticks": ""
             }
            },
            "type": "scattermapbox"
           }
          ],
          "scatterpolar": [
           {
            "marker": {
             "colorbar": {
              "outlinewidth": 0,
              "ticks": ""
             }
            },
            "type": "scatterpolar"
           }
          ],
          "scatterpolargl": [
           {
            "marker": {
             "colorbar": {
              "outlinewidth": 0,
              "ticks": ""
             }
            },
            "type": "scatterpolargl"
           }
          ],
          "scatterternary": [
           {
            "marker": {
             "colorbar": {
              "outlinewidth": 0,
              "ticks": ""
             }
            },
            "type": "scatterternary"
           }
          ],
          "surface": [
           {
            "colorbar": {
             "outlinewidth": 0,
             "ticks": ""
            },
            "colorscale": [
             [
              0,
              "#0d0887"
             ],
             [
              0.1111111111111111,
              "#46039f"
             ],
             [
              0.2222222222222222,
              "#7201a8"
             ],
             [
              0.3333333333333333,
              "#9c179e"
             ],
             [
              0.4444444444444444,
              "#bd3786"
             ],
             [
              0.5555555555555556,
              "#d8576b"
             ],
             [
              0.6666666666666666,
              "#ed7953"
             ],
             [
              0.7777777777777778,
              "#fb9f3a"
             ],
             [
              0.8888888888888888,
              "#fdca26"
             ],
             [
              1,
              "#f0f921"
             ]
            ],
            "type": "surface"
           }
          ],
          "table": [
           {
            "cells": {
             "fill": {
              "color": "#EBF0F8"
             },
             "line": {
              "color": "white"
             }
            },
            "header": {
             "fill": {
              "color": "#C8D4E3"
             },
             "line": {
              "color": "white"
             }
            },
            "type": "table"
           }
          ]
         },
         "layout": {
          "annotationdefaults": {
           "arrowcolor": "#2a3f5f",
           "arrowhead": 0,
           "arrowwidth": 1
          },
          "autotypenumbers": "strict",
          "coloraxis": {
           "colorbar": {
            "outlinewidth": 0,
            "ticks": ""
           }
          },
          "colorscale": {
           "diverging": [
            [
             0,
             "#8e0152"
            ],
            [
             0.1,
             "#c51b7d"
            ],
            [
             0.2,
             "#de77ae"
            ],
            [
             0.3,
             "#f1b6da"
            ],
            [
             0.4,
             "#fde0ef"
            ],
            [
             0.5,
             "#f7f7f7"
            ],
            [
             0.6,
             "#e6f5d0"
            ],
            [
             0.7,
             "#b8e186"
            ],
            [
             0.8,
             "#7fbc41"
            ],
            [
             0.9,
             "#4d9221"
            ],
            [
             1,
             "#276419"
            ]
           ],
           "sequential": [
            [
             0,
             "#0d0887"
            ],
            [
             0.1111111111111111,
             "#46039f"
            ],
            [
             0.2222222222222222,
             "#7201a8"
            ],
            [
             0.3333333333333333,
             "#9c179e"
            ],
            [
             0.4444444444444444,
             "#bd3786"
            ],
            [
             0.5555555555555556,
             "#d8576b"
            ],
            [
             0.6666666666666666,
             "#ed7953"
            ],
            [
             0.7777777777777778,
             "#fb9f3a"
            ],
            [
             0.8888888888888888,
             "#fdca26"
            ],
            [
             1,
             "#f0f921"
            ]
           ],
           "sequentialminus": [
            [
             0,
             "#0d0887"
            ],
            [
             0.1111111111111111,
             "#46039f"
            ],
            [
             0.2222222222222222,
             "#7201a8"
            ],
            [
             0.3333333333333333,
             "#9c179e"
            ],
            [
             0.4444444444444444,
             "#bd3786"
            ],
            [
             0.5555555555555556,
             "#d8576b"
            ],
            [
             0.6666666666666666,
             "#ed7953"
            ],
            [
             0.7777777777777778,
             "#fb9f3a"
            ],
            [
             0.8888888888888888,
             "#fdca26"
            ],
            [
             1,
             "#f0f921"
            ]
           ]
          },
          "colorway": [
           "#636efa",
           "#EF553B",
           "#00cc96",
           "#ab63fa",
           "#FFA15A",
           "#19d3f3",
           "#FF6692",
           "#B6E880",
           "#FF97FF",
           "#FECB52"
          ],
          "font": {
           "color": "#2a3f5f"
          },
          "geo": {
           "bgcolor": "white",
           "lakecolor": "white",
           "landcolor": "#E5ECF6",
           "showlakes": true,
           "showland": true,
           "subunitcolor": "white"
          },
          "hoverlabel": {
           "align": "left"
          },
          "hovermode": "closest",
          "mapbox": {
           "style": "light"
          },
          "paper_bgcolor": "white",
          "plot_bgcolor": "#E5ECF6",
          "polar": {
           "angularaxis": {
            "gridcolor": "white",
            "linecolor": "white",
            "ticks": ""
           },
           "bgcolor": "#E5ECF6",
           "radialaxis": {
            "gridcolor": "white",
            "linecolor": "white",
            "ticks": ""
           }
          },
          "scene": {
           "xaxis": {
            "backgroundcolor": "#E5ECF6",
            "gridcolor": "white",
            "gridwidth": 2,
            "linecolor": "white",
            "showbackground": true,
            "ticks": "",
            "zerolinecolor": "white"
           },
           "yaxis": {
            "backgroundcolor": "#E5ECF6",
            "gridcolor": "white",
            "gridwidth": 2,
            "linecolor": "white",
            "showbackground": true,
            "ticks": "",
            "zerolinecolor": "white"
           },
           "zaxis": {
            "backgroundcolor": "#E5ECF6",
            "gridcolor": "white",
            "gridwidth": 2,
            "linecolor": "white",
            "showbackground": true,
            "ticks": "",
            "zerolinecolor": "white"
           }
          },
          "shapedefaults": {
           "line": {
            "color": "#2a3f5f"
           }
          },
          "ternary": {
           "aaxis": {
            "gridcolor": "white",
            "linecolor": "white",
            "ticks": ""
           },
           "baxis": {
            "gridcolor": "white",
            "linecolor": "white",
            "ticks": ""
           },
           "bgcolor": "#E5ECF6",
           "caxis": {
            "gridcolor": "white",
            "linecolor": "white",
            "ticks": ""
           }
          },
          "title": {
           "x": 0.05
          },
          "xaxis": {
           "automargin": true,
           "gridcolor": "white",
           "linecolor": "white",
           "ticks": "",
           "title": {
            "standoff": 15
           },
           "zerolinecolor": "white",
           "zerolinewidth": 2
          },
          "yaxis": {
           "automargin": true,
           "gridcolor": "white",
           "linecolor": "white",
           "ticks": "",
           "title": {
            "standoff": 15
           },
           "zerolinecolor": "white",
           "zerolinewidth": 2
          }
         }
        },
        "title": {
         "text": "지표값별 놀거리 분포"
        },
        "xaxis": {
         "anchor": "y",
         "domain": [
          0,
          1
         ],
         "title": {
          "text": "지표값 (log(리뷰수 + 1))"
         }
        },
        "yaxis": {
         "anchor": "x",
         "domain": [
          0,
          1
         ],
         "title": {
          "text": "놀거리 수"
         }
        }
       }
      }
     },
     "metadata": {},
     "output_type": "display_data"
    }
   ],
   "source": [
    "import plotly.express as px\n",
    "\n",
    "# 평균 계산\n",
    "avg_value_value = enjoy['indicator'].mean()\n",
    "print(\"전체 놀거리의 평균 지표값:\", avg_value_value)\n",
    "\n",
    "# 히스토그램 생성\n",
    "fig = px.histogram(\n",
    "    enjoy,\n",
    "    x='indicator',\n",
    "    title='지표값별 놀거리 분포',\n",
    "    color_discrete_sequence=['green']\n",
    ")\n",
    "\n",
    "# y축 최대값 추정 (bin 수에 맞게 설정)\n",
    "y_max = enjoy['indicator'].value_counts(bins=50).max()\n",
    "\n",
    "# 평균선 추가\n",
    "fig.add_shape(\n",
    "    type='line',\n",
    "    x0=avg_value_value,\n",
    "    x1=avg_value_value,\n",
    "    y0=0,\n",
    "    y1=y_max,\n",
    "    line=dict(color='black', dash='dash')\n",
    ")\n",
    "\n",
    "# 평균선 라벨 추가\n",
    "fig.add_annotation(\n",
    "    x=avg_value_value,\n",
    "    y=y_max,\n",
    "    text=f\"평균 지표값: {avg_value_value:.2f}\",\n",
    "    showarrow=False,\n",
    "    yshift=10,\n",
    "    font=dict(color='black')\n",
    ")\n",
    "\n",
    "# 레이아웃 수정\n",
    "fig.update_layout(\n",
    "    xaxis_title='지표값 (log(리뷰수 + 1))',\n",
    "    yaxis_title='놀거리 수'\n",
    ")\n",
    "\n",
    "fig.show()\n"
   ]
  },
  {
   "cell_type": "code",
   "execution_count": 30,
   "metadata": {},
   "outputs": [
    {
     "data": {
      "application/vnd.plotly.v1+json": {
       "config": {
        "plotlyServerURL": "https://plot.ly"
       },
       "data": [
        {
         "hovertemplate": "지하철역=%{x}<br>평균 지표값=%{y}<extra></extra>",
         "legendgroup": "",
         "marker": {
          "color": "green",
          "pattern": {
           "shape": ""
          }
         },
         "name": "",
         "orientation": "v",
         "showlegend": false,
         "textposition": "auto",
         "type": "bar",
         "x": [
          "뚝섬유원지역",
          "여의나루역",
          "교대역",
          "선릉역",
          "신사역",
          "고속터미널역",
          "혜화역",
          "홍대입구역",
          "시청역",
          "건대입구역",
          "잠실나루역",
          "뚝섬역",
          "합정역",
          "신반포역",
          "종로5가역",
          "서울숲역",
          "경복궁역",
          "압구정로데오역",
          "대공원역",
          "삼성역",
          "이촌역",
          "안국역",
          "수유역",
          "마곡나루역",
          "종합운동장역",
          "논현역",
          "신길역",
          "구일역",
          "회현역",
          "서울대입구역",
          "발산역",
          "회기역",
          "가락시장역",
          "장지역",
          "대림역",
          "동대문역사문화공원역",
          "삼각지역",
          "종로3가역",
          "신림역",
          "서울역",
          "창동역",
          "강남역",
          "구로디지털단지역",
          "방배역",
          "아차산역",
          "암사역",
          "가산디지털단지역",
          "미아사거리역",
          "대방역",
          "김포공항역",
          "신촌역",
          "당산역",
          "동대문역",
          "신도림역",
          "이태원역",
          "구로역",
          "노들역",
          "오목교역",
          "녹사평역",
          "용마산역",
          "군자역",
          "연신내역",
          "사당역",
          "동대입구역",
          "외대앞역",
          "역삼역",
          "제기동역",
          "디지털미디어시티역",
          "천호역",
          "종각역",
          "양재역",
          "충정로역",
          "잠실역",
          "응봉역",
          "성신여대입구역",
          "장한평역",
          "쌍문역",
          "총신대입구역",
          "증미역",
          "용산역",
          "남구로역",
          "고덕역",
          "왕십리역",
          "노량진역",
          "방화역"
         ],
         "xaxis": "x",
         "y": {
          "bdata": "lOO+yS9FGkAEv1XFzkkZQIq37wr3/xhA1ZR9AyroGEDNMjmvlNkYQCd/+idE4BdAoVWjKsAdF0DoRqMKlc4WQFgcLM3KpBZAEFGjA1dyFkCjZ6O5NAcWQJ97jExsxhVAbRLS6eduFUCqEVbt0VQVQHfdFzYGMBVAzV0P9c4qFUATmX/h4xgVQNSXI5z4ARVAIRD13YD9FEDM7E/0BPoUQMJj3dYflxRAmXrfHLRWFECnjeHg1VMUQMc473vTLBRALFVHQrrpE0BRXmKkVeYTQC6m0tjMthNAPUmNg2WqE0B9nrGvWaoTQGAaAN34iRNAT4G3FDhwE0Dfg8iXYV0TQBq7py3eUxNA+7VwpmU4E0B67dKckygTQOU6xP1UDRNAueNyXcQME0DuaJLxnfsSQLhYkmh+8hJAEQ2PkcLwEkB41b9rh+wSQGC0bPIb0BJAHsZFTPm1EkDZLxX7VqYSQNBafLudohJAhPHyPA+YEkCw2ErDa4ASQNiNzfxNfhJAsGyciqp5EkCm4sBxLGUSQCFPMSZGVxJALOn23DNCEkC2xKx6v0ASQNPLm9OUKBJA/eYEJQElEkDJmRM16ggSQJRjLP4OBxJAdYPIdi/2EUAi4LcSxdERQJArx/ZGuRFAq2RqhR6vEUD65tMhmKURQF8ILi/JfxFAjSnH4HVtEUAxm6x/rV4RQIl0t7jdPRFAb58Rg7kwEUB+sPimJBoRQIMHwHIvEBFANA4MqVIIEUDXNx6lf/oQQJTZLIOA7RBABAkhiI3cEEBldFjYkLEQQJ1td+/fjxBAaVBtvG+OEEB48VKi2oUQQCUhbhCdOBBA5hNkOPPkD0ANkuuHlOYOQLbwkC8azQ5AKcPMU5lRDkDJrrqV9b0KQE0aFmoW8ghAnbg8W5OuBEA=",
          "dtype": "f8"
         },
         "yaxis": "y"
        }
       ],
       "layout": {
        "barmode": "relative",
        "legend": {
         "tracegroupgap": 0
        },
        "template": {
         "data": {
          "bar": [
           {
            "error_x": {
             "color": "#2a3f5f"
            },
            "error_y": {
             "color": "#2a3f5f"
            },
            "marker": {
             "line": {
              "color": "#E5ECF6",
              "width": 0.5
             },
             "pattern": {
              "fillmode": "overlay",
              "size": 10,
              "solidity": 0.2
             }
            },
            "type": "bar"
           }
          ],
          "barpolar": [
           {
            "marker": {
             "line": {
              "color": "#E5ECF6",
              "width": 0.5
             },
             "pattern": {
              "fillmode": "overlay",
              "size": 10,
              "solidity": 0.2
             }
            },
            "type": "barpolar"
           }
          ],
          "carpet": [
           {
            "aaxis": {
             "endlinecolor": "#2a3f5f",
             "gridcolor": "white",
             "linecolor": "white",
             "minorgridcolor": "white",
             "startlinecolor": "#2a3f5f"
            },
            "baxis": {
             "endlinecolor": "#2a3f5f",
             "gridcolor": "white",
             "linecolor": "white",
             "minorgridcolor": "white",
             "startlinecolor": "#2a3f5f"
            },
            "type": "carpet"
           }
          ],
          "choropleth": [
           {
            "colorbar": {
             "outlinewidth": 0,
             "ticks": ""
            },
            "type": "choropleth"
           }
          ],
          "contour": [
           {
            "colorbar": {
             "outlinewidth": 0,
             "ticks": ""
            },
            "colorscale": [
             [
              0,
              "#0d0887"
             ],
             [
              0.1111111111111111,
              "#46039f"
             ],
             [
              0.2222222222222222,
              "#7201a8"
             ],
             [
              0.3333333333333333,
              "#9c179e"
             ],
             [
              0.4444444444444444,
              "#bd3786"
             ],
             [
              0.5555555555555556,
              "#d8576b"
             ],
             [
              0.6666666666666666,
              "#ed7953"
             ],
             [
              0.7777777777777778,
              "#fb9f3a"
             ],
             [
              0.8888888888888888,
              "#fdca26"
             ],
             [
              1,
              "#f0f921"
             ]
            ],
            "type": "contour"
           }
          ],
          "contourcarpet": [
           {
            "colorbar": {
             "outlinewidth": 0,
             "ticks": ""
            },
            "type": "contourcarpet"
           }
          ],
          "heatmap": [
           {
            "colorbar": {
             "outlinewidth": 0,
             "ticks": ""
            },
            "colorscale": [
             [
              0,
              "#0d0887"
             ],
             [
              0.1111111111111111,
              "#46039f"
             ],
             [
              0.2222222222222222,
              "#7201a8"
             ],
             [
              0.3333333333333333,
              "#9c179e"
             ],
             [
              0.4444444444444444,
              "#bd3786"
             ],
             [
              0.5555555555555556,
              "#d8576b"
             ],
             [
              0.6666666666666666,
              "#ed7953"
             ],
             [
              0.7777777777777778,
              "#fb9f3a"
             ],
             [
              0.8888888888888888,
              "#fdca26"
             ],
             [
              1,
              "#f0f921"
             ]
            ],
            "type": "heatmap"
           }
          ],
          "histogram": [
           {
            "marker": {
             "pattern": {
              "fillmode": "overlay",
              "size": 10,
              "solidity": 0.2
             }
            },
            "type": "histogram"
           }
          ],
          "histogram2d": [
           {
            "colorbar": {
             "outlinewidth": 0,
             "ticks": ""
            },
            "colorscale": [
             [
              0,
              "#0d0887"
             ],
             [
              0.1111111111111111,
              "#46039f"
             ],
             [
              0.2222222222222222,
              "#7201a8"
             ],
             [
              0.3333333333333333,
              "#9c179e"
             ],
             [
              0.4444444444444444,
              "#bd3786"
             ],
             [
              0.5555555555555556,
              "#d8576b"
             ],
             [
              0.6666666666666666,
              "#ed7953"
             ],
             [
              0.7777777777777778,
              "#fb9f3a"
             ],
             [
              0.8888888888888888,
              "#fdca26"
             ],
             [
              1,
              "#f0f921"
             ]
            ],
            "type": "histogram2d"
           }
          ],
          "histogram2dcontour": [
           {
            "colorbar": {
             "outlinewidth": 0,
             "ticks": ""
            },
            "colorscale": [
             [
              0,
              "#0d0887"
             ],
             [
              0.1111111111111111,
              "#46039f"
             ],
             [
              0.2222222222222222,
              "#7201a8"
             ],
             [
              0.3333333333333333,
              "#9c179e"
             ],
             [
              0.4444444444444444,
              "#bd3786"
             ],
             [
              0.5555555555555556,
              "#d8576b"
             ],
             [
              0.6666666666666666,
              "#ed7953"
             ],
             [
              0.7777777777777778,
              "#fb9f3a"
             ],
             [
              0.8888888888888888,
              "#fdca26"
             ],
             [
              1,
              "#f0f921"
             ]
            ],
            "type": "histogram2dcontour"
           }
          ],
          "mesh3d": [
           {
            "colorbar": {
             "outlinewidth": 0,
             "ticks": ""
            },
            "type": "mesh3d"
           }
          ],
          "parcoords": [
           {
            "line": {
             "colorbar": {
              "outlinewidth": 0,
              "ticks": ""
             }
            },
            "type": "parcoords"
           }
          ],
          "pie": [
           {
            "automargin": true,
            "type": "pie"
           }
          ],
          "scatter": [
           {
            "fillpattern": {
             "fillmode": "overlay",
             "size": 10,
             "solidity": 0.2
            },
            "type": "scatter"
           }
          ],
          "scatter3d": [
           {
            "line": {
             "colorbar": {
              "outlinewidth": 0,
              "ticks": ""
             }
            },
            "marker": {
             "colorbar": {
              "outlinewidth": 0,
              "ticks": ""
             }
            },
            "type": "scatter3d"
           }
          ],
          "scattercarpet": [
           {
            "marker": {
             "colorbar": {
              "outlinewidth": 0,
              "ticks": ""
             }
            },
            "type": "scattercarpet"
           }
          ],
          "scattergeo": [
           {
            "marker": {
             "colorbar": {
              "outlinewidth": 0,
              "ticks": ""
             }
            },
            "type": "scattergeo"
           }
          ],
          "scattergl": [
           {
            "marker": {
             "colorbar": {
              "outlinewidth": 0,
              "ticks": ""
             }
            },
            "type": "scattergl"
           }
          ],
          "scattermap": [
           {
            "marker": {
             "colorbar": {
              "outlinewidth": 0,
              "ticks": ""
             }
            },
            "type": "scattermap"
           }
          ],
          "scattermapbox": [
           {
            "marker": {
             "colorbar": {
              "outlinewidth": 0,
              "ticks": ""
             }
            },
            "type": "scattermapbox"
           }
          ],
          "scatterpolar": [
           {
            "marker": {
             "colorbar": {
              "outlinewidth": 0,
              "ticks": ""
             }
            },
            "type": "scatterpolar"
           }
          ],
          "scatterpolargl": [
           {
            "marker": {
             "colorbar": {
              "outlinewidth": 0,
              "ticks": ""
             }
            },
            "type": "scatterpolargl"
           }
          ],
          "scatterternary": [
           {
            "marker": {
             "colorbar": {
              "outlinewidth": 0,
              "ticks": ""
             }
            },
            "type": "scatterternary"
           }
          ],
          "surface": [
           {
            "colorbar": {
             "outlinewidth": 0,
             "ticks": ""
            },
            "colorscale": [
             [
              0,
              "#0d0887"
             ],
             [
              0.1111111111111111,
              "#46039f"
             ],
             [
              0.2222222222222222,
              "#7201a8"
             ],
             [
              0.3333333333333333,
              "#9c179e"
             ],
             [
              0.4444444444444444,
              "#bd3786"
             ],
             [
              0.5555555555555556,
              "#d8576b"
             ],
             [
              0.6666666666666666,
              "#ed7953"
             ],
             [
              0.7777777777777778,
              "#fb9f3a"
             ],
             [
              0.8888888888888888,
              "#fdca26"
             ],
             [
              1,
              "#f0f921"
             ]
            ],
            "type": "surface"
           }
          ],
          "table": [
           {
            "cells": {
             "fill": {
              "color": "#EBF0F8"
             },
             "line": {
              "color": "white"
             }
            },
            "header": {
             "fill": {
              "color": "#C8D4E3"
             },
             "line": {
              "color": "white"
             }
            },
            "type": "table"
           }
          ]
         },
         "layout": {
          "annotationdefaults": {
           "arrowcolor": "#2a3f5f",
           "arrowhead": 0,
           "arrowwidth": 1
          },
          "autotypenumbers": "strict",
          "coloraxis": {
           "colorbar": {
            "outlinewidth": 0,
            "ticks": ""
           }
          },
          "colorscale": {
           "diverging": [
            [
             0,
             "#8e0152"
            ],
            [
             0.1,
             "#c51b7d"
            ],
            [
             0.2,
             "#de77ae"
            ],
            [
             0.3,
             "#f1b6da"
            ],
            [
             0.4,
             "#fde0ef"
            ],
            [
             0.5,
             "#f7f7f7"
            ],
            [
             0.6,
             "#e6f5d0"
            ],
            [
             0.7,
             "#b8e186"
            ],
            [
             0.8,
             "#7fbc41"
            ],
            [
             0.9,
             "#4d9221"
            ],
            [
             1,
             "#276419"
            ]
           ],
           "sequential": [
            [
             0,
             "#0d0887"
            ],
            [
             0.1111111111111111,
             "#46039f"
            ],
            [
             0.2222222222222222,
             "#7201a8"
            ],
            [
             0.3333333333333333,
             "#9c179e"
            ],
            [
             0.4444444444444444,
             "#bd3786"
            ],
            [
             0.5555555555555556,
             "#d8576b"
            ],
            [
             0.6666666666666666,
             "#ed7953"
            ],
            [
             0.7777777777777778,
             "#fb9f3a"
            ],
            [
             0.8888888888888888,
             "#fdca26"
            ],
            [
             1,
             "#f0f921"
            ]
           ],
           "sequentialminus": [
            [
             0,
             "#0d0887"
            ],
            [
             0.1111111111111111,
             "#46039f"
            ],
            [
             0.2222222222222222,
             "#7201a8"
            ],
            [
             0.3333333333333333,
             "#9c179e"
            ],
            [
             0.4444444444444444,
             "#bd3786"
            ],
            [
             0.5555555555555556,
             "#d8576b"
            ],
            [
             0.6666666666666666,
             "#ed7953"
            ],
            [
             0.7777777777777778,
             "#fb9f3a"
            ],
            [
             0.8888888888888888,
             "#fdca26"
            ],
            [
             1,
             "#f0f921"
            ]
           ]
          },
          "colorway": [
           "#636efa",
           "#EF553B",
           "#00cc96",
           "#ab63fa",
           "#FFA15A",
           "#19d3f3",
           "#FF6692",
           "#B6E880",
           "#FF97FF",
           "#FECB52"
          ],
          "font": {
           "color": "#2a3f5f"
          },
          "geo": {
           "bgcolor": "white",
           "lakecolor": "white",
           "landcolor": "#E5ECF6",
           "showlakes": true,
           "showland": true,
           "subunitcolor": "white"
          },
          "hoverlabel": {
           "align": "left"
          },
          "hovermode": "closest",
          "mapbox": {
           "style": "light"
          },
          "paper_bgcolor": "white",
          "plot_bgcolor": "#E5ECF6",
          "polar": {
           "angularaxis": {
            "gridcolor": "white",
            "linecolor": "white",
            "ticks": ""
           },
           "bgcolor": "#E5ECF6",
           "radialaxis": {
            "gridcolor": "white",
            "linecolor": "white",
            "ticks": ""
           }
          },
          "scene": {
           "xaxis": {
            "backgroundcolor": "#E5ECF6",
            "gridcolor": "white",
            "gridwidth": 2,
            "linecolor": "white",
            "showbackground": true,
            "ticks": "",
            "zerolinecolor": "white"
           },
           "yaxis": {
            "backgroundcolor": "#E5ECF6",
            "gridcolor": "white",
            "gridwidth": 2,
            "linecolor": "white",
            "showbackground": true,
            "ticks": "",
            "zerolinecolor": "white"
           },
           "zaxis": {
            "backgroundcolor": "#E5ECF6",
            "gridcolor": "white",
            "gridwidth": 2,
            "linecolor": "white",
            "showbackground": true,
            "ticks": "",
            "zerolinecolor": "white"
           }
          },
          "shapedefaults": {
           "line": {
            "color": "#2a3f5f"
           }
          },
          "ternary": {
           "aaxis": {
            "gridcolor": "white",
            "linecolor": "white",
            "ticks": ""
           },
           "baxis": {
            "gridcolor": "white",
            "linecolor": "white",
            "ticks": ""
           },
           "bgcolor": "#E5ECF6",
           "caxis": {
            "gridcolor": "white",
            "linecolor": "white",
            "ticks": ""
           }
          },
          "title": {
           "x": 0.05
          },
          "xaxis": {
           "automargin": true,
           "gridcolor": "white",
           "linecolor": "white",
           "ticks": "",
           "title": {
            "standoff": 15
           },
           "zerolinecolor": "white",
           "zerolinewidth": 2
          },
          "yaxis": {
           "automargin": true,
           "gridcolor": "white",
           "linecolor": "white",
           "ticks": "",
           "title": {
            "standoff": 15
           },
           "zerolinecolor": "white",
           "zerolinewidth": 2
          }
         }
        },
        "title": {
         "text": "지하철역별 놀거리 평가지수 평균"
        },
        "xaxis": {
         "anchor": "y",
         "domain": [
          0,
          1
         ],
         "title": {
          "text": "지하철역"
         }
        },
        "yaxis": {
         "anchor": "x",
         "domain": [
          0,
          1
         ],
         "title": {
          "text": "평균 지표값"
         }
        }
       }
      }
     },
     "metadata": {},
     "output_type": "display_data"
    }
   ],
   "source": [
    "# 역별 평균 value 계산\n",
    "station_indicator_avg = enjoy.groupby('station', as_index=False)['indicator'].mean()\n",
    "station_indicator_avg = station_indicator_avg.sort_values(by='indicator', ascending=False)\n",
    "# 막대그래프 시각화\n",
    "fig = px.bar(\n",
    "    station_indicator_avg,\n",
    "    x='station',\n",
    "    y='indicator',\n",
    "    title='지하철역별 놀거리 평가지수 평균',\n",
    "    labels={'station': '지하철역', 'indicator': '평균 지표값'},\n",
    "    color_discrete_sequence=['green']\n",
    ")\n",
    "\n",
    "fig.show()"
   ]
  },
  {
   "cell_type": "code",
   "execution_count": 31,
   "metadata": {},
   "outputs": [
    {
     "data": {
      "application/vnd.plotly.v1+json": {
       "config": {
        "plotlyServerURL": "https://plot.ly"
       },
       "data": [
        {
         "hovertemplate": "station=%{x}<br>indicator=%{y}<extra></extra>",
         "legendgroup": "",
         "marker": {
          "color": "red",
          "pattern": {
           "shape": ""
          }
         },
         "name": "",
         "orientation": "v",
         "showlegend": false,
         "textposition": "auto",
         "type": "bar",
         "x": [
          "뚝섬유원지역",
          "여의나루역",
          "교대역",
          "선릉역",
          "신사역",
          "고속터미널역",
          "혜화역",
          "홍대입구역",
          "시청역",
          "건대입구역"
         ],
         "xaxis": "x",
         "y": {
          "bdata": "lOO+yS9FGkAEv1XFzkkZQIq37wr3/xhA1ZR9AyroGEDNMjmvlNkYQCd/+idE4BdAoVWjKsAdF0DoRqMKlc4WQFgcLM3KpBZAEFGjA1dyFkA=",
          "dtype": "f8"
         },
         "yaxis": "y"
        }
       ],
       "layout": {
        "bargap": 0.3,
        "barmode": "relative",
        "height": 500,
        "legend": {
         "tracegroupgap": 0
        },
        "template": {
         "data": {
          "bar": [
           {
            "error_x": {
             "color": "#2a3f5f"
            },
            "error_y": {
             "color": "#2a3f5f"
            },
            "marker": {
             "line": {
              "color": "#E5ECF6",
              "width": 0.5
             },
             "pattern": {
              "fillmode": "overlay",
              "size": 10,
              "solidity": 0.2
             }
            },
            "type": "bar"
           }
          ],
          "barpolar": [
           {
            "marker": {
             "line": {
              "color": "#E5ECF6",
              "width": 0.5
             },
             "pattern": {
              "fillmode": "overlay",
              "size": 10,
              "solidity": 0.2
             }
            },
            "type": "barpolar"
           }
          ],
          "carpet": [
           {
            "aaxis": {
             "endlinecolor": "#2a3f5f",
             "gridcolor": "white",
             "linecolor": "white",
             "minorgridcolor": "white",
             "startlinecolor": "#2a3f5f"
            },
            "baxis": {
             "endlinecolor": "#2a3f5f",
             "gridcolor": "white",
             "linecolor": "white",
             "minorgridcolor": "white",
             "startlinecolor": "#2a3f5f"
            },
            "type": "carpet"
           }
          ],
          "choropleth": [
           {
            "colorbar": {
             "outlinewidth": 0,
             "ticks": ""
            },
            "type": "choropleth"
           }
          ],
          "contour": [
           {
            "colorbar": {
             "outlinewidth": 0,
             "ticks": ""
            },
            "colorscale": [
             [
              0,
              "#0d0887"
             ],
             [
              0.1111111111111111,
              "#46039f"
             ],
             [
              0.2222222222222222,
              "#7201a8"
             ],
             [
              0.3333333333333333,
              "#9c179e"
             ],
             [
              0.4444444444444444,
              "#bd3786"
             ],
             [
              0.5555555555555556,
              "#d8576b"
             ],
             [
              0.6666666666666666,
              "#ed7953"
             ],
             [
              0.7777777777777778,
              "#fb9f3a"
             ],
             [
              0.8888888888888888,
              "#fdca26"
             ],
             [
              1,
              "#f0f921"
             ]
            ],
            "type": "contour"
           }
          ],
          "contourcarpet": [
           {
            "colorbar": {
             "outlinewidth": 0,
             "ticks": ""
            },
            "type": "contourcarpet"
           }
          ],
          "heatmap": [
           {
            "colorbar": {
             "outlinewidth": 0,
             "ticks": ""
            },
            "colorscale": [
             [
              0,
              "#0d0887"
             ],
             [
              0.1111111111111111,
              "#46039f"
             ],
             [
              0.2222222222222222,
              "#7201a8"
             ],
             [
              0.3333333333333333,
              "#9c179e"
             ],
             [
              0.4444444444444444,
              "#bd3786"
             ],
             [
              0.5555555555555556,
              "#d8576b"
             ],
             [
              0.6666666666666666,
              "#ed7953"
             ],
             [
              0.7777777777777778,
              "#fb9f3a"
             ],
             [
              0.8888888888888888,
              "#fdca26"
             ],
             [
              1,
              "#f0f921"
             ]
            ],
            "type": "heatmap"
           }
          ],
          "histogram": [
           {
            "marker": {
             "pattern": {
              "fillmode": "overlay",
              "size": 10,
              "solidity": 0.2
             }
            },
            "type": "histogram"
           }
          ],
          "histogram2d": [
           {
            "colorbar": {
             "outlinewidth": 0,
             "ticks": ""
            },
            "colorscale": [
             [
              0,
              "#0d0887"
             ],
             [
              0.1111111111111111,
              "#46039f"
             ],
             [
              0.2222222222222222,
              "#7201a8"
             ],
             [
              0.3333333333333333,
              "#9c179e"
             ],
             [
              0.4444444444444444,
              "#bd3786"
             ],
             [
              0.5555555555555556,
              "#d8576b"
             ],
             [
              0.6666666666666666,
              "#ed7953"
             ],
             [
              0.7777777777777778,
              "#fb9f3a"
             ],
             [
              0.8888888888888888,
              "#fdca26"
             ],
             [
              1,
              "#f0f921"
             ]
            ],
            "type": "histogram2d"
           }
          ],
          "histogram2dcontour": [
           {
            "colorbar": {
             "outlinewidth": 0,
             "ticks": ""
            },
            "colorscale": [
             [
              0,
              "#0d0887"
             ],
             [
              0.1111111111111111,
              "#46039f"
             ],
             [
              0.2222222222222222,
              "#7201a8"
             ],
             [
              0.3333333333333333,
              "#9c179e"
             ],
             [
              0.4444444444444444,
              "#bd3786"
             ],
             [
              0.5555555555555556,
              "#d8576b"
             ],
             [
              0.6666666666666666,
              "#ed7953"
             ],
             [
              0.7777777777777778,
              "#fb9f3a"
             ],
             [
              0.8888888888888888,
              "#fdca26"
             ],
             [
              1,
              "#f0f921"
             ]
            ],
            "type": "histogram2dcontour"
           }
          ],
          "mesh3d": [
           {
            "colorbar": {
             "outlinewidth": 0,
             "ticks": ""
            },
            "type": "mesh3d"
           }
          ],
          "parcoords": [
           {
            "line": {
             "colorbar": {
              "outlinewidth": 0,
              "ticks": ""
             }
            },
            "type": "parcoords"
           }
          ],
          "pie": [
           {
            "automargin": true,
            "type": "pie"
           }
          ],
          "scatter": [
           {
            "fillpattern": {
             "fillmode": "overlay",
             "size": 10,
             "solidity": 0.2
            },
            "type": "scatter"
           }
          ],
          "scatter3d": [
           {
            "line": {
             "colorbar": {
              "outlinewidth": 0,
              "ticks": ""
             }
            },
            "marker": {
             "colorbar": {
              "outlinewidth": 0,
              "ticks": ""
             }
            },
            "type": "scatter3d"
           }
          ],
          "scattercarpet": [
           {
            "marker": {
             "colorbar": {
              "outlinewidth": 0,
              "ticks": ""
             }
            },
            "type": "scattercarpet"
           }
          ],
          "scattergeo": [
           {
            "marker": {
             "colorbar": {
              "outlinewidth": 0,
              "ticks": ""
             }
            },
            "type": "scattergeo"
           }
          ],
          "scattergl": [
           {
            "marker": {
             "colorbar": {
              "outlinewidth": 0,
              "ticks": ""
             }
            },
            "type": "scattergl"
           }
          ],
          "scattermap": [
           {
            "marker": {
             "colorbar": {
              "outlinewidth": 0,
              "ticks": ""
             }
            },
            "type": "scattermap"
           }
          ],
          "scattermapbox": [
           {
            "marker": {
             "colorbar": {
              "outlinewidth": 0,
              "ticks": ""
             }
            },
            "type": "scattermapbox"
           }
          ],
          "scatterpolar": [
           {
            "marker": {
             "colorbar": {
              "outlinewidth": 0,
              "ticks": ""
             }
            },
            "type": "scatterpolar"
           }
          ],
          "scatterpolargl": [
           {
            "marker": {
             "colorbar": {
              "outlinewidth": 0,
              "ticks": ""
             }
            },
            "type": "scatterpolargl"
           }
          ],
          "scatterternary": [
           {
            "marker": {
             "colorbar": {
              "outlinewidth": 0,
              "ticks": ""
             }
            },
            "type": "scatterternary"
           }
          ],
          "surface": [
           {
            "colorbar": {
             "outlinewidth": 0,
             "ticks": ""
            },
            "colorscale": [
             [
              0,
              "#0d0887"
             ],
             [
              0.1111111111111111,
              "#46039f"
             ],
             [
              0.2222222222222222,
              "#7201a8"
             ],
             [
              0.3333333333333333,
              "#9c179e"
             ],
             [
              0.4444444444444444,
              "#bd3786"
             ],
             [
              0.5555555555555556,
              "#d8576b"
             ],
             [
              0.6666666666666666,
              "#ed7953"
             ],
             [
              0.7777777777777778,
              "#fb9f3a"
             ],
             [
              0.8888888888888888,
              "#fdca26"
             ],
             [
              1,
              "#f0f921"
             ]
            ],
            "type": "surface"
           }
          ],
          "table": [
           {
            "cells": {
             "fill": {
              "color": "#EBF0F8"
             },
             "line": {
              "color": "white"
             }
            },
            "header": {
             "fill": {
              "color": "#C8D4E3"
             },
             "line": {
              "color": "white"
             }
            },
            "type": "table"
           }
          ]
         },
         "layout": {
          "annotationdefaults": {
           "arrowcolor": "#2a3f5f",
           "arrowhead": 0,
           "arrowwidth": 1
          },
          "autotypenumbers": "strict",
          "coloraxis": {
           "colorbar": {
            "outlinewidth": 0,
            "ticks": ""
           }
          },
          "colorscale": {
           "diverging": [
            [
             0,
             "#8e0152"
            ],
            [
             0.1,
             "#c51b7d"
            ],
            [
             0.2,
             "#de77ae"
            ],
            [
             0.3,
             "#f1b6da"
            ],
            [
             0.4,
             "#fde0ef"
            ],
            [
             0.5,
             "#f7f7f7"
            ],
            [
             0.6,
             "#e6f5d0"
            ],
            [
             0.7,
             "#b8e186"
            ],
            [
             0.8,
             "#7fbc41"
            ],
            [
             0.9,
             "#4d9221"
            ],
            [
             1,
             "#276419"
            ]
           ],
           "sequential": [
            [
             0,
             "#0d0887"
            ],
            [
             0.1111111111111111,
             "#46039f"
            ],
            [
             0.2222222222222222,
             "#7201a8"
            ],
            [
             0.3333333333333333,
             "#9c179e"
            ],
            [
             0.4444444444444444,
             "#bd3786"
            ],
            [
             0.5555555555555556,
             "#d8576b"
            ],
            [
             0.6666666666666666,
             "#ed7953"
            ],
            [
             0.7777777777777778,
             "#fb9f3a"
            ],
            [
             0.8888888888888888,
             "#fdca26"
            ],
            [
             1,
             "#f0f921"
            ]
           ],
           "sequentialminus": [
            [
             0,
             "#0d0887"
            ],
            [
             0.1111111111111111,
             "#46039f"
            ],
            [
             0.2222222222222222,
             "#7201a8"
            ],
            [
             0.3333333333333333,
             "#9c179e"
            ],
            [
             0.4444444444444444,
             "#bd3786"
            ],
            [
             0.5555555555555556,
             "#d8576b"
            ],
            [
             0.6666666666666666,
             "#ed7953"
            ],
            [
             0.7777777777777778,
             "#fb9f3a"
            ],
            [
             0.8888888888888888,
             "#fdca26"
            ],
            [
             1,
             "#f0f921"
            ]
           ]
          },
          "colorway": [
           "#636efa",
           "#EF553B",
           "#00cc96",
           "#ab63fa",
           "#FFA15A",
           "#19d3f3",
           "#FF6692",
           "#B6E880",
           "#FF97FF",
           "#FECB52"
          ],
          "font": {
           "color": "#2a3f5f"
          },
          "geo": {
           "bgcolor": "white",
           "lakecolor": "white",
           "landcolor": "#E5ECF6",
           "showlakes": true,
           "showland": true,
           "subunitcolor": "white"
          },
          "hoverlabel": {
           "align": "left"
          },
          "hovermode": "closest",
          "mapbox": {
           "style": "light"
          },
          "paper_bgcolor": "white",
          "plot_bgcolor": "#E5ECF6",
          "polar": {
           "angularaxis": {
            "gridcolor": "white",
            "linecolor": "white",
            "ticks": ""
           },
           "bgcolor": "#E5ECF6",
           "radialaxis": {
            "gridcolor": "white",
            "linecolor": "white",
            "ticks": ""
           }
          },
          "scene": {
           "xaxis": {
            "backgroundcolor": "#E5ECF6",
            "gridcolor": "white",
            "gridwidth": 2,
            "linecolor": "white",
            "showbackground": true,
            "ticks": "",
            "zerolinecolor": "white"
           },
           "yaxis": {
            "backgroundcolor": "#E5ECF6",
            "gridcolor": "white",
            "gridwidth": 2,
            "linecolor": "white",
            "showbackground": true,
            "ticks": "",
            "zerolinecolor": "white"
           },
           "zaxis": {
            "backgroundcolor": "#E5ECF6",
            "gridcolor": "white",
            "gridwidth": 2,
            "linecolor": "white",
            "showbackground": true,
            "ticks": "",
            "zerolinecolor": "white"
           }
          },
          "shapedefaults": {
           "line": {
            "color": "#2a3f5f"
           }
          },
          "ternary": {
           "aaxis": {
            "gridcolor": "white",
            "linecolor": "white",
            "ticks": ""
           },
           "baxis": {
            "gridcolor": "white",
            "linecolor": "white",
            "ticks": ""
           },
           "bgcolor": "#E5ECF6",
           "caxis": {
            "gridcolor": "white",
            "linecolor": "white",
            "ticks": ""
           }
          },
          "title": {
           "x": 0.05
          },
          "xaxis": {
           "automargin": true,
           "gridcolor": "white",
           "linecolor": "white",
           "ticks": "",
           "title": {
            "standoff": 15
           },
           "zerolinecolor": "white",
           "zerolinewidth": 2
          },
          "yaxis": {
           "automargin": true,
           "gridcolor": "white",
           "linecolor": "white",
           "ticks": "",
           "title": {
            "standoff": 15
           },
           "zerolinecolor": "white",
           "zerolinewidth": 2
          }
         }
        },
        "title": {
         "text": "놀거리 평균 지표값 기준 상위 10개 지하철역"
        },
        "width": 800,
        "xaxis": {
         "anchor": "y",
         "domain": [
          0,
          1
         ],
         "title": {
          "text": "지하철역"
         }
        },
        "yaxis": {
         "anchor": "x",
         "domain": [
          0,
          1
         ],
         "title": {
          "text": "평균 지표값"
         }
        }
       }
      }
     },
     "metadata": {},
     "output_type": "display_data"
    }
   ],
   "source": [
    "# 상위 10개만 추출\n",
    "indicator_top10 = station_indicator_avg.head(10)\n",
    "\n",
    "# 그래프 그리기\n",
    "fig = px.bar(\n",
    "    indicator_top10,\n",
    "    x='station',\n",
    "    y='indicator',\n",
    "    title='평균 지표값 기준 상위 10개 지하철역',\n",
    "    color_discrete_sequence=['red']\n",
    "\n",
    ")\n",
    "fig.update_layout(\n",
    "    width=800,\n",
    "    height=500,\n",
    "    bargap=0.3,  # 바 간격 (막대 폭 줄이기 효과)\n",
    "    title='놀거리 평균 지표값 기준 상위 10개 지하철역',\n",
    "    xaxis_title='지하철역',\n",
    "    yaxis_title='평균 지표값'\n",
    ")\n",
    "fig.show()"
   ]
  },
  {
   "cell_type": "code",
   "execution_count": 33,
   "metadata": {},
   "outputs": [
    {
     "data": {
      "application/vnd.plotly.v1+json": {
       "config": {
        "plotlyServerURL": "https://plot.ly"
       },
       "data": [
        {
         "hovertemplate": "station=%{x}<br>indicator=%{y}<extra></extra>",
         "legendgroup": "",
         "marker": {
          "color": "blue",
          "pattern": {
           "shape": ""
          }
         },
         "name": "",
         "orientation": "v",
         "showlegend": false,
         "textposition": "auto",
         "type": "bar",
         "x": [
          "방화역",
          "노량진역",
          "왕십리역",
          "고덕역",
          "남구로역",
          "용산역",
          "증미역",
          "총신대입구역",
          "쌍문역",
          "장한평역"
         ],
         "xaxis": "x",
         "y": {
          "bdata": "nbg8W5OuBEBNGhZqFvIIQMmuupX1vQpAKcPMU5lRDkC28JAvGs0OQA2S64eU5g5A5hNkOPPkD0AlIW4QnTgQQHjxUqLahRBAaVBtvG+OEEA=",
          "dtype": "f8"
         },
         "yaxis": "y"
        }
       ],
       "layout": {
        "bargap": 0.3,
        "barmode": "relative",
        "height": 500,
        "legend": {
         "tracegroupgap": 0
        },
        "template": {
         "data": {
          "bar": [
           {
            "error_x": {
             "color": "#2a3f5f"
            },
            "error_y": {
             "color": "#2a3f5f"
            },
            "marker": {
             "line": {
              "color": "#E5ECF6",
              "width": 0.5
             },
             "pattern": {
              "fillmode": "overlay",
              "size": 10,
              "solidity": 0.2
             }
            },
            "type": "bar"
           }
          ],
          "barpolar": [
           {
            "marker": {
             "line": {
              "color": "#E5ECF6",
              "width": 0.5
             },
             "pattern": {
              "fillmode": "overlay",
              "size": 10,
              "solidity": 0.2
             }
            },
            "type": "barpolar"
           }
          ],
          "carpet": [
           {
            "aaxis": {
             "endlinecolor": "#2a3f5f",
             "gridcolor": "white",
             "linecolor": "white",
             "minorgridcolor": "white",
             "startlinecolor": "#2a3f5f"
            },
            "baxis": {
             "endlinecolor": "#2a3f5f",
             "gridcolor": "white",
             "linecolor": "white",
             "minorgridcolor": "white",
             "startlinecolor": "#2a3f5f"
            },
            "type": "carpet"
           }
          ],
          "choropleth": [
           {
            "colorbar": {
             "outlinewidth": 0,
             "ticks": ""
            },
            "type": "choropleth"
           }
          ],
          "contour": [
           {
            "colorbar": {
             "outlinewidth": 0,
             "ticks": ""
            },
            "colorscale": [
             [
              0,
              "#0d0887"
             ],
             [
              0.1111111111111111,
              "#46039f"
             ],
             [
              0.2222222222222222,
              "#7201a8"
             ],
             [
              0.3333333333333333,
              "#9c179e"
             ],
             [
              0.4444444444444444,
              "#bd3786"
             ],
             [
              0.5555555555555556,
              "#d8576b"
             ],
             [
              0.6666666666666666,
              "#ed7953"
             ],
             [
              0.7777777777777778,
              "#fb9f3a"
             ],
             [
              0.8888888888888888,
              "#fdca26"
             ],
             [
              1,
              "#f0f921"
             ]
            ],
            "type": "contour"
           }
          ],
          "contourcarpet": [
           {
            "colorbar": {
             "outlinewidth": 0,
             "ticks": ""
            },
            "type": "contourcarpet"
           }
          ],
          "heatmap": [
           {
            "colorbar": {
             "outlinewidth": 0,
             "ticks": ""
            },
            "colorscale": [
             [
              0,
              "#0d0887"
             ],
             [
              0.1111111111111111,
              "#46039f"
             ],
             [
              0.2222222222222222,
              "#7201a8"
             ],
             [
              0.3333333333333333,
              "#9c179e"
             ],
             [
              0.4444444444444444,
              "#bd3786"
             ],
             [
              0.5555555555555556,
              "#d8576b"
             ],
             [
              0.6666666666666666,
              "#ed7953"
             ],
             [
              0.7777777777777778,
              "#fb9f3a"
             ],
             [
              0.8888888888888888,
              "#fdca26"
             ],
             [
              1,
              "#f0f921"
             ]
            ],
            "type": "heatmap"
           }
          ],
          "histogram": [
           {
            "marker": {
             "pattern": {
              "fillmode": "overlay",
              "size": 10,
              "solidity": 0.2
             }
            },
            "type": "histogram"
           }
          ],
          "histogram2d": [
           {
            "colorbar": {
             "outlinewidth": 0,
             "ticks": ""
            },
            "colorscale": [
             [
              0,
              "#0d0887"
             ],
             [
              0.1111111111111111,
              "#46039f"
             ],
             [
              0.2222222222222222,
              "#7201a8"
             ],
             [
              0.3333333333333333,
              "#9c179e"
             ],
             [
              0.4444444444444444,
              "#bd3786"
             ],
             [
              0.5555555555555556,
              "#d8576b"
             ],
             [
              0.6666666666666666,
              "#ed7953"
             ],
             [
              0.7777777777777778,
              "#fb9f3a"
             ],
             [
              0.8888888888888888,
              "#fdca26"
             ],
             [
              1,
              "#f0f921"
             ]
            ],
            "type": "histogram2d"
           }
          ],
          "histogram2dcontour": [
           {
            "colorbar": {
             "outlinewidth": 0,
             "ticks": ""
            },
            "colorscale": [
             [
              0,
              "#0d0887"
             ],
             [
              0.1111111111111111,
              "#46039f"
             ],
             [
              0.2222222222222222,
              "#7201a8"
             ],
             [
              0.3333333333333333,
              "#9c179e"
             ],
             [
              0.4444444444444444,
              "#bd3786"
             ],
             [
              0.5555555555555556,
              "#d8576b"
             ],
             [
              0.6666666666666666,
              "#ed7953"
             ],
             [
              0.7777777777777778,
              "#fb9f3a"
             ],
             [
              0.8888888888888888,
              "#fdca26"
             ],
             [
              1,
              "#f0f921"
             ]
            ],
            "type": "histogram2dcontour"
           }
          ],
          "mesh3d": [
           {
            "colorbar": {
             "outlinewidth": 0,
             "ticks": ""
            },
            "type": "mesh3d"
           }
          ],
          "parcoords": [
           {
            "line": {
             "colorbar": {
              "outlinewidth": 0,
              "ticks": ""
             }
            },
            "type": "parcoords"
           }
          ],
          "pie": [
           {
            "automargin": true,
            "type": "pie"
           }
          ],
          "scatter": [
           {
            "fillpattern": {
             "fillmode": "overlay",
             "size": 10,
             "solidity": 0.2
            },
            "type": "scatter"
           }
          ],
          "scatter3d": [
           {
            "line": {
             "colorbar": {
              "outlinewidth": 0,
              "ticks": ""
             }
            },
            "marker": {
             "colorbar": {
              "outlinewidth": 0,
              "ticks": ""
             }
            },
            "type": "scatter3d"
           }
          ],
          "scattercarpet": [
           {
            "marker": {
             "colorbar": {
              "outlinewidth": 0,
              "ticks": ""
             }
            },
            "type": "scattercarpet"
           }
          ],
          "scattergeo": [
           {
            "marker": {
             "colorbar": {
              "outlinewidth": 0,
              "ticks": ""
             }
            },
            "type": "scattergeo"
           }
          ],
          "scattergl": [
           {
            "marker": {
             "colorbar": {
              "outlinewidth": 0,
              "ticks": ""
             }
            },
            "type": "scattergl"
           }
          ],
          "scattermap": [
           {
            "marker": {
             "colorbar": {
              "outlinewidth": 0,
              "ticks": ""
             }
            },
            "type": "scattermap"
           }
          ],
          "scattermapbox": [
           {
            "marker": {
             "colorbar": {
              "outlinewidth": 0,
              "ticks": ""
             }
            },
            "type": "scattermapbox"
           }
          ],
          "scatterpolar": [
           {
            "marker": {
             "colorbar": {
              "outlinewidth": 0,
              "ticks": ""
             }
            },
            "type": "scatterpolar"
           }
          ],
          "scatterpolargl": [
           {
            "marker": {
             "colorbar": {
              "outlinewidth": 0,
              "ticks": ""
             }
            },
            "type": "scatterpolargl"
           }
          ],
          "scatterternary": [
           {
            "marker": {
             "colorbar": {
              "outlinewidth": 0,
              "ticks": ""
             }
            },
            "type": "scatterternary"
           }
          ],
          "surface": [
           {
            "colorbar": {
             "outlinewidth": 0,
             "ticks": ""
            },
            "colorscale": [
             [
              0,
              "#0d0887"
             ],
             [
              0.1111111111111111,
              "#46039f"
             ],
             [
              0.2222222222222222,
              "#7201a8"
             ],
             [
              0.3333333333333333,
              "#9c179e"
             ],
             [
              0.4444444444444444,
              "#bd3786"
             ],
             [
              0.5555555555555556,
              "#d8576b"
             ],
             [
              0.6666666666666666,
              "#ed7953"
             ],
             [
              0.7777777777777778,
              "#fb9f3a"
             ],
             [
              0.8888888888888888,
              "#fdca26"
             ],
             [
              1,
              "#f0f921"
             ]
            ],
            "type": "surface"
           }
          ],
          "table": [
           {
            "cells": {
             "fill": {
              "color": "#EBF0F8"
             },
             "line": {
              "color": "white"
             }
            },
            "header": {
             "fill": {
              "color": "#C8D4E3"
             },
             "line": {
              "color": "white"
             }
            },
            "type": "table"
           }
          ]
         },
         "layout": {
          "annotationdefaults": {
           "arrowcolor": "#2a3f5f",
           "arrowhead": 0,
           "arrowwidth": 1
          },
          "autotypenumbers": "strict",
          "coloraxis": {
           "colorbar": {
            "outlinewidth": 0,
            "ticks": ""
           }
          },
          "colorscale": {
           "diverging": [
            [
             0,
             "#8e0152"
            ],
            [
             0.1,
             "#c51b7d"
            ],
            [
             0.2,
             "#de77ae"
            ],
            [
             0.3,
             "#f1b6da"
            ],
            [
             0.4,
             "#fde0ef"
            ],
            [
             0.5,
             "#f7f7f7"
            ],
            [
             0.6,
             "#e6f5d0"
            ],
            [
             0.7,
             "#b8e186"
            ],
            [
             0.8,
             "#7fbc41"
            ],
            [
             0.9,
             "#4d9221"
            ],
            [
             1,
             "#276419"
            ]
           ],
           "sequential": [
            [
             0,
             "#0d0887"
            ],
            [
             0.1111111111111111,
             "#46039f"
            ],
            [
             0.2222222222222222,
             "#7201a8"
            ],
            [
             0.3333333333333333,
             "#9c179e"
            ],
            [
             0.4444444444444444,
             "#bd3786"
            ],
            [
             0.5555555555555556,
             "#d8576b"
            ],
            [
             0.6666666666666666,
             "#ed7953"
            ],
            [
             0.7777777777777778,
             "#fb9f3a"
            ],
            [
             0.8888888888888888,
             "#fdca26"
            ],
            [
             1,
             "#f0f921"
            ]
           ],
           "sequentialminus": [
            [
             0,
             "#0d0887"
            ],
            [
             0.1111111111111111,
             "#46039f"
            ],
            [
             0.2222222222222222,
             "#7201a8"
            ],
            [
             0.3333333333333333,
             "#9c179e"
            ],
            [
             0.4444444444444444,
             "#bd3786"
            ],
            [
             0.5555555555555556,
             "#d8576b"
            ],
            [
             0.6666666666666666,
             "#ed7953"
            ],
            [
             0.7777777777777778,
             "#fb9f3a"
            ],
            [
             0.8888888888888888,
             "#fdca26"
            ],
            [
             1,
             "#f0f921"
            ]
           ]
          },
          "colorway": [
           "#636efa",
           "#EF553B",
           "#00cc96",
           "#ab63fa",
           "#FFA15A",
           "#19d3f3",
           "#FF6692",
           "#B6E880",
           "#FF97FF",
           "#FECB52"
          ],
          "font": {
           "color": "#2a3f5f"
          },
          "geo": {
           "bgcolor": "white",
           "lakecolor": "white",
           "landcolor": "#E5ECF6",
           "showlakes": true,
           "showland": true,
           "subunitcolor": "white"
          },
          "hoverlabel": {
           "align": "left"
          },
          "hovermode": "closest",
          "mapbox": {
           "style": "light"
          },
          "paper_bgcolor": "white",
          "plot_bgcolor": "#E5ECF6",
          "polar": {
           "angularaxis": {
            "gridcolor": "white",
            "linecolor": "white",
            "ticks": ""
           },
           "bgcolor": "#E5ECF6",
           "radialaxis": {
            "gridcolor": "white",
            "linecolor": "white",
            "ticks": ""
           }
          },
          "scene": {
           "xaxis": {
            "backgroundcolor": "#E5ECF6",
            "gridcolor": "white",
            "gridwidth": 2,
            "linecolor": "white",
            "showbackground": true,
            "ticks": "",
            "zerolinecolor": "white"
           },
           "yaxis": {
            "backgroundcolor": "#E5ECF6",
            "gridcolor": "white",
            "gridwidth": 2,
            "linecolor": "white",
            "showbackground": true,
            "ticks": "",
            "zerolinecolor": "white"
           },
           "zaxis": {
            "backgroundcolor": "#E5ECF6",
            "gridcolor": "white",
            "gridwidth": 2,
            "linecolor": "white",
            "showbackground": true,
            "ticks": "",
            "zerolinecolor": "white"
           }
          },
          "shapedefaults": {
           "line": {
            "color": "#2a3f5f"
           }
          },
          "ternary": {
           "aaxis": {
            "gridcolor": "white",
            "linecolor": "white",
            "ticks": ""
           },
           "baxis": {
            "gridcolor": "white",
            "linecolor": "white",
            "ticks": ""
           },
           "bgcolor": "#E5ECF6",
           "caxis": {
            "gridcolor": "white",
            "linecolor": "white",
            "ticks": ""
           }
          },
          "title": {
           "x": 0.05
          },
          "xaxis": {
           "automargin": true,
           "gridcolor": "white",
           "linecolor": "white",
           "ticks": "",
           "title": {
            "standoff": 15
           },
           "zerolinecolor": "white",
           "zerolinewidth": 2
          },
          "yaxis": {
           "automargin": true,
           "gridcolor": "white",
           "linecolor": "white",
           "ticks": "",
           "title": {
            "standoff": 15
           },
           "zerolinecolor": "white",
           "zerolinewidth": 2
          }
         }
        },
        "title": {
         "text": "놀거리 평균 지표값 기준 하위 10개 지하철역"
        },
        "width": 800,
        "xaxis": {
         "anchor": "y",
         "domain": [
          0,
          1
         ],
         "title": {
          "text": "지하철역"
         }
        },
        "yaxis": {
         "anchor": "x",
         "domain": [
          0,
          1
         ],
         "title": {
          "text": "평균 지표값"
         }
        }
       }
      }
     },
     "metadata": {},
     "output_type": "display_data"
    }
   ],
   "source": [
    "# value 오름차순 정렬 (작은 값이 먼저 오게)\n",
    "station_avg_indicator_sorted = station_indicator_avg.sort_values(by='indicator', ascending=True)\n",
    "\n",
    "# 하위 10개만 추출\n",
    "indicator_bottom10 = station_avg_indicator_sorted.head(10)\n",
    "\n",
    "# 그래프 그리기\n",
    "fig = px.bar(\n",
    "    indicator_bottom10,\n",
    "    x='station',\n",
    "    y='indicator',\n",
    "    title='놀거리 평균 지표값 기준 하위 10개 지하철역',\n",
    "    color_discrete_sequence=['blue']\n",
    ")\n",
    "\n",
    "fig.update_layout(\n",
    "    width=800,\n",
    "    height=500,\n",
    "    bargap=0.3,\n",
    "    xaxis_title='지하철역',\n",
    "    yaxis_title='평균 지표값'\n",
    ")\n",
    "\n",
    "fig.show()"
   ]
  },
  {
   "cell_type": "code",
   "execution_count": null,
   "metadata": {},
   "outputs": [],
   "source": []
  }
 ],
 "metadata": {
  "kernelspec": {
   "display_name": "eda_venv",
   "language": "python",
   "name": "python3"
  },
  "language_info": {
   "codemirror_mode": {
    "name": "ipython",
    "version": 3
   },
   "file_extension": ".py",
   "mimetype": "text/x-python",
   "name": "python",
   "nbconvert_exporter": "python",
   "pygments_lexer": "ipython3",
   "version": "3.12.3"
  }
 },
 "nbformat": 4,
 "nbformat_minor": 2
}
