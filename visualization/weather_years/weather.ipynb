{
 "cells": [
  {
   "cell_type": "code",
   "execution_count": 13,
   "metadata": {},
   "outputs": [
    {
     "name": "stdout",
     "output_type": "stream",
     "text": [
      "압축 해제 완료. 파일은 /home/mac/Downloads/extracted에 저장되었습니다.\n"
     ]
    }
   ],
   "source": [
    "import zipfile\n",
    "import os\n",
    "\n",
    "# 압축 해제 경로 설정\n",
    "extract_path = '/home/mac/Downloads/extracted'  # 원하는 압축 해제 경로로 변경하세요\n",
    "\n",
    "# 압축 해제 경로가 없으면 생성\n",
    "if not os.path.exists(extract_path):\n",
    "    os.makedirs(extract_path)\n",
    "\n",
    "# CP949(한국어 인코딩) 사용하여 압축 해제\n",
    "with zipfile.ZipFile('/home/mac/Downloads/20250328102438.zip', 'r') as zip_ref:\n",
    "    # 파일 목록 확인\n",
    "    file_list = zip_ref.namelist()\n",
    "    \n",
    "    # 각 파일 압축 해제\n",
    "    for file in file_list:\n",
    "        # CP949로 디코딩하여 원래 파일명 복원\n",
    "        filename = file.encode('cp437').decode('cp949')\n",
    "        \n",
    "        # 압축 해제\n",
    "        with zip_ref.open(file) as source:\n",
    "            with open(os.path.join(extract_path, filename), 'wb') as target:\n",
    "                target.write(source.read())\n",
    "\n",
    "print(f\"압축 해제 완료. 파일은 {extract_path}에 저장되었습니다.\")"
   ]
  },
  {
   "cell_type": "code",
   "execution_count": 4,
   "metadata": {},
   "outputs": [],
   "source": [
    "import pandas as pd\n",
    "\n",
    "card_df = pd.read_csv(\"/home/mac/project_ws/eda-repo-5/visualization/weather_years/가맹점_카드매출액_2020년_1월.csv\")"
   ]
  },
  {
   "cell_type": "code",
   "execution_count": null,
   "metadata": {},
   "outputs": [
    {
     "data": {
      "application/vnd.microsoft.datawrangler.viewer.v0+json": {
       "columns": [
        {
         "name": "index",
         "rawType": "int64",
         "type": "integer"
        },
        {
         "name": "Date",
         "rawType": "object",
         "type": "string"
        },
        {
         "name": "전체",
         "rawType": "float64",
         "type": "float"
        }
       ],
       "conversionMethod": "pd.DataFrame",
       "ref": "69bd732d-d052-4478-b45e-460f86727082",
       "rows": [
        [
         "0",
         "2020-01-10",
         "-6.4"
        ],
        [
         "1",
         "2020-01-17",
         "-0.8"
        ],
        [
         "2",
         "2020-01-24",
         "6.6"
        ],
        [
         "3",
         "2020-01-31",
         "0.6"
        ],
        [
         "4",
         "2020-02-07",
         "-19.3"
        ],
        [
         "5",
         "2020-02-14",
         "-1.5"
        ],
        [
         "6",
         "2020-02-21",
         "-8.3"
        ],
        [
         "7",
         "2020-02-28",
         "6.4"
        ],
        [
         "8",
         "2020-03-06",
         "-22.0"
        ],
        [
         "9",
         "2020-03-13",
         "-9.9"
        ],
        [
         "10",
         "2020-03-20",
         "-14.3"
        ],
        [
         "11",
         "2020-03-27",
         "-3.2"
        ],
        [
         "12",
         "2020-04-03",
         "-11.2"
        ],
        [
         "13",
         "2020-04-10",
         "-11.1"
        ],
        [
         "14",
         "2020-04-17",
         "-12.2"
        ],
        [
         "15",
         "2020-04-24",
         "1.0"
        ],
        [
         "16",
         "2020-05-01",
         "1.0"
        ],
        [
         "17",
         "2020-05-08",
         "-14.9"
        ],
        [
         "18",
         "2020-05-15",
         "5.6"
        ],
        [
         "19",
         "2020-05-22",
         "14.4"
        ],
        [
         "20",
         "2020-05-29",
         "23.9"
        ],
        [
         "21",
         "2020-06-05",
         "-9.0"
        ],
        [
         "22",
         "2020-06-12",
         "-0.5"
        ],
        [
         "23",
         "2020-06-19",
         "-7.1"
        ],
        [
         "24",
         "2020-06-26",
         "8.2"
        ],
        [
         "25",
         "2020-07-03",
         "-0.2"
        ],
        [
         "26",
         "2020-07-10",
         "-7.1"
        ],
        [
         "27",
         "2020-07-17",
         "-5.5"
        ],
        [
         "28",
         "2020-07-24",
         "-5.0"
        ],
        [
         "29",
         "2020-07-31",
         "20.1"
        ],
        [
         "30",
         "2020-08-07",
         "-19.1"
        ],
        [
         "31",
         "2020-08-14",
         "2.0"
        ],
        [
         "32",
         "2020-08-21",
         "-7.7"
        ],
        [
         "33",
         "2020-08-28",
         "10.6"
        ],
        [
         "34",
         "2020-09-04",
         "-11.9"
        ],
        [
         "35",
         "2020-09-11",
         "-5.4"
        ],
        [
         "36",
         "2020-09-18",
         "-5.5"
        ],
        [
         "37",
         "2020-09-25",
         "17.8"
        ],
        [
         "38",
         "2020-10-02",
         "-13.2"
        ],
        [
         "39",
         "2020-10-09",
         "-15.6"
        ],
        [
         "40",
         "2020-10-16",
         "9.8"
        ],
        [
         "41",
         "2020-10-23",
         "-2.3"
        ],
        [
         "42",
         "2020-10-30",
         "22.9"
        ],
        [
         "43",
         "2020-11-06",
         "-7.8"
        ],
        [
         "44",
         "2020-11-13",
         "6.6"
        ],
        [
         "45",
         "2020-11-20",
         "-3.6"
        ],
        [
         "46",
         "2020-11-27",
         "15.5"
        ],
        [
         "47",
         "2020-12-04",
         "-4.3"
        ],
        [
         "48",
         "2020-12-11",
         "-1.9"
        ],
        [
         "49",
         "2020-12-18",
         "-8.1"
        ]
       ],
       "shape": {
        "columns": 2,
        "rows": 271
       }
      },
      "text/html": [
       "<div>\n",
       "<style scoped>\n",
       "    .dataframe tbody tr th:only-of-type {\n",
       "        vertical-align: middle;\n",
       "    }\n",
       "\n",
       "    .dataframe tbody tr th {\n",
       "        vertical-align: top;\n",
       "    }\n",
       "\n",
       "    .dataframe thead th {\n",
       "        text-align: right;\n",
       "    }\n",
       "</style>\n",
       "<table border=\"1\" class=\"dataframe\">\n",
       "  <thead>\n",
       "    <tr style=\"text-align: right;\">\n",
       "      <th></th>\n",
       "      <th>Date</th>\n",
       "      <th>전체</th>\n",
       "    </tr>\n",
       "  </thead>\n",
       "  <tbody>\n",
       "    <tr>\n",
       "      <th>0</th>\n",
       "      <td>2020-01-10</td>\n",
       "      <td>-6.4</td>\n",
       "    </tr>\n",
       "    <tr>\n",
       "      <th>1</th>\n",
       "      <td>2020-01-17</td>\n",
       "      <td>-0.8</td>\n",
       "    </tr>\n",
       "    <tr>\n",
       "      <th>2</th>\n",
       "      <td>2020-01-24</td>\n",
       "      <td>6.6</td>\n",
       "    </tr>\n",
       "    <tr>\n",
       "      <th>3</th>\n",
       "      <td>2020-01-31</td>\n",
       "      <td>0.6</td>\n",
       "    </tr>\n",
       "    <tr>\n",
       "      <th>4</th>\n",
       "      <td>2020-02-07</td>\n",
       "      <td>-19.3</td>\n",
       "    </tr>\n",
       "    <tr>\n",
       "      <th>...</th>\n",
       "      <td>...</td>\n",
       "      <td>...</td>\n",
       "    </tr>\n",
       "    <tr>\n",
       "      <th>266</th>\n",
       "      <td>2025-02-14</td>\n",
       "      <td>28.4</td>\n",
       "    </tr>\n",
       "    <tr>\n",
       "      <th>267</th>\n",
       "      <td>2025-02-21</td>\n",
       "      <td>17.5</td>\n",
       "    </tr>\n",
       "    <tr>\n",
       "      <th>268</th>\n",
       "      <td>2025-02-28</td>\n",
       "      <td>60.5</td>\n",
       "    </tr>\n",
       "    <tr>\n",
       "      <th>269</th>\n",
       "      <td>2025-03-07</td>\n",
       "      <td>5.6</td>\n",
       "    </tr>\n",
       "    <tr>\n",
       "      <th>270</th>\n",
       "      <td>2025-03-14</td>\n",
       "      <td>30.5</td>\n",
       "    </tr>\n",
       "  </tbody>\n",
       "</table>\n",
       "<p>271 rows × 2 columns</p>\n",
       "</div>"
      ],
      "text/plain": [
       "           Date    전체\n",
       "0    2020-01-10  -6.4\n",
       "1    2020-01-17  -0.8\n",
       "2    2020-01-24   6.6\n",
       "3    2020-01-31   0.6\n",
       "4    2020-02-07 -19.3\n",
       "..          ...   ...\n",
       "266  2025-02-14  28.4\n",
       "267  2025-02-21  17.5\n",
       "268  2025-02-28  60.5\n",
       "269  2025-03-07   5.6\n",
       "270  2025-03-14  30.5\n",
       "\n",
       "[271 rows x 2 columns]"
      ]
     },
     "execution_count": 10,
     "metadata": {},
     "output_type": "execute_result"
    }
   ],
   "source": [
    "card_df = card_df.iloc[:, :-1]"
   ]
  },
  {
   "cell_type": "code",
   "execution_count": null,
   "metadata": {},
   "outputs": [],
   "source": [
    "card_df"
   ]
  },
  {
   "cell_type": "code",
   "execution_count": 86,
   "metadata": {},
   "outputs": [
    {
     "name": "stdout",
     "output_type": "stream",
     "text": [
      "압축 파일 내 파일 목록:\n",
      "  - ├╗┐ε╚┐└┌╡┐_░¡╝÷╟ⁿ┼┬_202401_202412.csv\n",
      "  - ├╗┐ε╚┐└┌╡┐_╜└╡╡_202401_202412.csv\n",
      "  - ├╗┐ε╚┐└┌╡┐_░¡╝÷_202401_202412.csv\n",
      "  - ├╗┐ε╚┐└┌╡┐_╟╧┤├╗≤┼┬_202401_202412.csv\n",
      "  - ├╗┐ε╚┐└┌╡┐_▒Γ┐┬_202401_202412.csv\n",
      "  - ├╗┐ε╚┐└┌╡┐_╟│╝╙_202401_202412.csv\n",
      "\n",
      "CSV 파일 '청운효자동_강수형태_202401_202412.csv' → '202401_202412_df' 변환 완료 (인코딩: utf-8)\n",
      "  - 크기: 8795 행 x 3 열\n",
      "  - 처음 5행:\n",
      "   format: day   hour  value location:60_127 Start : 20240101 \n",
      "0            1    0.0                                      0.0\n",
      "1            1  100.0                                      0.0\n",
      "2            1  200.0                                      0.0\n",
      "3            1  300.0                                      0.0\n",
      "4            1  400.0                                      0.0\n",
      "\n",
      "CSV 파일 '청운효자동_습도_202401_202412.csv' → '202401_202412_df' 변환 완료 (인코딩: utf-8)\n",
      "  - 크기: 8795 행 x 3 열\n",
      "  - 처음 5행:\n",
      "   format: day   hour  value location:60_127 Start : 20240101 \n",
      "0            1    0.0                                     94.0\n",
      "1            1  100.0                                     80.0\n",
      "2            1  200.0                                     72.0\n",
      "3            1  300.0                                     68.0\n",
      "4            1  400.0                                     69.0\n",
      "\n",
      "CSV 파일 '청운효자동_강수_202401_202412.csv' → '202401_202412_df' 변환 완료 (인코딩: utf-8)\n",
      "  - 크기: 8795 행 x 3 열\n",
      "  - 처음 5행:\n",
      "   format: day   hour  value location:60_127 Start : 20240101 \n",
      "0            1    0.0                                      0.0\n",
      "1            1  100.0                                      0.0\n",
      "2            1  200.0                                      0.0\n",
      "3            1  300.0                                      0.0\n",
      "4            1  400.0                                      0.0\n",
      "\n",
      "CSV 파일 '청운효자동_하늘상태_202401_202412.csv' → '202401_202412_df' 변환 완료 (인코딩: utf-8)\n",
      "  - 크기: 0 행 x 3 열\n",
      "  - 처음 5행:\n",
      "Empty DataFrame\n",
      "Columns: [ format: day, hour, value location:60_127 ]\n",
      "Index: []\n",
      "\n",
      "CSV 파일 '청운효자동_기온_202401_202412.csv' → '202401_202412_df' 변환 완료 (인코딩: utf-8)\n",
      "  - 크기: 8795 행 x 3 열\n",
      "  - 처음 5행:\n",
      "   format: day   hour  value location:60_127 Start : 20240101 \n",
      "0            1    0.0                                      2.7\n",
      "1            1  100.0                                      4.6\n",
      "2            1  200.0                                      6.1\n",
      "3            1  300.0                                      7.2\n",
      "4            1  400.0                                      6.5\n",
      "\n",
      "CSV 파일 '청운효자동_풍속_202401_202412.csv' → '202401_202412_df' 변환 완료 (인코딩: utf-8)\n",
      "  - 크기: 8795 행 x 3 열\n",
      "  - 처음 5행:\n",
      "   format: day   hour  value location:60_127 Start : 20240101 \n",
      "0            1    0.0                                      1.6\n",
      "1            1  100.0                                      2.0\n",
      "2            1  200.0                                      1.9\n",
      "3            1  300.0                                      1.3\n",
      "4            1  400.0                                      1.4\n",
      "\n",
      "생성된 데이터프레임 목록:\n",
      "  - 202401_202412_df: 8795 행 x 3 열\n"
     ]
    }
   ],
   "source": [
    "import zipfile\n",
    "import os\n",
    "import pandas as pd\n",
    "import re\n",
    "\n",
    "# 압축 파일 경로\n",
    "zip_path = '/home/mac/Downloads/20250328102438.zip'\n",
    "\n",
    "# 압축 해제 경로 설정\n",
    "extract_path = '/home/mac/Downloads/extracted'\n",
    "\n",
    "# 압축 해제 경로가 없으면 생성\n",
    "if not os.path.exists(extract_path):\n",
    "    os.makedirs(extract_path)\n",
    "\n",
    "# 데이터프레임 저장 딕셔너리\n",
    "dataframes = {}\n",
    "\n",
    "# 한글 파일명을 영어 파일명으로 변환하는 함수\n",
    "def convert_to_english_name(filename):\n",
    "    # 확장자 분리\n",
    "    base_name, ext = os.path.splitext(filename)\n",
    "    \n",
    "    # 한글 또는 특수문자를 제거하고 영어와 숫자만 유지\n",
    "    english_name = re.sub(r'[^a-zA-Z0-9]', '_', base_name)\n",
    "    \n",
    "    # 언더스코어가 연속으로 있는 경우 하나로 변경\n",
    "    english_name = re.sub(r'_+', '_', english_name)\n",
    "    \n",
    "    # 앞뒤 언더스코어 제거\n",
    "    english_name = english_name.strip('_')\n",
    "    \n",
    "    # 비어있는 경우 기본값 설정\n",
    "    if not english_name:\n",
    "        english_name = \"file\"\n",
    "    \n",
    "    return english_name\n",
    "\n",
    "# 압축 파일 처리\n",
    "with zipfile.ZipFile(zip_path, 'r') as zip_ref:\n",
    "    # 파일 목록 확인\n",
    "    file_list = zip_ref.namelist()\n",
    "    print(\"압축 파일 내 파일 목록:\")\n",
    "    for file in file_list:\n",
    "        print(f\"  - {file}\")\n",
    "    \n",
    "    # 각 파일 처리\n",
    "    for file in file_list:\n",
    "        # 디렉토리는 건너뛰기\n",
    "        if file.endswith('/'):\n",
    "            continue\n",
    "        \n",
    "        try:\n",
    "            # CP949로 디코딩하여 원래 파일명 복원 시도\n",
    "            try:\n",
    "                decoded_filename = file.encode('cp437').decode('cp949', errors='replace')\n",
    "            except:\n",
    "                decoded_filename = file\n",
    "            \n",
    "            # 영어 변수명 생성\n",
    "            english_name = convert_to_english_name(decoded_filename)\n",
    "            var_name = f\"{english_name}_df\"\n",
    "            \n",
    "            # 파일 확장자 확인\n",
    "            _, ext = os.path.splitext(file)\n",
    "            \n",
    "            # 임시 파일 경로\n",
    "            temp_path = os.path.join(extract_path, os.path.basename(file))\n",
    "            \n",
    "            # 파일 추출\n",
    "            with zip_ref.open(file) as source:\n",
    "                with open(temp_path, 'wb') as target:\n",
    "                    target.write(source.read())\n",
    "            \n",
    "            # 파일 유형에 따라 데이터프레임 생성\n",
    "            if ext.lower() in ['.xlsx', '.xls']:\n",
    "                # 엑셀 파일\n",
    "                df = pd.read_excel(temp_path, engine='openpyxl' if ext.lower() == '.xlsx' else 'xlrd')\n",
    "                dataframes[var_name] = df\n",
    "                # 전역 변수로 등록\n",
    "                globals()[var_name] = df\n",
    "                print(f\"\\n엑셀 파일 '{decoded_filename}' → '{var_name}' 변환 완료\")\n",
    "                print(f\"  - 크기: {df.shape[0]} 행 x {df.shape[1]} 열\")\n",
    "                print(f\"  - 처음 5행:\\n{df.head()}\")\n",
    "                \n",
    "            elif ext.lower() == '.csv':\n",
    "                # CSV 파일 (인코딩 자동 감지)\n",
    "                for encoding in ['utf-8', 'cp949', 'euc-kr']:\n",
    "                    try:\n",
    "                        df = pd.read_csv(temp_path, encoding=encoding)\n",
    "                        dataframes[var_name] = df\n",
    "                        # 전역 변수로 등록\n",
    "                        globals()[var_name] = df\n",
    "                        print(f\"\\nCSV 파일 '{decoded_filename}' → '{var_name}' 변환 완료 (인코딩: {encoding})\")\n",
    "                        print(f\"  - 크기: {df.shape[0]} 행 x {df.shape[1]} 열\")\n",
    "                        print(f\"  - 처음 5행:\\n{df.head()}\")\n",
    "                        break\n",
    "                    except UnicodeDecodeError:\n",
    "                        continue\n",
    "                    except Exception as e:\n",
    "                        print(f\"  - CSV 처리 오류 ({encoding}): {str(e)}\")\n",
    "            \n",
    "            # 임시 파일 삭제\n",
    "            os.remove(temp_path)\n",
    "            \n",
    "        except Exception as e:\n",
    "            print(f\"\\n파일 '{file}' 처리 중 오류: {str(e)}\")\n",
    "\n",
    "print(f\"\\n생성된 데이터프레임 목록:\")\n",
    "for name in dataframes.keys():\n",
    "    print(f\"  - {name}: {globals()[name].shape[0]} 행 x {globals()[name].shape[1]} 열\")"
   ]
  },
  {
   "cell_type": "code",
   "execution_count": 87,
   "metadata": {},
   "outputs": [
    {
     "data": {
      "text/plain": [
       "{'202401_202412_df':       format: day    hour  value location:60_127 Start : 20240101 \n",
       " 0               1     0.0                                      1.6\n",
       " 1               1   100.0                                      2.0\n",
       " 2               1   200.0                                      1.9\n",
       " 3               1   300.0                                      1.3\n",
       " 4               1   400.0                                      1.4\n",
       " ...           ...     ...                                      ...\n",
       " 8790           31  1900.0                                      2.2\n",
       " 8791           31  2000.0                                      2.4\n",
       " 8792           31  2100.0                                      2.2\n",
       " 8793           31  2200.0                                      1.8\n",
       " 8794           31  2300.0                                      1.7\n",
       " \n",
       " [8795 rows x 3 columns]}"
      ]
     },
     "execution_count": 87,
     "metadata": {},
     "output_type": "execute_result"
    }
   ],
   "source": [
    "dataframes"
   ]
  },
  {
   "cell_type": "code",
   "execution_count": 88,
   "metadata": {},
   "outputs": [
    {
     "name": "stdout",
     "output_type": "stream",
     "text": [
      "데이터프레임 변수 목록 (38개):\n",
      "- _1\n",
      "- card_df\n",
      "- _5\n",
      "- _7\n",
      "- _10\n",
      "- df\n",
      "- spot_df\n",
      "- cafe_df\n",
      "- restaurant_df\n",
      "- play_df\n",
      "- region_counts\n",
      "- region_counts_sorted\n",
      "- 202401_202412_df\n",
      "- _21\n",
      "- result\n",
      "- _23\n",
      "- _26\n",
      "- _34\n",
      "- _42\n",
      "- before_start\n",
      "- after_start\n",
      "- before_feb\n",
      "- after_feb\n",
      "- segment_df\n",
      "- second_segment\n",
      "- _47\n",
      "- _49\n",
      "- _54\n",
      "- _58\n",
      "- _64\n",
      "- _66\n",
      "- _70\n",
      "- _72\n",
      "- _74\n",
      "- _81\n",
      "- df_extended\n",
      "- _84\n",
      "- _85\n"
     ]
    }
   ],
   "source": [
    "import pandas as pd\n",
    "\n",
    "df_vars = [var_name for var_name, var_value in globals().items() \n",
    "           if isinstance(var_value, pd.DataFrame)]\n",
    "\n",
    "print(f\"데이터프레임 변수 목록 ({len(df_vars)}개):\")\n",
    "for var_name in df_vars:\n",
    "    print(f\"- {var_name}\")"
   ]
  },
  {
   "cell_type": "code",
   "execution_count": 89,
   "metadata": {},
   "outputs": [
    {
     "data": {
      "text/plain": [
       "Index([' format: day', 'hour', 'value location:60_127 Start : 20240101 '], dtype='object')"
      ]
     },
     "execution_count": 89,
     "metadata": {},
     "output_type": "execute_result"
    }
   ],
   "source": [
    "df.columns"
   ]
  },
  {
   "cell_type": "code",
   "execution_count": 90,
   "metadata": {},
   "outputs": [],
   "source": [
    "df = df.rename(columns={' format: day': '일', 'value location:60_127 Start : 20240101 ':'강수량'})"
   ]
  },
  {
   "cell_type": "code",
   "execution_count": 91,
   "metadata": {},
   "outputs": [],
   "source": [
    "df = df.drop('hour', axis=1)"
   ]
  },
  {
   "cell_type": "code",
   "execution_count": 92,
   "metadata": {},
   "outputs": [
    {
     "data": {
      "application/vnd.microsoft.datawrangler.viewer.v0+json": {
       "columns": [
        {
         "name": "index",
         "rawType": "int64",
         "type": "integer"
        },
        {
         "name": "일",
         "rawType": "object",
         "type": "string"
        },
        {
         "name": "강수량",
         "rawType": "float64",
         "type": "float"
        }
       ],
       "conversionMethod": "pd.DataFrame",
       "ref": "882f1a64-269d-4afc-80fe-76fcc4e3a490",
       "rows": [
        [
         "0",
         " 1",
         "1.6"
        ],
        [
         "1",
         " 1",
         "2.0"
        ],
        [
         "2",
         " 1",
         "1.9"
        ],
        [
         "3",
         " 1",
         "1.3"
        ],
        [
         "4",
         " 1",
         "1.4"
        ],
        [
         "5",
         " 1",
         "2.1"
        ],
        [
         "6",
         " 1",
         "2.5"
        ],
        [
         "7",
         " 1",
         "2.1"
        ],
        [
         "8",
         " 1",
         "1.3"
        ],
        [
         "9",
         " 1",
         "1.5"
        ],
        [
         "10",
         " 1",
         "1.6"
        ],
        [
         "11",
         " 1",
         "1.6"
        ],
        [
         "12",
         " 1",
         "1.5"
        ],
        [
         "13",
         " 1",
         "1.6"
        ],
        [
         "14",
         " 1",
         "1.6"
        ],
        [
         "15",
         " 1",
         "1.0"
        ],
        [
         "16",
         " 1",
         "2.4"
        ],
        [
         "17",
         " 1",
         "2.0"
        ],
        [
         "18",
         " 1",
         "0.1"
        ],
        [
         "19",
         " 1",
         "1.0"
        ],
        [
         "20",
         " 1",
         "1.0"
        ],
        [
         "21",
         " 1",
         "0.8"
        ],
        [
         "22",
         " 1",
         "1.7"
        ],
        [
         "23",
         " 1",
         "1.4"
        ],
        [
         "24",
         " 2",
         "2.2"
        ],
        [
         "25",
         " 2",
         "1.7"
        ],
        [
         "26",
         " 2",
         "1.7"
        ],
        [
         "27",
         " 2",
         "2.0"
        ],
        [
         "28",
         " 2",
         "3.0"
        ],
        [
         "29",
         " 2",
         "1.7"
        ],
        [
         "30",
         " 2",
         "0.8"
        ],
        [
         "31",
         " 2",
         "1.5"
        ],
        [
         "32",
         " 2",
         "1.2"
        ],
        [
         "33",
         " 2",
         "1.9"
        ],
        [
         "34",
         " 2",
         "1.3"
        ],
        [
         "35",
         " 2",
         "2.2"
        ],
        [
         "36",
         " 2",
         "2.0"
        ],
        [
         "37",
         " 2",
         "1.2"
        ],
        [
         "38",
         " 2",
         "1.6"
        ],
        [
         "39",
         " 2",
         "1.4"
        ],
        [
         "40",
         " 2",
         "0.7"
        ],
        [
         "41",
         " 2",
         "0.6"
        ],
        [
         "42",
         " 2",
         "0.2"
        ],
        [
         "43",
         " 2",
         "0.7"
        ],
        [
         "44",
         " 2",
         "0.8"
        ],
        [
         "45",
         " 2",
         "1.0"
        ],
        [
         "46",
         " 2",
         "1.7"
        ],
        [
         "47",
         " 2",
         "1.7"
        ],
        [
         "48",
         " 3",
         "0.3"
        ],
        [
         "49",
         " 3",
         "1.0"
        ]
       ],
       "shape": {
        "columns": 2,
        "rows": 8795
       }
      },
      "text/html": [
       "<div>\n",
       "<style scoped>\n",
       "    .dataframe tbody tr th:only-of-type {\n",
       "        vertical-align: middle;\n",
       "    }\n",
       "\n",
       "    .dataframe tbody tr th {\n",
       "        vertical-align: top;\n",
       "    }\n",
       "\n",
       "    .dataframe thead th {\n",
       "        text-align: right;\n",
       "    }\n",
       "</style>\n",
       "<table border=\"1\" class=\"dataframe\">\n",
       "  <thead>\n",
       "    <tr style=\"text-align: right;\">\n",
       "      <th></th>\n",
       "      <th>일</th>\n",
       "      <th>강수량</th>\n",
       "    </tr>\n",
       "  </thead>\n",
       "  <tbody>\n",
       "    <tr>\n",
       "      <th>0</th>\n",
       "      <td>1</td>\n",
       "      <td>1.6</td>\n",
       "    </tr>\n",
       "    <tr>\n",
       "      <th>1</th>\n",
       "      <td>1</td>\n",
       "      <td>2.0</td>\n",
       "    </tr>\n",
       "    <tr>\n",
       "      <th>2</th>\n",
       "      <td>1</td>\n",
       "      <td>1.9</td>\n",
       "    </tr>\n",
       "    <tr>\n",
       "      <th>3</th>\n",
       "      <td>1</td>\n",
       "      <td>1.3</td>\n",
       "    </tr>\n",
       "    <tr>\n",
       "      <th>4</th>\n",
       "      <td>1</td>\n",
       "      <td>1.4</td>\n",
       "    </tr>\n",
       "    <tr>\n",
       "      <th>...</th>\n",
       "      <td>...</td>\n",
       "      <td>...</td>\n",
       "    </tr>\n",
       "    <tr>\n",
       "      <th>8790</th>\n",
       "      <td>31</td>\n",
       "      <td>2.2</td>\n",
       "    </tr>\n",
       "    <tr>\n",
       "      <th>8791</th>\n",
       "      <td>31</td>\n",
       "      <td>2.4</td>\n",
       "    </tr>\n",
       "    <tr>\n",
       "      <th>8792</th>\n",
       "      <td>31</td>\n",
       "      <td>2.2</td>\n",
       "    </tr>\n",
       "    <tr>\n",
       "      <th>8793</th>\n",
       "      <td>31</td>\n",
       "      <td>1.8</td>\n",
       "    </tr>\n",
       "    <tr>\n",
       "      <th>8794</th>\n",
       "      <td>31</td>\n",
       "      <td>1.7</td>\n",
       "    </tr>\n",
       "  </tbody>\n",
       "</table>\n",
       "<p>8795 rows × 2 columns</p>\n",
       "</div>"
      ],
      "text/plain": [
       "        일  강수량\n",
       "0       1  1.6\n",
       "1       1  2.0\n",
       "2       1  1.9\n",
       "3       1  1.3\n",
       "4       1  1.4\n",
       "...   ...  ...\n",
       "8790   31  2.2\n",
       "8791   31  2.4\n",
       "8792   31  2.2\n",
       "8793   31  1.8\n",
       "8794   31  1.7\n",
       "\n",
       "[8795 rows x 2 columns]"
      ]
     },
     "execution_count": 92,
     "metadata": {},
     "output_type": "execute_result"
    }
   ],
   "source": [
    "df"
   ]
  },
  {
   "cell_type": "code",
   "execution_count": 93,
   "metadata": {},
   "outputs": [
    {
     "name": "stdout",
     "output_type": "stream",
     "text": [
      "ID 7개씩 그룹화 결과:\n",
      "  그룹범위  일   강수량\n",
      "0  0~6  1  1.83\n",
      "1  7~9  1  1.63\n"
     ]
    },
    {
     "data": {
      "text/plain": [
       "\"\\n# CSV 파일에서 데이터 로드\\ndf_from_csv = pd.read_csv('your_data.csv', index_col=0)\\n\\n# 데이터 처리\\nresult = group_data_by_7(df_from_csv)\\nprint(result)\\n\\n# 결과 저장\\nresult.to_csv('grouped_data.csv', index=False)\\n\""
      ]
     },
     "execution_count": 93,
     "metadata": {},
     "output_type": "execute_result"
    }
   ],
   "source": [
    "import pandas as pd\n",
    "import numpy as np\n",
    "\n",
    "def group_data_by_7(df):\n",
    "    \"\"\"\n",
    "    데이터프레임의 행을 7개씩 그룹화하고 각 그룹의 일(최대값), 강수량(평균)을 계산\n",
    "    \n",
    "    Parameters:\n",
    "    df : 강수량 데이터가 포함된 데이터프레임\n",
    "    \n",
    "    Returns:\n",
    "    DataFrame: 7개씩 그룹화된 결과\n",
    "    \"\"\"\n",
    "    # 데이터프레임 복사\n",
    "    df_copy = df.copy()\n",
    "    \n",
    "    # 결과를 저장할 리스트\n",
    "    result_list = []\n",
    "    \n",
    "    # 인덱스를 7개씩 그룹화\n",
    "    df_copy['group_idx'] = df_copy.index // 7\n",
    "    \n",
    "    # 그룹별로 데이터 처리\n",
    "    grouped = df_copy.groupby('group_idx')\n",
    "    \n",
    "    for group_idx, group in grouped:\n",
    "        # ID 범위\n",
    "        start_id = group.index.min()\n",
    "        end_id = group.index.max()\n",
    "        id_range = f\"{start_id}~{end_id}\"\n",
    "        \n",
    "        # 그룹 내 최대 일값 계산\n",
    "        # 문자열과 숫자가 섞여 있을 수 있으므로 안전하게 처리\n",
    "        try:\n",
    "            # 일(day) 열을 숫자로 변환 시도\n",
    "            numeric_days = pd.to_numeric(group['일'], errors='coerce')\n",
    "            # NaN 제외하고 최대값 구하기\n",
    "            if not numeric_days.dropna().empty:\n",
    "                max_day = numeric_days.dropna().max()\n",
    "            else:\n",
    "                max_day = group['일'].iloc[0]  # 변환할 수 없는 경우 첫 번째 값 사용\n",
    "        except:\n",
    "            # 오류 발생 시 첫 번째 값 사용\n",
    "            max_day = group['일'].iloc[0]\n",
    "        \n",
    "        # 강수량 평균 계산\n",
    "        avg_rainfall = group['강수량'].mean()\n",
    "        \n",
    "        # 결과에 추가\n",
    "        result_list.append({\n",
    "            '그룹범위': id_range,\n",
    "            '일': max_day,\n",
    "            '강수량': round(avg_rainfall, 2)\n",
    "        })\n",
    "    \n",
    "    # 결과를 데이터프레임으로 변환\n",
    "    result_df = pd.DataFrame(result_list)\n",
    "    return result_df\n",
    "\n",
    "# 이미지에 보이는 데이터로 예시 생성\n",
    "data = {\n",
    "    '일': [1, 1, 1, 1, 1, 1, 1, 1, 1, 1],\n",
    "    '강수량': [1.6, 2.0, 1.9, 1.3, 1.4, 2.1, 2.5, 2.1, 1.3, 1.5]\n",
    "}\n",
    "\n",
    "# 데이터프레임 생성 (인덱스를 ID로 사용)\n",
    "index_values = [0, 1, 2, 3, 4, 5, 6, 7, 8, 9]\n",
    "df = pd.DataFrame(data, index=index_values)\n",
    "\n",
    "# 데이터 처리 및 결과 출력\n",
    "result = group_data_by_7(df)\n",
    "print(\"ID 7개씩 그룹화 결과:\")\n",
    "print(result)\n",
    "\n",
    "# 실제 CSV 파일에서 데이터를 불러와 사용하는 예시:\n",
    "\"\"\"\n",
    "# CSV 파일에서 데이터 로드\n",
    "df_from_csv = pd.read_csv('your_data.csv', index_col=0)\n",
    "\n",
    "# 데이터 처리\n",
    "result = group_data_by_7(df_from_csv)\n",
    "print(result)\n",
    "\n",
    "# 결과 저장\n",
    "result.to_csv('grouped_data.csv', index=False)\n",
    "\"\"\""
   ]
  },
  {
   "cell_type": "code",
   "execution_count": 94,
   "metadata": {},
   "outputs": [
    {
     "data": {
      "application/vnd.microsoft.datawrangler.viewer.v0+json": {
       "columns": [
        {
         "name": "index",
         "rawType": "int64",
         "type": "integer"
        },
        {
         "name": "일",
         "rawType": "int64",
         "type": "integer"
        },
        {
         "name": "강수량",
         "rawType": "float64",
         "type": "float"
        }
       ],
       "conversionMethod": "pd.DataFrame",
       "ref": "aeb42b84-6bb5-476b-8f85-9a1124a06fee",
       "rows": [
        [
         "0",
         "1",
         "1.6"
        ],
        [
         "1",
         "1",
         "2.0"
        ],
        [
         "2",
         "1",
         "1.9"
        ],
        [
         "3",
         "1",
         "1.3"
        ],
        [
         "4",
         "1",
         "1.4"
        ],
        [
         "5",
         "1",
         "2.1"
        ],
        [
         "6",
         "1",
         "2.5"
        ],
        [
         "7",
         "1",
         "2.1"
        ],
        [
         "8",
         "1",
         "1.3"
        ],
        [
         "9",
         "1",
         "1.5"
        ]
       ],
       "shape": {
        "columns": 2,
        "rows": 10
       }
      },
      "text/html": [
       "<div>\n",
       "<style scoped>\n",
       "    .dataframe tbody tr th:only-of-type {\n",
       "        vertical-align: middle;\n",
       "    }\n",
       "\n",
       "    .dataframe tbody tr th {\n",
       "        vertical-align: top;\n",
       "    }\n",
       "\n",
       "    .dataframe thead th {\n",
       "        text-align: right;\n",
       "    }\n",
       "</style>\n",
       "<table border=\"1\" class=\"dataframe\">\n",
       "  <thead>\n",
       "    <tr style=\"text-align: right;\">\n",
       "      <th></th>\n",
       "      <th>일</th>\n",
       "      <th>강수량</th>\n",
       "    </tr>\n",
       "  </thead>\n",
       "  <tbody>\n",
       "    <tr>\n",
       "      <th>0</th>\n",
       "      <td>1</td>\n",
       "      <td>1.6</td>\n",
       "    </tr>\n",
       "    <tr>\n",
       "      <th>1</th>\n",
       "      <td>1</td>\n",
       "      <td>2.0</td>\n",
       "    </tr>\n",
       "    <tr>\n",
       "      <th>2</th>\n",
       "      <td>1</td>\n",
       "      <td>1.9</td>\n",
       "    </tr>\n",
       "    <tr>\n",
       "      <th>3</th>\n",
       "      <td>1</td>\n",
       "      <td>1.3</td>\n",
       "    </tr>\n",
       "    <tr>\n",
       "      <th>4</th>\n",
       "      <td>1</td>\n",
       "      <td>1.4</td>\n",
       "    </tr>\n",
       "    <tr>\n",
       "      <th>5</th>\n",
       "      <td>1</td>\n",
       "      <td>2.1</td>\n",
       "    </tr>\n",
       "    <tr>\n",
       "      <th>6</th>\n",
       "      <td>1</td>\n",
       "      <td>2.5</td>\n",
       "    </tr>\n",
       "    <tr>\n",
       "      <th>7</th>\n",
       "      <td>1</td>\n",
       "      <td>2.1</td>\n",
       "    </tr>\n",
       "    <tr>\n",
       "      <th>8</th>\n",
       "      <td>1</td>\n",
       "      <td>1.3</td>\n",
       "    </tr>\n",
       "    <tr>\n",
       "      <th>9</th>\n",
       "      <td>1</td>\n",
       "      <td>1.5</td>\n",
       "    </tr>\n",
       "  </tbody>\n",
       "</table>\n",
       "</div>"
      ],
      "text/plain": [
       "   일  강수량\n",
       "0  1  1.6\n",
       "1  1  2.0\n",
       "2  1  1.9\n",
       "3  1  1.3\n",
       "4  1  1.4\n",
       "5  1  2.1\n",
       "6  1  2.5\n",
       "7  1  2.1\n",
       "8  1  1.3\n",
       "9  1  1.5"
      ]
     },
     "execution_count": 94,
     "metadata": {},
     "output_type": "execute_result"
    }
   ],
   "source": [
    "df"
   ]
  },
  {
   "cell_type": "code",
   "execution_count": 95,
   "metadata": {},
   "outputs": [
    {
     "name": "stdout",
     "output_type": "stream",
     "text": [
      "ID 7개씩 그룹화 결과:\n",
      "  그룹범위  일   강수량\n",
      "0  0~6  1  1.83\n",
      "1  7~9  1  1.63\n"
     ]
    },
    {
     "data": {
      "text/plain": [
       "\"\\n# CSV 파일에서 데이터 로드\\ndf_from_csv = pd.read_csv('your_data.csv', index_col=0)\\n\\n# 데이터 처리\\nresult = group_data_by_7(df_from_csv)\\nprint(result)\\n\\n# 결과 저장\\nresult.to_csv('grouped_data.csv', index=False)\\n\""
      ]
     },
     "execution_count": 95,
     "metadata": {},
     "output_type": "execute_result"
    }
   ],
   "source": [
    "import pandas as pd\n",
    "import numpy as np\n",
    "\n",
    "def group_data_by_7(df):\n",
    "    \"\"\"\n",
    "    데이터프레임의 행을 7개씩 그룹화하고 각 그룹의 일(최대값), 강수량(평균)을 계산\n",
    "    \n",
    "    Parameters:\n",
    "    df : 강수량 데이터가 포함된 데이터프레임\n",
    "    \n",
    "    Returns:\n",
    "    DataFrame: 7개씩 그룹화된 결과\n",
    "    \"\"\"\n",
    "    # 데이터프레임 복사\n",
    "    df_copy = df.copy()\n",
    "    \n",
    "    # 결과를 저장할 리스트\n",
    "    result_list = []\n",
    "    \n",
    "    # 인덱스를 7개씩 그룹화\n",
    "    df_copy['group_idx'] = df_copy.index // 7\n",
    "    \n",
    "    # 그룹별로 데이터 처리\n",
    "    grouped = df_copy.groupby('group_idx')\n",
    "    \n",
    "    for group_idx, group in grouped:\n",
    "        # ID 범위\n",
    "        start_id = group.index.min()\n",
    "        end_id = group.index.max()\n",
    "        id_range = f\"{start_id}~{end_id}\"\n",
    "        \n",
    "        # 그룹 내 최대 일값 계산\n",
    "        # 문자열과 숫자가 섞여 있을 수 있으므로 안전하게 처리\n",
    "        try:\n",
    "            # 일(day) 열을 숫자로 변환 시도\n",
    "            numeric_days = pd.to_numeric(group['일'], errors='coerce')\n",
    "            # NaN 제외하고 최대값 구하기\n",
    "            if not numeric_days.dropna().empty:\n",
    "                max_day = numeric_days.dropna().max()\n",
    "            else:\n",
    "                max_day = group['일'].iloc[0]  # 변환할 수 없는 경우 첫 번째 값 사용\n",
    "        except:\n",
    "            # 오류 발생 시 첫 번째 값 사용\n",
    "            max_day = group['일'].iloc[0]\n",
    "        \n",
    "        # 강수량 평균 계산\n",
    "        avg_rainfall = group['강수량'].mean()\n",
    "        \n",
    "        # 결과에 추가\n",
    "        result_list.append({\n",
    "            '그룹범위': id_range,\n",
    "            '일': max_day,\n",
    "            '강수량': round(avg_rainfall, 2)\n",
    "        })\n",
    "    \n",
    "    # 결과를 데이터프레임으로 변환\n",
    "    result_df = pd.DataFrame(result_list)\n",
    "    return result_df\n",
    "\n",
    "# 이미지에 보이는 데이터로 예시 생성\n",
    "data = {\n",
    "    '일': [1, 1, 1, 1, 1, 1, 1, 1, 1, 1],\n",
    "    '강수량': [1.6, 2.0, 1.9, 1.3, 1.4, 2.1, 2.5, 2.1, 1.3, 1.5]\n",
    "}\n",
    "\n",
    "# 데이터프레임 생성 (인덱스를 ID로 사용)\n",
    "index_values = [0, 1, 2, 3, 4, 5, 6, 7, 8, 9]\n",
    "df = pd.DataFrame(data, index=index_values)\n",
    "\n",
    "# 데이터 처리 및 결과 출력\n",
    "result = group_data_by_7(df)\n",
    "print(\"ID 7개씩 그룹화 결과:\")\n",
    "print(result)\n",
    "\n",
    "# 실제 CSV 파일에서 데이터를 불러와 사용하는 예시:\n",
    "\"\"\"\n",
    "# CSV 파일에서 데이터 로드\n",
    "df_from_csv = pd.read_csv('your_data.csv', index_col=0)\n",
    "\n",
    "# 데이터 처리\n",
    "result = group_data_by_7(df_from_csv)\n",
    "print(result)\n",
    "\n",
    "# 결과 저장\n",
    "result.to_csv('grouped_data.csv', index=False)\n",
    "\"\"\""
   ]
  },
  {
   "cell_type": "code",
   "execution_count": 96,
   "metadata": {},
   "outputs": [
    {
     "data": {
      "application/vnd.microsoft.datawrangler.viewer.v0+json": {
       "columns": [
        {
         "name": "index",
         "rawType": "int64",
         "type": "integer"
        },
        {
         "name": "일",
         "rawType": "int64",
         "type": "integer"
        },
        {
         "name": "강수량",
         "rawType": "float64",
         "type": "float"
        }
       ],
       "conversionMethod": "pd.DataFrame",
       "ref": "cc59fdef-fa63-4c60-8b99-b1c6bc3b3a87",
       "rows": [
        [
         "0",
         "1",
         "1.6"
        ],
        [
         "1",
         "1",
         "2.0"
        ],
        [
         "2",
         "1",
         "1.9"
        ],
        [
         "3",
         "1",
         "1.3"
        ],
        [
         "4",
         "1",
         "1.4"
        ],
        [
         "5",
         "1",
         "2.1"
        ],
        [
         "6",
         "1",
         "2.5"
        ],
        [
         "7",
         "1",
         "2.1"
        ],
        [
         "8",
         "1",
         "1.3"
        ],
        [
         "9",
         "1",
         "1.5"
        ]
       ],
       "shape": {
        "columns": 2,
        "rows": 10
       }
      },
      "text/html": [
       "<div>\n",
       "<style scoped>\n",
       "    .dataframe tbody tr th:only-of-type {\n",
       "        vertical-align: middle;\n",
       "    }\n",
       "\n",
       "    .dataframe tbody tr th {\n",
       "        vertical-align: top;\n",
       "    }\n",
       "\n",
       "    .dataframe thead th {\n",
       "        text-align: right;\n",
       "    }\n",
       "</style>\n",
       "<table border=\"1\" class=\"dataframe\">\n",
       "  <thead>\n",
       "    <tr style=\"text-align: right;\">\n",
       "      <th></th>\n",
       "      <th>일</th>\n",
       "      <th>강수량</th>\n",
       "    </tr>\n",
       "  </thead>\n",
       "  <tbody>\n",
       "    <tr>\n",
       "      <th>0</th>\n",
       "      <td>1</td>\n",
       "      <td>1.6</td>\n",
       "    </tr>\n",
       "    <tr>\n",
       "      <th>1</th>\n",
       "      <td>1</td>\n",
       "      <td>2.0</td>\n",
       "    </tr>\n",
       "    <tr>\n",
       "      <th>2</th>\n",
       "      <td>1</td>\n",
       "      <td>1.9</td>\n",
       "    </tr>\n",
       "    <tr>\n",
       "      <th>3</th>\n",
       "      <td>1</td>\n",
       "      <td>1.3</td>\n",
       "    </tr>\n",
       "    <tr>\n",
       "      <th>4</th>\n",
       "      <td>1</td>\n",
       "      <td>1.4</td>\n",
       "    </tr>\n",
       "    <tr>\n",
       "      <th>5</th>\n",
       "      <td>1</td>\n",
       "      <td>2.1</td>\n",
       "    </tr>\n",
       "    <tr>\n",
       "      <th>6</th>\n",
       "      <td>1</td>\n",
       "      <td>2.5</td>\n",
       "    </tr>\n",
       "    <tr>\n",
       "      <th>7</th>\n",
       "      <td>1</td>\n",
       "      <td>2.1</td>\n",
       "    </tr>\n",
       "    <tr>\n",
       "      <th>8</th>\n",
       "      <td>1</td>\n",
       "      <td>1.3</td>\n",
       "    </tr>\n",
       "    <tr>\n",
       "      <th>9</th>\n",
       "      <td>1</td>\n",
       "      <td>1.5</td>\n",
       "    </tr>\n",
       "  </tbody>\n",
       "</table>\n",
       "</div>"
      ],
      "text/plain": [
       "   일  강수량\n",
       "0  1  1.6\n",
       "1  1  2.0\n",
       "2  1  1.9\n",
       "3  1  1.3\n",
       "4  1  1.4\n",
       "5  1  2.1\n",
       "6  1  2.5\n",
       "7  1  2.1\n",
       "8  1  1.3\n",
       "9  1  1.5"
      ]
     },
     "execution_count": 96,
     "metadata": {},
     "output_type": "execute_result"
    }
   ],
   "source": [
    "df"
   ]
  },
  {
   "cell_type": "code",
   "execution_count": 97,
   "metadata": {},
   "outputs": [
    {
     "data": {
      "text/plain": [
       "'\\n# 데이터프레임 로드\\nweather1, weather2, weather3, weather4, weather5, weather6 = load_weather_dataframes()\\n\\n# 각 데이터프레임 확인\\nfor i, df in enumerate([weather1, weather2, weather3, weather4, weather5, weather6], 1):\\n    if df is not None:\\n        print(f\"\\nweather{i} 정보:\")\\n        print(f\"행 수: {df.shape[0]}, 열 수: {df.shape[1]}\")\\n        print(f\"컬럼 목록: {df.columns.tolist()}\")\\n        print(f\"첫 3행:\\n{df.head(3)}\")\\n'"
      ]
     },
     "execution_count": 97,
     "metadata": {},
     "output_type": "execute_result"
    }
   ],
   "source": [
    "import pandas as pd\n",
    "import os\n",
    "\n",
    "def load_weather_dataframes():\n",
    "    \"\"\"\n",
    "    6개의 CSV 파일을 각각 별도의 데이터프레임으로 로드\n",
    "    \n",
    "    Returns:\n",
    "    tuple: (weather1, weather2, weather3, weather4, weather5, weather6) 6개의 데이터프레임\n",
    "    \"\"\"\n",
    "    # 기본 경로 설정\n",
    "    base_path = '/home/mac/Downloads/20250328102438'\n",
    "    \n",
    "    # 파일 경로 목록\n",
    "    file_paths = [\n",
    "        os.path.join(base_path, '├╗┐ε╚┐└┌╡┐_╜└╡╡_202401_202412.csv'),      # 첫 번째 파일 -> weather1\n",
    "        os.path.join(base_path, '├╗┐ε╚┐└┌╡┐_╟│╝╙_202401_202412.csv'),      # 두 번째 파일 -> weather2\n",
    "        os.path.join(base_path, '├╗┐ε╚┐└┌╡┐_╟╧┤├╗≤┼┬_202401_202412.csv'),  # 세 번째 파일 -> weather3\n",
    "        os.path.join(base_path, '├╗┐ε╚┐└┌╡┐_░¡╝÷_202401_202412.csv'),      # 네 번째 파일 -> weather4\n",
    "        os.path.join(base_path, '├╗┐ε╚┐└┌╡┐_░¡╝÷╟ⁿ┼┬_202401_202412.csv'), # 다섯 번째 파일 -> weather5\n",
    "        os.path.join(base_path, '├╗┐ε╚┐└┌╡┐_▒Γ┐┬_202401_202412.csv')       # 여섯 번째 파일 -> weather6\n",
    "    ]\n",
    "    \n",
    "    # 결과 데이터프레임을 저장할 변수 초기화\n",
    "    weather_dfs = [None] * 6\n",
    "    \n",
    "    # 각 파일을 로드하여 데이터프레임에 할당\n",
    "    for i, file_path in enumerate(file_paths):\n",
    "        try:\n",
    "            # 파일 존재 여부 확인\n",
    "            if not os.path.exists(file_path):\n",
    "                print(f\"경고: '{file_path}' 파일을 찾을 수 없습니다.\")\n",
    "                continue\n",
    "                \n",
    "            # 여러 인코딩 방식 시도\n",
    "            encodings = ['utf-8', 'cp949', 'euc-kr']\n",
    "            for encoding in encodings:\n",
    "                try:\n",
    "                    weather_dfs[i] = pd.read_csv(file_path, encoding=encoding)\n",
    "                    print(f\"'{file_path}' 파일을 '{encoding}' 인코딩으로 로드 완료\")\n",
    "                    break\n",
    "                except UnicodeDecodeError:\n",
    "                    continue\n",
    "                except Exception as e:\n",
    "                    print(f\"'{file_path}' 파일 로드 중 오류 발생: {e}\")\n",
    "                    break\n",
    "            \n",
    "            # 모든 인코딩으로 시도해도 실패한 경우\n",
    "            if weather_dfs[i] is None:\n",
    "                print(f\"'{file_path}' 파일을 로드할 수 없습니다. 인코딩 문제가 있을 수 있습니다.\")\n",
    "                \n",
    "        except Exception as e:\n",
    "            print(f\"'{file_path}' 파일 처리 중 예상치 못한 오류 발생: {e}\")\n",
    "    \n",
    "    # 결과 확인\n",
    "    weather1, weather2, weather3, weather4, weather5, weather6 = weather_dfs\n",
    "    \n",
    "    print(\"\\n데이터프레임 정보:\")\n",
    "    print(f\"weather1: {weather1.shape if weather1 is not None else 'None'}\")\n",
    "    print(f\"weather2: {weather2.shape if weather2 is not None else 'None'}\")\n",
    "    print(f\"weather3: {weather3.shape if weather3 is not None else 'None'}\")\n",
    "    print(f\"weather4: {weather4.shape if weather4 is not None else 'None'}\")\n",
    "    print(f\"weather5: {weather5.shape if weather5 is not None else 'None'}\")\n",
    "    print(f\"weather6: {weather6.shape if weather6 is not None else 'None'}\")\n",
    "    \n",
    "    return weather1, weather2, weather3, weather4, weather5, weather6\n",
    "\n",
    "# 함수 사용 예시\n",
    "\"\"\"\n",
    "# 데이터프레임 로드\n",
    "weather1, weather2, weather3, weather4, weather5, weather6 = load_weather_dataframes()\n",
    "\n",
    "# 각 데이터프레임 확인\n",
    "for i, df in enumerate([weather1, weather2, weather3, weather4, weather5, weather6], 1):\n",
    "    if df is not None:\n",
    "        print(f\"\\nweather{i} 정보:\")\n",
    "        print(f\"행 수: {df.shape[0]}, 열 수: {df.shape[1]}\")\n",
    "        print(f\"컬럼 목록: {df.columns.tolist()}\")\n",
    "        print(f\"첫 3행:\\n{df.head(3)}\")\n",
    "\"\"\""
   ]
  },
  {
   "cell_type": "code",
   "execution_count": 99,
   "metadata": {},
   "outputs": [
    {
     "name": "stdout",
     "output_type": "stream",
     "text": [
      "'/home/mac/Downloads/20250328102438/├╗┐ε╚┐└┌╡┐_╜└╡╡_202401_202412.csv' 파일을 'utf-8' 인코딩으로 로드 완료\n",
      "'/home/mac/Downloads/20250328102438/├╗┐ε╚┐└┌╡┐_╟│╝╙_202401_202412.csv' 파일을 'utf-8' 인코딩으로 로드 완료\n",
      "'/home/mac/Downloads/20250328102438/├╗┐ε╚┐└┌╡┐_╟╧┤├╗≤┼┬_202401_202412.csv' 파일을 'utf-8' 인코딩으로 로드 완료\n",
      "'/home/mac/Downloads/20250328102438/├╗┐ε╚┐└┌╡┐_░¡╝÷_202401_202412.csv' 파일을 'utf-8' 인코딩으로 로드 완료\n",
      "'/home/mac/Downloads/20250328102438/├╗┐ε╚┐└┌╡┐_░¡╝÷╟ⁿ┼┬_202401_202412.csv' 파일을 'utf-8' 인코딩으로 로드 완료\n",
      "'/home/mac/Downloads/20250328102438/├╗┐ε╚┐└┌╡┐_▒Γ┐┬_202401_202412.csv' 파일을 'utf-8' 인코딩으로 로드 완료\n",
      "\n",
      "데이터프레임 정보:\n",
      "weather1: (8795, 3)\n",
      "weather2: (8795, 3)\n",
      "weather3: (0, 3)\n",
      "weather4: (8795, 3)\n",
      "weather5: (8795, 3)\n",
      "weather6: (8795, 3)\n",
      "weather1 정보:\n",
      "행 수: 8795, 열 수: 3\n",
      "첫 3행:\n",
      "   format: day   hour  value location:60_127 Start : 20240101 \n",
      "0            1    0.0                                     94.0\n",
      "1            1  100.0                                     80.0\n",
      "2            1  200.0                                     72.0\n",
      "\n",
      "\n",
      "weather2 정보:\n",
      "행 수: 8795, 열 수: 3\n",
      "첫 3행:\n",
      "   format: day   hour  value location:60_127 Start : 20240101 \n",
      "0            1    0.0                                      1.6\n",
      "1            1  100.0                                      2.0\n",
      "2            1  200.0                                      1.9\n",
      "\n",
      "\n",
      "weather3 정보:\n",
      "행 수: 0, 열 수: 3\n",
      "첫 3행:\n",
      "Empty DataFrame\n",
      "Columns: [ format: day, hour, value location:60_127 ]\n",
      "Index: []\n",
      "\n",
      "\n",
      "weather4 정보:\n",
      "행 수: 8795, 열 수: 3\n",
      "첫 3행:\n",
      "   format: day   hour  value location:60_127 Start : 20240101 \n",
      "0            1    0.0                                      0.0\n",
      "1            1  100.0                                      0.0\n",
      "2            1  200.0                                      0.0\n",
      "\n",
      "\n",
      "weather5 정보:\n",
      "행 수: 8795, 열 수: 3\n",
      "첫 3행:\n",
      "   format: day   hour  value location:60_127 Start : 20240101 \n",
      "0            1    0.0                                      0.0\n",
      "1            1  100.0                                      0.0\n",
      "2            1  200.0                                      0.0\n",
      "\n",
      "\n",
      "weather6 정보:\n",
      "행 수: 8795, 열 수: 3\n",
      "첫 3행:\n",
      "   format: day   hour  value location:60_127 Start : 20240101 \n",
      "0            1    0.0                                      2.7\n",
      "1            1  100.0                                      4.6\n",
      "2            1  200.0                                      6.1\n",
      "\n",
      "\n"
     ]
    }
   ],
   "source": [
    "# 데이터프레임 로드\n",
    "weather1, weather2, weather3, weather4, weather5, weather6 = load_weather_dataframes()\n",
    "\n",
    "# 각 데이터프레임 확인\n",
    "for i, df in enumerate([weather1, weather2, weather3, weather4, weather5, weather6], 1):\n",
    "    if df is not None:\n",
    "        print(f\"weather{i} 정보:\")\n",
    "        print(f\"행 수: {df.shape[0]}, 열 수: {df.shape[1]}\")\n",
    "        print(f\"첫 3행:\\n{df.head(3)}\")\n",
    "        print(\"\\n\")"
   ]
  },
  {
   "cell_type": "code",
   "execution_count": 100,
   "metadata": {},
   "outputs": [
    {
     "data": {
      "application/vnd.microsoft.datawrangler.viewer.v0+json": {
       "columns": [
        {
         "name": "index",
         "rawType": "int64",
         "type": "integer"
        },
        {
         "name": " format: day",
         "rawType": "object",
         "type": "string"
        },
        {
         "name": "hour",
         "rawType": "float64",
         "type": "float"
        },
        {
         "name": "value location:60_127 Start : 20240101 ",
         "rawType": "float64",
         "type": "float"
        }
       ],
       "conversionMethod": "pd.DataFrame",
       "ref": "46eaded5-8545-482d-803a-5b1cf066ee85",
       "rows": [
        [
         "0",
         " 1",
         "0.0",
         "94.0"
        ],
        [
         "1",
         " 1",
         "100.0",
         "80.0"
        ],
        [
         "2",
         " 1",
         "200.0",
         "72.0"
        ],
        [
         "3",
         " 1",
         "300.0",
         "68.0"
        ],
        [
         "4",
         " 1",
         "400.0",
         "69.0"
        ],
        [
         "5",
         " 1",
         "500.0",
         "66.0"
        ],
        [
         "6",
         " 1",
         "600.0",
         "68.0"
        ],
        [
         "7",
         " 1",
         "700.0",
         "72.0"
        ],
        [
         "8",
         " 1",
         "800.0",
         "71.0"
        ],
        [
         "9",
         " 1",
         "900.0",
         "73.0"
        ],
        [
         "10",
         " 1",
         "1000.0",
         "75.0"
        ],
        [
         "11",
         " 1",
         "1100.0",
         "77.0"
        ],
        [
         "12",
         " 1",
         "1200.0",
         "79.0"
        ],
        [
         "13",
         " 1",
         "1300.0",
         "82.0"
        ],
        [
         "14",
         " 1",
         "1400.0",
         "82.0"
        ],
        [
         "15",
         " 1",
         "1500.0",
         "85.0"
        ],
        [
         "16",
         " 1",
         "1600.0",
         "85.0"
        ],
        [
         "17",
         " 1",
         "1700.0",
         "81.0"
        ],
        [
         "18",
         " 1",
         "1800.0",
         "82.0"
        ],
        [
         "19",
         " 1",
         "1900.0",
         "85.0"
        ],
        [
         "20",
         " 1",
         "2000.0",
         "83.0"
        ],
        [
         "21",
         " 1",
         "2100.0",
         "83.0"
        ],
        [
         "22",
         " 1",
         "2200.0",
         "77.0"
        ],
        [
         "23",
         " 1",
         "2300.0",
         "76.0"
        ],
        [
         "24",
         " 2",
         "0.0",
         "75.0"
        ],
        [
         "25",
         " 2",
         "100.0",
         "73.0"
        ],
        [
         "26",
         " 2",
         "200.0",
         "72.0"
        ],
        [
         "27",
         " 2",
         "300.0",
         "68.0"
        ],
        [
         "28",
         " 2",
         "400.0",
         "61.0"
        ],
        [
         "29",
         " 2",
         "500.0",
         "62.0"
        ],
        [
         "30",
         " 2",
         "600.0",
         "62.0"
        ],
        [
         "31",
         " 2",
         "700.0",
         "63.0"
        ],
        [
         "32",
         " 2",
         "800.0",
         "64.0"
        ],
        [
         "33",
         " 2",
         "900.0",
         "70.0"
        ],
        [
         "34",
         " 2",
         "1000.0",
         "70.0"
        ],
        [
         "35",
         " 2",
         "1100.0",
         "72.0"
        ],
        [
         "36",
         " 2",
         "1200.0",
         "73.0"
        ],
        [
         "37",
         " 2",
         "1300.0",
         "73.0"
        ],
        [
         "38",
         " 2",
         "1400.0",
         "73.0"
        ],
        [
         "39",
         " 2",
         "1500.0",
         "74.0"
        ],
        [
         "40",
         " 2",
         "1600.0",
         "74.0"
        ],
        [
         "41",
         " 2",
         "1700.0",
         "76.0"
        ],
        [
         "42",
         " 2",
         "1800.0",
         "76.0"
        ],
        [
         "43",
         " 2",
         "1900.0",
         "77.0"
        ],
        [
         "44",
         " 2",
         "2000.0",
         "78.0"
        ],
        [
         "45",
         " 2",
         "2100.0",
         "80.0"
        ],
        [
         "46",
         " 2",
         "2200.0",
         "81.0"
        ],
        [
         "47",
         " 2",
         "2300.0",
         "88.0"
        ],
        [
         "48",
         " 3",
         "0.0",
         "89.0"
        ],
        [
         "49",
         " 3",
         "100.0",
         "89.0"
        ]
       ],
       "shape": {
        "columns": 3,
        "rows": 8795
       }
      },
      "text/html": [
       "<div>\n",
       "<style scoped>\n",
       "    .dataframe tbody tr th:only-of-type {\n",
       "        vertical-align: middle;\n",
       "    }\n",
       "\n",
       "    .dataframe tbody tr th {\n",
       "        vertical-align: top;\n",
       "    }\n",
       "\n",
       "    .dataframe thead th {\n",
       "        text-align: right;\n",
       "    }\n",
       "</style>\n",
       "<table border=\"1\" class=\"dataframe\">\n",
       "  <thead>\n",
       "    <tr style=\"text-align: right;\">\n",
       "      <th></th>\n",
       "      <th>format: day</th>\n",
       "      <th>hour</th>\n",
       "      <th>value location:60_127 Start : 20240101</th>\n",
       "    </tr>\n",
       "  </thead>\n",
       "  <tbody>\n",
       "    <tr>\n",
       "      <th>0</th>\n",
       "      <td>1</td>\n",
       "      <td>0.0</td>\n",
       "      <td>94.0</td>\n",
       "    </tr>\n",
       "    <tr>\n",
       "      <th>1</th>\n",
       "      <td>1</td>\n",
       "      <td>100.0</td>\n",
       "      <td>80.0</td>\n",
       "    </tr>\n",
       "    <tr>\n",
       "      <th>2</th>\n",
       "      <td>1</td>\n",
       "      <td>200.0</td>\n",
       "      <td>72.0</td>\n",
       "    </tr>\n",
       "    <tr>\n",
       "      <th>3</th>\n",
       "      <td>1</td>\n",
       "      <td>300.0</td>\n",
       "      <td>68.0</td>\n",
       "    </tr>\n",
       "    <tr>\n",
       "      <th>4</th>\n",
       "      <td>1</td>\n",
       "      <td>400.0</td>\n",
       "      <td>69.0</td>\n",
       "    </tr>\n",
       "    <tr>\n",
       "      <th>...</th>\n",
       "      <td>...</td>\n",
       "      <td>...</td>\n",
       "      <td>...</td>\n",
       "    </tr>\n",
       "    <tr>\n",
       "      <th>8790</th>\n",
       "      <td>31</td>\n",
       "      <td>1900.0</td>\n",
       "      <td>69.0</td>\n",
       "    </tr>\n",
       "    <tr>\n",
       "      <th>8791</th>\n",
       "      <td>31</td>\n",
       "      <td>2000.0</td>\n",
       "      <td>68.0</td>\n",
       "    </tr>\n",
       "    <tr>\n",
       "      <th>8792</th>\n",
       "      <td>31</td>\n",
       "      <td>2100.0</td>\n",
       "      <td>68.0</td>\n",
       "    </tr>\n",
       "    <tr>\n",
       "      <th>8793</th>\n",
       "      <td>31</td>\n",
       "      <td>2200.0</td>\n",
       "      <td>67.0</td>\n",
       "    </tr>\n",
       "    <tr>\n",
       "      <th>8794</th>\n",
       "      <td>31</td>\n",
       "      <td>2300.0</td>\n",
       "      <td>68.0</td>\n",
       "    </tr>\n",
       "  </tbody>\n",
       "</table>\n",
       "<p>8795 rows × 3 columns</p>\n",
       "</div>"
      ],
      "text/plain": [
       "      format: day    hour  value location:60_127 Start : 20240101 \n",
       "0               1     0.0                                     94.0\n",
       "1               1   100.0                                     80.0\n",
       "2               1   200.0                                     72.0\n",
       "3               1   300.0                                     68.0\n",
       "4               1   400.0                                     69.0\n",
       "...           ...     ...                                      ...\n",
       "8790           31  1900.0                                     69.0\n",
       "8791           31  2000.0                                     68.0\n",
       "8792           31  2100.0                                     68.0\n",
       "8793           31  2200.0                                     67.0\n",
       "8794           31  2300.0                                     68.0\n",
       "\n",
       "[8795 rows x 3 columns]"
      ]
     },
     "execution_count": 100,
     "metadata": {},
     "output_type": "execute_result"
    }
   ],
   "source": [
    "weather1"
   ]
  },
  {
   "cell_type": "code",
   "execution_count": 101,
   "metadata": {},
   "outputs": [
    {
     "data": {
      "application/vnd.microsoft.datawrangler.viewer.v0+json": {
       "columns": [
        {
         "name": "index",
         "rawType": "int64",
         "type": "integer"
        },
        {
         "name": " format: day",
         "rawType": "object",
         "type": "string"
        },
        {
         "name": "hour",
         "rawType": "float64",
         "type": "float"
        },
        {
         "name": "value location:60_127 Start : 20240101 ",
         "rawType": "float64",
         "type": "float"
        }
       ],
       "conversionMethod": "pd.DataFrame",
       "ref": "164626b3-fb00-430a-b641-57822b2921ee",
       "rows": [
        [
         "0",
         " 1",
         "0.0",
         "1.6"
        ],
        [
         "1",
         " 1",
         "100.0",
         "2.0"
        ],
        [
         "2",
         " 1",
         "200.0",
         "1.9"
        ],
        [
         "3",
         " 1",
         "300.0",
         "1.3"
        ],
        [
         "4",
         " 1",
         "400.0",
         "1.4"
        ],
        [
         "5",
         " 1",
         "500.0",
         "2.1"
        ],
        [
         "6",
         " 1",
         "600.0",
         "2.5"
        ],
        [
         "7",
         " 1",
         "700.0",
         "2.1"
        ],
        [
         "8",
         " 1",
         "800.0",
         "1.3"
        ],
        [
         "9",
         " 1",
         "900.0",
         "1.5"
        ],
        [
         "10",
         " 1",
         "1000.0",
         "1.6"
        ],
        [
         "11",
         " 1",
         "1100.0",
         "1.6"
        ],
        [
         "12",
         " 1",
         "1200.0",
         "1.5"
        ],
        [
         "13",
         " 1",
         "1300.0",
         "1.6"
        ],
        [
         "14",
         " 1",
         "1400.0",
         "1.6"
        ],
        [
         "15",
         " 1",
         "1500.0",
         "1.0"
        ],
        [
         "16",
         " 1",
         "1600.0",
         "2.4"
        ],
        [
         "17",
         " 1",
         "1700.0",
         "2.0"
        ],
        [
         "18",
         " 1",
         "1800.0",
         "0.1"
        ],
        [
         "19",
         " 1",
         "1900.0",
         "1.0"
        ],
        [
         "20",
         " 1",
         "2000.0",
         "1.0"
        ],
        [
         "21",
         " 1",
         "2100.0",
         "0.8"
        ],
        [
         "22",
         " 1",
         "2200.0",
         "1.7"
        ],
        [
         "23",
         " 1",
         "2300.0",
         "1.4"
        ],
        [
         "24",
         " 2",
         "0.0",
         "2.2"
        ],
        [
         "25",
         " 2",
         "100.0",
         "1.7"
        ],
        [
         "26",
         " 2",
         "200.0",
         "1.7"
        ],
        [
         "27",
         " 2",
         "300.0",
         "2.0"
        ],
        [
         "28",
         " 2",
         "400.0",
         "3.0"
        ],
        [
         "29",
         " 2",
         "500.0",
         "1.7"
        ],
        [
         "30",
         " 2",
         "600.0",
         "0.8"
        ],
        [
         "31",
         " 2",
         "700.0",
         "1.5"
        ],
        [
         "32",
         " 2",
         "800.0",
         "1.2"
        ],
        [
         "33",
         " 2",
         "900.0",
         "1.9"
        ],
        [
         "34",
         " 2",
         "1000.0",
         "1.3"
        ],
        [
         "35",
         " 2",
         "1100.0",
         "2.2"
        ],
        [
         "36",
         " 2",
         "1200.0",
         "2.0"
        ],
        [
         "37",
         " 2",
         "1300.0",
         "1.2"
        ],
        [
         "38",
         " 2",
         "1400.0",
         "1.6"
        ],
        [
         "39",
         " 2",
         "1500.0",
         "1.4"
        ],
        [
         "40",
         " 2",
         "1600.0",
         "0.7"
        ],
        [
         "41",
         " 2",
         "1700.0",
         "0.6"
        ],
        [
         "42",
         " 2",
         "1800.0",
         "0.2"
        ],
        [
         "43",
         " 2",
         "1900.0",
         "0.7"
        ],
        [
         "44",
         " 2",
         "2000.0",
         "0.8"
        ],
        [
         "45",
         " 2",
         "2100.0",
         "1.0"
        ],
        [
         "46",
         " 2",
         "2200.0",
         "1.7"
        ],
        [
         "47",
         " 2",
         "2300.0",
         "1.7"
        ],
        [
         "48",
         " 3",
         "0.0",
         "0.3"
        ],
        [
         "49",
         " 3",
         "100.0",
         "1.0"
        ]
       ],
       "shape": {
        "columns": 3,
        "rows": 8795
       }
      },
      "text/html": [
       "<div>\n",
       "<style scoped>\n",
       "    .dataframe tbody tr th:only-of-type {\n",
       "        vertical-align: middle;\n",
       "    }\n",
       "\n",
       "    .dataframe tbody tr th {\n",
       "        vertical-align: top;\n",
       "    }\n",
       "\n",
       "    .dataframe thead th {\n",
       "        text-align: right;\n",
       "    }\n",
       "</style>\n",
       "<table border=\"1\" class=\"dataframe\">\n",
       "  <thead>\n",
       "    <tr style=\"text-align: right;\">\n",
       "      <th></th>\n",
       "      <th>format: day</th>\n",
       "      <th>hour</th>\n",
       "      <th>value location:60_127 Start : 20240101</th>\n",
       "    </tr>\n",
       "  </thead>\n",
       "  <tbody>\n",
       "    <tr>\n",
       "      <th>0</th>\n",
       "      <td>1</td>\n",
       "      <td>0.0</td>\n",
       "      <td>1.6</td>\n",
       "    </tr>\n",
       "    <tr>\n",
       "      <th>1</th>\n",
       "      <td>1</td>\n",
       "      <td>100.0</td>\n",
       "      <td>2.0</td>\n",
       "    </tr>\n",
       "    <tr>\n",
       "      <th>2</th>\n",
       "      <td>1</td>\n",
       "      <td>200.0</td>\n",
       "      <td>1.9</td>\n",
       "    </tr>\n",
       "    <tr>\n",
       "      <th>3</th>\n",
       "      <td>1</td>\n",
       "      <td>300.0</td>\n",
       "      <td>1.3</td>\n",
       "    </tr>\n",
       "    <tr>\n",
       "      <th>4</th>\n",
       "      <td>1</td>\n",
       "      <td>400.0</td>\n",
       "      <td>1.4</td>\n",
       "    </tr>\n",
       "    <tr>\n",
       "      <th>...</th>\n",
       "      <td>...</td>\n",
       "      <td>...</td>\n",
       "      <td>...</td>\n",
       "    </tr>\n",
       "    <tr>\n",
       "      <th>8790</th>\n",
       "      <td>31</td>\n",
       "      <td>1900.0</td>\n",
       "      <td>2.2</td>\n",
       "    </tr>\n",
       "    <tr>\n",
       "      <th>8791</th>\n",
       "      <td>31</td>\n",
       "      <td>2000.0</td>\n",
       "      <td>2.4</td>\n",
       "    </tr>\n",
       "    <tr>\n",
       "      <th>8792</th>\n",
       "      <td>31</td>\n",
       "      <td>2100.0</td>\n",
       "      <td>2.2</td>\n",
       "    </tr>\n",
       "    <tr>\n",
       "      <th>8793</th>\n",
       "      <td>31</td>\n",
       "      <td>2200.0</td>\n",
       "      <td>1.8</td>\n",
       "    </tr>\n",
       "    <tr>\n",
       "      <th>8794</th>\n",
       "      <td>31</td>\n",
       "      <td>2300.0</td>\n",
       "      <td>1.7</td>\n",
       "    </tr>\n",
       "  </tbody>\n",
       "</table>\n",
       "<p>8795 rows × 3 columns</p>\n",
       "</div>"
      ],
      "text/plain": [
       "      format: day    hour  value location:60_127 Start : 20240101 \n",
       "0               1     0.0                                      1.6\n",
       "1               1   100.0                                      2.0\n",
       "2               1   200.0                                      1.9\n",
       "3               1   300.0                                      1.3\n",
       "4               1   400.0                                      1.4\n",
       "...           ...     ...                                      ...\n",
       "8790           31  1900.0                                      2.2\n",
       "8791           31  2000.0                                      2.4\n",
       "8792           31  2100.0                                      2.2\n",
       "8793           31  2200.0                                      1.8\n",
       "8794           31  2300.0                                      1.7\n",
       "\n",
       "[8795 rows x 3 columns]"
      ]
     },
     "execution_count": 101,
     "metadata": {},
     "output_type": "execute_result"
    }
   ],
   "source": [
    "weather2"
   ]
  },
  {
   "cell_type": "code",
   "execution_count": null,
   "metadata": {},
   "outputs": [],
   "source": []
  }
 ],
 "metadata": {
  "kernelspec": {
   "display_name": "eda_venv",
   "language": "python",
   "name": "python3"
  },
  "language_info": {
   "codemirror_mode": {
    "name": "ipython",
    "version": 3
   },
   "file_extension": ".py",
   "mimetype": "text/x-python",
   "name": "python",
   "nbconvert_exporter": "python",
   "pygments_lexer": "ipython3",
   "version": "3.10.12"
  }
 },
 "nbformat": 4,
 "nbformat_minor": 2
}
