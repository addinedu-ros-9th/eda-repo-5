{
 "cells": [
  {
   "cell_type": "markdown",
   "metadata": {},
   "source": [
    "### select 함수"
   ]
  },
  {
   "cell_type": "code",
   "execution_count": 2,
   "metadata": {},
   "outputs": [],
   "source": [
    "import mysql.connector\n",
    "\n",
    "def select_sql(sql):\n",
    "    ojk = mysql.connector.connect(\n",
    "        host = \"database-1.cnu82kme6p4d.ap-northeast-2.rds.amazonaws.com\",\n",
    "        port = 3306,\n",
    "        user = \"eda\",\n",
    "        password = \"ojk0707\",\n",
    "        database = \"ojk\"\n",
    "    )\n",
    "    cursor = ojk.cursor()\n",
    "\n",
    "    cursor.execute(sql)\n",
    "\n",
    "    results = cursor.fetchall()  # 모든 결과를 읽습니다\n",
    "    ojk.close()\n",
    "\n",
    "    cursor.close()\n",
    "    ojk.close()\n",
    "    return results"
   ]
  },
  {
   "cell_type": "markdown",
   "metadata": {},
   "source": [
    "-------------"
   ]
  },
  {
   "cell_type": "markdown",
   "metadata": {},
   "source": [
    "### sql 실행 함수"
   ]
  },
  {
   "cell_type": "code",
   "execution_count": 1,
   "metadata": {},
   "outputs": [],
   "source": [
    "import mysql.connector\n",
    "\n",
    "def execute_sql(sql):\n",
    "    ojk = mysql.connector.connect(\n",
    "        host = \"database-1.cnu82kme6p4d.ap-northeast-2.rds.amazonaws.com\",\n",
    "        port = 3306,\n",
    "        user = \"eda\",\n",
    "        password = \"ojk0707\",\n",
    "        database = \"ojk\"\n",
    "    )\n",
    "    cursor = ojk.cursor()\n",
    "\n",
    "    cursor.execute(sql)\n",
    "\n",
    "    ojk.commit()\n",
    "    cursor.close()\n",
    "    ojk.close()\n",
    "   "
   ]
  },
  {
   "cell_type": "code",
   "execution_count": 3,
   "metadata": {},
   "outputs": [],
   "source": [
    "execute_sql(\"use ojk\")"
   ]
  },
  {
   "cell_type": "code",
   "execution_count": 12,
   "metadata": {},
   "outputs": [],
   "source": [
    "execute_sql(\"ALTER TABLE population add COLUMN region varchar(10)\")"
   ]
  },
  {
   "cell_type": "code",
   "execution_count": null,
   "metadata": {},
   "outputs": [],
   "source": [
    "execute_sql(\"\"\"SELECT \n",
    "        name,\n",
    "        AVG((\n",
    "            t1000 + t1030 + t1100 + t1130 + t1200 + t1230 +\n",
    "            t1300 + t1330 + t1400 + t1430 + t1500 + t1530 +\n",
    "            t1600 + t1630 + t1700 + t1730 + t1800 + t1830\n",
    "        ) / 18) AS AverageCongestion\n",
    "    FROM station\n",
    "    WHERE Day IN ('토요일', '일요일')\n",
    "    GROUP BY name\"\"\")"
   ]
  },
  {
   "cell_type": "code",
   "execution_count": 7,
   "metadata": {},
   "outputs": [
    {
     "data": {
      "text/plain": [
       "[('day', 'datetime', 'YES', '', None, ''),\n",
       " ('max_rain', 'float', 'YES', '', None, ''),\n",
       " ('max_wind', 'float', 'YES', '', None, ''),\n",
       " ('weekday', 'varchar(10)', 'YES', '', None, '')]"
      ]
     },
     "execution_count": 7,
     "metadata": {},
     "output_type": "execute_result"
    }
   ],
   "source": [
    "select_sql(\"desc weather_rain\")"
   ]
  },
  {
   "cell_type": "code",
   "execution_count": 26,
   "metadata": {},
   "outputs": [],
   "source": [
    "execute_sql(\"truncate table population\")"
   ]
  },
  {
   "cell_type": "code",
   "execution_count": 6,
   "metadata": {},
   "outputs": [
    {
     "data": {
      "text/plain": [
       "[]"
      ]
     },
     "execution_count": 6,
     "metadata": {},
     "output_type": "execute_result"
    }
   ],
   "source": [
    "select_sql(\"select weekday from weather_rain\")"
   ]
  },
  {
   "cell_type": "code",
   "execution_count": 8,
   "metadata": {},
   "outputs": [
    {
     "data": {
      "text/plain": [
       "[]"
      ]
     },
     "execution_count": 8,
     "metadata": {},
     "output_type": "execute_result"
    }
   ],
   "source": [
    "select_sql(\"select * from weather_rain\")"
   ]
  },
  {
   "cell_type": "code",
   "execution_count": 9,
   "metadata": {},
   "outputs": [],
   "source": [
    "execute_sql(\"\"\"create table population( \n",
    "            id int not null AUTO_INCREMENT,\n",
    "            day datetime not null,\n",
    "            region varchar(10),\n",
    "            Daytime_person int,\n",
    "            move_person int,\n",
    "            primary key(id))\"\"\")"
   ]
  },
  {
   "cell_type": "markdown",
   "metadata": {},
   "source": [
    "---------------"
   ]
  }
 ],
 "metadata": {
  "kernelspec": {
   "display_name": "eda_venv",
   "language": "python",
   "name": "python3"
  },
  "language_info": {
   "codemirror_mode": {
    "name": "ipython",
    "version": 3
   },
   "file_extension": ".py",
   "mimetype": "text/x-python",
   "name": "python",
   "nbconvert_exporter": "python",
   "pygments_lexer": "ipython3",
   "version": "3.12.3"
  }
 },
 "nbformat": 4,
 "nbformat_minor": 4
}
