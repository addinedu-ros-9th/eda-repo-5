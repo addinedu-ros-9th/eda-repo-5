{
 "cells": [
  {
   "cell_type": "code",
   "execution_count": null,
   "metadata": {},
   "outputs": [],
   "source": [
    "import mysql.connector\n",
    "\n",
    "ojk = mysql.connector.connect(\n",
    "    host = \"database-1.cnu82kme6p4d.ap-northeast-2.rds.amazonaws.com\",\n",
    "    port = 3306,\n",
    "    user = \"eda\",\n",
    "    password = \"ojk\",\n",
    "    database = \"ojk\"\n",
    ")"
   ]
  },
  {
   "cell_type": "code",
   "execution_count": 31,
   "metadata": {},
   "outputs": [
    {
     "name": "stdout",
     "output_type": "stream",
     "text": [
      "('부평구', 30)\n"
     ]
    }
   ],
   "source": [
    "mycursor = ojk.cursor()\n",
    "mycursor.execute(\"select * from station\")\n",
    "result = mycursor.fetchall()\n",
    "for data in result:\n",
    "    print(data)"
   ]
  },
  {
   "cell_type": "code",
   "execution_count": null,
   "metadata": {},
   "outputs": [],
   "source": []
  }
 ],
 "metadata": {
  "kernelspec": {
   "display_name": "eda_venv",
   "language": "python",
   "name": "python3"
  },
  "language_info": {
   "codemirror_mode": {
    "name": "ipython",
    "version": 3
   },
   "file_extension": ".py",
   "mimetype": "text/x-python",
   "name": "python",
   "nbconvert_exporter": "python",
   "pygments_lexer": "ipython3",
   "version": "3.10.12"
  }
 },
 "nbformat": 4,
 "nbformat_minor": 2
}
