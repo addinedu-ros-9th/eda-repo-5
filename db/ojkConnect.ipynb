{
 "cells": [
  {
   "cell_type": "code",
   "execution_count": 1,
   "metadata": {},
   "outputs": [],
   "source": [
    "import mysql.connector\n",
    "\n",
    "ojk = mysql.connector.connect(\n",
    "    host = \"database-1.cnu82kme6p4d.ap-northeast-2.rds.amazonaws.com\",\n",
    "    port = 3306,\n",
    "    user = \"eda\",\n",
    "    password = \"ojk0707\",\n",
    "    database = \"ojk\"\n",
    ")"
   ]
  },
  {
   "cell_type": "markdown",
   "metadata": {},
   "source": [
    "### select 함수"
   ]
  },
  {
   "cell_type": "code",
   "execution_count": 16,
   "metadata": {},
   "outputs": [],
   "source": [
    "import mysql.connector\n",
    "\n",
    "def select_sql(sql):\n",
    "    ojk = mysql.connector.connect(\n",
    "        host = \"database-1.cnu82kme6p4d.ap-northeast-2.rds.amazonaws.com\",\n",
    "        port = 3306,\n",
    "        user = \"eda\",\n",
    "        password = \"ojk0707\",\n",
    "        database = \"ojk\"\n",
    "    )\n",
    "    cursor = ojk.cursor()\n",
    "\n",
    "    cursor.execute(sql)\n",
    "\n",
    "    results = cursor.fetchall()  # 모든 결과를 읽습니다\n",
    "    ojk.close()\n",
    "    return results"
   ]
  },
  {
   "cell_type": "markdown",
   "metadata": {},
   "source": [
    "-------------"
   ]
  },
  {
   "cell_type": "markdown",
   "metadata": {},
   "source": [
    "### sql 실행 함수"
   ]
  },
  {
   "cell_type": "code",
   "execution_count": null,
   "metadata": {},
   "outputs": [],
   "source": [
    "import mysql.connector\n",
    "\n",
    "def execute_sql(sql):\n",
    "    ojk = mysql.connector.connect(\n",
    "        host = \"database-1.cnu82kme6p4d.ap-northeast-2.rds.amazonaws.com\",\n",
    "        port = 3306,\n",
    "        user = \"eda\",\n",
    "        password = \"ojk0707\",\n",
    "        database = \"ojk\"\n",
    "    )\n",
    "    cursor = ojk.cursor()\n",
    "\n",
    "    cursor.execute(sql)\n",
    "\n",
    "    ojk.commit()\n",
    "    cursor.close()\n",
    "   "
   ]
  },
  {
   "cell_type": "markdown",
   "metadata": {},
   "source": [
    "---------------"
   ]
  },
  {
   "cell_type": "code",
   "execution_count": null,
   "metadata": {},
   "outputs": [],
   "source": [
    "execute_sql(\"\"\"CREATE TABLE spot (\n",
    "   datetime INT not null,\n",
    "   name VARCHAR(255) not null,\n",
    "   gu VARCHAR(255),\n",
    "   min_population INT,\n",
    "   max_population INT,\n",
    "   temp INT,\n",
    "   precipitation INT,\n",
    "   rain_chance INT,\n",
    "   precpt_type VARCHAR(50),\n",
    "   air_idx VARCHAR(50),\n",
    "   sky_stts VARCHAR(50),\n",
    "   humidity INT,\n",
    "   wind_spd FLOAT,\n",
    "   PRIMARY KEY (datetime, name)\n",
    ")\"\"\")"
   ]
  },
  {
   "cell_type": "code",
   "execution_count": 57,
   "metadata": {},
   "outputs": [
    {
     "data": {
      "text/plain": [
       "[('datetime', 'int', 'NO', 'PRI', None, ''),\n",
       " ('name', 'varchar(255)', 'NO', 'PRI', None, ''),\n",
       " ('gu', 'varchar(255)', 'YES', '', None, ''),\n",
       " ('min_population', 'int', 'YES', '', None, ''),\n",
       " ('max_population', 'int', 'YES', '', None, ''),\n",
       " ('temp', 'int', 'YES', '', None, ''),\n",
       " ('precipitation', 'int', 'YES', '', None, ''),\n",
       " ('rain_chance', 'int', 'YES', '', None, ''),\n",
       " ('precpt_type', 'varchar(50)', 'YES', '', None, ''),\n",
       " ('air_idx', 'varchar(50)', 'YES', '', None, ''),\n",
       " ('sky_stts', 'varchar(50)', 'YES', '', None, ''),\n",
       " ('humidity', 'int', 'YES', '', None, ''),\n",
       " ('wind_spd', 'float', 'YES', '', None, '')]"
      ]
     },
     "execution_count": 57,
     "metadata": {},
     "output_type": "execute_result"
    }
   ],
   "source": [
    "result = select_sql(\"desc spot\")\n",
    "result"
   ]
  }
 ],
 "metadata": {
  "kernelspec": {
   "display_name": "eda_venv",
   "language": "python",
   "name": "python3"
  },
  "language_info": {
   "codemirror_mode": {
    "name": "ipython",
    "version": 3
   },
   "file_extension": ".py",
   "mimetype": "text/x-python",
   "name": "python",
   "nbconvert_exporter": "python",
   "pygments_lexer": "ipython3",
   "version": "3.10.12"
  }
 },
 "nbformat": 4,
 "nbformat_minor": 4
}
