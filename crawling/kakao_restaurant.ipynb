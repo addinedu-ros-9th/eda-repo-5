{
 "cells": [
  {
   "cell_type": "code",
   "execution_count": 11,
   "metadata": {},
   "outputs": [
    {
     "name": "stdout",
     "output_type": "stream",
     "text": [
      "저장된 지역 목록 (제외된 지역 삭제 후): ['강남 MICE 관광특구', '명동 관광특구', '이태원 관광특구', '잠실 관광특구', '종로·청계 관광특구', '홍대 관광특구', '경복궁', '광화문·덕수궁', '보신각', '서울 암사동 유적', '창덕궁·종묘', '가산디지털단지역', '강남역', '건대입구역', '고덕역', '고속터미널역', '교대역', '구로디지털단지역', '구로역', '군자역', '남구로역', '대림역', '동대문역', '뚝섬역', '미아사거리역', '사당역', '삼각지역', '서울대입구역', '서울식물원·마곡나루역', '서울역', '선릉역', '성신여대입구역', '신도림역', '신림역', '신촌·이대역', '역삼역', '오목교역·목동운동장', '왕십리역', '용산역', '이태원역', '장지역', '장한평역', '천호역', '총신대입구(이수)역', '충정로역', '합정역', '혜화역', '홍대입구역(2호선)', '4·19 카페거리', '가락시장', '가로수길', '광장(전통)시장', '김포공항', '낙산공원·이화마을', '노량진', '덕수궁길·정동길', '방배역 먹자골목', '북촌한옥마을', '서촌', '성수카페거리', '수유리 먹자골목', '쌍문동 맛집거리', '압구정로데오거리', '여의도', '연남동', '영등포 타임스퀘어', '외대앞', '용리단길', '이태원 앤틱가구거리', '인사동', '창동 신경제 중심지', '청담동 명품거리', '청량리 제기동 일대 전통시장', '해방촌·경리단길', 'DDP(동대문디자인플라자)', 'DMC(디지털미디어시티)', '강서한강공원', '고척돔', '광나루한강공원', '광화문광장', '국립중앙박물관·용산가족공원', '난지한강공원', '남산공원', '노들섬', '뚝섬한강공원', '망원한강공원', '반포한강공원', '북서울꿈의숲', '불광천', '서리풀공원·몽마르뜨공원', '서울광장', '서울대공원', '서울숲공원', '아차산', '양화한강공원', '어린이대공원', '여의도한강공원', '월드컵공원', '응봉산', '이촌한강공원', '잠실종합운동장', '잠실한강공원', '잠원한강공원', '청계산', '청와대', '북창동 먹자골목', '남대문시장', '익선동']\n"
     ]
    }
   ],
   "source": [
    "import requests\n",
    "from bs4 import BeautifulSoup\n",
    "\n",
    "# 서울 지역 116곳을 저장할 리스트\n",
    "area_list = []\n",
    "\n",
    "# API 키\n",
    "api_key = '6e51654f776b353335387168745664'\n",
    "\n",
    "# 서울 지역 데이터 크롤링\n",
    "for i in range(1, 117):\n",
    "    url = f'http://openapi.seoul.go.kr:8088/{api_key}/xml/citydata/1/1000/POI{i:03d}'\n",
    "    response = requests.get(url)\n",
    "    xml_data = response.text\n",
    "    soup = BeautifulSoup(xml_data, 'xml')\n",
    "    \n",
    "    # 지역명 가져오기\n",
    "    area_name_tag = soup.find('AREA_NM')\n",
    "    \n",
    "    if area_name_tag:\n",
    "        area_name = area_name_tag.text.strip()\n",
    "        area_list.append(area_name)\n",
    "\n",
    "# 제외할 지역 리스트\n",
    "excluded_areas = {\"발산역\", \"수유역\", \"양재역\", \"연신내역\", \"북한산우이역\", \"신논현역·논현역\", \"회기역\", \"동대문 관광특구\"}\n",
    "\n",
    "# 불필요한 지역 제거 (리스트에서 제외)\n",
    "area_list = [area for area in area_list if area not in excluded_areas]\n",
    "\n",
    "# 최종 결과 출력\n",
    "print(\"저장된 지역 목록 (제외된 지역 삭제 후):\", area_list)\n"
   ]
  },
  {
   "cell_type": "code",
   "execution_count": 4,
   "metadata": {},
   "outputs": [
    {
     "data": {
      "text/plain": [
       "109"
      ]
     },
     "execution_count": 4,
     "metadata": {},
     "output_type": "execute_result"
    }
   ],
   "source": [
    "len(area_list)"
   ]
  },
  {
   "cell_type": "markdown",
   "metadata": {},
   "source": []
  },
  {
   "cell_type": "code",
   "execution_count": 2,
   "metadata": {},
   "outputs": [],
   "source": [
    "import mysql.connector\n",
    "\n",
    "ojk = mysql.connector.connect(\n",
    "    host = \"database-1.cnu82kme6p4d.ap-northeast-2.rds.amazonaws.com\",\n",
    "    port = 3306,\n",
    "    user = \"eda\",\n",
    "    password = \"ojk0707\",\n",
    "    database = \"ojk\",\n",
    "    autocommit=True\n",
    ")\n",
    "mycursor = ojk.cursor()"
   ]
  },
  {
   "cell_type": "code",
   "execution_count": 17,
   "metadata": {},
   "outputs": [
    {
     "name": "stdout",
     "output_type": "stream",
     "text": [
      "('mini_cafe',)\n",
      "('mini_enjoy',)\n",
      "('mini_enjoy_category',)\n",
      "('mini_restaurant',)\n",
      "('spot',)\n",
      "('station',)\n"
     ]
    }
   ],
   "source": [
    "mycursor = ojk.cursor()\n",
    "mycursor.execute(\"show tables\")\n",
    "result = mycursor.fetchall()\n",
    "for data in result:\n",
    "    print(data)"
   ]
  },
  {
   "cell_type": "code",
   "execution_count": 12,
   "metadata": {},
   "outputs": [
    {
     "name": "stdout",
     "output_type": "stream",
     "text": [
      "검색 중: 강남 MICE 관광특구\n",
      "page1\n"
     ]
    },
    {
     "name": "stderr",
     "output_type": "stream",
     "text": [
      "0it [00:00, ?it/s]\n"
     ]
    },
    {
     "name": "stdout",
     "output_type": "stream",
     "text": [
      "page2\n"
     ]
    },
    {
     "name": "stderr",
     "output_type": "stream",
     "text": [
      "0it [00:00, ?it/s]\n"
     ]
    },
    {
     "name": "stdout",
     "output_type": "stream",
     "text": [
      "page3\n"
     ]
    },
    {
     "name": "stderr",
     "output_type": "stream",
     "text": [
      "0it [00:00, ?it/s]\n"
     ]
    },
    {
     "name": "stdout",
     "output_type": "stream",
     "text": [
      "검색 중: 명동 관광특구\n",
      "page1\n"
     ]
    },
    {
     "name": "stderr",
     "output_type": "stream",
     "text": [
      "  0%|          | 0/15 [00:00<?, ?it/s]"
     ]
    },
    {
     "name": "stdout",
     "output_type": "stream",
     "text": [
      "명동교자 본점 링크: https://place.map.kakao.com/10332413\n",
      "장소명: 명동교자 본점\n",
      "별점: 3.5\n",
      "총 후기 개수: 5988\n",
      "카테고리: 분식\n",
      "주소: 서울 중구 명동10길 29\n",
      "위도: 37.562573201873, 경도: 126.985755097262\n",
      "평균 메뉴 가격: 11500원\n"
     ]
    },
    {
     "name": "stderr",
     "output_type": "stream",
     "text": [
      "  7%|▋         | 1/15 [00:06<01:32,  6.59s/it]"
     ]
    },
    {
     "name": "stdout",
     "output_type": "stream",
     "text": [
      "목멱산방 링크: https://place.map.kakao.com/11642405\n",
      "장소명: 목멱산방\n",
      "별점: 3.3\n",
      "총 후기 개수: 902\n",
      "카테고리: 한식\n",
      "주소: 서울 중구 퇴계로20길 71\n",
      "위도: 37.5581161015051, 경도: 126.986887946092\n",
      "평균 메뉴 가격: 11000원\n"
     ]
    },
    {
     "name": "stderr",
     "output_type": "stream",
     "text": [
      " 13%|█▎        | 2/15 [00:13<01:25,  6.54s/it]"
     ]
    },
    {
     "name": "stdout",
     "output_type": "stream",
     "text": [
      "진작 링크: https://place.map.kakao.com/2029456983\n",
      "장소명: 진작\n",
      "별점: 4.0\n",
      "총 후기 개수: 2377\n",
      "카테고리: 일식\n",
      "주소: 서울 중구 수표로12길 12\n",
      "위도: 37.5640182732537, 경도: 126.990837114381\n",
      "평균 메뉴 가격: 16150원\n"
     ]
    },
    {
     "name": "stderr",
     "output_type": "stream",
     "text": [
      " 20%|██        | 3/15 [00:19<01:18,  6.57s/it]"
     ]
    },
    {
     "name": "stdout",
     "output_type": "stream",
     "text": [
      "평래옥 링크: https://place.map.kakao.com/12106466\n",
      "장소명: 평래옥\n",
      "별점: 2.7\n",
      "총 후기 개수: 598\n",
      "카테고리: 냉면\n",
      "주소: 서울 중구 마른내로 21-1\n",
      "위도: 37.5649105842504, 경도: 126.990388102778\n",
      "평균 메뉴 가격: 54750원\n"
     ]
    },
    {
     "name": "stderr",
     "output_type": "stream",
     "text": [
      " 27%|██▋       | 4/15 [00:26<01:12,  6.56s/it]"
     ]
    },
    {
     "name": "stdout",
     "output_type": "stream",
     "text": [
      "쯔루하시후게츠 명동점 링크: https://place.map.kakao.com/21396812\n",
      "장소명: 쯔루하시후게츠 명동점\n",
      "별점: 4.0\n",
      "총 후기 개수: 1369\n",
      "카테고리: 퓨전일식\n",
      "주소: 서울 중구 명동8길 21-5\n",
      "위도: 37.5628406181285, 경도: 126.985030778469\n",
      "평균 메뉴 가격: 13000원\n"
     ]
    },
    {
     "name": "stderr",
     "output_type": "stream",
     "text": [
      " 33%|███▎      | 5/15 [00:32<01:05,  6.56s/it]"
     ]
    },
    {
     "name": "stdout",
     "output_type": "stream",
     "text": [
      "이남장 본점 링크: https://place.map.kakao.com/10668060\n",
      "장소명: 이남장 본점\n",
      "별점: 4.0\n",
      "총 후기 개수: 346\n",
      "카테고리: 설렁탕\n",
      "주소: 서울 중구 삼일대로12길 16\n",
      "위도: 37.5666459290583, 경도: 126.988655162711\n",
      "평균 메뉴 가격: 17000원\n"
     ]
    },
    {
     "name": "stderr",
     "output_type": "stream",
     "text": [
      " 40%|████      | 6/15 [00:39<00:58,  6.54s/it]"
     ]
    },
    {
     "name": "stdout",
     "output_type": "stream",
     "text": [
      "포엠 링크: https://place.map.kakao.com/8123091\n",
      "장소명: 포엠\n",
      "별점: 4.5\n",
      "총 후기 개수: 468\n",
      "카테고리: 카페\n",
      "주소: 서울 중구 명동4길 13\n",
      "위도: 37.5631231827873, 경도: 126.98375942837\n",
      "평균 메뉴 가격: 17425원\n"
     ]
    },
    {
     "name": "stderr",
     "output_type": "stream",
     "text": [
      " 47%|████▋     | 7/15 [00:45<00:52,  6.55s/it]"
     ]
    },
    {
     "name": "stdout",
     "output_type": "stream",
     "text": [
      "남포면옥 링크: https://place.map.kakao.com/21232315\n",
      "장소명: 남포면옥\n",
      "별점: 3.0\n",
      "총 후기 개수: 958\n",
      "카테고리: 냉면\n",
      "주소: 서울 중구 을지로3길 24 1-2\n",
      "위도: None, 경도: None\n",
      "평균 메뉴 가격: 30000원\n"
     ]
    },
    {
     "name": "stderr",
     "output_type": "stream",
     "text": [
      " 53%|█████▎    | 8/15 [00:52<00:45,  6.54s/it]"
     ]
    },
    {
     "name": "stdout",
     "output_type": "stream",
     "text": [
      "사랑방칼국수 링크: https://place.map.kakao.com/7919722\n",
      "장소명: 사랑방칼국수\n",
      "별점: 4.2\n",
      "총 후기 개수: 1259\n",
      "카테고리: 칼국수\n",
      "주소: 서울 중구 퇴계로27길 46\n",
      "위도: 37.5632731870055, 경도: 126.991337371016\n",
      "평균 메뉴 가격: 10300원\n"
     ]
    },
    {
     "name": "stderr",
     "output_type": "stream",
     "text": [
      " 60%|██████    | 9/15 [00:58<00:39,  6.53s/it]"
     ]
    },
    {
     "name": "stdout",
     "output_type": "stream",
     "text": [
      "미성옥 링크: https://place.map.kakao.com/19157171\n",
      "장소명: 미성옥\n",
      "별점: 4.0\n",
      "총 후기 개수: 722\n",
      "카테고리: 설렁탕\n",
      "주소: 서울 중구 명동길 25-11\n",
      "위도: 37.5641637662639, 경도: 126.983925699881\n",
      "평균 메뉴 가격: 26500원\n"
     ]
    },
    {
     "name": "stderr",
     "output_type": "stream",
     "text": [
      " 67%|██████▋   | 10/15 [01:05<00:32,  6.60s/it]"
     ]
    },
    {
     "name": "stdout",
     "output_type": "stream",
     "text": [
      "명동함흥면옥 본점 링크: https://place.map.kakao.com/7871208\n",
      "장소명: 명동함흥면옥 본점\n",
      "별점: 3.5\n",
      "총 후기 개수: 231\n",
      "카테고리: 냉면\n",
      "주소: 서울 중구 명동10길 35-19\n",
      "위도: 37.5627701513326, 경도: 126.985685790889\n",
      "평균 메뉴 가격: 17750원\n"
     ]
    },
    {
     "name": "stderr",
     "output_type": "stream",
     "text": [
      " 73%|███████▎  | 11/15 [01:12<00:26,  6.59s/it]"
     ]
    },
    {
     "name": "stdout",
     "output_type": "stream",
     "text": [
      "부민옥 링크: https://place.map.kakao.com/1346301870\n",
      "장소명: 부민옥\n",
      "별점: 3.5\n",
      "총 후기 개수: 360\n",
      "카테고리: 한식\n",
      "주소: 서울 중구 다동길 24-12\n",
      "위도: 37.5675310295731, 경도: 126.980177653984\n",
      "평균 메뉴 가격: 46250원\n"
     ]
    },
    {
     "name": "stderr",
     "output_type": "stream",
     "text": [
      " 80%|████████  | 12/15 [01:18<00:19,  6.57s/it]"
     ]
    },
    {
     "name": "stdout",
     "output_type": "stream",
     "text": [
      "농민백암순대 시청직영점 링크: https://place.map.kakao.com/1062153333\n",
      "장소명: 농민백암순대 시청직영점\n",
      "별점: 4.5\n",
      "총 후기 개수: 1112\n",
      "카테고리: 순대\n",
      "주소: 서울 중구 남대문로1길 33\n",
      "위도: 37.5625981617414, 경도: 126.977163395088\n",
      "평균 메뉴 가격: 19500원\n"
     ]
    },
    {
     "name": "stderr",
     "output_type": "stream",
     "text": [
      " 87%|████████▋ | 13/15 [01:25<00:13,  6.56s/it]"
     ]
    },
    {
     "name": "stdout",
     "output_type": "stream",
     "text": [
      "진중 우육면관 본점 링크: https://place.map.kakao.com/2143988257\n",
      "장소명: 진중 우육면관 본점\n",
      "별점: 4.4\n",
      "총 후기 개수: 1579\n",
      "카테고리: 중식\n",
      "주소: 서울 종로구 청계천로 75-2\n",
      "위도: 37.5685569376048, 경도: 126.986094782493\n",
      "평균 메뉴 가격: 9500원\n"
     ]
    },
    {
     "name": "stderr",
     "output_type": "stream",
     "text": [
      " 93%|█████████▎| 14/15 [01:31<00:06,  6.58s/it]"
     ]
    },
    {
     "name": "stdout",
     "output_type": "stream",
     "text": [
      "곰국시집 명동점 링크: https://place.map.kakao.com/8203856\n",
      "장소명: 곰국시집 명동점\n",
      "별점: 2.9\n",
      "총 후기 개수: 67\n",
      "카테고리: 국수\n",
      "주소: 서울 중구 명동10길 19-3 삼존빌딩\n",
      "위도: 37.5630698136517, 경도: 126.98561080516\n",
      "평균 메뉴 가격: 37000원\n"
     ]
    },
    {
     "name": "stderr",
     "output_type": "stream",
     "text": [
      "100%|██████████| 15/15 [01:38<00:00,  6.57s/it]\n"
     ]
    },
    {
     "name": "stdout",
     "output_type": "stream",
     "text": [
      "page2\n"
     ]
    },
    {
     "name": "stderr",
     "output_type": "stream",
     "text": [
      "  0%|          | 0/15 [00:00<?, ?it/s]"
     ]
    },
    {
     "name": "stdout",
     "output_type": "stream",
     "text": [
      "몽중헌 페럼타워점 링크: https://place.map.kakao.com/17801741\n"
     ]
    },
    {
     "name": "stderr",
     "output_type": "stream",
     "text": [
      "  7%|▋         | 1/15 [00:04<01:03,  4.56s/it]"
     ]
    },
    {
     "name": "stdout",
     "output_type": "stream",
     "text": [
      "몽중헌 페럼타워점 클릭 실패: 'NoneType' object is not subscriptable\n"
     ]
    },
    {
     "name": "stderr",
     "output_type": "stream",
     "text": [
      " 13%|█▎        | 2/15 [00:09<01:03,  4.87s/it]"
     ]
    },
    {
     "name": "stdout",
     "output_type": "stream",
     "text": [
      "무교동북어국집 클릭 실패: Message: \n",
      "Stacktrace:\n",
      "#0 0x60792d7e8ffa <unknown>\n",
      "#1 0x60792d2a7970 <unknown>\n",
      "#2 0x60792d2f9385 <unknown>\n",
      "#3 0x60792d2f95b1 <unknown>\n",
      "#4 0x60792d3483c4 <unknown>\n",
      "#5 0x60792d31f2bd <unknown>\n",
      "#6 0x60792d34570c <unknown>\n",
      "#7 0x60792d31f063 <unknown>\n",
      "#8 0x60792d2eb328 <unknown>\n",
      "#9 0x60792d2ec491 <unknown>\n",
      "#10 0x60792d7b042b <unknown>\n",
      "#11 0x60792d7b42ec <unknown>\n",
      "#12 0x60792d797a22 <unknown>\n",
      "#13 0x60792d7b4e64 <unknown>\n",
      "#14 0x60792d77bbef <unknown>\n",
      "#15 0x60792d7d7558 <unknown>\n",
      "#16 0x60792d7d7736 <unknown>\n",
      "#17 0x60792d7e7e76 <unknown>\n",
      "#18 0x78515a694ac3 <unknown>\n",
      "\n"
     ]
    },
    {
     "name": "stderr",
     "output_type": "stream",
     "text": [
      " 20%|██        | 3/15 [00:14<01:00,  5.07s/it]"
     ]
    },
    {
     "name": "stdout",
     "output_type": "stream",
     "text": [
      "란주칼면 클릭 실패: Message: \n",
      "Stacktrace:\n",
      "#0 0x60792d7e8ffa <unknown>\n",
      "#1 0x60792d2a7970 <unknown>\n",
      "#2 0x60792d2f9385 <unknown>\n",
      "#3 0x60792d2f95b1 <unknown>\n",
      "#4 0x60792d3483c4 <unknown>\n",
      "#5 0x60792d31f2bd <unknown>\n",
      "#6 0x60792d34570c <unknown>\n",
      "#7 0x60792d31f063 <unknown>\n",
      "#8 0x60792d2eb328 <unknown>\n",
      "#9 0x60792d2ec491 <unknown>\n",
      "#10 0x60792d7b042b <unknown>\n",
      "#11 0x60792d7b42ec <unknown>\n",
      "#12 0x60792d797a22 <unknown>\n",
      "#13 0x60792d7b4e64 <unknown>\n",
      "#14 0x60792d77bbef <unknown>\n",
      "#15 0x60792d7d7558 <unknown>\n",
      "#16 0x60792d7d7736 <unknown>\n",
      "#17 0x60792d7e7e76 <unknown>\n",
      "#18 0x78515a694ac3 <unknown>\n",
      "\n"
     ]
    },
    {
     "name": "stderr",
     "output_type": "stream",
     "text": [
      " 27%|██▋       | 4/15 [00:20<00:57,  5.19s/it]"
     ]
    },
    {
     "name": "stdout",
     "output_type": "stream",
     "text": [
      "성경만두요리전문점 종로점 클릭 실패: Message: \n",
      "Stacktrace:\n",
      "#0 0x60792d7e8ffa <unknown>\n",
      "#1 0x60792d2a7970 <unknown>\n",
      "#2 0x60792d2f9385 <unknown>\n",
      "#3 0x60792d2f95b1 <unknown>\n",
      "#4 0x60792d3483c4 <unknown>\n",
      "#5 0x60792d31f2bd <unknown>\n",
      "#6 0x60792d34570c <unknown>\n",
      "#7 0x60792d31f063 <unknown>\n",
      "#8 0x60792d2eb328 <unknown>\n",
      "#9 0x60792d2ec491 <unknown>\n",
      "#10 0x60792d7b042b <unknown>\n",
      "#11 0x60792d7b42ec <unknown>\n",
      "#12 0x60792d797a22 <unknown>\n",
      "#13 0x60792d7b4e64 <unknown>\n",
      "#14 0x60792d77bbef <unknown>\n",
      "#15 0x60792d7d7558 <unknown>\n",
      "#16 0x60792d7d7736 <unknown>\n",
      "#17 0x60792d7e7e76 <unknown>\n",
      "#18 0x78515a694ac3 <unknown>\n",
      "\n"
     ]
    },
    {
     "name": "stderr",
     "output_type": "stream",
     "text": [
      "100%|██████████| 15/15 [00:24<00:00,  1.64s/it]"
     ]
    },
    {
     "name": "stdout",
     "output_type": "stream",
     "text": [
      "웨스틴조선서울 아리아 클릭 실패: Message: invalid session id: session deleted as the browser has closed the connection\n",
      "from disconnected: not connected to DevTools\n",
      "  (Session info: chrome=134.0.6998.165)\n",
      "Stacktrace:\n",
      "#0 0x60792d7e8ffa <unknown>\n",
      "#1 0x60792d2a7970 <unknown>\n",
      "#2 0x60792d28d70e <unknown>\n",
      "#3 0x60792d2b63d9 <unknown>\n",
      "#4 0x60792d327be9 <unknown>\n",
      "#5 0x60792d34509c <unknown>\n",
      "#6 0x60792d31f063 <unknown>\n",
      "#7 0x60792d2eb328 <unknown>\n",
      "#8 0x60792d2ec491 <unknown>\n",
      "#9 0x60792d7b042b <unknown>\n",
      "#10 0x60792d7b42ec <unknown>\n",
      "#11 0x60792d797a22 <unknown>\n",
      "#12 0x60792d7b4e64 <unknown>\n",
      "#13 0x60792d77bbef <unknown>\n",
      "#14 0x60792d7d7558 <unknown>\n",
      "#15 0x60792d7d7736 <unknown>\n",
      "#16 0x60792d7e7e76 <unknown>\n",
      "#17 0x78515a694ac3 <unknown>\n",
      "\n",
      "명동피자 명동본점 클릭 실패: Message: invalid session id\n",
      "Stacktrace:\n",
      "#0 0x60792d7e8ffa <unknown>\n",
      "#1 0x60792d2a77c3 <unknown>\n",
      "#2 0x60792d2ea5df <unknown>\n",
      "#3 0x60792d31f196 <unknown>\n",
      "#4 0x60792d319813 <unknown>\n",
      "#5 0x60792d318ae5 <unknown>\n",
      "#6 0x60792d270528 <unknown>\n",
      "#7 0x60792d7b042b <unknown>\n",
      "#8 0x60792d7b42ec <unknown>\n",
      "#9 0x60792d797a22 <unknown>\n",
      "#10 0x60792d7b4e64 <unknown>\n",
      "#11 0x60792d77bbef <unknown>\n",
      "#12 0x60792d26ef5b <unknown>\n",
      "#13 0x78515a629d90 <unknown>\n",
      "\n",
      "진고개 클릭 실패: Message: invalid session id\n",
      "Stacktrace:\n",
      "#0 0x60792d7e8ffa <unknown>\n",
      "#1 0x60792d2a77c3 <unknown>\n",
      "#2 0x60792d2ea5df <unknown>\n",
      "#3 0x60792d31f196 <unknown>\n",
      "#4 0x60792d319813 <unknown>\n",
      "#5 0x60792d318ae5 <unknown>\n",
      "#6 0x60792d270528 <unknown>\n",
      "#7 0x60792d7b042b <unknown>\n",
      "#8 0x60792d7b42ec <unknown>\n",
      "#9 0x60792d797a22 <unknown>\n",
      "#10 0x60792d7b4e64 <unknown>\n",
      "#11 0x60792d77bbef <unknown>\n",
      "#12 0x60792d26ef5b <unknown>\n",
      "#13 0x78515a629d90 <unknown>\n",
      "\n",
      "대련집 클릭 실패: Message: invalid session id\n",
      "Stacktrace:\n",
      "#0 0x60792d7e8ffa <unknown>\n",
      "#1 0x60792d2a77c3 <unknown>\n",
      "#2 0x60792d2ea5df <unknown>\n",
      "#3 0x60792d31f196 <unknown>\n",
      "#4 0x60792d319813 <unknown>\n",
      "#5 0x60792d318ae5 <unknown>\n",
      "#6 0x60792d270528 <unknown>\n",
      "#7 0x60792d7b042b <unknown>\n",
      "#8 0x60792d7b42ec <unknown>\n",
      "#9 0x60792d797a22 <unknown>\n",
      "#10 0x60792d7b4e64 <unknown>\n",
      "#11 0x60792d77bbef <unknown>\n",
      "#12 0x60792d26ef5b <unknown>\n",
      "#13 0x78515a629d90 <unknown>\n",
      "\n",
      "하동관 명동본점 클릭 실패: Message: invalid session id\n",
      "Stacktrace:\n",
      "#0 0x60792d7e8ffa <unknown>\n",
      "#1 0x60792d2a77c3 <unknown>\n",
      "#2 0x60792d2ea5df <unknown>\n",
      "#3 0x60792d31f196 <unknown>\n",
      "#4 0x60792d319813 <unknown>\n",
      "#5 0x60792d318ae5 <unknown>\n",
      "#6 0x60792d270528 <unknown>\n",
      "#7 0x60792d7b042b <unknown>\n",
      "#8 0x60792d7b42ec <unknown>\n",
      "#9 0x60792d797a22 <unknown>\n",
      "#10 0x60792d7b4e64 <unknown>\n",
      "#11 0x60792d77bbef <unknown>\n",
      "#12 0x60792d26ef5b <unknown>\n",
      "#13 0x78515a629d90 <unknown>\n",
      "\n",
      "풍남원조골뱅이 클릭 실패: Message: invalid session id\n",
      "Stacktrace:\n",
      "#0 0x60792d7e8ffa <unknown>\n",
      "#1 0x60792d2a77c3 <unknown>\n",
      "#2 0x60792d2ea5df <unknown>\n",
      "#3 0x60792d31f196 <unknown>\n",
      "#4 0x60792d319813 <unknown>\n",
      "#5 0x60792d318ae5 <unknown>\n",
      "#6 0x60792d270528 <unknown>\n",
      "#7 0x60792d7b042b <unknown>\n",
      "#8 0x60792d7b42ec <unknown>\n",
      "#9 0x60792d797a22 <unknown>\n",
      "#10 0x60792d7b4e64 <unknown>\n",
      "#11 0x60792d77bbef <unknown>\n",
      "#12 0x60792d26ef5b <unknown>\n",
      "#13 0x78515a629d90 <unknown>\n",
      "\n",
      "풍년닭도리탕 클릭 실패: Message: invalid session id\n",
      "Stacktrace:\n",
      "#0 0x60792d7e8ffa <unknown>\n",
      "#1 0x60792d2a77c3 <unknown>\n",
      "#2 0x60792d2ea5df <unknown>\n",
      "#3 0x60792d31f196 <unknown>\n",
      "#4 0x60792d319813 <unknown>\n",
      "#5 0x60792d318ae5 <unknown>\n",
      "#6 0x60792d270528 <unknown>\n",
      "#7 0x60792d7b042b <unknown>\n",
      "#8 0x60792d7b42ec <unknown>\n",
      "#9 0x60792d797a22 <unknown>\n",
      "#10 0x60792d7b4e64 <unknown>\n",
      "#11 0x60792d77bbef <unknown>\n",
      "#12 0x60792d26ef5b <unknown>\n",
      "#13 0x78515a629d90 <unknown>\n",
      "\n",
      "명동교자 분점 클릭 실패: Message: invalid session id\n",
      "Stacktrace:\n",
      "#0 0x60792d7e8ffa <unknown>\n",
      "#1 0x60792d2a77c3 <unknown>\n",
      "#2 0x60792d2ea5df <unknown>\n",
      "#3 0x60792d31f196 <unknown>\n",
      "#4 0x60792d319813 <unknown>\n",
      "#5 0x60792d318ae5 <unknown>\n",
      "#6 0x60792d270528 <unknown>\n",
      "#7 0x60792d7b042b <unknown>\n",
      "#8 0x60792d7b42ec <unknown>\n",
      "#9 0x60792d797a22 <unknown>\n",
      "#10 0x60792d7b4e64 <unknown>\n",
      "#11 0x60792d77bbef <unknown>\n",
      "#12 0x60792d26ef5b <unknown>\n",
      "#13 0x78515a629d90 <unknown>\n",
      "\n",
      "을지맥옥 클릭 실패: Message: invalid session id\n",
      "Stacktrace:\n",
      "#0 0x60792d7e8ffa <unknown>\n",
      "#1 0x60792d2a77c3 <unknown>\n",
      "#2 0x60792d2ea5df <unknown>\n",
      "#3 0x60792d31f196 <unknown>\n",
      "#4 0x60792d319813 <unknown>\n",
      "#5 0x60792d318ae5 <unknown>\n",
      "#6 0x60792d270528 <unknown>\n",
      "#7 0x60792d7b042b <unknown>\n",
      "#8 0x60792d7b42ec <unknown>\n",
      "#9 0x60792d797a22 <unknown>\n",
      "#10 0x60792d7b4e64 <unknown>\n",
      "#11 0x60792d77bbef <unknown>\n",
      "#12 0x60792d26ef5b <unknown>\n",
      "#13 0x78515a629d90 <unknown>\n",
      "\n",
      "명동돈가스 클릭 실패: Message: invalid session id\n",
      "Stacktrace:\n",
      "#0 0x60792d7e8ffa <unknown>\n",
      "#1 0x60792d2a77c3 <unknown>\n",
      "#2 0x60792d2ea5df <unknown>\n",
      "#3 0x60792d31f196 <unknown>\n",
      "#4 0x60792d319813 <unknown>\n",
      "#5 0x60792d318ae5 <unknown>\n",
      "#6 0x60792d270528 <unknown>\n",
      "#7 0x60792d7b042b <unknown>\n",
      "#8 0x60792d7b42ec <unknown>\n",
      "#9 0x60792d797a22 <unknown>\n",
      "#10 0x60792d7b4e64 <unknown>\n",
      "#11 0x60792d77bbef <unknown>\n",
      "#12 0x60792d26ef5b <unknown>\n",
      "#13 0x78515a629d90 <unknown>\n",
      "\n",
      "개화 클릭 실패: Message: invalid session id\n",
      "Stacktrace:\n",
      "#0 0x60792d7e8ffa <unknown>\n",
      "#1 0x60792d2a77c3 <unknown>\n",
      "#2 0x60792d2ea5df <unknown>\n",
      "#3 0x60792d31f196 <unknown>\n",
      "#4 0x60792d319813 <unknown>\n",
      "#5 0x60792d318ae5 <unknown>\n",
      "#6 0x60792d270528 <unknown>\n",
      "#7 0x60792d7b042b <unknown>\n",
      "#8 0x60792d7b42ec <unknown>\n",
      "#9 0x60792d797a22 <unknown>\n",
      "#10 0x60792d7b4e64 <unknown>\n",
      "#11 0x60792d77bbef <unknown>\n",
      "#12 0x60792d26ef5b <unknown>\n",
      "#13 0x78515a629d90 <unknown>\n",
      "\n",
      "page3\n"
     ]
    },
    {
     "name": "stderr",
     "output_type": "stream",
     "text": [
      "\n"
     ]
    },
    {
     "ename": "InvalidSessionIdException",
     "evalue": "Message: invalid session id\nStacktrace:\n#0 0x60792d7e8ffa <unknown>\n#1 0x60792d2a77c3 <unknown>\n#2 0x60792d2ea5df <unknown>\n#3 0x60792d31f196 <unknown>\n#4 0x60792d319813 <unknown>\n#5 0x60792d318ae5 <unknown>\n#6 0x60792d270528 <unknown>\n#7 0x60792d7b042b <unknown>\n#8 0x60792d7b42ec <unknown>\n#9 0x60792d797a22 <unknown>\n#10 0x60792d7b4e64 <unknown>\n#11 0x60792d77bbef <unknown>\n#12 0x60792d26ef5b <unknown>\n#13 0x78515a629d90 <unknown>\n",
     "output_type": "error",
     "traceback": [
      "\u001b[0;31m---------------------------------------------------------------------------\u001b[0m",
      "\u001b[0;31mInvalidSessionIdException\u001b[0m                 Traceback (most recent call last)",
      "Cell \u001b[0;32mIn[12], line 168\u001b[0m\n\u001b[1;32m    166\u001b[0m \u001b[38;5;28;01mfor\u001b[39;00m i \u001b[38;5;129;01min\u001b[39;00m \u001b[38;5;28mrange\u001b[39m(num_pages):\n\u001b[1;32m    167\u001b[0m     \u001b[38;5;28mprint\u001b[39m(\u001b[38;5;124m\"\u001b[39m\u001b[38;5;124mpage\u001b[39m\u001b[38;5;124m\"\u001b[39m \u001b[38;5;241m+\u001b[39m \u001b[38;5;28mstr\u001b[39m(i \u001b[38;5;241m+\u001b[39m \u001b[38;5;241m1\u001b[39m))\n\u001b[0;32m--> 168\u001b[0m     page_section \u001b[38;5;241m=\u001b[39m \u001b[43mdriver\u001b[49m\u001b[38;5;241;43m.\u001b[39;49m\u001b[43mfind_element\u001b[49m\u001b[43m(\u001b[49m\u001b[43mBy\u001b[49m\u001b[38;5;241;43m.\u001b[39;49m\u001b[43mID\u001b[49m\u001b[43m,\u001b[49m\u001b[43m \u001b[49m\u001b[38;5;124;43m'\u001b[39;49m\u001b[38;5;124;43minfo.search.page\u001b[39;49m\u001b[38;5;124;43m'\u001b[39;49m\u001b[43m)\u001b[49m\n\u001b[1;32m    169\u001b[0m     page_elements \u001b[38;5;241m=\u001b[39m page_section\u001b[38;5;241m.\u001b[39mfind_elements(By\u001b[38;5;241m.\u001b[39mTAG_NAME, \u001b[38;5;124m'\u001b[39m\u001b[38;5;124ma\u001b[39m\u001b[38;5;124m'\u001b[39m)\n\u001b[1;32m    171\u001b[0m     \u001b[38;5;28;01mif\u001b[39;00m i \u001b[38;5;241m<\u001b[39m \u001b[38;5;28mlen\u001b[39m(page_elements):  \u001b[38;5;66;03m# 페이지 버튼이 있을 경우에만 클릭\u001b[39;00m\n",
      "File \u001b[0;32m~/.local/lib/python3.10/site-packages/selenium/webdriver/remote/webdriver.py:898\u001b[0m, in \u001b[0;36mWebDriver.find_element\u001b[0;34m(self, by, value)\u001b[0m\n\u001b[1;32m    895\u001b[0m         \u001b[38;5;28;01mraise\u001b[39;00m NoSuchElementException(\u001b[38;5;124mf\u001b[39m\u001b[38;5;124m\"\u001b[39m\u001b[38;5;124mCannot locate relative element with: \u001b[39m\u001b[38;5;132;01m{\u001b[39;00mby\u001b[38;5;241m.\u001b[39mroot\u001b[38;5;132;01m}\u001b[39;00m\u001b[38;5;124m\"\u001b[39m)\n\u001b[1;32m    896\u001b[0m     \u001b[38;5;28;01mreturn\u001b[39;00m elements[\u001b[38;5;241m0\u001b[39m]\n\u001b[0;32m--> 898\u001b[0m \u001b[38;5;28;01mreturn\u001b[39;00m \u001b[38;5;28;43mself\u001b[39;49m\u001b[38;5;241;43m.\u001b[39;49m\u001b[43mexecute\u001b[49m\u001b[43m(\u001b[49m\u001b[43mCommand\u001b[49m\u001b[38;5;241;43m.\u001b[39;49m\u001b[43mFIND_ELEMENT\u001b[49m\u001b[43m,\u001b[49m\u001b[43m \u001b[49m\u001b[43m{\u001b[49m\u001b[38;5;124;43m\"\u001b[39;49m\u001b[38;5;124;43musing\u001b[39;49m\u001b[38;5;124;43m\"\u001b[39;49m\u001b[43m:\u001b[49m\u001b[43m \u001b[49m\u001b[43mby\u001b[49m\u001b[43m,\u001b[49m\u001b[43m \u001b[49m\u001b[38;5;124;43m\"\u001b[39;49m\u001b[38;5;124;43mvalue\u001b[39;49m\u001b[38;5;124;43m\"\u001b[39;49m\u001b[43m:\u001b[49m\u001b[43m \u001b[49m\u001b[43mvalue\u001b[49m\u001b[43m}\u001b[49m\u001b[43m)\u001b[49m[\u001b[38;5;124m\"\u001b[39m\u001b[38;5;124mvalue\u001b[39m\u001b[38;5;124m\"\u001b[39m]\n",
      "File \u001b[0;32m~/.local/lib/python3.10/site-packages/selenium/webdriver/remote/webdriver.py:429\u001b[0m, in \u001b[0;36mWebDriver.execute\u001b[0;34m(self, driver_command, params)\u001b[0m\n\u001b[1;32m    427\u001b[0m response \u001b[38;5;241m=\u001b[39m \u001b[38;5;28mself\u001b[39m\u001b[38;5;241m.\u001b[39mcommand_executor\u001b[38;5;241m.\u001b[39mexecute(driver_command, params)\n\u001b[1;32m    428\u001b[0m \u001b[38;5;28;01mif\u001b[39;00m response:\n\u001b[0;32m--> 429\u001b[0m     \u001b[38;5;28;43mself\u001b[39;49m\u001b[38;5;241;43m.\u001b[39;49m\u001b[43merror_handler\u001b[49m\u001b[38;5;241;43m.\u001b[39;49m\u001b[43mcheck_response\u001b[49m\u001b[43m(\u001b[49m\u001b[43mresponse\u001b[49m\u001b[43m)\u001b[49m\n\u001b[1;32m    430\u001b[0m     response[\u001b[38;5;124m\"\u001b[39m\u001b[38;5;124mvalue\u001b[39m\u001b[38;5;124m\"\u001b[39m] \u001b[38;5;241m=\u001b[39m \u001b[38;5;28mself\u001b[39m\u001b[38;5;241m.\u001b[39m_unwrap_value(response\u001b[38;5;241m.\u001b[39mget(\u001b[38;5;124m\"\u001b[39m\u001b[38;5;124mvalue\u001b[39m\u001b[38;5;124m\"\u001b[39m, \u001b[38;5;28;01mNone\u001b[39;00m))\n\u001b[1;32m    431\u001b[0m     \u001b[38;5;28;01mreturn\u001b[39;00m response\n",
      "File \u001b[0;32m~/.local/lib/python3.10/site-packages/selenium/webdriver/remote/errorhandler.py:232\u001b[0m, in \u001b[0;36mErrorHandler.check_response\u001b[0;34m(self, response)\u001b[0m\n\u001b[1;32m    230\u001b[0m         alert_text \u001b[38;5;241m=\u001b[39m value[\u001b[38;5;124m\"\u001b[39m\u001b[38;5;124malert\u001b[39m\u001b[38;5;124m\"\u001b[39m]\u001b[38;5;241m.\u001b[39mget(\u001b[38;5;124m\"\u001b[39m\u001b[38;5;124mtext\u001b[39m\u001b[38;5;124m\"\u001b[39m)\n\u001b[1;32m    231\u001b[0m     \u001b[38;5;28;01mraise\u001b[39;00m exception_class(message, screen, stacktrace, alert_text)  \u001b[38;5;66;03m# type: ignore[call-arg]  # mypy is not smart enough here\u001b[39;00m\n\u001b[0;32m--> 232\u001b[0m \u001b[38;5;28;01mraise\u001b[39;00m exception_class(message, screen, stacktrace)\n",
      "\u001b[0;31mInvalidSessionIdException\u001b[0m: Message: invalid session id\nStacktrace:\n#0 0x60792d7e8ffa <unknown>\n#1 0x60792d2a77c3 <unknown>\n#2 0x60792d2ea5df <unknown>\n#3 0x60792d31f196 <unknown>\n#4 0x60792d319813 <unknown>\n#5 0x60792d318ae5 <unknown>\n#6 0x60792d270528 <unknown>\n#7 0x60792d7b042b <unknown>\n#8 0x60792d7b42ec <unknown>\n#9 0x60792d797a22 <unknown>\n#10 0x60792d7b4e64 <unknown>\n#11 0x60792d77bbef <unknown>\n#12 0x60792d26ef5b <unknown>\n#13 0x78515a629d90 <unknown>\n"
     ]
    }
   ],
   "source": [
    "import time\n",
    "import re\n",
    "import requests\n",
    "from selenium import webdriver\n",
    "from selenium.webdriver.common.by import By\n",
    "from selenium.webdriver.common.keys import Keys\n",
    "from selenium.webdriver.support.ui import WebDriverWait\n",
    "from selenium.webdriver.support import expected_conditions as EC\n",
    "from bs4 import BeautifulSoup\n",
    "from tqdm import tqdm\n",
    "\n",
    "KAKAO_API_KEY = \"1a6063efba1d306ac8725b784b11fa13\"\n",
    "results=[]\n",
    "\n",
    "def clean_address(address):\n",
    "    # (우) 우편번호 제거\n",
    "    address = re.sub(r'\\s*\\(우\\)\\d{5}.*$', '', address)\n",
    "\n",
    "    # 도로명 주소 패턴 추출 (길 정보 포함)\n",
    "    match = re.search(r'([가-힣\\d\\s-]*로\\d*(길\\s?\\d+)?\\s?\\d*-?\\d*)', address)\n",
    "    address = match.group(0) if match else address.strip()\n",
    "\n",
    "    # `층` 정보 삭제 (`,` 또는 공백으로 구분된 경우 모두 처리)\n",
    "    address = re.sub(r'(\\s*\\d*\\s*층.*$)|(\\s+\\d+\\s*$)', '', address)  # \"층\" + 남은 숫자 삭제\n",
    "\n",
    "    return address.strip()\n",
    "\n",
    "\n",
    "def extract_number(text):\n",
    "    match = re.search(r'\\d+', text.replace(',', ''))\n",
    "    return int(match.group(0)) if match else 0\n",
    "\n",
    "def get_lat_lon(address, is_first=False):\n",
    "    time.sleep(1)\n",
    "        \n",
    "    url = f\"https://dapi.kakao.com/v2/local/search/address.json?query={address}\"\n",
    "    headers = {\"Authorization\": f\"KakaoAK {KAKAO_API_KEY}\"}\n",
    "    response = requests.get(url, headers=headers)\n",
    "    \n",
    "    if response.status_code == 401:\n",
    "        return None, None\n",
    "    elif response.status_code == 429:\n",
    "        time.sleep(60)  \n",
    "        return get_lat_lon(address, is_first)\n",
    "    \n",
    "    result = response.json()\n",
    "    \n",
    "    if \"documents\" not in result or not result[\"documents\"]:\n",
    "        return None, None\n",
    "    \n",
    "    match_first = result[\"documents\"][0][\"address\"]\n",
    "    lat = float(match_first[\"y\"])\n",
    "    lon = float(match_first[\"x\"])\n",
    "    \n",
    "    return lat, lon\n",
    "\n",
    "def croll_page(driver, html):\n",
    "    soup = BeautifulSoup(html, 'html.parser')\n",
    "    store_items = soup.select('.PlaceItem.clickArea')\n",
    "\n",
    "    for idx, store in enumerate(tqdm(store_items)):\n",
    "        score_blind = store.select_one('[data-id=\"scoreBlind\"]')\n",
    "        if score_blind and 'HIDDEN' not in score_blind.get('class', ''):\n",
    "            continue\n",
    "        \n",
    "        store_name_element = store.select_one('.head_item > .tit_name > .link_name')\n",
    "        store_name = store_name_element.text.strip() if store_name_element else '이름 없음'\n",
    "        \n",
    "        try:\n",
    "            name_element = WebDriverWait(driver, 5).until(EC.element_to_be_clickable((By.LINK_TEXT, store_name)))\n",
    "            driver.execute_script(\"arguments[0].click();\", name_element)\n",
    "            time.sleep(1)\n",
    "            \n",
    "            place_links = WebDriverWait(driver, 5).until(EC.presence_of_all_elements_located((By.CSS_SELECTOR, 'a[data-id=\"name\"]')))\n",
    "            \n",
    "            for link in place_links:\n",
    "                href = link.get_attribute(\"href\")\n",
    "                if href and \"none\" not in href:\n",
    "                    print(f\"{store_name} 링크: {href}\")\n",
    "                    driver.execute_script(f\"window.open('{href}');\")\n",
    "                    time.sleep(1)\n",
    "                    driver.switch_to.window(driver.window_handles[-1])\n",
    "                    time.sleep(1)\n",
    "\n",
    "                    html = driver.page_source\n",
    "                    soup = BeautifulSoup(html, 'html.parser')\n",
    "\n",
    "                    st_name = soup.find('h3', class_='tit_place')\n",
    "                    st_name = st_name.get_text(strip=True).replace('장소명', '') if st_name else '이름 없음'\n",
    "                    \n",
    "                    rating = soup.find('span', class_='num_star')\n",
    "                    rating = rating.get_text(strip=True) if rating else '평점 없음'\n",
    "                    \n",
    "                    reviews = soup.find('a', class_='link_review')\n",
    "                    reviews = extract_number(reviews.get_text(strip=True)) if reviews else 0\n",
    "                    \n",
    "                    blog_reviews = soup.find('a', class_='link_blog')\n",
    "                    blog_reviews = extract_number(blog_reviews.get_text(strip=True)) if blog_reviews else 0\n",
    "\n",
    "                    total_reviews = reviews + blog_reviews\n",
    "                    \n",
    "                    category_element = soup.find('span', class_='info_cate')\n",
    "                    category = category_element.get_text(strip=True) if category_element else '카테고리 없음'\n",
    "                    category = category.replace(\"장소 카테고리\", \"\").strip()  # 텍스트 정리\n",
    "                    \n",
    "                    address_element = soup.find('span', class_='txt_detail')\n",
    "                    address = clean_address(address_element.get_text(strip=True)) if address_element else '주소 없음'\n",
    "                    \n",
    "                    lat, lon = get_lat_lon(address, is_first=(idx == 0)) \n",
    "                    \n",
    "                    menu_tab = WebDriverWait(driver, 5).until(EC.element_to_be_clickable((By.CSS_SELECTOR, \"a[href='#menuInfo']\")))\n",
    "                    driver.execute_script(\"arguments[0].click();\", menu_tab)\n",
    "                    \n",
    "                    menu_items = soup.find_all('div', class_='info_goods')\n",
    "                    menus = [(item.find('strong', class_='tit_item').get_text(strip=True), extract_number(item.find('p', class_='desc_item').get_text(strip=True))) for item in menu_items] if menu_items else []\n",
    "                    menu_prices = [price for _, price in menus if price > 0]\n",
    "                    avg_price = sum(menu_prices) // len(menu_prices) if menu_prices else 0\n",
    "                    \n",
    "                    print(f'장소명: {st_name}')\n",
    "                    print(f'별점: {rating}')\n",
    "                    print(f\"총 후기 개수: {total_reviews}\")\n",
    "                    print(f'카테고리: {category}')\n",
    "                    print(f'주소: {address}')\n",
    "                    print(f'위도: {lat}, 경도: {lon}')\n",
    "                    print(f'평균 메뉴 가격: {avg_price}원')\n",
    "\n",
    "                    results.append({\n",
    "                        \"name\": st_name,\n",
    "                        \"category\": category,\n",
    "                        \"region\" : area,\n",
    "                        \"score\": rating,\n",
    "                        \"review\": total_reviews,\n",
    "                        \"price\": avg_price,\n",
    "                        \"address\": address,\n",
    "                        \"latitude\": lat,\n",
    "                        \"longitude\": lon\n",
    "                    })\n",
    "                   \n",
    "                    \n",
    "                    driver.close()\n",
    "                    time.sleep(1)\n",
    "                    driver.switch_to.window(driver.window_handles[0])\n",
    "                    time.sleep(1)\n",
    "                    break\n",
    "        except Exception as e:\n",
    "            print(f\"{store_name} 클릭 실패: {e}\")\n",
    "\n",
    "URL = 'https://map.kakao.com/'\n",
    "options = webdriver.ChromeOptions()\n",
    "options.add_argument('user-agent=Mozilla/5.0 (Windows NT 10.0; Win64; x64) AppleWebKit/537.36 (KHTML, like Gecko) Chrome/58.0.3029.110 Safari/537.3')\n",
    "options.add_argument('window-size=1380,900')\n",
    "\n",
    "driver = webdriver.Chrome(options=options)\n",
    "\n",
    "for area in area_list:\n",
    "    print(f\"검색 중: {area}\")\n",
    "    driver.get(URL)\n",
    "    search_area = driver.find_element(By.XPATH, '//*[@id=\"search.keyword.query\"]')\n",
    "    search_area.send_keys(area + \" 근처 맛집\")\n",
    "    driver.find_element(By.XPATH, '//*[@id=\"search.keyword.submit\"]').send_keys(Keys.ENTER)\n",
    "    time.sleep(1)\n",
    "    driver.find_element(By.XPATH, '//*[@id=\"info.main.options\"]/li[2]/a').send_keys(Keys.ENTER)\n",
    "    time.sleep(1)\n",
    "\n",
    "    num_pages = 3\n",
    "    for i in range(num_pages):\n",
    "        print(\"page\" + str(i + 1))\n",
    "        page_section = driver.find_element(By.ID, 'info.search.page')\n",
    "        page_elements = page_section.find_elements(By.TAG_NAME, 'a')\n",
    "        \n",
    "        if i < len(page_elements):  # 페이지 버튼이 있을 경우에만 클릭\n",
    "            page = page_elements[i]\n",
    "            driver.execute_script(\"arguments[0].click();\", page)\n",
    "            time.sleep(1)\n",
    "            html = driver.page_source\n",
    "            croll_page(driver, html)\n",
    "        else:\n",
    "            print(f\"페이지 {i+1} 없음, 중단\")\n",
    "            break \n",
    "\n",
    "    # j = 0\n",
    "    # while True:\n",
    "    #     num_pages = 5\n",
    "    #     for i in range(num_pages):\n",
    "    #         print(\"page\" + str((i+1) + 5*j))\n",
    "    #         page_section = driver.find_element(By.ID, 'info.search.page')\n",
    "    #         page_elements = page_section.find_elements(By.TAG_NAME, 'a')\n",
    "    #         page = page_elements[i]\n",
    "    #         driver.execute_script(\"arguments[0].click();\", page)\n",
    "    #         time.sleep(1)\n",
    "    #         html = driver.page_source\n",
    "    #         croll_page(driver, html)\n",
    "        \n",
    "    #     next_button = driver.find_element(By.ID, 'info.search.page.next')\n",
    "    #     if 'disabled' in next_button.get_attribute('class'):\n",
    "    #         print('다음 페이지 없음. 종료')\n",
    "    #         break\n",
    "    #     else:\n",
    "    #         j += 1\n",
    "    #         driver.execute_script(\"arguments[0].click();\", next_button)\n",
    "    #         time.sleep(2)\n",
    "    #         WebDriverWait(driver, 5).until(EC.presence_of_element_located((By.ID, 'info.search.page')))  # 페이지 로딩 대기\n",
    "\n",
    "driver.quit()\n"
   ]
  },
  {
   "cell_type": "code",
   "execution_count": 14,
   "metadata": {},
   "outputs": [
    {
     "name": "stdout",
     "output_type": "stream",
     "text": [
      "('도깨비불고기 동대문본점', '동대문 관광특구', 3.2, 152, 23750, '서울 중구 을지로43길 38', 37.5677114, 127.007766)\n"
     ]
    }
   ],
   "source": [
    "mycursor = ojk.cursor()\n",
    "mycursor.execute(\"select * from restaurant\")\n",
    "result = mycursor.fetchall()\n",
    "for data in result:\n",
    "    print(data)"
   ]
  },
  {
   "cell_type": "code",
   "execution_count": null,
   "metadata": {},
   "outputs": [],
   "source": [
    "driver.quit()"
   ]
  },
  {
   "cell_type": "code",
   "execution_count": null,
   "metadata": {},
   "outputs": [],
   "source": [
    "from selenium import webdriver\n",
    "from selenium.webdriver.common.by import By\n",
    "from selenium.webdriver.support.ui import WebDriverWait\n",
    "from selenium.webdriver.support import expected_conditions as EC\n",
    "from bs4 import BeautifulSoup\n",
    "import urllib.parse\n",
    "import time\n",
    "import re\n",
    "import requests\n",
    "\n",
    "KAKAO_API_KEY = \"1a6063efba1d306ac8725b784b11fa13\"\n",
    "\n",
    "def switch_left():\n",
    "    driver.switch_to.default_content()\n",
    "    iframe = driver.find_element(By.XPATH, '//*[@id=\"searchIframe\"]')\n",
    "    driver.switch_to.frame(iframe)\n",
    "\n",
    "def switch_right():\n",
    "    driver.switch_to.default_content()\n",
    "    iframe = driver.find_element(By.XPATH, '//*[@id=\"entryIframe\"]')\n",
    "    driver.switch_to.frame(iframe)\n",
    "\n",
    "def clean_address(address):\n",
    "    address = re.sub(r'\\s*\\(우\\)\\d{5}.*$', '', address)\n",
    "    match = re.search(r'([가-힣\\d\\s-]*로\\d*(길\\s?\\d+)?\\s?\\d*-?\\d*)', address)\n",
    "    address = match.group(0) if match else address.strip()\n",
    "    address = re.sub(r'(\\s*\\d*\\s*층.*$)|(\\s+\\d+\\s*$)', '', address)\n",
    "    return address.strip()\n",
    "\n",
    "def extract_number(text):\n",
    "    match = re.search(r'\\d+', text.replace(',', ''))\n",
    "    return int(match.group(0)) if match else 0\n",
    "\n",
    "def get_lat_lon(address):\n",
    "    time.sleep(1)\n",
    "    url = f\"https://dapi.kakao.com/v2/local/search/address.json?query={address}\"\n",
    "    headers = {\"Authorization\": f\"KakaoAK {KAKAO_API_KEY}\"}\n",
    "    response = requests.get(url, headers=headers)\n",
    "\n",
    "    if response.status_code == 401:\n",
    "        return None, None\n",
    "    elif response.status_code == 429:\n",
    "        time.sleep(60)\n",
    "        return get_lat_lon(address)\n",
    "\n",
    "    result = response.json()\n",
    "    if \"documents\" not in result or not result[\"documents\"]:\n",
    "        return None, None\n",
    "\n",
    "    match_first = result[\"documents\"][0][\"address\"]\n",
    "    lat = float(match_first[\"y\"])\n",
    "    lon = float(match_first[\"x\"])\n",
    "    return lat, lon\n",
    "\n",
    "# Selenium 설정\n",
    "options = webdriver.ChromeOptions()\n",
    "options.add_argument('user-agent=Mozilla/5.0 (Windows NT 10.0; Win64; x64) AppleWebKit/537.36 (KHTML, like Gecko) Chrome/58.0.3029.110 Safari/537.3')\n",
    "options.add_argument('window-size=1380,900')\n",
    "driver = webdriver.Chrome(options=options)\n",
    "driver.implicitly_wait(3)\n",
    "\n",
    "for place in area_list:\n",
    "    search_url = f\"https://map.naver.com/p/search/{urllib.parse.quote(place + ' 근처 놀거리')}\"\n",
    "    driver.get(search_url)\n",
    "    time.sleep(3)\n",
    "\n",
    "    try:\n",
    "        WebDriverWait(driver, 10).until(EC.presence_of_element_located((By.XPATH, '//*[@id=\"searchIframe\"]')))\n",
    "        switch_left()\n",
    "    except:\n",
    "        print(f\"[{place}] 검색결과 없음 - 스킵\")\n",
    "        continue\n",
    "\n",
    "    try:\n",
    "        WebDriverWait(driver, 10).until(EC.presence_of_element_located((By.XPATH, '//*[@id=\"_pcmap_list_scroll_container\"]')))\n",
    "        scrollable_element = driver.find_element(By.XPATH, '//*[@id=\"_pcmap_list_scroll_container\"]')\n",
    "    except:\n",
    "        print(f\"[{place}] 스크롤 요소 탐색 실패 - 스킵\")\n",
    "        continue\n",
    "\n",
    "    # 스크롤 내리기\n",
    "    last_height = driver.execute_script(\"return arguments[0].scrollHeight\", scrollable_element)\n",
    "    while True:\n",
    "        driver.execute_script(\"arguments[0].scrollTop += 600;\", scrollable_element)\n",
    "        time.sleep(1)\n",
    "        new_height = driver.execute_script(\"return arguments[0].scrollHeight\", scrollable_element)\n",
    "        if new_height == last_height:\n",
    "            break\n",
    "        last_height = new_height\n",
    "\n",
    "    elements = driver.find_elements(By.XPATH, '//*[@id=\"_pcmap_list_scroll_container\"]//li')\n",
    "\n",
    "    for index, element in enumerate(elements):\n",
    "        try:\n",
    "            switch_left()\n",
    "            clickable = element.find_element(By.CLASS_NAME, 'YgcU0')\n",
    "            clickable.click()\n",
    "            time.sleep(2)\n",
    "        except:\n",
    "            print(f\"{index+1}번째 장소 클릭 실패\")\n",
    "            continue\n",
    "\n",
    "        try:\n",
    "            switch_right()\n",
    "            time.sleep(2)\n",
    "\n",
    "            soup = BeautifulSoup(driver.page_source, \"html.parser\")\n",
    "\n",
    "            title = soup.find(\"div\", class_=\"LylZZ v8v5j\")\n",
    "            store_name = title.find(\"span\", class_=\"GHAhO\").get_text(strip=True) if title else \"놀거리명 없음\"\n",
    "            category = title.find(\"span\", class_=\"lnJFt\").get_text(strip=True) if title else \"카테고리 없음\"\n",
    "\n",
    "            # '카페,디저트' 카테고리 제외\n",
    "            if category == \"카페,디저트\":\n",
    "                continue\n",
    "\n",
    "            visitor_review_element = soup.find(\"a\", string=lambda text: text and \"방문자 리뷰\" in text)\n",
    "            visitor_review = extract_number(visitor_review_element.get_text(strip=True)) if visitor_review_element else 0\n",
    "\n",
    "            blog_review_element = soup.find(\"a\", string=lambda text: text and \"블로그 리뷰\" in text)\n",
    "            blog_review = extract_number(blog_review_element.get_text(strip=True)) if blog_review_element else 0\n",
    "\n",
    "            total_reviews = visitor_review + blog_review\n",
    "\n",
    "            address_element = soup.find(\"span\", class_=\"LDgIH\")\n",
    "            address = clean_address(address_element.get_text(strip=True)) if address_element else \"주소 없음\"\n",
    "\n",
    "            lat, lon = get_lat_lon(address)\n",
    "\n",
    "            print(f\"\\n[지역: {place}] {index+1}. {store_name} · {category}\")\n",
    "            print(f\"리뷰 수: {total_reviews}\")\n",
    "            print(f\"주소: {address}\")\n",
    "            print(f\"위도: {lat}, 경도: {lon}\")\n",
    "            print(\"-\" * 50)\n",
    "\n",
    "        except Exception as ex:\n",
    "            print(f\"{index+1}번째 장소 정보 수집 실패: {ex}\")\n",
    "            print(\"-\" * 50)\n",
    "            continue\n",
    "\n",
    "driver.quit()\n"
   ]
  }
 ],
 "metadata": {
  "kernelspec": {
   "display_name": "Python 3",
   "language": "python",
   "name": "python3"
  },
  "language_info": {
   "codemirror_mode": {
    "name": "ipython",
    "version": 3
   },
   "file_extension": ".py",
   "mimetype": "text/x-python",
   "name": "python",
   "nbconvert_exporter": "python",
   "pygments_lexer": "ipython3",
   "version": "3.10.12"
  }
 },
 "nbformat": 4,
 "nbformat_minor": 2
}
