{
 "cells": [
  {
   "cell_type": "code",
   "execution_count": 7,
   "metadata": {},
   "outputs": [
    {
     "name": "stdout",
     "output_type": "stream",
     "text": [
      "page1\n"
     ]
    },
    {
     "name": "stderr",
     "output_type": "stream",
     "text": [
      "  0%|          | 0/15 [00:00<?, ?it/s]"
     ]
    },
    {
     "name": "stdout",
     "output_type": "stream",
     "text": [
      "춘천옥 링크: https://place.map.kakao.com/8117410\n",
      "장소명: 이름 없음\n",
      "별점: 평점 없음\n",
      "후기 개수: 후기 없음\n",
      "블로그 후기 개수: 블로그 후기 없음\n",
      "카테고리: 카테고리 없음\n",
      "주소: 주소 없음\n"
     ]
    },
    {
     "name": "stderr",
     "output_type": "stream",
     "text": [
      "  7%|▋         | 1/15 [00:04<01:03,  4.54s/it]"
     ]
    },
    {
     "name": "stdout",
     "output_type": "stream",
     "text": [
      "삼숙이갈비 본점 링크: https://place.map.kakao.com/26943942\n",
      "장소명: 삼숙이갈비 본점\n",
      "별점: 4.1\n",
      "후기 개수: 후기16개\n",
      "블로그 후기 개수: 블로그74개\n",
      "카테고리: 장소 카테고리갈비\n",
      "주소: 서울 금천구 벚꽃로 308 1층 (우)08509\n"
     ]
    },
    {
     "name": "stderr",
     "output_type": "stream",
     "text": [
      " 13%|█▎        | 2/15 [00:08<00:56,  4.37s/it]"
     ]
    },
    {
     "name": "stdout",
     "output_type": "stream",
     "text": [
      "가산어시장 링크: https://place.map.kakao.com/1549878166\n",
      "장소명: 가산어시장\n",
      "별점: 3.2\n",
      "후기 개수: 후기19개\n",
      "블로그 후기 개수: 블로그80개\n",
      "카테고리: 장소 카테고리회\n",
      "주소: 서울 금천구 벚꽃로 316 씨엔에스타워 1층 102호 (우)08509\n"
     ]
    },
    {
     "name": "stderr",
     "output_type": "stream",
     "text": [
      " 20%|██        | 3/15 [00:13<00:51,  4.30s/it]"
     ]
    },
    {
     "name": "stdout",
     "output_type": "stream",
     "text": [
      "스시쥬베이 링크: https://place.map.kakao.com/25539883\n",
      "장소명: 스시쥬베이\n",
      "별점: 4.5\n",
      "후기 개수: 후기43개\n",
      "블로그 후기 개수: 블로그88개\n",
      "카테고리: 장소 카테고리일식\n",
      "주소: 서울 금천구 가산로 147 (우)08515\n"
     ]
    },
    {
     "name": "stderr",
     "output_type": "stream",
     "text": [
      " 27%|██▋       | 4/15 [00:17<00:47,  4.28s/it]"
     ]
    },
    {
     "name": "stdout",
     "output_type": "stream",
     "text": [
      "북촌삼대갈비 가산본점 링크: https://place.map.kakao.com/1068028751\n",
      "장소명: 북촌삼대갈비 가산본점\n",
      "별점: 4.2\n",
      "후기 개수: 후기48개\n",
      "블로그 후기 개수: 블로그564개\n",
      "카테고리: 장소 카테고리갈비\n",
      "주소: 서울 금천구 가산로 149 1층 (우)08515\n"
     ]
    },
    {
     "name": "stderr",
     "output_type": "stream",
     "text": [
      " 33%|███▎      | 5/15 [00:21<00:44,  4.44s/it]"
     ]
    },
    {
     "name": "stdout",
     "output_type": "stream",
     "text": [
      "도원 링크: https://place.map.kakao.com/1713311171\n",
      "장소명: 도원\n",
      "별점: 3.5\n",
      "후기 개수: 후기69개\n",
      "블로그 후기 개수: 블로그154개\n",
      "카테고리: 장소 카테고리뷔페\n",
      "주소: 서울 금천구 범안로 1130 디지털엠파이어빌딩 1층 101호 (우)08595\n"
     ]
    },
    {
     "name": "stderr",
     "output_type": "stream",
     "text": [
      " 40%|████      | 6/15 [00:26<00:40,  4.47s/it]"
     ]
    },
    {
     "name": "stdout",
     "output_type": "stream",
     "text": [
      "인크커피 가산점 링크: https://place.map.kakao.com/1652547690\n",
      "장소명: 인크커피 가산점\n",
      "별점: 3.9\n",
      "후기 개수: 후기208개\n",
      "블로그 후기 개수: 블로그1405개\n",
      "카테고리: 장소 카테고리커피전문점\n",
      "주소: 서울 금천구 가산디지털2로 127-20 (우)08504\n"
     ]
    },
    {
     "name": "stderr",
     "output_type": "stream",
     "text": [
      " 47%|████▋     | 7/15 [00:31<00:35,  4.49s/it]"
     ]
    },
    {
     "name": "stdout",
     "output_type": "stream",
     "text": [
      "개성손만두요리전문점 가산디지털점 링크: https://place.map.kakao.com/1454070757\n",
      "장소명: 개성손만두요리전문점 가산디지털점\n",
      "별점: 4.5\n",
      "후기 개수: 후기113개\n",
      "블로그 후기 개수: 블로그229개\n",
      "카테고리: 장소 카테고리한식\n",
      "주소: 서울 금천구 가산로9길 22 (우)08515\n"
     ]
    },
    {
     "name": "stderr",
     "output_type": "stream",
     "text": [
      " 53%|█████▎    | 8/15 [00:35<00:31,  4.46s/it]"
     ]
    },
    {
     "name": "stdout",
     "output_type": "stream",
     "text": [
      "동산미 링크: https://place.map.kakao.com/9793522\n",
      "장소명: 동산미\n",
      "별점: 3.3\n",
      "후기 개수: 후기8개\n",
      "블로그 후기 개수: 블로그1019개\n",
      "카테고리: 장소 카테고리육류,고기\n",
      "주소: 서울 금천구 가산디지털2로 138-1 1층 (우)08503\n"
     ]
    },
    {
     "name": "stderr",
     "output_type": "stream",
     "text": [
      " 60%|██████    | 9/15 [00:39<00:26,  4.40s/it]"
     ]
    },
    {
     "name": "stdout",
     "output_type": "stream",
     "text": [
      "맥도날드 가산비지니스센터점 링크: https://place.map.kakao.com/19952814\n",
      "장소명: 맥도날드 가산비지니스센터점\n",
      "별점: 2.6\n",
      "후기 개수: 후기38개\n",
      "블로그 후기 개수: 블로그55개\n",
      "카테고리: 장소 카테고리패스트푸드\n",
      "주소: 서울 금천구 가산디지털1로 165 1층 (우)08503\n"
     ]
    },
    {
     "name": "stderr",
     "output_type": "stream",
     "text": [
      " 73%|███████▎  | 11/15 [00:43<00:13,  3.33s/it]"
     ]
    },
    {
     "name": "stdout",
     "output_type": "stream",
     "text": [
      "호세가 링크: https://place.map.kakao.com/1020449161\n",
      "장소명: 호세가\n",
      "별점: 4.3\n",
      "후기 개수: 후기127개\n",
      "블로그 후기 개수: 블로그438개\n",
      "카테고리: 장소 카테고리멕시칸,브라질\n",
      "주소: 서울 금천구 남부순환로108길 19 1층 (우)08528\n"
     ]
    },
    {
     "name": "stderr",
     "output_type": "stream",
     "text": [
      " 80%|████████  | 12/15 [00:48<00:10,  3.57s/it]"
     ]
    },
    {
     "name": "stdout",
     "output_type": "stream",
     "text": [
      "풍년갈비 링크: https://place.map.kakao.com/8608195\n",
      "장소명: 풍년갈비\n",
      "별점: 3.2\n",
      "후기 개수: 후기16개\n",
      "블로그 후기 개수: 블로그84개\n",
      "카테고리: 장소 카테고리갈비\n",
      "주소: 서울 금천구 디지털로12길 33 (우)08515\n"
     ]
    },
    {
     "name": "stderr",
     "output_type": "stream",
     "text": [
      " 87%|████████▋ | 13/15 [00:52<00:07,  3.74s/it]"
     ]
    },
    {
     "name": "stdout",
     "output_type": "stream",
     "text": [
      "동남집 링크: https://place.map.kakao.com/1305442271\n",
      "장소명: 동남집\n",
      "별점: 4.1\n",
      "후기 개수: 후기23개\n",
      "블로그 후기 개수: 블로그11개\n",
      "카테고리: 장소 카테고리갈비\n",
      "주소: 서울 금천구 디지털로9길 99 스타밸리 1층 105,106호 (우)08510\n"
     ]
    },
    {
     "name": "stderr",
     "output_type": "stream",
     "text": [
      " 93%|█████████▎| 14/15 [00:56<00:03,  3.88s/it]"
     ]
    },
    {
     "name": "stdout",
     "output_type": "stream",
     "text": [
      "통영해물가 가산2호점 링크: https://place.map.kakao.com/27300303\n",
      "장소명: 통영해물가 가산2호점\n",
      "별점: 4.0\n",
      "후기 개수: 후기15개\n",
      "블로그 후기 개수: 블로그17개\n",
      "카테고리: 장소 카테고리해물,생선\n",
      "주소: 서울 금천구 벚꽃로46길 1-5 (우)08508\n"
     ]
    },
    {
     "name": "stderr",
     "output_type": "stream",
     "text": [
      "100%|██████████| 15/15 [01:00<00:00,  4.06s/it]\n"
     ]
    },
    {
     "name": "stdout",
     "output_type": "stream",
     "text": [
      "page2\n"
     ]
    },
    {
     "name": "stderr",
     "output_type": "stream",
     "text": [
      "  0%|          | 0/15 [00:00<?, ?it/s]"
     ]
    },
    {
     "name": "stdout",
     "output_type": "stream",
     "text": [
      "파티엘하우스 링크: https://place.map.kakao.com/26893532\n",
      "장소명: 파티엘하우스\n",
      "별점: 3.2\n",
      "후기 개수: 후기12개\n",
      "블로그 후기 개수: 블로그72개\n",
      "카테고리: 장소 카테고리뷔페\n",
      "주소: 서울 금천구 디지털로 173 엘리시아빌딩 3층 (우)08511\n"
     ]
    },
    {
     "name": "stderr",
     "output_type": "stream",
     "text": [
      "  7%|▋         | 1/15 [00:04<00:59,  4.26s/it]"
     ]
    },
    {
     "name": "stdout",
     "output_type": "stream",
     "text": [
      "동남집 링크: https://place.map.kakao.com/1945622726\n",
      "장소명: 동남집\n",
      "별점: 4.1\n",
      "후기 개수: 후기10개\n",
      "블로그 후기 개수: 블로그26개\n",
      "카테고리: 장소 카테고리곰탕\n",
      "주소: 서울 금천구 가산디지털1로 219 벽산디지털밸리6차 1층 101호 (우)08501\n"
     ]
    },
    {
     "name": "stderr",
     "output_type": "stream",
     "text": [
      " 13%|█▎        | 2/15 [00:08<00:55,  4.24s/it]"
     ]
    },
    {
     "name": "stdout",
     "output_type": "stream",
     "text": [
      "문정곱창 링크: https://place.map.kakao.com/1923183156\n",
      "장소명: 문정곱창\n",
      "별점: 4.3\n",
      "후기 개수: 후기79개\n",
      "블로그 후기 개수: 블로그2360개\n",
      "카테고리: 장소 카테고리곱창,막창\n",
      "주소: 서울 금천구 디지털로12길 37 1층 (우)08515\n"
     ]
    },
    {
     "name": "stderr",
     "output_type": "stream",
     "text": [
      " 20%|██        | 3/15 [00:12<00:50,  4.24s/it]"
     ]
    },
    {
     "name": "stdout",
     "output_type": "stream",
     "text": [
      "동대문털보네 링크: https://place.map.kakao.com/25449227\n",
      "장소명: 동대문털보네\n",
      "별점: 4.5\n",
      "후기 개수: 후기31개\n",
      "블로그 후기 개수: 블로그88개\n",
      "카테고리: 장소 카테고리삼겹살\n",
      "주소: 서울 금천구 디지털로9길 99 스타밸리 1층 (우)08510\n"
     ]
    },
    {
     "name": "stderr",
     "output_type": "stream",
     "text": [
      " 27%|██▋       | 4/15 [00:16<00:46,  4.24s/it]"
     ]
    },
    {
     "name": "stdout",
     "output_type": "stream",
     "text": [
      "무시칸 가산디지털단지역점 링크: https://place.map.kakao.com/1373945918\n",
      "장소명: 무시칸 가산디지털단지역점\n",
      "별점: 4.1\n",
      "후기 개수: 후기7개\n",
      "블로그 후기 개수: 블로그99개\n",
      "카테고리: 장소 카테고리갈비\n",
      "주소: 서울 금천구 벚꽃로56길 102 1층 (우)08509\n"
     ]
    },
    {
     "name": "stderr",
     "output_type": "stream",
     "text": [
      " 33%|███▎      | 5/15 [00:21<00:42,  4.24s/it]"
     ]
    },
    {
     "name": "stdout",
     "output_type": "stream",
     "text": [
      "누리한방삼계탕 링크: https://place.map.kakao.com/11597272\n",
      "장소명: 누리한방삼계탕\n",
      "별점: 4.4\n",
      "후기 개수: 후기25개\n",
      "블로그 후기 개수: 블로그59개\n",
      "카테고리: 장소 카테고리삼계탕\n",
      "주소: 서울 금천구 가산디지털1로 186 제이플라츠 지하1층 118-3호 (우)08502\n"
     ]
    },
    {
     "name": "stderr",
     "output_type": "stream",
     "text": [
      " 40%|████      | 6/15 [00:25<00:38,  4.24s/it]"
     ]
    },
    {
     "name": "stdout",
     "output_type": "stream",
     "text": [
      "니하우 링크: https://place.map.kakao.com/16878201\n",
      "장소명: 니하우\n",
      "별점: 4.4\n",
      "후기 개수: 후기41개\n",
      "블로그 후기 개수: 블로그68개\n",
      "카테고리: 장소 카테고리양꼬치\n",
      "주소: 서울 금천구 벚꽃로38길 32-43 1층 (우)08509\n"
     ]
    },
    {
     "name": "stderr",
     "output_type": "stream",
     "text": [
      " 47%|████▋     | 7/15 [00:29<00:34,  4.25s/it]"
     ]
    },
    {
     "name": "stdout",
     "output_type": "stream",
     "text": [
      "장군주먹고기 가산본점 링크: https://place.map.kakao.com/11170177\n",
      "장소명: 장군주먹고기 가산본점\n",
      "별점: 3.9\n",
      "후기 개수: 후기8개\n",
      "블로그 후기 개수: 블로그23개\n",
      "카테고리: 장소 카테고리갈비\n",
      "주소: 서울 금천구 벚꽃로42길 3 (우)08509\n"
     ]
    },
    {
     "name": "stderr",
     "output_type": "stream",
     "text": [
      " 53%|█████▎    | 8/15 [00:34<00:30,  4.33s/it]"
     ]
    },
    {
     "name": "stdout",
     "output_type": "stream",
     "text": [
      "오토김밥 가산디지털점 링크: https://place.map.kakao.com/1624413637\n",
      "장소명: 오토김밥 가산디지털점\n",
      "별점: 4.4\n",
      "후기 개수: 후기14개\n",
      "블로그 후기 개수: 블로그45개\n",
      "카테고리: 장소 카테고리분식\n",
      "주소: 서울 금천구 가산디지털2로 101 한라원앤원타워 1층 102호 (우)08505\n"
     ]
    },
    {
     "name": "stderr",
     "output_type": "stream",
     "text": [
      " 60%|██████    | 9/15 [00:38<00:26,  4.42s/it]"
     ]
    },
    {
     "name": "stdout",
     "output_type": "stream",
     "text": [
      "아라참치 링크: https://place.map.kakao.com/10600173\n",
      "장소명: 아라참치\n",
      "별점: 3.4\n",
      "후기 개수: 후기19개\n",
      "블로그 후기 개수: 블로그29개\n",
      "카테고리: 장소 카테고리참치회\n",
      "주소: 서울 금천구 가산디지털1로 186 제이플라츠 B126호 (우)08502\n"
     ]
    },
    {
     "name": "stderr",
     "output_type": "stream",
     "text": [
      " 67%|██████▋   | 10/15 [00:43<00:22,  4.42s/it]"
     ]
    },
    {
     "name": "stdout",
     "output_type": "stream",
     "text": [
      "스시초이 링크: https://place.map.kakao.com/15248634\n",
      "장소명: 스시초이\n",
      "별점: 3.1\n",
      "후기 개수: 후기21개\n",
      "블로그 후기 개수: 블로그137개\n",
      "카테고리: 장소 카테고리초밥,롤\n",
      "주소: 서울 금천구 가산디지털1로 171 SK V1센터 2층 (우)08503\n"
     ]
    },
    {
     "name": "stderr",
     "output_type": "stream",
     "text": [
      " 73%|███████▎  | 11/15 [00:47<00:17,  4.43s/it]"
     ]
    },
    {
     "name": "stdout",
     "output_type": "stream",
     "text": [
      "하남돼지집 가산디지털역점 링크: https://place.map.kakao.com/636485263\n",
      "장소명: 하남돼지집 가산디지털역점\n",
      "별점: 4.6\n",
      "후기 개수: 후기10개\n",
      "블로그 후기 개수: 블로그117개\n",
      "카테고리: 장소 카테고리삼겹살\n",
      "주소: 서울 금천구 가산디지털1로 186 제이플라츠 지하 1층 (우)08502\n"
     ]
    },
    {
     "name": "stderr",
     "output_type": "stream",
     "text": [
      " 80%|████████  | 12/15 [00:52<00:13,  4.42s/it]"
     ]
    },
    {
     "name": "stdout",
     "output_type": "stream",
     "text": [
      "돼지분식 링크: https://place.map.kakao.com/1301239070\n",
      "장소명: 돼지분식\n",
      "별점: 4.5\n",
      "후기 개수: 후기36개\n",
      "블로그 후기 개수: 블로그60개\n",
      "카테고리: 장소 카테고리분식\n",
      "주소: 서울 금천구 가산로9길 20 1층 (우)08515\n"
     ]
    },
    {
     "name": "stderr",
     "output_type": "stream",
     "text": [
      " 87%|████████▋ | 13/15 [00:56<00:08,  4.48s/it]"
     ]
    },
    {
     "name": "stdout",
     "output_type": "stream",
     "text": [
      "종로계림 닭도리탕원조 가산디지털단지점 링크: https://place.map.kakao.com/823936621\n",
      "장소명: 종로계림 닭도리탕원조 가산디지털단지점\n",
      "별점: 4.3\n",
      "후기 개수: 후기31개\n",
      "블로그 후기 개수: 블로그122개\n",
      "카테고리: 장소 카테고리닭요리\n",
      "주소: 서울 금천구 가산디지털1로 142 가산 더스카이밸리 1차 2층 228,229호 (우)08507\n"
     ]
    },
    {
     "name": "stderr",
     "output_type": "stream",
     "text": [
      " 93%|█████████▎| 14/15 [01:01<00:04,  4.50s/it]"
     ]
    },
    {
     "name": "stdout",
     "output_type": "stream",
     "text": [
      "맥도날드 가산디지털점 링크: https://place.map.kakao.com/25003435\n",
      "장소명: 맥도날드 가산디지털점\n",
      "별점: 2.7\n",
      "후기 개수: 후기45개\n",
      "블로그 후기 개수: 블로그43개\n",
      "카테고리: 장소 카테고리패스트푸드\n",
      "주소: 서울 금천구 벚꽃로 298 대륭포스트타워6차 103-1,103-2,119,B102호 (우)08510\n"
     ]
    },
    {
     "name": "stderr",
     "output_type": "stream",
     "text": [
      "100%|██████████| 15/15 [01:05<00:00,  4.38s/it]\n"
     ]
    },
    {
     "name": "stdout",
     "output_type": "stream",
     "text": [
      "page3\n"
     ]
    },
    {
     "name": "stderr",
     "output_type": "stream",
     "text": [
      "  0%|          | 0/15 [00:00<?, ?it/s]"
     ]
    },
    {
     "name": "stdout",
     "output_type": "stream",
     "text": [
      "천지회관 링크: https://place.map.kakao.com/939422778\n",
      "장소명: 천지회관\n",
      "별점: 3.9\n",
      "후기 개수: 후기8개\n",
      "블로그 후기 개수: 블로그32개\n",
      "카테고리: 장소 카테고리육류,고기\n",
      "주소: 서울 금천구 가산디지털1로 24 1층 (우)08591\n"
     ]
    },
    {
     "name": "stderr",
     "output_type": "stream",
     "text": [
      "  7%|▋         | 1/15 [00:04<01:02,  4.43s/it]"
     ]
    },
    {
     "name": "stdout",
     "output_type": "stream",
     "text": [
      "여장군 가산점 링크: https://place.map.kakao.com/881937739\n",
      "장소명: 여장군 가산점\n",
      "별점: 4.5\n",
      "후기 개수: 후기6개\n",
      "블로그 후기 개수: 블로그29개\n",
      "카테고리: 장소 카테고리육류,고기\n",
      "주소: 서울 금천구 가산디지털1로 142 2층 (우)08507\n"
     ]
    },
    {
     "name": "stderr",
     "output_type": "stream",
     "text": [
      " 13%|█▎        | 2/15 [00:08<00:57,  4.44s/it]"
     ]
    },
    {
     "name": "stdout",
     "output_type": "stream",
     "text": [
      "라복궁 링크: https://place.map.kakao.com/1717760614\n",
      "장소명: 라복궁\n",
      "별점: 4.2\n",
      "후기 개수: 후기18개\n",
      "블로그 후기 개수: 블로그1383개\n",
      "카테고리: 장소 카테고리중식\n",
      "주소: 서울 금천구 가산로9길 12-8 1층 113호 (우)08515\n"
     ]
    },
    {
     "name": "stderr",
     "output_type": "stream",
     "text": [
      " 20%|██        | 3/15 [00:13<00:53,  4.43s/it]"
     ]
    },
    {
     "name": "stdout",
     "output_type": "stream",
     "text": [
      "여신족발 링크: https://place.map.kakao.com/14547125\n",
      "장소명: 여신족발\n",
      "별점: 3.7\n",
      "후기 개수: 후기50개\n",
      "블로그 후기 개수: 블로그108개\n",
      "카테고리: 장소 카테고리족발,보쌈\n",
      "주소: 서울 금천구 벚꽃로38길 21 1층 (우)08509\n"
     ]
    },
    {
     "name": "stderr",
     "output_type": "stream",
     "text": [
      " 27%|██▋       | 4/15 [00:17<00:48,  4.40s/it]"
     ]
    },
    {
     "name": "stdout",
     "output_type": "stream",
     "text": [
      "제주탐하리 링크: https://place.map.kakao.com/22535782\n",
      "장소명: 제주탐하리\n",
      "별점: 4.4\n",
      "후기 개수: 후기22개\n",
      "블로그 후기 개수: 블로그65개\n",
      "카테고리: 장소 카테고리육류,고기\n",
      "주소: 서울 금천구 가산로9길 12-8 1층 (우)08515\n"
     ]
    },
    {
     "name": "stderr",
     "output_type": "stream",
     "text": [
      " 33%|███▎      | 5/15 [00:21<00:43,  4.35s/it]"
     ]
    },
    {
     "name": "stdout",
     "output_type": "stream",
     "text": [
      "원조감자탕일미집 가산디지털점 링크: https://place.map.kakao.com/293011665\n",
      "장소명: 원조감자탕일미집 가산디지털점\n",
      "별점: 4.9\n",
      "후기 개수: 후기7개\n",
      "블로그 후기 개수: 블로그741개\n",
      "카테고리: 장소 카테고리감자탕\n",
      "주소: 서울 금천구 디지털로9길 99 스타밸리 1층 114,116호 (우)08510\n"
     ]
    },
    {
     "name": "stderr",
     "output_type": "stream",
     "text": [
      " 40%|████      | 6/15 [00:26<00:38,  4.31s/it]"
     ]
    },
    {
     "name": "stdout",
     "output_type": "stream",
     "text": [
      "만리향 링크: https://place.map.kakao.com/8328644\n",
      "장소명: 만리향\n",
      "별점: 4.4\n",
      "후기 개수: 후기9개\n",
      "블로그 후기 개수: 블로그39개\n",
      "카테고리: 장소 카테고리중국요리\n",
      "주소: 서울 금천구 벚꽃로38길 5 2층 (우)08509\n"
     ]
    },
    {
     "name": "stderr",
     "output_type": "stream",
     "text": [
      " 47%|████▋     | 7/15 [00:30<00:34,  4.32s/it]"
     ]
    },
    {
     "name": "stdout",
     "output_type": "stream",
     "text": [
      "담소소사골순대육개장 가산디지털점 링크: https://place.map.kakao.com/24709890\n",
      "장소명: 담소소사골순대육개장 가산디지털점\n",
      "별점: 3.5\n",
      "후기 개수: 후기25개\n",
      "블로그 후기 개수: 블로그50개\n",
      "카테고리: 장소 카테고리순대\n",
      "주소: 서울 금천구 디지털로9길 99 스타벨리 1층 (우)08510\n"
     ]
    },
    {
     "name": "stderr",
     "output_type": "stream",
     "text": [
      " 67%|██████▋   | 10/15 [00:34<00:13,  2.62s/it]"
     ]
    },
    {
     "name": "stdout",
     "output_type": "stream",
     "text": [
      "김사부샤브샤브 링크: https://place.map.kakao.com/1627688058\n",
      "장소명: 김사부샤브샤브\n",
      "별점: 4.1\n",
      "후기 개수: 후기55개\n",
      "블로그 후기 개수: 블로그322개\n",
      "카테고리: 장소 카테고리샤브샤브\n",
      "주소: 서울 금천구 가산로 132 1층 (우)08528\n"
     ]
    },
    {
     "name": "stderr",
     "output_type": "stream",
     "text": [
      " 73%|███████▎  | 11/15 [00:38<00:11,  2.98s/it]"
     ]
    },
    {
     "name": "stdout",
     "output_type": "stream",
     "text": [
      "명동칼국수 링크: https://place.map.kakao.com/12578328\n",
      "장소명: 명동칼국수\n",
      "별점: 3.7\n",
      "후기 개수: 후기16개\n",
      "블로그 후기 개수: 블로그31개\n",
      "카테고리: 장소 카테고리칼국수\n",
      "주소: 서울 금천구 벚꽃로 278 SJ테크노빌 패션아일랜드 지하1층 154호 (우)08511\n"
     ]
    },
    {
     "name": "stderr",
     "output_type": "stream",
     "text": [
      " 80%|████████  | 12/15 [00:43<00:09,  3.28s/it]"
     ]
    },
    {
     "name": "stdout",
     "output_type": "stream",
     "text": [
      "포타제 링크: https://place.map.kakao.com/1910494113\n",
      "장소명: 포타제\n",
      "별점: 4.0\n",
      "후기 개수: 후기20개\n",
      "블로그 후기 개수: 블로그211개\n",
      "카테고리: 장소 카테고리양식\n",
      "주소: 서울 금천구 디지털로9길 68 대륭포트스타워5차 1층 (우)08512\n"
     ]
    },
    {
     "name": "stderr",
     "output_type": "stream",
     "text": [
      " 87%|████████▋ | 13/15 [00:47<00:07,  3.53s/it]"
     ]
    },
    {
     "name": "stdout",
     "output_type": "stream",
     "text": [
      "경성시장 가산점 링크: https://place.map.kakao.com/1893189915\n",
      "장소명: 경성시장 가산점\n",
      "별점: 5.0\n",
      "후기 개수: 후기5개\n",
      "블로그 후기 개수: 블로그16개\n",
      "카테고리: 장소 카테고리카페\n",
      "주소: 서울 금천구 가산디지털2로 14 1층 (우)08592\n"
     ]
    },
    {
     "name": "stderr",
     "output_type": "stream",
     "text": [
      " 93%|█████████▎| 14/15 [00:51<00:03,  3.73s/it]"
     ]
    },
    {
     "name": "stdout",
     "output_type": "stream",
     "text": [
      "육감만족 가산디지털역점 링크: https://place.map.kakao.com/1868537877\n",
      "장소명: 육감만족 가산디지털역점\n",
      "별점: 3.7\n",
      "후기 개수: 후기7개\n",
      "블로그 후기 개수: 블로그30개\n",
      "카테고리: 장소 카테고리족발,보쌈\n",
      "주소: 서울 금천구 가산디지털1로 168 우림라이온스밸리 A동 2층 216호 (우)08507\n"
     ]
    },
    {
     "name": "stderr",
     "output_type": "stream",
     "text": [
      "100%|██████████| 15/15 [00:56<00:00,  3.74s/it]\n"
     ]
    },
    {
     "name": "stdout",
     "output_type": "stream",
     "text": [
      "page4\n"
     ]
    },
    {
     "name": "stderr",
     "output_type": "stream",
     "text": [
      "  0%|          | 0/15 [00:00<?, ?it/s]"
     ]
    },
    {
     "name": "stdout",
     "output_type": "stream",
     "text": [
      "참돔이야기 링크: https://place.map.kakao.com/2040599406\n",
      "장소명: 참돔이야기\n",
      "별점: 5.0\n",
      "후기 개수: 후기14개\n",
      "블로그 후기 개수: 블로그50개\n",
      "카테고리: 장소 카테고리회\n",
      "주소: 서울 금천구 가산로9길 12-8 1층 (우)08515\n"
     ]
    },
    {
     "name": "stderr",
     "output_type": "stream",
     "text": [
      "  7%|▋         | 1/15 [00:04<00:59,  4.29s/it]"
     ]
    },
    {
     "name": "stdout",
     "output_type": "stream",
     "text": [
      "명가네삼겹살 링크: https://place.map.kakao.com/1272249276\n",
      "장소명: 명가네삼겹살\n",
      "별점: 3.7\n",
      "후기 개수: 후기9개\n",
      "블로그 후기 개수: 블로그32개\n",
      "카테고리: 장소 카테고리삼겹살\n",
      "주소: 서울 금천구 가산디지털1로 186 제이플라츠 지하1층 B122~B122-1호 (우)08502\n"
     ]
    },
    {
     "name": "stderr",
     "output_type": "stream",
     "text": [
      " 13%|█▎        | 2/15 [00:08<00:56,  4.35s/it]"
     ]
    },
    {
     "name": "stdout",
     "output_type": "stream",
     "text": [
      "삼팔교자관 링크: https://place.map.kakao.com/21721824\n",
      "장소명: 삼팔교자관\n",
      "별점: 4.0\n",
      "후기 개수: 후기20개\n",
      "블로그 후기 개수: 블로그12개\n",
      "카테고리: 장소 카테고리중국요리\n",
      "주소: 서울 금천구 가산디지털1로 168 우림라이온스밸리 A동 2층 (우)08507\n"
     ]
    },
    {
     "name": "stderr",
     "output_type": "stream",
     "text": [
      " 20%|██        | 3/15 [00:13<00:52,  4.35s/it]"
     ]
    },
    {
     "name": "stdout",
     "output_type": "stream",
     "text": [
      "소플러스 링크: https://place.map.kakao.com/508334639\n",
      "장소명: 소플러스\n",
      "별점: 3.8\n",
      "후기 개수: 후기8개\n",
      "블로그 후기 개수: 블로그45개\n",
      "카테고리: 장소 카테고리갈비\n",
      "주소: 서울 금천구 가산로7길 63 1층 (우)08519\n"
     ]
    },
    {
     "name": "stderr",
     "output_type": "stream",
     "text": [
      " 27%|██▋       | 4/15 [00:17<00:48,  4.39s/it]"
     ]
    },
    {
     "name": "stdout",
     "output_type": "stream",
     "text": [
      "로 링크: https://place.map.kakao.com/177495978\n",
      "장소명: 로\n",
      "별점: 3.8\n",
      "후기 개수: 후기36개\n",
      "블로그 후기 개수: 블로그115개\n",
      "카테고리: 장소 카테고리육류,고기\n",
      "주소: 서울 금천구 디지털로9길 47 한신IT타워 2차 1층 103호 (우)08511\n"
     ]
    },
    {
     "name": "stderr",
     "output_type": "stream",
     "text": [
      " 33%|███▎      | 5/15 [00:21<00:44,  4.43s/it]"
     ]
    },
    {
     "name": "stdout",
     "output_type": "stream",
     "text": [
      "스미다 링크: https://place.map.kakao.com/2074600451\n",
      "장소명: 스미다\n",
      "별점: 4.0\n",
      "후기 개수: 후기42개\n",
      "블로그 후기 개수: 블로그79개\n",
      "카테고리: 장소 카테고리카페\n",
      "주소: 서울 금천구 벚꽃로 298 대륭포스트6차 b143호 (우)08510\n"
     ]
    },
    {
     "name": "stderr",
     "output_type": "stream",
     "text": [
      " 40%|████      | 6/15 [00:26<00:40,  4.45s/it]"
     ]
    },
    {
     "name": "stdout",
     "output_type": "stream",
     "text": [
      "다도해수산 링크: https://place.map.kakao.com/1968908493\n",
      "장소명: 다도해수산\n",
      "별점: 4.8\n",
      "후기 개수: 후기28개\n",
      "블로그 후기 개수: 블로그77개\n",
      "카테고리: 장소 카테고리회\n",
      "주소: 서울 금천구 남부순환로108길 27 1층 (우)08528\n"
     ]
    },
    {
     "name": "stderr",
     "output_type": "stream",
     "text": [
      " 47%|████▋     | 7/15 [00:30<00:35,  4.44s/it]"
     ]
    },
    {
     "name": "stdout",
     "output_type": "stream",
     "text": [
      "메가MGC커피 가산리더스타워점 링크: https://place.map.kakao.com/569009030\n",
      "장소명: 메가MGC커피 가산리더스타워점\n",
      "별점: 2.9\n",
      "후기 개수: 후기15개\n",
      "블로그 후기 개수: 블로그21개\n",
      "카테고리: 장소 카테고리커피전문점\n",
      "주소: 서울 금천구 벚꽃로 286 삼성리더스타워 지하1층 B103호 (우)08511\n"
     ]
    },
    {
     "name": "stderr",
     "output_type": "stream",
     "text": [
      " 53%|█████▎    | 8/15 [00:35<00:30,  4.39s/it]"
     ]
    },
    {
     "name": "stdout",
     "output_type": "stream",
     "text": [
      "원두서점 링크: https://place.map.kakao.com/1969224214\n",
      "장소명: 원두서점\n",
      "별점: 4.9\n",
      "후기 개수: 후기31개\n",
      "블로그 후기 개수: 블로그150개\n",
      "카테고리: 장소 카테고리카페\n",
      "주소: 서울 금천구 서부샛길 578 1층 (우)08505\n"
     ]
    },
    {
     "name": "stderr",
     "output_type": "stream",
     "text": [
      " 60%|██████    | 9/15 [00:39<00:26,  4.35s/it]"
     ]
    },
    {
     "name": "stdout",
     "output_type": "stream",
     "text": [
      "골목식당 링크: https://place.map.kakao.com/27563575\n",
      "장소명: 골목식당\n",
      "별점: 4.8\n",
      "후기 개수: 후기12개\n",
      "블로그 후기 개수: 블로그29개\n",
      "카테고리: 장소 카테고리한식\n",
      "주소: 서울 금천구 가산디지털2로 127-115 (우)08505\n"
     ]
    },
    {
     "name": "stderr",
     "output_type": "stream",
     "text": [
      " 67%|██████▋   | 10/15 [00:43<00:21,  4.31s/it]"
     ]
    },
    {
     "name": "stdout",
     "output_type": "stream",
     "text": [
      "군오 링크: https://place.map.kakao.com/2019264014\n",
      "장소명: 군오\n",
      "별점: 5.0\n",
      "후기 개수: 후기1개\n",
      "블로그 후기 개수: 블로그11개\n",
      "카테고리: 장소 카테고리호프,요리주점\n",
      "주소: 서울 금천구 가산디지털1로 186 제이플라츠 A동 B125호 (우)08502\n"
     ]
    },
    {
     "name": "stderr",
     "output_type": "stream",
     "text": [
      " 73%|███████▎  | 11/15 [00:48<00:17,  4.36s/it]"
     ]
    },
    {
     "name": "stdout",
     "output_type": "stream",
     "text": [
      "써브웨이 가산디지털단지점 링크: https://place.map.kakao.com/2100298067\n",
      "장소명: 써브웨이 가산디지털단지점\n",
      "별점: 3.3\n",
      "후기 개수: 후기64개\n",
      "블로그 후기 개수: 블로그26개\n",
      "카테고리: 장소 카테고리샌드위치\n",
      "주소: 서울 금천구 가산디지털1로 165 가산비지니스센터 102호 (우)08503\n"
     ]
    },
    {
     "name": "stderr",
     "output_type": "stream",
     "text": [
      " 80%|████████  | 12/15 [00:52<00:13,  4.38s/it]"
     ]
    },
    {
     "name": "stdout",
     "output_type": "stream",
     "text": [
      "금각도 가산점 링크: https://place.map.kakao.com/844871600\n",
      "장소명: 금각도 가산점\n",
      "별점: 4.5\n",
      "후기 개수: 후기11개\n",
      "블로그 후기 개수: 블로그64개\n",
      "카테고리: 장소 카테고리육류,고기\n",
      "주소: 서울 금천구 가산디지털1로 100 에이스골드타워 105, 106호 (우)08590\n"
     ]
    },
    {
     "name": "stderr",
     "output_type": "stream",
     "text": [
      " 87%|████████▋ | 13/15 [00:57<00:08,  4.41s/it]"
     ]
    },
    {
     "name": "stdout",
     "output_type": "stream",
     "text": [
      "60계 서울가산점 링크: https://place.map.kakao.com/1889372192\n",
      "장소명: 60계 서울가산점\n",
      "별점: 3.7\n",
      "후기 개수: 후기11개\n",
      "블로그 후기 개수: 블로그27개\n",
      "카테고리: 장소 카테고리치킨\n",
      "주소: 서울 금천구 가산로 143 1층 102호 (우)08515\n"
     ]
    },
    {
     "name": "stderr",
     "output_type": "stream",
     "text": [
      " 93%|█████████▎| 14/15 [01:01<00:04,  4.40s/it]"
     ]
    },
    {
     "name": "stdout",
     "output_type": "stream",
     "text": [
      "팔람까오 본점 링크: https://place.map.kakao.com/22803399\n",
      "장소명: 팔람까오 본점\n",
      "별점: 4.3\n",
      "후기 개수: 후기32개\n",
      "블로그 후기 개수: 블로그98개\n",
      "카테고리: 장소 카테고리태국음식\n",
      "주소: 서울 금천구 서부샛길 606 대성디폴리스지식산업센터 2층 217호 (우)08504\n"
     ]
    },
    {
     "name": "stderr",
     "output_type": "stream",
     "text": [
      "100%|██████████| 15/15 [01:06<00:00,  4.40s/it]\n"
     ]
    },
    {
     "name": "stdout",
     "output_type": "stream",
     "text": [
      "page5\n"
     ]
    },
    {
     "name": "stderr",
     "output_type": "stream",
     "text": [
      "  0%|          | 0/15 [00:00<?, ?it/s]"
     ]
    },
    {
     "name": "stdout",
     "output_type": "stream",
     "text": [
      "스튜디오레이크 링크: https://place.map.kakao.com/1482844022\n",
      "장소명: 스튜디오레이크\n",
      "별점: 4.8\n",
      "후기 개수: 후기29개\n",
      "블로그 후기 개수: 블로그114개\n",
      "카테고리: 장소 카테고리와인바\n",
      "주소: 서울 금천구 디지털로 210 2층 (우)08515\n"
     ]
    },
    {
     "name": "stderr",
     "output_type": "stream",
     "text": [
      "  7%|▋         | 1/15 [00:04<01:02,  4.43s/it]"
     ]
    },
    {
     "name": "stdout",
     "output_type": "stream",
     "text": [
      "장수촌 풍천장어 링크: https://place.map.kakao.com/1728801255\n",
      "장소명: 장수촌 풍천장어\n",
      "별점: 4.7\n",
      "후기 개수: 후기7개\n",
      "블로그 후기 개수: 블로그38개\n",
      "카테고리: 장소 카테고리장어\n",
      "주소: 서울 금천구 벚꽃로46길 1 1-2층 (우)08508\n"
     ]
    },
    {
     "name": "stderr",
     "output_type": "stream",
     "text": [
      " 13%|█▎        | 2/15 [00:08<00:57,  4.39s/it]"
     ]
    },
    {
     "name": "stdout",
     "output_type": "stream",
     "text": [
      "펍피맥 가산디지털점 링크: https://place.map.kakao.com/843912714\n",
      "장소명: 펍피맥 가산디지털점\n",
      "별점: 4.6\n",
      "후기 개수: 후기9개\n",
      "블로그 후기 개수: 블로그 후기 없음\n",
      "카테고리: 장소 카테고리피자\n",
      "주소: 서울 금천구 벚꽃로 298 대륭포스트타워6차 1층 124호 (우)08510\n"
     ]
    },
    {
     "name": "stderr",
     "output_type": "stream",
     "text": [
      " 20%|██        | 3/15 [00:13<00:52,  4.38s/it]"
     ]
    },
    {
     "name": "stdout",
     "output_type": "stream",
     "text": [
      "가산삼계탕 링크: https://place.map.kakao.com/18221188\n",
      "장소명: 가산삼계탕\n",
      "별점: 2.7\n",
      "후기 개수: 후기18개\n",
      "블로그 후기 개수: 블로그32개\n",
      "카테고리: 장소 카테고리삼계탕\n",
      "주소: 서울 금천구 가산디지털1로 131 BYC하이시티 B-127 (우)08506\n"
     ]
    },
    {
     "name": "stderr",
     "output_type": "stream",
     "text": [
      " 27%|██▋       | 4/15 [00:17<00:48,  4.39s/it]"
     ]
    },
    {
     "name": "stdout",
     "output_type": "stream",
     "text": [
      "스시천 링크: https://place.map.kakao.com/203745295\n",
      "장소명: 스시천\n",
      "별점: 3.9\n",
      "후기 개수: 후기24개\n",
      "블로그 후기 개수: 블로그133개\n",
      "카테고리: 장소 카테고리초밥,롤\n",
      "주소: 서울 금천구 벚꽃로 298 대륭포스트타워 6차 1층 115호 (우)08510\n"
     ]
    },
    {
     "name": "stderr",
     "output_type": "stream",
     "text": [
      " 33%|███▎      | 5/15 [00:21<00:43,  4.39s/it]"
     ]
    },
    {
     "name": "stdout",
     "output_type": "stream",
     "text": [
      "예원 가산점 링크: https://place.map.kakao.com/21406247\n",
      "장소명: 예원 가산점\n",
      "별점: 3.7\n",
      "후기 개수: 후기16개\n",
      "블로그 후기 개수: 블로그39개\n",
      "카테고리: 장소 카테고리중국요리\n",
      "주소: 서울 금천구 가산디지털1로 145 에이스하이엔드타워3차 2층 203호 (우)08506\n"
     ]
    },
    {
     "name": "stderr",
     "output_type": "stream",
     "text": [
      " 40%|████      | 6/15 [00:26<00:39,  4.40s/it]"
     ]
    },
    {
     "name": "stdout",
     "output_type": "stream",
     "text": [
      "육전국밥 가산디지털역점 링크: https://place.map.kakao.com/2043521087\n",
      "장소명: 육전국밥 가산디지털역점\n",
      "별점: 2.9\n",
      "후기 개수: 후기9개\n",
      "블로그 후기 개수: 블로그25개\n",
      "카테고리: 장소 카테고리국밥\n",
      "주소: 서울 금천구 가산디지털2로 136 승일벤처타워 1층 102호 (우)08503\n"
     ]
    },
    {
     "name": "stderr",
     "output_type": "stream",
     "text": [
      " 47%|████▋     | 7/15 [00:30<00:35,  4.41s/it]"
     ]
    },
    {
     "name": "stdout",
     "output_type": "stream",
     "text": [
      "텐마루 가산점 링크: https://place.map.kakao.com/26603606\n",
      "장소명: 이름 없음\n",
      "별점: 평점 없음\n",
      "후기 개수: 후기 없음\n",
      "블로그 후기 개수: 블로그 후기 없음\n",
      "카테고리: 카테고리 없음\n",
      "주소: 주소 없음\n"
     ]
    },
    {
     "name": "stderr",
     "output_type": "stream",
     "text": [
      " 53%|█████▎    | 8/15 [00:38<00:37,  5.37s/it]"
     ]
    },
    {
     "name": "stdout",
     "output_type": "stream",
     "text": [
      "GS육천냉면 링크: https://place.map.kakao.com/1884115872\n",
      "장소명: GS육천냉면\n",
      "별점: 4.7\n",
      "후기 개수: 후기7개\n",
      "블로그 후기 개수: 블로그17개\n",
      "카테고리: 장소 카테고리냉면\n",
      "주소: 서울 금천구 남부순환로 1304 103호 (우)08529\n"
     ]
    },
    {
     "name": "stderr",
     "output_type": "stream",
     "text": [
      " 67%|██████▋   | 10/15 [00:42<00:19,  3.87s/it]"
     ]
    },
    {
     "name": "stdout",
     "output_type": "stream",
     "text": [
      "그레코로스팅컴퍼니 링크: https://place.map.kakao.com/1331273532\n",
      "장소명: 그레코로스팅컴퍼니\n",
      "별점: 4.7\n",
      "후기 개수: 후기7개\n",
      "블로그 후기 개수: 블로그 후기 없음\n",
      "카테고리: 장소 카테고리디저트카페\n",
      "주소: 서울 금천구 가산디지털2로 127-33 가산대명벨리온 104호 (우)08505\n"
     ]
    },
    {
     "name": "stderr",
     "output_type": "stream",
     "text": [
      " 73%|███████▎  | 11/15 [00:47<00:16,  4.01s/it]"
     ]
    },
    {
     "name": "stdout",
     "output_type": "stream",
     "text": [
      "스타벅스 가산디지털점 링크: https://place.map.kakao.com/8403565\n",
      "장소명: 스타벅스 가산디지털점\n",
      "별점: 3.8\n",
      "후기 개수: 후기26개\n",
      "블로그 후기 개수: 블로그36개\n",
      "카테고리: 장소 카테고리커피전문점\n",
      "주소: 서울 금천구 가산디지털1로 168 우림라이온스밸리 B동 1층 (우)08507\n"
     ]
    },
    {
     "name": "stderr",
     "output_type": "stream",
     "text": [
      " 80%|████████  | 12/15 [00:51<00:12,  4.12s/it]"
     ]
    },
    {
     "name": "stdout",
     "output_type": "stream",
     "text": [
      "아웃백스테이크하우스 가산점 링크: https://place.map.kakao.com/19358230\n",
      "장소명: 아웃백스테이크하우스 가산점\n",
      "별점: 3.1\n",
      "후기 개수: 후기43개\n",
      "블로그 후기 개수: 블로그242개\n",
      "카테고리: 장소 카테고리패밀리레스토랑\n",
      "주소: 서울 금천구 디지털로10길 9 현대시티아울렛 가산점 7층 (우)08514\n"
     ]
    },
    {
     "name": "stderr",
     "output_type": "stream",
     "text": [
      " 87%|████████▋ | 13/15 [00:55<00:08,  4.21s/it]"
     ]
    },
    {
     "name": "stdout",
     "output_type": "stream",
     "text": [
      "단뽀뽀 링크: https://place.map.kakao.com/210121380\n",
      "장소명: 단뽀뽀\n",
      "별점: 4.3\n",
      "후기 개수: 후기7개\n",
      "블로그 후기 개수: 블로그16개\n",
      "카테고리: 장소 카테고리돈까스,우동\n",
      "주소: 서울 금천구 서부샛길 606 대성디폴리스지식산업센터 지하1층 B112호 (우)08504\n"
     ]
    },
    {
     "name": "stderr",
     "output_type": "stream",
     "text": [
      "100%|██████████| 15/15 [01:00<00:00,  4.03s/it]\n"
     ]
    },
    {
     "name": "stdout",
     "output_type": "stream",
     "text": [
      "page6\n"
     ]
    },
    {
     "name": "stderr",
     "output_type": "stream",
     "text": [
      "  0%|          | 0/15 [00:00<?, ?it/s]"
     ]
    },
    {
     "name": "stdout",
     "output_type": "stream",
     "text": [
      "골드버거 링크: https://place.map.kakao.com/1657240993\n",
      "장소명: 골드버거\n",
      "별점: 5.0\n",
      "후기 개수: 후기3개\n",
      "블로그 후기 개수: 블로그21개\n",
      "카테고리: 장소 카테고리햄버거\n",
      "주소: 서울 금천구 남부순환로112길 52 1층 (우)08528\n"
     ]
    },
    {
     "name": "stderr",
     "output_type": "stream",
     "text": [
      "  7%|▋         | 1/15 [00:04<01:01,  4.39s/it]"
     ]
    },
    {
     "name": "stdout",
     "output_type": "stream",
     "text": [
      "백소정 가산디지털역점 링크: https://place.map.kakao.com/1331960141\n",
      "장소명: 백소정 가산디지털역점\n",
      "별점: 4.5\n",
      "후기 개수: 후기13개\n",
      "블로그 후기 개수: 블로그75개\n",
      "카테고리: 장소 카테고리일식\n",
      "주소: 서울 금천구 벚꽃로 298 1층 113호 (우)08510\n"
     ]
    },
    {
     "name": "stderr",
     "output_type": "stream",
     "text": [
      " 13%|█▎        | 2/15 [00:08<00:56,  4.37s/it]"
     ]
    },
    {
     "name": "stdout",
     "output_type": "stream",
     "text": [
      "배스킨라빈스 금천가산점 링크: https://place.map.kakao.com/596819900\n",
      "장소명: 배스킨라빈스 금천가산점\n",
      "별점: 2.8\n",
      "후기 개수: 후기30개\n",
      "블로그 후기 개수: 블로그 후기 없음\n",
      "카테고리: 장소 카테고리아이스크림\n",
      "주소: 서울 금천구 가산로 111 동보빌딩 1층 (우)08520\n"
     ]
    },
    {
     "name": "stderr",
     "output_type": "stream",
     "text": [
      " 20%|██        | 3/15 [00:13<00:53,  4.43s/it]"
     ]
    },
    {
     "name": "stdout",
     "output_type": "stream",
     "text": [
      "투썸플레이스 가산아울렛점 링크: https://place.map.kakao.com/13064337\n",
      "장소명: 투썸플레이스 가산아울렛점\n",
      "별점: 2.7\n",
      "후기 개수: 후기14개\n",
      "블로그 후기 개수: 블로그13개\n",
      "카테고리: 장소 카테고리커피전문점\n",
      "주소: 서울 금천구 벚꽃로 298 1층 104호 (우)08510\n"
     ]
    },
    {
     "name": "stderr",
     "output_type": "stream",
     "text": [
      " 27%|██▋       | 4/15 [00:18<00:50,  4.59s/it]"
     ]
    },
    {
     "name": "stdout",
     "output_type": "stream",
     "text": [
      "이디야커피 가산오거리점 링크: https://place.map.kakao.com/1308570212\n",
      "장소명: 이디야커피 가산오거리점\n",
      "별점: 3.7\n",
      "후기 개수: 후기15개\n",
      "블로그 후기 개수: 블로그 후기 없음\n",
      "카테고리: 장소 카테고리커피전문점\n",
      "주소: 서울 금천구 가산로 155 케이디에스빌딩 1-2층 (우)08515\n"
     ]
    },
    {
     "name": "stderr",
     "output_type": "stream",
     "text": [
      " 33%|███▎      | 5/15 [00:22<00:45,  4.55s/it]"
     ]
    },
    {
     "name": "stdout",
     "output_type": "stream",
     "text": [
      "스타벅스 독산역점 링크: https://place.map.kakao.com/828777707\n",
      "장소명: 스타벅스 독산역점\n",
      "별점: 4.6\n",
      "후기 개수: 후기14개\n",
      "블로그 후기 개수: 블로그37개\n",
      "카테고리: 장소 카테고리커피전문점\n",
      "주소: 서울 금천구 가산디지털1로 16 (우)08591\n"
     ]
    },
    {
     "name": "stderr",
     "output_type": "stream",
     "text": [
      " 40%|████      | 6/15 [00:27<00:40,  4.54s/it]"
     ]
    },
    {
     "name": "stdout",
     "output_type": "stream",
     "text": [
      "빽다방 가산대륭점 링크: https://place.map.kakao.com/27392970\n",
      "장소명: 빽다방 가산대륭점\n",
      "별점: 3.2\n",
      "후기 개수: 후기11개\n",
      "블로그 후기 개수: 블로그 후기 없음\n",
      "카테고리: 장소 카테고리커피전문점\n",
      "주소: 서울 금천구 벚꽃로 298 대륭포스트타워6차 107-2호 (우)08510\n"
     ]
    },
    {
     "name": "stderr",
     "output_type": "stream",
     "text": [
      " 47%|████▋     | 7/15 [00:31<00:37,  4.65s/it]"
     ]
    },
    {
     "name": "stdout",
     "output_type": "stream",
     "text": [
      "명동곰국시봉평막국수 링크: https://place.map.kakao.com/1417772841\n",
      "장소명: 명동곰국시봉평막국수\n",
      "별점: 4.4\n",
      "후기 개수: 후기7개\n",
      "블로그 후기 개수: 블로그 후기 없음\n",
      "카테고리: 장소 카테고리국수\n",
      "주소: 서울 금천구 디지털로 130 남성프라자 1층 101호 (우)08589\n"
     ]
    },
    {
     "name": "stderr",
     "output_type": "stream",
     "text": [
      " 53%|█████▎    | 8/15 [00:36<00:32,  4.59s/it]"
     ]
    },
    {
     "name": "stdout",
     "output_type": "stream",
     "text": [
      "춘천골 링크: https://place.map.kakao.com/8095258\n",
      "장소명: 춘천골\n",
      "별점: 4.1\n",
      "후기 개수: 후기10개\n",
      "블로그 후기 개수: 블로그27개\n",
      "카테고리: 장소 카테고리한식\n",
      "주소: 서울 금천구 벚꽃로42길 8 1층 (우)08509\n"
     ]
    },
    {
     "name": "stderr",
     "output_type": "stream",
     "text": [
      " 60%|██████    | 9/15 [00:40<00:27,  4.55s/it]"
     ]
    },
    {
     "name": "stdout",
     "output_type": "stream",
     "text": [
      "휴스시 링크: https://place.map.kakao.com/1919628439\n",
      "장소명: 휴스시\n",
      "별점: 4.3\n",
      "후기 개수: 후기35개\n",
      "블로그 후기 개수: 블로그36개\n",
      "카테고리: 장소 카테고리초밥,롤\n",
      "주소: 서울 금천구 디지털로9길 46 이앤씨드림타워7차 1층 108호 (우)08512\n"
     ]
    },
    {
     "name": "stderr",
     "output_type": "stream",
     "text": [
      "100%|██████████| 15/15 [00:45<00:00,  3.03s/it]"
     ]
    },
    {
     "name": "stdout",
     "output_type": "stream",
     "text": [
      "휴스시 클릭 실패: list index out of range\n",
      "미가양꼬치 클릭 실패: Message: no such window: target window already closed\n",
      "from unknown error: web view not found\n",
      "  (Session info: chrome=134.0.6998.165)\n",
      "Stacktrace:\n",
      "#0 0x59cbe9bfeffa <unknown>\n",
      "#1 0x59cbe96bd970 <unknown>\n",
      "#2 0x59cbe9691c45 <unknown>\n",
      "#3 0x59cbe973da3e <unknown>\n",
      "#4 0x59cbe975b09c <unknown>\n",
      "#5 0x59cbe9735063 <unknown>\n",
      "#6 0x59cbe9701328 <unknown>\n",
      "#7 0x59cbe9702491 <unknown>\n",
      "#8 0x59cbe9bc642b <unknown>\n",
      "#9 0x59cbe9bca2ec <unknown>\n",
      "#10 0x59cbe9bada22 <unknown>\n",
      "#11 0x59cbe9bcae64 <unknown>\n",
      "#12 0x59cbe9b91bef <unknown>\n",
      "#13 0x59cbe9bed558 <unknown>\n",
      "#14 0x59cbe9bed736 <unknown>\n",
      "#15 0x59cbe9bfde76 <unknown>\n",
      "#16 0x72e6f2294ac3 <unknown>\n",
      "\n",
      "오늘은 초밥먹는날 클릭 실패: Message: no such window: target window already closed\n",
      "from unknown error: web view not found\n",
      "  (Session info: chrome=134.0.6998.165)\n",
      "Stacktrace:\n",
      "#0 0x59cbe9bfeffa <unknown>\n",
      "#1 0x59cbe96bd970 <unknown>\n",
      "#2 0x59cbe9691c45 <unknown>\n",
      "#3 0x59cbe973da3e <unknown>\n",
      "#4 0x59cbe975b09c <unknown>\n",
      "#5 0x59cbe9735063 <unknown>\n",
      "#6 0x59cbe9701328 <unknown>\n",
      "#7 0x59cbe9702491 <unknown>\n",
      "#8 0x59cbe9bc642b <unknown>\n",
      "#9 0x59cbe9bca2ec <unknown>\n",
      "#10 0x59cbe9bada22 <unknown>\n",
      "#11 0x59cbe9bcae64 <unknown>\n",
      "#12 0x59cbe9b91bef <unknown>\n",
      "#13 0x59cbe9bed558 <unknown>\n",
      "#14 0x59cbe9bed736 <unknown>\n",
      "#15 0x59cbe9bfde76 <unknown>\n",
      "#16 0x72e6f2294ac3 <unknown>\n",
      "\n",
      "가산동닭한마리 가산점 클릭 실패: Message: no such window: target window already closed\n",
      "from unknown error: web view not found\n",
      "  (Session info: chrome=134.0.6998.165)\n",
      "Stacktrace:\n",
      "#0 0x59cbe9bfeffa <unknown>\n",
      "#1 0x59cbe96bd970 <unknown>\n",
      "#2 0x59cbe9691c45 <unknown>\n",
      "#3 0x59cbe973da3e <unknown>\n",
      "#4 0x59cbe975b09c <unknown>\n",
      "#5 0x59cbe9735063 <unknown>\n",
      "#6 0x59cbe9701328 <unknown>\n",
      "#7 0x59cbe9702491 <unknown>\n",
      "#8 0x59cbe9bc642b <unknown>\n",
      "#9 0x59cbe9bca2ec <unknown>\n",
      "#10 0x59cbe9bada22 <unknown>\n",
      "#11 0x59cbe9bcae64 <unknown>\n",
      "#12 0x59cbe9b91bef <unknown>\n",
      "#13 0x59cbe9bed558 <unknown>\n",
      "#14 0x59cbe9bed736 <unknown>\n",
      "#15 0x59cbe9bfde76 <unknown>\n",
      "#16 0x72e6f2294ac3 <unknown>\n",
      "\n",
      "황제짬뽕양꼬치 클릭 실패: Message: no such window: target window already closed\n",
      "from unknown error: web view not found\n",
      "  (Session info: chrome=134.0.6998.165)\n",
      "Stacktrace:\n",
      "#0 0x59cbe9bfeffa <unknown>\n",
      "#1 0x59cbe96bd970 <unknown>\n",
      "#2 0x59cbe9691c45 <unknown>\n",
      "#3 0x59cbe973da3e <unknown>\n",
      "#4 0x59cbe975b09c <unknown>\n",
      "#5 0x59cbe9735063 <unknown>\n",
      "#6 0x59cbe9701328 <unknown>\n",
      "#7 0x59cbe9702491 <unknown>\n",
      "#8 0x59cbe9bc642b <unknown>\n",
      "#9 0x59cbe9bca2ec <unknown>\n",
      "#10 0x59cbe9bada22 <unknown>\n",
      "#11 0x59cbe9bcae64 <unknown>\n",
      "#12 0x59cbe9b91bef <unknown>\n",
      "#13 0x59cbe9bed558 <unknown>\n",
      "#14 0x59cbe9bed736 <unknown>\n",
      "#15 0x59cbe9bfde76 <unknown>\n",
      "#16 0x72e6f2294ac3 <unknown>\n",
      "\n",
      "베로나 클릭 실패: Message: no such window: target window already closed\n",
      "from unknown error: web view not found\n",
      "  (Session info: chrome=134.0.6998.165)\n",
      "Stacktrace:\n",
      "#0 0x59cbe9bfeffa <unknown>\n",
      "#1 0x59cbe96bd970 <unknown>\n",
      "#2 0x59cbe9691c45 <unknown>\n",
      "#3 0x59cbe973da3e <unknown>\n",
      "#4 0x59cbe975b09c <unknown>\n",
      "#5 0x59cbe9735063 <unknown>\n",
      "#6 0x59cbe9701328 <unknown>\n",
      "#7 0x59cbe9702491 <unknown>\n",
      "#8 0x59cbe9bc642b <unknown>\n",
      "#9 0x59cbe9bca2ec <unknown>\n",
      "#10 0x59cbe9bada22 <unknown>\n",
      "#11 0x59cbe9bcae64 <unknown>\n",
      "#12 0x59cbe9b91bef <unknown>\n",
      "#13 0x59cbe9bed558 <unknown>\n",
      "#14 0x59cbe9bed736 <unknown>\n",
      "#15 0x59cbe9bfde76 <unknown>\n",
      "#16 0x72e6f2294ac3 <unknown>\n",
      "\n",
      "page7\n"
     ]
    },
    {
     "name": "stderr",
     "output_type": "stream",
     "text": [
      "\n"
     ]
    },
    {
     "ename": "NoSuchWindowException",
     "evalue": "Message: no such window: target window already closed\nfrom unknown error: web view not found\n  (Session info: chrome=134.0.6998.165)\nStacktrace:\n#0 0x59cbe9bfeffa <unknown>\n#1 0x59cbe96bd970 <unknown>\n#2 0x59cbe9691c45 <unknown>\n#3 0x59cbe973da3e <unknown>\n#4 0x59cbe975b09c <unknown>\n#5 0x59cbe9735063 <unknown>\n#6 0x59cbe9701328 <unknown>\n#7 0x59cbe9702491 <unknown>\n#8 0x59cbe9bc642b <unknown>\n#9 0x59cbe9bca2ec <unknown>\n#10 0x59cbe9bada22 <unknown>\n#11 0x59cbe9bcae64 <unknown>\n#12 0x59cbe9b91bef <unknown>\n#13 0x59cbe9bed558 <unknown>\n#14 0x59cbe9bed736 <unknown>\n#15 0x59cbe9bfde76 <unknown>\n#16 0x72e6f2294ac3 <unknown>\n",
     "output_type": "error",
     "traceback": [
      "\u001b[0;31m---------------------------------------------------------------------------\u001b[0m",
      "\u001b[0;31mNoSuchWindowException\u001b[0m                     Traceback (most recent call last)",
      "Cell \u001b[0;32mIn[7], line 98\u001b[0m\n\u001b[1;32m     96\u001b[0m \u001b[38;5;28;01mfor\u001b[39;00m i \u001b[38;5;129;01min\u001b[39;00m \u001b[38;5;28mrange\u001b[39m(num_pages):\n\u001b[1;32m     97\u001b[0m     \u001b[38;5;28mprint\u001b[39m(\u001b[38;5;124m\"\u001b[39m\u001b[38;5;124mpage\u001b[39m\u001b[38;5;124m\"\u001b[39m \u001b[38;5;241m+\u001b[39m \u001b[38;5;28mstr\u001b[39m((i\u001b[38;5;241m+\u001b[39m\u001b[38;5;241m1\u001b[39m) \u001b[38;5;241m+\u001b[39m \u001b[38;5;241m5\u001b[39m\u001b[38;5;241m*\u001b[39mj))\n\u001b[0;32m---> 98\u001b[0m     page_section \u001b[38;5;241m=\u001b[39m \u001b[43mdriver\u001b[49m\u001b[38;5;241;43m.\u001b[39;49m\u001b[43mfind_element\u001b[49m\u001b[43m(\u001b[49m\u001b[43mBy\u001b[49m\u001b[38;5;241;43m.\u001b[39;49m\u001b[43mID\u001b[49m\u001b[43m,\u001b[49m\u001b[43m \u001b[49m\u001b[38;5;124;43m'\u001b[39;49m\u001b[38;5;124;43minfo.search.page\u001b[39;49m\u001b[38;5;124;43m'\u001b[39;49m\u001b[43m)\u001b[49m\n\u001b[1;32m     99\u001b[0m     page_elements \u001b[38;5;241m=\u001b[39m page_section\u001b[38;5;241m.\u001b[39mfind_elements(By\u001b[38;5;241m.\u001b[39mTAG_NAME, \u001b[38;5;124m'\u001b[39m\u001b[38;5;124ma\u001b[39m\u001b[38;5;124m'\u001b[39m)\n\u001b[1;32m    100\u001b[0m     page \u001b[38;5;241m=\u001b[39m page_elements[i]\n",
      "File \u001b[0;32m~/.local/lib/python3.10/site-packages/selenium/webdriver/remote/webdriver.py:898\u001b[0m, in \u001b[0;36mWebDriver.find_element\u001b[0;34m(self, by, value)\u001b[0m\n\u001b[1;32m    895\u001b[0m         \u001b[38;5;28;01mraise\u001b[39;00m NoSuchElementException(\u001b[38;5;124mf\u001b[39m\u001b[38;5;124m\"\u001b[39m\u001b[38;5;124mCannot locate relative element with: \u001b[39m\u001b[38;5;132;01m{\u001b[39;00mby\u001b[38;5;241m.\u001b[39mroot\u001b[38;5;132;01m}\u001b[39;00m\u001b[38;5;124m\"\u001b[39m)\n\u001b[1;32m    896\u001b[0m     \u001b[38;5;28;01mreturn\u001b[39;00m elements[\u001b[38;5;241m0\u001b[39m]\n\u001b[0;32m--> 898\u001b[0m \u001b[38;5;28;01mreturn\u001b[39;00m \u001b[38;5;28;43mself\u001b[39;49m\u001b[38;5;241;43m.\u001b[39;49m\u001b[43mexecute\u001b[49m\u001b[43m(\u001b[49m\u001b[43mCommand\u001b[49m\u001b[38;5;241;43m.\u001b[39;49m\u001b[43mFIND_ELEMENT\u001b[49m\u001b[43m,\u001b[49m\u001b[43m \u001b[49m\u001b[43m{\u001b[49m\u001b[38;5;124;43m\"\u001b[39;49m\u001b[38;5;124;43musing\u001b[39;49m\u001b[38;5;124;43m\"\u001b[39;49m\u001b[43m:\u001b[49m\u001b[43m \u001b[49m\u001b[43mby\u001b[49m\u001b[43m,\u001b[49m\u001b[43m \u001b[49m\u001b[38;5;124;43m\"\u001b[39;49m\u001b[38;5;124;43mvalue\u001b[39;49m\u001b[38;5;124;43m\"\u001b[39;49m\u001b[43m:\u001b[49m\u001b[43m \u001b[49m\u001b[43mvalue\u001b[49m\u001b[43m}\u001b[49m\u001b[43m)\u001b[49m[\u001b[38;5;124m\"\u001b[39m\u001b[38;5;124mvalue\u001b[39m\u001b[38;5;124m\"\u001b[39m]\n",
      "File \u001b[0;32m~/.local/lib/python3.10/site-packages/selenium/webdriver/remote/webdriver.py:429\u001b[0m, in \u001b[0;36mWebDriver.execute\u001b[0;34m(self, driver_command, params)\u001b[0m\n\u001b[1;32m    427\u001b[0m response \u001b[38;5;241m=\u001b[39m \u001b[38;5;28mself\u001b[39m\u001b[38;5;241m.\u001b[39mcommand_executor\u001b[38;5;241m.\u001b[39mexecute(driver_command, params)\n\u001b[1;32m    428\u001b[0m \u001b[38;5;28;01mif\u001b[39;00m response:\n\u001b[0;32m--> 429\u001b[0m     \u001b[38;5;28;43mself\u001b[39;49m\u001b[38;5;241;43m.\u001b[39;49m\u001b[43merror_handler\u001b[49m\u001b[38;5;241;43m.\u001b[39;49m\u001b[43mcheck_response\u001b[49m\u001b[43m(\u001b[49m\u001b[43mresponse\u001b[49m\u001b[43m)\u001b[49m\n\u001b[1;32m    430\u001b[0m     response[\u001b[38;5;124m\"\u001b[39m\u001b[38;5;124mvalue\u001b[39m\u001b[38;5;124m\"\u001b[39m] \u001b[38;5;241m=\u001b[39m \u001b[38;5;28mself\u001b[39m\u001b[38;5;241m.\u001b[39m_unwrap_value(response\u001b[38;5;241m.\u001b[39mget(\u001b[38;5;124m\"\u001b[39m\u001b[38;5;124mvalue\u001b[39m\u001b[38;5;124m\"\u001b[39m, \u001b[38;5;28;01mNone\u001b[39;00m))\n\u001b[1;32m    431\u001b[0m     \u001b[38;5;28;01mreturn\u001b[39;00m response\n",
      "File \u001b[0;32m~/.local/lib/python3.10/site-packages/selenium/webdriver/remote/errorhandler.py:232\u001b[0m, in \u001b[0;36mErrorHandler.check_response\u001b[0;34m(self, response)\u001b[0m\n\u001b[1;32m    230\u001b[0m         alert_text \u001b[38;5;241m=\u001b[39m value[\u001b[38;5;124m\"\u001b[39m\u001b[38;5;124malert\u001b[39m\u001b[38;5;124m\"\u001b[39m]\u001b[38;5;241m.\u001b[39mget(\u001b[38;5;124m\"\u001b[39m\u001b[38;5;124mtext\u001b[39m\u001b[38;5;124m\"\u001b[39m)\n\u001b[1;32m    231\u001b[0m     \u001b[38;5;28;01mraise\u001b[39;00m exception_class(message, screen, stacktrace, alert_text)  \u001b[38;5;66;03m# type: ignore[call-arg]  # mypy is not smart enough here\u001b[39;00m\n\u001b[0;32m--> 232\u001b[0m \u001b[38;5;28;01mraise\u001b[39;00m exception_class(message, screen, stacktrace)\n",
      "\u001b[0;31mNoSuchWindowException\u001b[0m: Message: no such window: target window already closed\nfrom unknown error: web view not found\n  (Session info: chrome=134.0.6998.165)\nStacktrace:\n#0 0x59cbe9bfeffa <unknown>\n#1 0x59cbe96bd970 <unknown>\n#2 0x59cbe9691c45 <unknown>\n#3 0x59cbe973da3e <unknown>\n#4 0x59cbe975b09c <unknown>\n#5 0x59cbe9735063 <unknown>\n#6 0x59cbe9701328 <unknown>\n#7 0x59cbe9702491 <unknown>\n#8 0x59cbe9bc642b <unknown>\n#9 0x59cbe9bca2ec <unknown>\n#10 0x59cbe9bada22 <unknown>\n#11 0x59cbe9bcae64 <unknown>\n#12 0x59cbe9b91bef <unknown>\n#13 0x59cbe9bed558 <unknown>\n#14 0x59cbe9bed736 <unknown>\n#15 0x59cbe9bfde76 <unknown>\n#16 0x72e6f2294ac3 <unknown>\n"
     ]
    }
   ],
   "source": [
    "import time\n",
    "from selenium import webdriver\n",
    "from selenium.webdriver.common.by import By\n",
    "from selenium.webdriver.common.keys import Keys\n",
    "from selenium.webdriver.support.ui import WebDriverWait\n",
    "from selenium.webdriver.support import expected_conditions as EC\n",
    "from selenium.webdriver.common.action_chains import ActionChains\n",
    "from bs4 import BeautifulSoup\n",
    "from tqdm import tqdm\n",
    "\n",
    "def croll_page(driver, html):\n",
    "    soup = BeautifulSoup(html, 'html.parser')\n",
    "    store_items = soup.select('.PlaceItem.clickArea')\n",
    "\n",
    "    for store in tqdm(store_items):\n",
    "        score_blind = store.select_one('[data-id=\"scoreBlind\"]')\n",
    "        if score_blind and 'HIDDEN' not in score_blind.get('class', ''):  # HIDDEN이 없는 경우 스킵\n",
    "            continue\n",
    "        \n",
    "        store_name_element = store.select_one('.head_item > .tit_name > .link_name')\n",
    "        store_name = store_name_element.text.strip() if store_name_element else '이름 없음'\n",
    "        \n",
    "        try:\n",
    "            name_element = WebDriverWait(driver, 5).until(EC.element_to_be_clickable((By.LINK_TEXT, store_name)))\n",
    "            driver.execute_script(\"arguments[0].click();\", name_element)\n",
    "            time.sleep(1)\n",
    "            \n",
    "            place_links = WebDriverWait(driver, 5).until(EC.presence_of_all_elements_located((By.CSS_SELECTOR, 'a[data-id=\"name\"]')))\n",
    "            \n",
    "            for link in place_links:\n",
    "                href = link.get_attribute(\"href\")\n",
    "                if href and \"none\" not in href:\n",
    "                    print(f\"{store_name} 링크: {href}\")\n",
    "                    driver.execute_script(f\"window.open('{href}');\")\n",
    "                    time.sleep(1)\n",
    "                    driver.switch_to.window(driver.window_handles[-1])\n",
    "                    time.sleep(1)\n",
    "\n",
    "                    html = driver.page_source\n",
    "                    soup = BeautifulSoup(html, 'html.parser')\n",
    "\n",
    "                    st_name = soup.find('h3', class_='tit_place')\n",
    "                    st_name = st_name.get_text(strip=True).replace('장소명', '') if st_name else '이름 없음'\n",
    "                    \n",
    "                    rating = soup.find('span', class_='num_star')\n",
    "                    rating = rating.get_text(strip=True) if rating else '평점 없음'\n",
    "                    \n",
    "                    reviews = soup.find('a', class_='link_review')\n",
    "                    reviews = reviews.get_text(strip=True) if reviews else '후기 없음'\n",
    "                    \n",
    "                    blog_reviews = soup.find('a', class_='link_blog')\n",
    "                    blog_reviews = blog_reviews.get_text(strip=True) if blog_reviews else '블로그 후기 없음'\n",
    "                    \n",
    "                    category_element = soup.find('span', class_='info_cate')\n",
    "                    category = category_element.get_text(strip=True) if category_element else '카테고리 없음'\n",
    "                    \n",
    "                    address_element = soup.find('span', class_='txt_detail')\n",
    "                    address = address_element.get_text(strip=True) if address_element else '주소 없음'\n",
    "                    \n",
    "                    print(f'장소명: {st_name}')\n",
    "                    print(f'별점: {rating}')\n",
    "                    print(f'후기 개수: {reviews}')\n",
    "                    print(f'블로그 후기 개수: {blog_reviews}')\n",
    "                    print(f'카테고리: {category}')\n",
    "                    print(f'주소: {address}')\n",
    "                    \n",
    "                    driver.close()\n",
    "                    time.sleep(1)\n",
    "                    driver.switch_to.window(driver.window_handles[0])\n",
    "                    break\n",
    "        except Exception as e:\n",
    "            print(f\"{store_name} 클릭 실패: {e}\")\n",
    "\n",
    "# 카카오맵 URL\n",
    "URL = 'https://map.kakao.com/'\n",
    "KEYWORD = '가산동 맛집'\n",
    "\n",
    "options = webdriver.ChromeOptions()\n",
    "options.add_argument('user-agent=Mozilla/5.0 (Windows NT 10.0; Win64; x64) AppleWebKit/537.36 (KHTML, like Gecko) Chrome/58.0.3029.110 Safari/537.3')\n",
    "options.add_argument('window-size=1380,900')\n",
    "\n",
    "driver = webdriver.Chrome(options=options)\n",
    "driver.get(URL)\n",
    "\n",
    "search_area = driver.find_element(By.XPATH, '//*[@id=\"search.keyword.query\"]')\n",
    "search_area.send_keys(KEYWORD)\n",
    "driver.find_element(By.XPATH, '//*[@id=\"search.keyword.submit\"]').send_keys(Keys.ENTER)\n",
    "time.sleep(1)\n",
    "\n",
    "driver.find_element(By.XPATH, '//*[@id=\"info.main.options\"]/li[2]/a').send_keys(Keys.ENTER)\n",
    "time.sleep(1)\n",
    "\n",
    "j = 0\n",
    "while True:\n",
    "    num_pages = 5\n",
    "    for i in range(num_pages):\n",
    "        print(\"page\" + str((i+1) + 5*j))\n",
    "        page_section = driver.find_element(By.ID, 'info.search.page')\n",
    "        page_elements = page_section.find_elements(By.TAG_NAME, 'a')\n",
    "        page = page_elements[i]\n",
    "        driver.execute_script(\"arguments[0].click();\", page)\n",
    "        time.sleep(1)\n",
    "        html = driver.page_source\n",
    "        croll_page(driver, html)\n",
    "    \n",
    "    next_button = driver.find_element(By.ID, 'info.search.page.next')\n",
    "    if 'disabled' in next_button.get_attribute('class'):\n",
    "        print('다음 페이지 없음. 종료')\n",
    "        break\n",
    "    else:\n",
    "        j += 1\n",
    "        driver.execute_script(\"arguments[0].click();\", next_button)\n",
    "        time.sleep(2)\n",
    "        WebDriverWait(driver, 5).until(EC.presence_of_element_located((By.ID, 'info.search.page')))  # 페이지 로딩 대기\n",
    "\n",
    "driver.quit()\n"
   ]
  },
  {
   "cell_type": "markdown",
   "metadata": {},
   "source": []
  },
  {
   "cell_type": "code",
   "execution_count": null,
   "metadata": {},
   "outputs": [],
   "source": []
  }
 ],
 "metadata": {
  "kernelspec": {
   "display_name": "Python 3",
   "language": "python",
   "name": "python3"
  },
  "language_info": {
   "codemirror_mode": {
    "name": "ipython",
    "version": 3
   },
   "file_extension": ".py",
   "mimetype": "text/x-python",
   "name": "python",
   "nbconvert_exporter": "python",
   "pygments_lexer": "ipython3",
   "version": "3.10.12"
  }
 },
 "nbformat": 4,
 "nbformat_minor": 2
}
