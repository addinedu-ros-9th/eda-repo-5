{
 "cells": [
  {
   "cell_type": "code",
   "execution_count": null,
   "metadata": {},
   "outputs": [
    {
     "name": "stdout",
     "output_type": "stream",
     "text": [
      "page1\n",
      "춘천옥\n",
      "삼숙이갈비 본점\n",
      "가산어시장\n",
      "스시쥬베이\n",
      "북촌삼대갈비 가산본점\n",
      "도원\n",
      "인크커피 가산점\n",
      "개성손만두요리전문점 가산디지털점\n",
      "동산미\n",
      "가산물갈비&즉석소불고기\n",
      "맥도날드 가산비지니스센터점\n",
      "호세가\n",
      "풍년갈비\n",
      "동남집\n",
      "통영해물가 가산2호점\n",
      "['춘천옥', '삼숙이갈비 본점', '가산어시장', '스시쥬베이', '북촌삼대갈비 가산본점', '도원', '인크커피 가산점', '개성손만두요리전문점 가산디지털점', '동산미', '가산물갈비&즉석소불고기', '맥도날드 가산비지니스센터점', '호세가', '풍년갈비', '동남집', '통영해물가 가산2호점']\n"
     ]
    },
    {
     "name": "stderr",
     "output_type": "stream",
     "text": [
      "  0%|          | 0/15 [00:00<?, ?it/s]"
     ]
    },
    {
     "name": "stdout",
     "output_type": "stream",
     "text": [
      "춘천옥 링크: https://place.map.kakao.com/8117410\n",
      "장소명: 춘천옥\n",
      "별점: 2.8\n",
      "후기 개수: 후기53개\n",
      "블로그 후기 개수: 블로그124개\n",
      "카테고리: 장소 카테고리족발,보쌈\n",
      "메뉴 목록:\n",
      "- 김치가 맛있는 건강한 보쌈: 36,000원\n",
      "- 메밀 막국수 （수제면）: 10,000원\n",
      "- 선지국밥: 10,000원\n"
     ]
    },
    {
     "name": "stderr",
     "output_type": "stream",
     "text": [
      "  7%|▋         | 1/15 [00:05<01:19,  5.66s/it]"
     ]
    },
    {
     "name": "stdout",
     "output_type": "stream",
     "text": [
      "삼숙이갈비 본점 링크: https://place.map.kakao.com/8117410\n",
      "장소명: 춘천옥\n",
      "별점: 2.8\n",
      "후기 개수: 후기53개\n",
      "블로그 후기 개수: 블로그124개\n",
      "카테고리: 장소 카테고리족발,보쌈\n",
      "메뉴 목록:\n",
      "- 김치가 맛있는 건강한 보쌈: 36,000원\n",
      "- 메밀 막국수 （수제면）: 10,000원\n",
      "- 선지국밥: 10,000원\n"
     ]
    },
    {
     "name": "stderr",
     "output_type": "stream",
     "text": [
      " 13%|█▎        | 2/15 [00:11<01:13,  5.64s/it]"
     ]
    },
    {
     "name": "stdout",
     "output_type": "stream",
     "text": [
      "가산어시장 링크: https://place.map.kakao.com/8117410\n",
      "장소명: 춘천옥\n",
      "별점: 2.8\n",
      "후기 개수: 후기53개\n",
      "블로그 후기 개수: 블로그124개\n",
      "카테고리: 장소 카테고리족발,보쌈\n",
      "메뉴 목록:\n",
      "- 김치가 맛있는 건강한 보쌈: 36,000원\n",
      "- 메밀 막국수 （수제면）: 10,000원\n",
      "- 선지국밥: 10,000원\n"
     ]
    },
    {
     "name": "stderr",
     "output_type": "stream",
     "text": [
      " 20%|██        | 3/15 [00:16<01:07,  5.63s/it]"
     ]
    },
    {
     "name": "stdout",
     "output_type": "stream",
     "text": [
      "스시쥬베이 링크: https://place.map.kakao.com/8117410\n",
      "장소명: 춘천옥\n",
      "별점: 2.8\n",
      "후기 개수: 후기53개\n",
      "블로그 후기 개수: 블로그124개\n",
      "카테고리: 장소 카테고리족발,보쌈\n",
      "메뉴 목록:\n",
      "- 김치가 맛있는 건강한 보쌈: 36,000원\n",
      "- 메밀 막국수 （수제면）: 10,000원\n",
      "- 선지국밥: 10,000원\n"
     ]
    },
    {
     "name": "stderr",
     "output_type": "stream",
     "text": [
      " 27%|██▋       | 4/15 [00:22<01:01,  5.63s/it]"
     ]
    },
    {
     "name": "stdout",
     "output_type": "stream",
     "text": [
      "북촌삼대갈비 가산본점 링크: https://place.map.kakao.com/8117410\n",
      "장소명: 춘천옥\n",
      "별점: 2.8\n",
      "후기 개수: 후기53개\n",
      "블로그 후기 개수: 블로그124개\n",
      "카테고리: 장소 카테고리족발,보쌈\n",
      "메뉴 목록:\n",
      "- 김치가 맛있는 건강한 보쌈: 36,000원\n",
      "- 메밀 막국수 （수제면）: 10,000원\n",
      "- 선지국밥: 10,000원\n"
     ]
    },
    {
     "name": "stderr",
     "output_type": "stream",
     "text": [
      " 33%|███▎      | 5/15 [00:28<00:56,  5.65s/it]"
     ]
    },
    {
     "name": "stdout",
     "output_type": "stream",
     "text": [
      "도원 링크: https://place.map.kakao.com/8117410\n",
      "장소명: 춘천옥\n",
      "별점: 2.8\n",
      "후기 개수: 후기53개\n",
      "블로그 후기 개수: 블로그124개\n",
      "카테고리: 장소 카테고리족발,보쌈\n",
      "메뉴 목록:\n",
      "- 김치가 맛있는 건강한 보쌈: 36,000원\n",
      "- 메밀 막국수 （수제면）: 10,000원\n",
      "- 선지국밥: 10,000원\n"
     ]
    },
    {
     "name": "stderr",
     "output_type": "stream",
     "text": [
      " 40%|████      | 6/15 [00:33<00:50,  5.64s/it]"
     ]
    },
    {
     "name": "stdout",
     "output_type": "stream",
     "text": [
      "인크커피 가산점 링크: https://place.map.kakao.com/8117410\n",
      "장소명: 춘천옥\n",
      "별점: 2.8\n",
      "후기 개수: 후기53개\n",
      "블로그 후기 개수: 블로그124개\n",
      "카테고리: 장소 카테고리족발,보쌈\n",
      "메뉴 목록:\n",
      "- 김치가 맛있는 건강한 보쌈: 36,000원\n",
      "- 메밀 막국수 （수제면）: 10,000원\n",
      "- 선지국밥: 10,000원\n"
     ]
    },
    {
     "name": "stderr",
     "output_type": "stream",
     "text": [
      " 47%|████▋     | 7/15 [00:40<00:45,  5.72s/it]\n"
     ]
    },
    {
     "ename": "KeyboardInterrupt",
     "evalue": "",
     "output_type": "error",
     "traceback": [
      "\u001b[0;31m---------------------------------------------------------------------------\u001b[0m",
      "\u001b[0;31mKeyboardInterrupt\u001b[0m                         Traceback (most recent call last)",
      "Cell \u001b[0;32mIn[45], line 164\u001b[0m\n\u001b[1;32m    162\u001b[0m     time\u001b[38;5;241m.\u001b[39msleep(\u001b[38;5;241m1\u001b[39m)\n\u001b[1;32m    163\u001b[0m     html \u001b[38;5;241m=\u001b[39m driver\u001b[38;5;241m.\u001b[39mpage_source\n\u001b[0;32m--> 164\u001b[0m     \u001b[43mcroll_page\u001b[49m\u001b[43m(\u001b[49m\u001b[43mdriver\u001b[49m\u001b[43m,\u001b[49m\u001b[43mhtml\u001b[49m\u001b[43m)\u001b[49m\n\u001b[1;32m    165\u001b[0m next_button \u001b[38;5;241m=\u001b[39m driver\u001b[38;5;241m.\u001b[39mfind_element(By\u001b[38;5;241m.\u001b[39mID,\u001b[38;5;124m'\u001b[39m\u001b[38;5;124minfo.search.page.next\u001b[39m\u001b[38;5;124m'\u001b[39m)\n\u001b[1;32m    166\u001b[0m \u001b[38;5;28;01mif\u001b[39;00m \u001b[38;5;124m'\u001b[39m\u001b[38;5;124mdisabled\u001b[39m\u001b[38;5;124m'\u001b[39m \u001b[38;5;129;01min\u001b[39;00m next_button\u001b[38;5;241m.\u001b[39mget_attribute(\u001b[38;5;124m'\u001b[39m\u001b[38;5;124mclass\u001b[39m\u001b[38;5;124m'\u001b[39m):\n",
      "Cell \u001b[0;32mIn[45], line 25\u001b[0m, in \u001b[0;36mcroll_page\u001b[0;34m(driver, html)\u001b[0m\n\u001b[1;32m     23\u001b[0m name_element \u001b[38;5;241m=\u001b[39m WebDriverWait(driver, \u001b[38;5;241m5\u001b[39m)\u001b[38;5;241m.\u001b[39muntil(EC\u001b[38;5;241m.\u001b[39melement_to_be_clickable((By\u001b[38;5;241m.\u001b[39mLINK_TEXT, store_name)))\n\u001b[1;32m     24\u001b[0m ActionChains(driver)\u001b[38;5;241m.\u001b[39mmove_to_element(name_element)\u001b[38;5;241m.\u001b[39mclick()\u001b[38;5;241m.\u001b[39mperform()\n\u001b[0;32m---> 25\u001b[0m \u001b[43mtime\u001b[49m\u001b[38;5;241;43m.\u001b[39;49m\u001b[43msleep\u001b[49m\u001b[43m(\u001b[49m\u001b[38;5;241;43m1\u001b[39;49m\u001b[43m)\u001b[49m\n\u001b[1;32m     27\u001b[0m \u001b[38;5;66;03m# 상세 페이지 링크 가져오기\u001b[39;00m\n\u001b[1;32m     28\u001b[0m \u001b[38;5;66;03m#place_links = WebDriverWait(driver, 5).until(EC.presence_of_all_elements_located((By.CSS_SELECTOR, 'a[data-id=\"name\"]')))\u001b[39;00m\n\u001b[1;32m     29\u001b[0m place_links \u001b[38;5;241m=\u001b[39m driver\u001b[38;5;241m.\u001b[39mfind_elements(By\u001b[38;5;241m.\u001b[39mCLASS_NAME, \u001b[38;5;124m'\u001b[39m\u001b[38;5;124mmoreview\u001b[39m\u001b[38;5;124m'\u001b[39m)\n",
      "\u001b[0;31mKeyboardInterrupt\u001b[0m: "
     ]
    }
   ],
   "source": [
    "import time\n",
    "from selenium import webdriver\n",
    "from selenium.webdriver.common.by import By\n",
    "from selenium.webdriver.common.keys import Keys\n",
    "from selenium.webdriver.support.ui import WebDriverWait\n",
    "from selenium.webdriver.support import expected_conditions as EC\n",
    "from selenium.webdriver.common.action_chains import ActionChains\n",
    "from bs4 import BeautifulSoup\n",
    "from tqdm import tqdm\n",
    "\n",
    "def croll_page(driver,html):\n",
    "    soup = BeautifulSoup(html, 'html.parser')\n",
    "    store_names = [store.text.strip() for store in soup.select('.head_item > .tit_name > .link_name')]\n",
    "\n",
    "    for name in store_names:\n",
    "        print(name)\n",
    "\n",
    "    # 가게 상세 페이지 크롤링\n",
    "    #store_names = store_names[:1]\n",
    "    print(store_names)\n",
    "    for store_name in tqdm(store_names):\n",
    "        try:\n",
    "            name_element = WebDriverWait(driver, 5).until(EC.element_to_be_clickable((By.LINK_TEXT, store_name)))\n",
    "            ActionChains(driver).move_to_element(name_element).click().perform()\n",
    "            time.sleep(1)\n",
    "            \n",
    "            # 상세 페이지 링크 가져오기\n",
    "            #place_links = WebDriverWait(driver, 5).until(EC.presence_of_all_elements_located((By.CSS_SELECTOR, 'a[data-id=\"name\"]')))\n",
    "            place_links = driver.find_elements(By.CLASS_NAME, 'moreview')\n",
    "            for link in place_links:\n",
    "                href = link.get_attribute(\"href\")\n",
    "                if href and \"none\" not in href:\n",
    "                    print(f\"{store_name} 링크: {href}\")\n",
    "                    driver.execute_script(f\"window.open('{href}');\")\n",
    "                    time.sleep(1)\n",
    "                    driver.switch_to.window(driver.window_handles[-1])\n",
    "                    time.sleep(1)\n",
    "\n",
    "                    # 상세 페이지 크롤링\n",
    "                    html = driver.page_source\n",
    "                    soup = BeautifulSoup(html, 'html.parser')\n",
    "\n",
    "                    st_name = soup.find('h3', class_='tit_place')\n",
    "                    if st_name :\n",
    "                        st_name = st_name.get_text(strip=True).replace('장소명', '')\n",
    "                    else:\n",
    "                        st_name = '이름 없음'\n",
    "                    \n",
    "                    rating = soup.find('span', class_='num_star')\n",
    "                    if rating :\n",
    "                        rating = rating.get_text(strip=True).replace('장소명', '')\n",
    "                    else:\n",
    "                        rating = '평점 없음'\n",
    "                    \n",
    "                    reviews = soup.find('a', class_='link_review')\n",
    "\n",
    "                    if reviews :\n",
    "                        reviews = reviews.get_text(strip=True).replace('장소명', '')\n",
    "                    else:\n",
    "                        reviews = '이름 없음'\n",
    "                    \n",
    "                    blog_reviews = soup.find('a', class_='link_blog')\n",
    "\n",
    "                    if blog_reviews :\n",
    "                        blog_reviews = blog_reviews.get_text(strip=True).replace('장소명', '')\n",
    "                    else:\n",
    "                        blog_reviews = '이름 없음'\n",
    "    \n",
    "                    # 장소 카테고리 크롤링\n",
    "                    category_element = soup.find('span', class_='info_cate')\n",
    "\n",
    "                    if category_element :\n",
    "                        category = category_element.get_text(strip=True).replace('장소명', '')\n",
    "                    else:\n",
    "                        category = '이름 없음'\n",
    "                    \n",
    "                    \n",
    "                    # 메뉴 탭 클릭 (다양한 구조 대응)\n",
    "                    try:\n",
    "                        menu_tab = WebDriverWait(driver, 5).until(\n",
    "                            EC.element_to_be_clickable((By.CSS_SELECTOR, \"li:nth-child(3) > a.link_tab\"))\n",
    "                        )\n",
    "                    except:\n",
    "                        menu_tab = driver.find_element(By.CSS_SELECTOR, \"a.link_tab[role='tab']\")\n",
    "                    \n",
    "                    if menu_tab:\n",
    "                        menu_tab.click()\n",
    "                        time.sleep(1)\n",
    "                    else:\n",
    "                        print(f\"{store_name} 메뉴 탭 없음\")\n",
    "\n",
    "                    # 메뉴 정보 크롤링\n",
    "                    menu_items = soup.find_all('div', class_='info_goods')\n",
    "                    \n",
    "                    if menu_items:\n",
    "                        menu_count = len(menu_items)\n",
    "                        if menu_count >= 3:\n",
    "                            menu_items = menu_items[:3]  # 메뉴가 3개 이상이면 상위 3개만 가져옴\n",
    "                        menus=[]\n",
    "                        for item in menu_items:\n",
    "                            if item.find('strong', class_='tit_item') and item.find('p', class_='desc_item') :\n",
    "                                menus.append([item.find('strong', class_='tit_item').get_text(strip=True), item.find('p', class_='desc_item').get_text(strip=True)])\n",
    "                            else:\n",
    "                                pass\n",
    "                    else:\n",
    "                        menus = []\n",
    "                        \n",
    "\n",
    "                    print(f'장소명: {st_name}')\n",
    "                    print(f'별점: {rating}')\n",
    "                    print(f'후기 개수: {reviews}')\n",
    "                    print(f'블로그 후기 개수: {blog_reviews}')\n",
    "                    print(f'카테고리: {category}')\n",
    "                    print('메뉴 목록:')\n",
    "                    if menus:\n",
    "                        for menu in menus:\n",
    "                            print(f'- {menu[0]}: {menu[1]}')\n",
    "                    else:\n",
    "                        print('메뉴 없음')\n",
    "\n",
    "                    # 창 닫고 원래 창으로 복귀\n",
    "                    driver.close()\n",
    "                    time.sleep(1)\n",
    "                    driver.switch_to.window(driver.window_handles[0])\n",
    "                    break\n",
    "        except Exception as e:\n",
    "            print(f\"{store_name} 클릭 실패: {e}\")\n",
    "\n",
    "# 카카오맵 URL\n",
    "URL = 'https://map.kakao.com/'\n",
    "KEYWORD = '가산동 맛집'\n",
    "\n",
    "# Chrome WebDriver 설정\n",
    "options = webdriver.ChromeOptions()\n",
    "options.add_argument('user-agent=Mozilla/5.0 (Windows NT 10.0; Win64; x64) AppleWebKit/537.36 (KHTML, like Gecko) Chrome/58.0.3029.110 Safari/537.3')\n",
    "options.add_argument('window-size=1380,900')\n",
    "\n",
    "driver = webdriver.Chrome(options=options)\n",
    "driver.get(URL)\n",
    "\n",
    "# 검색어 입력 및 검색 실행\n",
    "search_area = driver.find_element(By.XPATH, '//*[@id=\"search.keyword.query\"]')\n",
    "search_area.send_keys(KEYWORD)\n",
    "driver.find_element(By.XPATH, '//*[@id=\"search.keyword.submit\"]').send_keys(Keys.ENTER)\n",
    "time.sleep(1)\n",
    "\n",
    "# 장소 탭 클릭\n",
    "driver.find_element(By.XPATH, '//*[@id=\"info.main.options\"]/li[2]/a').send_keys(Keys.ENTER)\n",
    "time.sleep(1)\n",
    "\n",
    "#페이지별로 상점별 데이터 수집\n",
    "j=0\n",
    "while True:\n",
    "    num_pages = 5\n",
    "    #5개의 페이지 순환\n",
    "    for i in range(num_pages):\n",
    "        print(\"page\"+str((i+1)+5*j))\n",
    "        #페이지 번호 선정\n",
    "        page_section = driver.find_element(By.ID,'info.search.page')\n",
    "        page_elements = page_section.find_elements(By.TAG_NAME,'a')\n",
    "        page = page_elements[i]\n",
    "        #페이지 클릭\n",
    "        driver.execute_script(\"arguments[0].click();\", page)\n",
    "        time.sleep(1)\n",
    "        html = driver.page_source\n",
    "        #상점별 데이터 크롤링\n",
    "        croll_page(driver,html)\n",
    "    #그 후 다음 버튼 찾기\n",
    "    next_button = driver.find_element(By.ID,'info.search.page.next')\n",
    "\n",
    "        #다음 버튼 없는경우 끝\n",
    "    if 'disabled' in next_button.get_attribute('class'):\n",
    "        print('다음 페이지 없음.종료')\n",
    "        break\n",
    "    else:\n",
    "        #다음 버튼 있는경우 다음 버튼 클릭\n",
    "        j=j+1\n",
    "        next_button.click()\n",
    "        time.sleep(1)\n",
    "\n",
    "\n",
    "# 드라이버 종료\n",
    "driver.quit()"
   ]
  },
  {
   "cell_type": "markdown",
   "metadata": {},
   "source": []
  },
  {
   "cell_type": "code",
   "execution_count": null,
   "metadata": {},
   "outputs": [],
   "source": []
  }
 ],
 "metadata": {
  "kernelspec": {
   "display_name": "eda_venv",
   "language": "python",
   "name": "python3"
  },
  "language_info": {
   "codemirror_mode": {
    "name": "ipython",
    "version": 3
   },
   "file_extension": ".py",
   "mimetype": "text/x-python",
   "name": "python",
   "nbconvert_exporter": "python",
   "pygments_lexer": "ipython3",
   "version": "3.10.12"
  }
 },
 "nbformat": 4,
 "nbformat_minor": 2
}
