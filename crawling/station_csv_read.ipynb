{
 "cells": [
  {
   "cell_type": "code",
   "execution_count": 24,
   "metadata": {},
   "outputs": [
    {
     "name": "stdout",
     "output_type": "stream",
     "text": [
      "%EC%84%9C%EC%9A%B8%EA%B5%90%ED%86%B5%EA%B3%B5%EC%82%AC_%EC%9E%90%EC%B9%98%EA%B5%AC%EB%B3%84%EC%A7%80%ED%95%98%EC%B2%A0%EC%97%AD%EC%A0%95%EB%B3%B4_20250317.CSV\n"
     ]
    }
   ],
   "source": [
    "import pandas as pd\n",
    "import urllib\n",
    "detail = urllib.parse.quote('서울교통공사_자치구별지하철역정보_20250317.CSV')\n",
    "print(detail)\n",
    "url = 'https://github.com/addinedu-ros-9th/eda-repo-5/blob/main/data/'+detail+'?raw=true'\n",
    "data = pd.read_csv(url,encoding='euc-kr')\n",
    "data.head(32)\n",
    "data = data[:25]\n",
    "data.head(32)\n",
    "data = data.loc[:,['자치구','역개수']]"
   ]
  },
  {
   "cell_type": "code",
   "execution_count": 25,
   "metadata": {},
   "outputs": [
    {
     "name": "stdout",
     "output_type": "stream",
     "text": [
      "자치구    강남구\n",
      "역개수     21\n",
      "Name: 0, dtype: object\n",
      "자치구    강동구\n",
      "역개수     15\n",
      "Name: 1, dtype: object\n",
      "자치구    강북구\n",
      "역개수      3\n",
      "Name: 2, dtype: object\n",
      "자치구    강서구\n",
      "역개수      9\n",
      "Name: 3, dtype: object\n",
      "자치구    관악구\n",
      "역개수      4\n",
      "Name: 4, dtype: object\n",
      "자치구    광진구\n",
      "역개수     11\n",
      "Name: 5, dtype: object\n",
      "자치구    구로구\n",
      "역개수      7\n",
      "Name: 6, dtype: object\n",
      "자치구    금천구\n",
      "역개수      1\n",
      "Name: 7, dtype: object\n",
      "자치구    노원구\n",
      "역개수     13\n",
      "Name: 8, dtype: object\n",
      "자치구    도봉구\n",
      "역개수      3\n",
      "Name: 9, dtype: object\n",
      "자치구    동대문구\n",
      "역개수       6\n",
      "Name: 10, dtype: object\n",
      "자치구    동작구\n",
      "역개수     12\n",
      "Name: 11, dtype: object\n",
      "자치구    마포구\n",
      "역개수     16\n",
      "Name: 12, dtype: object\n",
      "자치구    서대문구\n",
      "역개수       5\n",
      "Name: 13, dtype: object\n",
      "자치구    서초구\n",
      "역개수     12\n",
      "Name: 14, dtype: object\n",
      "자치구    성동구\n",
      "역개수     14\n",
      "Name: 15, dtype: object\n",
      "자치구    성북구\n",
      "역개수      9\n",
      "Name: 16, dtype: object\n",
      "자치구    송파구\n",
      "역개수     28\n",
      "Name: 17, dtype: object\n",
      "자치구    양천구\n",
      "역개수      5\n",
      "Name: 18, dtype: object\n",
      "자치구    영등포구\n",
      "역개수      11\n",
      "Name: 19, dtype: object\n",
      "자치구    용산구\n",
      "역개수     10\n",
      "Name: 20, dtype: object\n",
      "자치구    은평구\n",
      "역개수     13\n",
      "Name: 21, dtype: object\n",
      "자치구    종로구\n",
      "역개수     15\n",
      "Name: 22, dtype: object\n",
      "자치구    중구\n",
      "역개수    23\n",
      "Name: 23, dtype: object\n",
      "자치구    중랑구\n",
      "역개수      8\n",
      "Name: 24, dtype: object\n"
     ]
    }
   ],
   "source": [
    "for i,row in data.iterrows():\n",
    "    print(row)"
   ]
  },
  {
   "cell_type": "code",
   "execution_count": 38,
   "metadata": {},
   "outputs": [
    {
     "name": "stdout",
     "output_type": "stream",
     "text": [
      "('강남구', 21)\n",
      "('강동구', 15)\n",
      "('강북구', 3)\n",
      "('강서구', 9)\n",
      "('관악구', 4)\n",
      "('광진구', 11)\n",
      "('구로구', 7)\n",
      "('금천구', 1)\n",
      "('노원구', 13)\n",
      "('도봉구', 3)\n",
      "('동대문구', 6)\n",
      "('동작구', 12)\n",
      "('마포구', 16)\n",
      "('서대문구', 5)\n",
      "('서초구', 12)\n",
      "('성동구', 14)\n",
      "('성북구', 9)\n",
      "('송파구', 28)\n",
      "('양천구', 5)\n",
      "('영등포구', 11)\n",
      "('용산구', 10)\n",
      "('은평구', 13)\n",
      "('종로구', 15)\n",
      "('중구', 23)\n",
      "('중랑구', 8)\n"
     ]
    }
   ],
   "source": [
    "import mysql.connector\n",
    "\n",
    "ojk = mysql.connector.connect(\n",
    "    host = \"database-1.cnu82kme6p4d.ap-northeast-2.rds.amazonaws.com\",\n",
    "    port = 3306,\n",
    "    user = \"eda\",\n",
    "    password = \"ojk0707\",\n",
    "    database = \"ojk\"\n",
    ")\n",
    "\n",
    "mycursor = ojk.cursor()\n",
    "\n",
    "\n",
    "for i,row in data.iterrows():\n",
    "    #테이블에서 존재하던 기존 중복 데이터 삭제\n",
    "    sql = \"delete from station where gu= %s and station= %s\"\n",
    "    mycursor.execute(sql,(row['자치구'],row['역개수']))\n",
    "    #테이블에서 존재하던 새 데이터 삽입\n",
    "    sql = \"insert into station values (%s, %s)\"\n",
    "    mycursor.execute(sql,(row['자치구'],row['역개수']))\n",
    "ojk.commit()\n",
    "\n",
    "#table 삽입된 데이터 aws db에서 확인\n",
    "sql = \"select * from station\"\n",
    "mycursor.execute(sql)\n",
    "result = mycursor.fetchall()\n",
    "for row in result:\n",
    "    print(row)"
   ]
  }
 ],
 "metadata": {
  "kernelspec": {
   "display_name": "eda_venv",
   "language": "python",
   "name": "python3"
  },
  "language_info": {
   "codemirror_mode": {
    "name": "ipython",
    "version": 3
   },
   "file_extension": ".py",
   "mimetype": "text/x-python",
   "name": "python",
   "nbconvert_exporter": "python",
   "pygments_lexer": "ipython3",
   "version": "3.10.12"
  }
 },
 "nbformat": 4,
 "nbformat_minor": 2
}
