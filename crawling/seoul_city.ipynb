{
 "cells": [
  {
   "cell_type": "markdown",
   "metadata": {},
   "source": [
    " ### 1. 서울시 공공데이터 제공 장소 116곳 리스트 뽑기\n"
   ]
  },
  {
   "cell_type": "code",
   "execution_count": 14,
   "metadata": {},
   "outputs": [
    {
     "name": "stdout",
     "output_type": "stream",
     "text": [
      "강남 MICE 관광특구 202503270000\n",
      "동대문 관광특구 202503270000\n",
      "명동 관광특구 202503270000\n",
      "이태원 관광특구 202503270000\n",
      "잠실 관광특구 202503270000\n",
      "종로·청계 관광특구 202503270000\n",
      "홍대 관광특구 202503270000\n",
      "경복궁 202503270000\n",
      "광화문·덕수궁 202503270000\n",
      "보신각 202503270000\n",
      "서울 암사동 유적 202503270000\n",
      "창덕궁·종묘 202503270000\n",
      "가산디지털단지역 202503270000\n",
      "강남역 202503270000\n",
      "건대입구역 202503270000\n",
      "고덕역 202503270000\n",
      "고속터미널역 202503270000\n",
      "교대역 202503270000\n",
      "구로디지털단지역 202503270000\n",
      "구로역 202503270000\n",
      "군자역 202503270000\n",
      "남구로역 202503270000\n",
      "대림역 202503270000\n",
      "동대문역 202503270000\n",
      "뚝섬역 202503270000\n",
      "미아사거리역 202503270000\n",
      "발산역 202503270000\n",
      "북한산우이역 202503270000\n",
      "사당역 202503270000\n",
      "삼각지역 202503270000\n",
      "서울대입구역 202503270000\n",
      "서울식물원·마곡나루역 202503270000\n",
      "서울역 202503270000\n",
      "선릉역 202503270000\n",
      "성신여대입구역 202503270000\n",
      "수유역 202503270000\n",
      "신논현역·논현역 202503270000\n",
      "신도림역 202503270000\n",
      "신림역 202503270000\n",
      "신촌·이대역 202503270000\n",
      "양재역 202503270000\n",
      "역삼역 202503270000\n",
      "연신내역 202503270000\n",
      "오목교역·목동운동장 202503270000\n",
      "왕십리역 202503270000\n",
      "용산역 202503270000\n",
      "이태원역 202503270000\n",
      "장지역 202503270000\n",
      "장한평역 202503270000\n",
      "천호역 202503270000\n",
      "총신대입구(이수)역 202503270000\n",
      "충정로역 202503270000\n",
      "합정역 202503270000\n",
      "혜화역 202503270000\n",
      "홍대입구역(2호선) 202503270000\n",
      "회기역 202503270000\n",
      "4·19 카페거리 202503270000\n",
      "가락시장 202503270000\n",
      "가로수길 202503270000\n",
      "광장(전통)시장 202503270000\n",
      "김포공항 202503270000\n",
      "낙산공원·이화마을 202503270000\n",
      "노량진 202503270000\n",
      "덕수궁길·정동길 202503270000\n",
      "방배역 먹자골목 202503270000\n",
      "북촌한옥마을 202503270000\n",
      "서촌 202503270000\n",
      "성수카페거리 202503270000\n",
      "수유리 먹자골목 202503270000\n",
      "쌍문동 맛집거리 202503270000\n",
      "압구정로데오거리 202503270000\n",
      "여의도 202503270000\n",
      "연남동 202503270000\n",
      "영등포 타임스퀘어 202503270000\n",
      "외대앞 202503270000\n",
      "용리단길 202503270000\n",
      "이태원 앤틱가구거리 202503270000\n",
      "인사동 202503270000\n",
      "창동 신경제 중심지 202503270000\n",
      "청담동 명품거리 202503270000\n",
      "청량리 제기동 일대 전통시장 202503270000\n",
      "해방촌·경리단길 202503270000\n",
      "DDP(동대문디자인플라자) 202503270000\n",
      "DMC(디지털미디어시티) 202503270000\n",
      "강서한강공원 202503270000\n",
      "고척돔 202503270000\n",
      "광나루한강공원 202503270000\n",
      "광화문광장 202503270000\n",
      "국립중앙박물관·용산가족공원 202503270000\n",
      "난지한강공원 202503270000\n",
      "남산공원 202503270000\n",
      "노들섬 202503270000\n",
      "뚝섬한강공원 202503270000\n",
      "망원한강공원 202503270000\n",
      "반포한강공원 202503270000\n",
      "북서울꿈의숲 202503270000\n",
      "불광천 202503270000\n",
      "서리풀공원·몽마르뜨공원 202503270000\n",
      "서울광장 202503270000\n",
      "서울대공원 202503270000\n",
      "서울숲공원 202503270000\n",
      "아차산 202503270000\n",
      "양화한강공원 202503270000\n",
      "어린이대공원 202503270000\n",
      "여의도한강공원 202503270000\n",
      "월드컵공원 202503270000\n",
      "응봉산 202503270000\n",
      "이촌한강공원 202503270000\n",
      "잠실종합운동장 202503270000\n",
      "잠실한강공원 202503270000\n",
      "잠원한강공원 202503270000\n",
      "청계산 202503270000\n",
      "청와대 202503270000\n",
      "북창동 먹자골목 202503270000\n",
      "남대문시장 202503270000\n",
      "익선동 202503270000\n"
     ]
    }
   ],
   "source": [
    "##### API 가져와보기\n",
    "import requests\n",
    "import pandas as pd \n",
    "import json\n",
    "from urllib.parse import quote\n",
    "from bs4 import BeautifulSoup\n",
    "import re\n",
    "\n",
    "# 서울 지역 116곳 번호 뽑기\n",
    "area_list = []\n",
    "\n",
    "for i in range(1,117):\n",
    "    area = f\"POI{i:03d}\"\n",
    "\n",
    "    # API 키\n",
    "    api_key = '6e51654f776b353335387168745664'\n",
    "    # API URL 구성\n",
    "    url = f'http://openapi.seoul.go.kr:8088/{api_key}/xml/citydata/1/1000/{area}'\n",
    "    # API 요청, 응답\n",
    "    response = requests.get(url)\n",
    "    xml_data = response.text\n",
    "    # xml파싱\n",
    "    soup = BeautifulSoup(xml_data, 'lxml-xml')\n",
    "    area_name = soup.find('AREA_NM').text\n",
    "    time =int(re.sub(r'[^\\w]|[_]', '', soup.find('PPLTN_TIME').text))\n",
    "    print(area_name, time)\n",
    "\n",
    "\n",
    "\n",
    "\n",
    "\n"
   ]
  },
  {
   "cell_type": "markdown",
   "metadata": {},
   "source": [
    "### 2. 가져온 지역 한개에서 요소 가져오기 "
   ]
  },
  {
   "cell_type": "code",
   "execution_count": 404,
   "metadata": {},
   "outputs": [
    {
     "name": "stdout",
     "output_type": "stream",
     "text": [
      "지역: 낙산공원·이화마을, 혼잡도: 여유\n"
     ]
    },
    {
     "ename": "AttributeError",
     "evalue": "'NoneType' object has no attribute 'text'",
     "output_type": "error",
     "traceback": [
      "\u001b[0;31m---------------------------------------------------------------------------\u001b[0m",
      "\u001b[0;31mAttributeError\u001b[0m                            Traceback (most recent call last)",
      "Cell \u001b[0;32mIn[404], line 9\u001b[0m\n\u001b[1;32m      7\u001b[0m \u001b[38;5;28mprint\u001b[39m(\u001b[38;5;124mf\u001b[39m\u001b[38;5;124m\"\u001b[39m\u001b[38;5;124m지역: \u001b[39m\u001b[38;5;132;01m{\u001b[39;00marea_nm\u001b[38;5;132;01m}\u001b[39;00m\u001b[38;5;124m, 혼잡도: \u001b[39m\u001b[38;5;132;01m{\u001b[39;00mcongestion\u001b[38;5;132;01m}\u001b[39;00m\u001b[38;5;124m\"\u001b[39m)\n\u001b[1;32m      8\u001b[0m \u001b[38;5;66;03m#자치구 \u001b[39;00m\n\u001b[0;32m----> 9\u001b[0m address \u001b[38;5;241m=\u001b[39m \u001b[43msoup\u001b[49m\u001b[38;5;241;43m.\u001b[39;49m\u001b[43mfind\u001b[49m\u001b[43m(\u001b[49m\u001b[38;5;124;43m'\u001b[39;49m\u001b[38;5;124;43mADDRESS\u001b[39;49m\u001b[38;5;124;43m'\u001b[39;49m\u001b[43m)\u001b[49m\u001b[38;5;241;43m.\u001b[39;49m\u001b[43mtext\u001b[49m\n\u001b[1;32m     10\u001b[0m \u001b[38;5;28mprint\u001b[39m(address)\n",
      "\u001b[0;31mAttributeError\u001b[0m: 'NoneType' object has no attribute 'text'"
     ]
    }
   ],
   "source": [
    "# 특정 요소 내의 모든 항목 찾기\n",
    "live_ppltn = soup.find('LIVE_PPLTN_STTS')\n",
    "#지역\n",
    "area_nm = live_ppltn.find('AREA_NM').text\n",
    "#혼잡도\n",
    "congestion = live_ppltn.find('AREA_CONGEST_LVL').text\n",
    "print(f\"지역: {area_nm}, 혼잡도: {congestion}\")\n",
    "#자치구 \n",
    "address = soup.find('ADDRESS').text\n",
    "print(address)\n"
   ]
  },
  {
   "cell_type": "markdown",
   "metadata": {},
   "source": [
    "#### 2.1데이터분석에 필요한 값들이 잘나오는지 하나씩 확인해보자"
   ]
  },
  {
   "cell_type": "code",
   "execution_count": null,
   "metadata": {},
   "outputs": [],
   "source": [
    "\n",
    "## 서울시 실시간 데이터 가져오기\n",
    "\n",
    "#데이트 날씨 점수 = 강수점수(30) + 기온점수(20) + 대기질점수(15) + 하늘상태점수(15) \n",
    "\n",
    "#### 가져올 값\n",
    "#핫스팟 장소명(LIVE_PPLTN_STTS), \n",
    "\n",
    "#### 날씨 정보\n",
    "#기온(TEMP), 강수(PRECIPITATION),강수확률(RAIN_CHANCE), 강수형태(PRECPT_TYPE), 대기질(AIR_IDX), 하늘상태(SKY_STTS), 습도(HUMIDITY), 자외선(UV_INDEX)\n",
    "\n",
    "#### 혼잡도 정보\n",
    "#장소 혼잡도 지표(AREA_CONGEST_LVL), 실시간 상권현황 (LIVE_CMRCL_STTS),  장소 예측 혼잡도 지표 (FCST_CONGEST_LVL), 장소 실시간 상권 현황(AREA_CMRCL_LVL)\n",
    "\n",
    "##불쾌지수 = 1.8 x 기온 – 0.55 x (1 – 습도) x (1.8 x 기온 – 26) + 32"
   ]
  },
  {
   "cell_type": "code",
   "execution_count": 406,
   "metadata": {},
   "outputs": [
    {
     "name": "stdout",
     "output_type": "stream",
     "text": [
      "-\n",
      "1\n"
     ]
    }
   ],
   "source": [
    "rain_mm =[]\n",
    "# 강수량 (-일때 0으로 변경)\n",
    "rain_mm_list = soup.find('PRECIPITATION')\n",
    "for rain in rain_mm_list:\n",
    "    rain = rain.text\n",
    "    if rain == \"-\":\n",
    "        rain_mm.append(\"0\")\n",
    "    else:\n",
    "        rain_mm.append(rain)\n",
    "    print(rain)\n",
    "    \n",
    "print(len(rain_mm))"
   ]
  },
  {
   "cell_type": "code",
   "execution_count": null,
   "metadata": {},
   "outputs": [
    {
     "name": "stdout",
     "output_type": "stream",
     "text": [
      "[<TEMP>15.2</TEMP>, <TEMP>14</TEMP>, <TEMP>13</TEMP>, <TEMP>12</TEMP>, <TEMP>10</TEMP>, <TEMP>10</TEMP>, <TEMP>9</TEMP>, <TEMP>9</TEMP>, <TEMP>9</TEMP>, <TEMP>9</TEMP>, <TEMP>9</TEMP>, <TEMP>8</TEMP>, <TEMP>8</TEMP>, <TEMP>8</TEMP>, <TEMP>9</TEMP>, <TEMP>10</TEMP>, <TEMP>12</TEMP>, <TEMP>14</TEMP>, <TEMP>17</TEMP>, <TEMP>19</TEMP>, <TEMP>20</TEMP>, <TEMP>17</TEMP>, <TEMP>16</TEMP>, <TEMP>14</TEMP>, <TEMP>13</TEMP>]\n",
      "25\n"
     ]
    }
   ],
   "source": [
    "#온도\n",
    "temp = soup.find_all('TEMP')\n",
    "print(temp)\n",
    "print(len(temp))"
   ]
  },
  {
   "cell_type": "code",
   "execution_count": null,
   "metadata": {},
   "outputs": [
    {
     "name": "stdout",
     "output_type": "stream",
     "text": [
      "[<RAIN_CHANCE>0</RAIN_CHANCE>, <RAIN_CHANCE>0</RAIN_CHANCE>, <RAIN_CHANCE>0</RAIN_CHANCE>, <RAIN_CHANCE>0</RAIN_CHANCE>, <RAIN_CHANCE>0</RAIN_CHANCE>, <RAIN_CHANCE>0</RAIN_CHANCE>, <RAIN_CHANCE>0</RAIN_CHANCE>, <RAIN_CHANCE>20</RAIN_CHANCE>, <RAIN_CHANCE>30</RAIN_CHANCE>, <RAIN_CHANCE>20</RAIN_CHANCE>, <RAIN_CHANCE>0</RAIN_CHANCE>, <RAIN_CHANCE>0</RAIN_CHANCE>, <RAIN_CHANCE>30</RAIN_CHANCE>, <RAIN_CHANCE>30</RAIN_CHANCE>, <RAIN_CHANCE>20</RAIN_CHANCE>, <RAIN_CHANCE>20</RAIN_CHANCE>, <RAIN_CHANCE>30</RAIN_CHANCE>, <RAIN_CHANCE>20</RAIN_CHANCE>, <RAIN_CHANCE>20</RAIN_CHANCE>, <RAIN_CHANCE>30</RAIN_CHANCE>, <RAIN_CHANCE>20</RAIN_CHANCE>, <RAIN_CHANCE>0</RAIN_CHANCE>, <RAIN_CHANCE>0</RAIN_CHANCE>, <RAIN_CHANCE>20</RAIN_CHANCE>]\n",
      "24\n"
     ]
    }
   ],
   "source": [
    "#강수확률\n",
    "rain_pct = soup.find_all('RAIN_CHANCE') \n",
    "print(rain_pct)\n",
    "print(len(rain_pct))"
   ]
  },
  {
   "cell_type": "code",
   "execution_count": null,
   "metadata": {},
   "outputs": [
    {
     "name": "stdout",
     "output_type": "stream",
     "text": [
      "[<PRECPT_TYPE>없음</PRECPT_TYPE>, <PRECPT_TYPE>없음</PRECPT_TYPE>, <PRECPT_TYPE>없음</PRECPT_TYPE>, <PRECPT_TYPE>없음</PRECPT_TYPE>, <PRECPT_TYPE>없음</PRECPT_TYPE>, <PRECPT_TYPE>없음</PRECPT_TYPE>, <PRECPT_TYPE>없음</PRECPT_TYPE>, <PRECPT_TYPE>없음</PRECPT_TYPE>, <PRECPT_TYPE>없음</PRECPT_TYPE>, <PRECPT_TYPE>없음</PRECPT_TYPE>, <PRECPT_TYPE>없음</PRECPT_TYPE>, <PRECPT_TYPE>없음</PRECPT_TYPE>, <PRECPT_TYPE>없음</PRECPT_TYPE>, <PRECPT_TYPE>없음</PRECPT_TYPE>, <PRECPT_TYPE>없음</PRECPT_TYPE>, <PRECPT_TYPE>없음</PRECPT_TYPE>, <PRECPT_TYPE>없음</PRECPT_TYPE>, <PRECPT_TYPE>없음</PRECPT_TYPE>, <PRECPT_TYPE>없음</PRECPT_TYPE>, <PRECPT_TYPE>없음</PRECPT_TYPE>, <PRECPT_TYPE>없음</PRECPT_TYPE>, <PRECPT_TYPE>없음</PRECPT_TYPE>, <PRECPT_TYPE>없음</PRECPT_TYPE>, <PRECPT_TYPE>없음</PRECPT_TYPE>, <PRECPT_TYPE>없음</PRECPT_TYPE>]\n",
      "25\n"
     ]
    }
   ],
   "source": [
    "#강수형태\n",
    "rain_type = soup.find_all('PRECPT_TYPE') # 없음 출력\n",
    "print(rain_type)\n",
    "print(len(rain_type))"
   ]
  },
  {
   "cell_type": "code",
   "execution_count": null,
   "metadata": {},
   "outputs": [
    {
     "name": "stdout",
     "output_type": "stream",
     "text": [
      "[<AIR_IDX>나쁨</AIR_IDX>]\n",
      "1\n"
     ]
    }
   ],
   "source": [
    "#대기질\n",
    "air_idx = soup.find_all('AIR_IDX') #24동안 1하나만\n",
    "print(air_idx)\n",
    "print(len(air_idx))"
   ]
  },
  {
   "cell_type": "code",
   "execution_count": null,
   "metadata": {},
   "outputs": [
    {
     "name": "stdout",
     "output_type": "stream",
     "text": [
      "[<SKY_STTS>구름많음</SKY_STTS>, <SKY_STTS>구름많음</SKY_STTS>, <SKY_STTS>맑음</SKY_STTS>, <SKY_STTS>맑음</SKY_STTS>, <SKY_STTS>맑음</SKY_STTS>, <SKY_STTS>맑음</SKY_STTS>, <SKY_STTS>맑음</SKY_STTS>, <SKY_STTS>구름많음</SKY_STTS>, <SKY_STTS>흐림</SKY_STTS>, <SKY_STTS>구름많음</SKY_STTS>, <SKY_STTS>맑음</SKY_STTS>, <SKY_STTS>맑음</SKY_STTS>, <SKY_STTS>흐림</SKY_STTS>, <SKY_STTS>흐림</SKY_STTS>, <SKY_STTS>구름많음</SKY_STTS>, <SKY_STTS>구름많음</SKY_STTS>, <SKY_STTS>흐림</SKY_STTS>, <SKY_STTS>구름많음</SKY_STTS>, <SKY_STTS>구름많음</SKY_STTS>, <SKY_STTS>흐림</SKY_STTS>, <SKY_STTS>구름많음</SKY_STTS>, <SKY_STTS>맑음</SKY_STTS>, <SKY_STTS>맑음</SKY_STTS>, <SKY_STTS>구름많음</SKY_STTS>]\n",
      "24\n"
     ]
    }
   ],
   "source": [
    "#하늘상태\n",
    "sty_stts = soup.find_all('SKY_STTS') #24동안 1하나만\n",
    "print(sty_stts)\n",
    "print(len(sty_stts))"
   ]
  },
  {
   "cell_type": "code",
   "execution_count": null,
   "metadata": {},
   "outputs": [
    {
     "name": "stdout",
     "output_type": "stream",
     "text": [
      "[<HUMIDITY>64</HUMIDITY>]\n",
      "1\n"
     ]
    }
   ],
   "source": [
    "#습도\n",
    "humidity = soup.find_all('HUMIDITY') \n",
    "print(humidity)\n",
    "print(len(humidity))"
   ]
  },
  {
   "cell_type": "markdown",
   "metadata": {},
   "source": [
    "#### 오후 온도 구하기"
   ]
  },
  {
   "cell_type": "code",
   "execution_count": null,
   "metadata": {},
   "outputs": [
    {
     "name": "stdout",
     "output_type": "stream",
     "text": [
      "구름많음\n",
      "구름많음\n",
      "구름많음\n",
      "흐림\n",
      "구름많음\n",
      "맑음\n",
      "맑음\n",
      "16\n"
     ]
    }
   ],
   "source": [
    "from collections import Counter\n",
    "\n",
    "fcst24hours = soup.find('FCST24HOURS')  # 단일 컨테이너 요소를 찾음\n",
    "fcst_items = fcst24hours.find_all('FCST_DT')  # 또는 실제 항목 태그명으로 변경\n",
    "temp_list=[]\n",
    "sky_status_list = []\n",
    "for item in fcst_items:\n",
    "    hours = item.text\n",
    "   \n",
    "    # 원하는 시간대 확인 (12시~18시)\n",
    "    if any(time in hours for time in ['1200', '1300', '1400', '1500', '1600', '1700', '1800']):\n",
    "\n",
    "        \n",
    "        parent = item.parent\n",
    "        temp = int(parent.find('TEMP').text)\n",
    "        temp_list.append(temp)\n",
    "        sky_status_list.append(parent.find('SKY_STTS').text) #24동안 1하나만\n",
    "        print(sty_stts)\n",
    "# 오후 하늘상태 구하기\n",
    "counter = Counter(sky_status_list)\n",
    "\n",
    "# 온도 평균 구하기(합/개수)\n",
    "avg_temp = int(sum(temp_list) / len(temp_list))\n",
    "print(avg_temp)"
   ]
  },
  {
   "cell_type": "code",
   "execution_count": null,
   "metadata": {},
   "outputs": [],
   "source": [
    "# 반복해서 구해야할 온도계수\n"
   ]
  },
  {
   "cell_type": "code",
   "execution_count": null,
   "metadata": {},
   "outputs": [],
   "source": []
  },
  {
   "cell_type": "markdown",
   "metadata": {},
   "source": [
    "### 오후날씨 함수만들기"
   ]
  },
  {
   "cell_type": "code",
   "execution_count": null,
   "metadata": {},
   "outputs": [],
   "source": [
    "#리스트 가져오기\n",
    "def get_after_wether(value):\n",
    "    from collections import Counter\n",
    "\n",
    "    fcst24hours = soup.find('FCST24HOURS')  # 단일 컨테이너 요소를 찾음\n",
    "    fcst_items = fcst24hours.find_all('FCST_DT')  # 또는 실제 항목 태그명으로 변경\n",
    "\n",
    "    after_list =[]\n",
    "    #리스트마다 행하나씩 뽑기\n",
    "    for item in fcst_items:\n",
    "        hours = item.text\n",
    "        \n",
    "        if any(time in hours for time in ['1100','1200', '1300', '1400', '1500', '1600', '1700', '1800']):\n",
    "            #상위 요소로 올라가기\n",
    "            parent = item.parent\n",
    "            \n",
    "            #value가 온도일때 온도값 주기\n",
    "            if value == 'temp':\n",
    "                try:\n",
    "                    temp = int(parent.find('TEMP').text)\n",
    "                    after_list.append(temp)\n",
    "                except:\n",
    "                    print(\"온도값에 오류가 발생\")\n",
    "            #하늘상태일때 하늘상태값 주기 # 맑음 문자로 나옴 카운드 ?\n",
    "            elif value == 'sky_stts':\n",
    "                try:\n",
    "                    sky_stts = parent.find('SKY_STTS').text\n",
    "                    after_list.append(sky_stts)\n",
    "                    print(sky_stts)\n",
    "                except:\n",
    "                    print(\"하늘상태값에 오류가 발생\")\n",
    "            #강수확률일때 강수확률값주기\n",
    "            elif value == 'rain_chance':\n",
    "                try:\n",
    "                    rain_chance = int(parent.find('RAIN_CHANCE').text)\n",
    "                    \n",
    "                    after_list.append(rain_chance)\n",
    "                    print(rain_chance)\n",
    "                except:\n",
    "                    print(\"강수확률값에 오류가 발생\")\n",
    "\n",
    "            # 강수량일때 (-일때 0으로 변경)\n",
    "            elif value == 'rain_mm':\n",
    "                try:\n",
    "                    rain = parent.find('PRECIPITATION').text\n",
    "                    if rain == \"-\":\n",
    "                        after_list.append(int(\"0\"))\n",
    "                    else:\n",
    "                        after_list.append(int(rain))\n",
    "                    print(rain)\n",
    "                except:\n",
    "                    #오류발생\n",
    "                    print(\"강수량 값에 대한 오류가 발생\")   \n",
    "\n",
    "    # 리스트 평균 구하기(합/개수)\n",
    "    if value in ['temp', 'rain_chance', 'rain_mm']:\n",
    "        avg_after = int(sum(after_list) / len(after_list))\n",
    "        return avg_after\n",
    "    else:\n",
    "        return Counter(after_list).most_common(1)[0][0]\n",
    "\n",
    "           "
   ]
  },
  {
   "cell_type": "markdown",
   "metadata": {},
   "source": [
    "### 인구혼잡도 함수"
   ]
  },
  {
   "cell_type": "code",
   "execution_count": null,
   "metadata": {},
   "outputs": [],
   "source": [
    "\n",
    "        \n",
    "def get_many_people():\n",
    "    from collections import Counter\n",
    "    fcst24hours = soup.find('FCST_PPLTN')  # 단일 컨테이너 요소를 찾음\n",
    "    fcst_items = fcst24hours.find_all('FCST_TIME')  # 또는 실제 항목 태그명으로 변경\n",
    "    after_list =[]\n",
    "    #리스트마다 행하나씩 뽑기\n",
    "    for item in fcst_items:\n",
    "        print(item)\n",
    "        hours = item.text\n",
    "        print(hours)\n",
    "        if any(time in hours for time in ['11:00','12:00', '13:00', '14:00', '15:00', '16:00', '17:00', '18:00']):\n",
    "            try:\n",
    "                parent= item.parent\n",
    "                many_level=parent.find('FCST_CONGEST_LVL').text\n",
    "                after_list.append(many_level)\n",
    "                print(many_level)\n",
    "            except:\n",
    "                print(\"혼잡도값에 대한 오류\")\n",
    "    \n",
    "    return Counter(after_list).most_common(1)[0][0]\n"
   ]
  },
  {
   "cell_type": "code",
   "execution_count": null,
   "metadata": {},
   "outputs": [
    {
     "name": "stdout",
     "output_type": "stream",
     "text": [
      "흐림\n",
      "구름많음\n",
      "구름많음\n",
      "흐림\n",
      "구름많음\n",
      "맑음\n",
      "맑음\n",
      "구름많음\n",
      "값 :구름많음\n"
     ]
    }
   ],
   "source": [
    "aaa = get_after_wether('sky_stts')\n",
    "print(\"값 :\"+ aaa)"
   ]
  },
  {
   "cell_type": "code",
   "execution_count": null,
   "metadata": {},
   "outputs": [
    {
     "ename": "IndexError",
     "evalue": "list index out of range",
     "output_type": "error",
     "traceback": [
      "\u001b[0;31m---------------------------------------------------------------------------\u001b[0m",
      "\u001b[0;31mIndexError\u001b[0m                                Traceback (most recent call last)",
      "Cell \u001b[0;32mIn[64], line 1\u001b[0m\n\u001b[0;32m----> 1\u001b[0m bbb \u001b[38;5;241m=\u001b[39m \u001b[43mget_many_people\u001b[49m\u001b[43m(\u001b[49m\u001b[43m)\u001b[49m\n\u001b[1;32m      2\u001b[0m \u001b[38;5;28mprint\u001b[39m(bbb)\n",
      "Cell \u001b[0;32mIn[53], line 21\u001b[0m, in \u001b[0;36mget_many_people\u001b[0;34m()\u001b[0m\n\u001b[1;32m     17\u001b[0m         \u001b[38;5;28;01mexcept\u001b[39;00m:\n\u001b[1;32m     18\u001b[0m             \u001b[38;5;28mprint\u001b[39m(\u001b[38;5;124m\"\u001b[39m\u001b[38;5;124m혼잡도값에 대한 오류\u001b[39m\u001b[38;5;124m\"\u001b[39m)\n\u001b[0;32m---> 21\u001b[0m \u001b[38;5;28;01mreturn\u001b[39;00m \u001b[43mCounter\u001b[49m\u001b[43m(\u001b[49m\u001b[43mafter_list\u001b[49m\u001b[43m)\u001b[49m\u001b[38;5;241;43m.\u001b[39;49m\u001b[43mmost_common\u001b[49m\u001b[43m(\u001b[49m\u001b[38;5;241;43m1\u001b[39;49m\u001b[43m)\u001b[49m\u001b[43m[\u001b[49m\u001b[38;5;241;43m0\u001b[39;49m\u001b[43m]\u001b[49m[\u001b[38;5;241m0\u001b[39m]\n",
      "\u001b[0;31mIndexError\u001b[0m: list index out of range"
     ]
    }
   ],
   "source": [
    "bbb = get_many_people()\n",
    "print(bbb)"
   ]
  },
  {
   "cell_type": "code",
   "execution_count": null,
   "metadata": {},
   "outputs": [
    {
     "name": "stdout",
     "output_type": "stream",
     "text": [
      "[<UV_INDEX>낮음</UV_INDEX>]\n",
      "1\n"
     ]
    }
   ],
   "source": [
    "#자외선\n",
    "uv_index = soup.find_all('UV_INDEX') \n",
    "print(uv_index)\n",
    "print(len(uv_index))"
   ]
  },
  {
   "cell_type": "markdown",
   "metadata": {},
   "source": [
    "#### 2.2 실시간 인구 지표값 가져오기"
   ]
  },
  {
   "cell_type": "code",
   "execution_count": null,
   "metadata": {},
   "outputs": [
    {
     "name": "stdout",
     "output_type": "stream",
     "text": [
      "[<AREA_NM>노들섬</AREA_NM>, <AREA_NM>노들섬</AREA_NM>]\n",
      "2\n",
      "[<AREA_CONGEST_LVL>여유</AREA_CONGEST_LVL>]\n",
      "1\n",
      "[<LIVE_CMRCL_STTS/>]\n",
      "1\n",
      "[<FCST_CONGEST_LVL>보통</FCST_CONGEST_LVL>, <FCST_CONGEST_LVL>여유</FCST_CONGEST_LVL>, <FCST_CONGEST_LVL>여유</FCST_CONGEST_LVL>, <FCST_CONGEST_LVL>여유</FCST_CONGEST_LVL>, <FCST_CONGEST_LVL>여유</FCST_CONGEST_LVL>, <FCST_CONGEST_LVL>여유</FCST_CONGEST_LVL>, <FCST_CONGEST_LVL>여유</FCST_CONGEST_LVL>, <FCST_CONGEST_LVL>여유</FCST_CONGEST_LVL>, <FCST_CONGEST_LVL>여유</FCST_CONGEST_LVL>, <FCST_CONGEST_LVL>여유</FCST_CONGEST_LVL>, <FCST_CONGEST_LVL>여유</FCST_CONGEST_LVL>, <FCST_CONGEST_LVL>여유</FCST_CONGEST_LVL>]\n",
      "12\n",
      "[]\n",
      "0\n"
     ]
    }
   ],
   "source": [
    "area_name = soup.find_all('AREA_NM') \n",
    "parent = area_name.parent\n",
    "area_person_many = soup.find_all('AREA_CONGEST_LVL') \n",
    "live_cmrcl_stts = soup.find_all('LIVE_CMRCL_STTS') \n",
    "fcst_person_many = soup.find_all('FCST_CONGEST_LVL') # 12시간 예측\n",
    "area_cmrcl_lvl = soup.find_all('AREA_CMRCL_LVL') \n",
    "\n",
    "fcst_person_many = soup.find_all('FCST_CONGEST_LVL') # 12시간 예측\n",
    "\n",
    "\n",
    "\n",
    "#핫스팟장소명\n",
    "print(area_name)\n",
    "print(len(area_name))\n",
    "# 장소 혼잡도 지표\n",
    "print(area_person_many)\n",
    "print(len(area_person_many))\n",
    "# 실시간 상권현황\n",
    "print(live_cmrcl_stts)\n",
    "print(len(live_cmrcl_stts))\n",
    "# 장소 예측 혼잡도 지표 \n",
    "print(fcst_person_many)\n",
    "print(len(fcst_person_many))\n",
    "# 장소 실시간 상권 현황\n",
    "print(area_cmrcl_lvl)\n",
    "print(len(area_cmrcl_lvl))"
   ]
  },
  {
   "cell_type": "code",
   "execution_count": null,
   "metadata": {},
   "outputs": [
    {
     "name": "stdout",
     "output_type": "stream",
     "text": [
      "<FCST_PPLTN><FCST_TIME>2025-03-25 00:00</FCST_TIME><FCST_CONGEST_LVL>여유</FCST_CONGEST_LVL><FCST_PPLTN_MIN>7500</FCST_PPLTN_MIN><FCST_PPLTN_MAX>8000</FCST_PPLTN_MAX></FCST_PPLTN>\n",
      "<FCST_TIME>2025-03-25 00:00</FCST_TIME>\n",
      "<FCST_PPLTN><FCST_TIME>2025-03-25 01:00</FCST_TIME><FCST_CONGEST_LVL>여유</FCST_CONGEST_LVL><FCST_PPLTN_MIN>6000</FCST_PPLTN_MIN><FCST_PPLTN_MAX>6500</FCST_PPLTN_MAX></FCST_PPLTN>\n",
      "<FCST_TIME>2025-03-25 01:00</FCST_TIME>\n",
      "<FCST_PPLTN><FCST_TIME>2025-03-25 02:00</FCST_TIME><FCST_CONGEST_LVL>여유</FCST_CONGEST_LVL><FCST_PPLTN_MIN>5000</FCST_PPLTN_MIN><FCST_PPLTN_MAX>5500</FCST_PPLTN_MAX></FCST_PPLTN>\n",
      "<FCST_TIME>2025-03-25 02:00</FCST_TIME>\n",
      "<FCST_PPLTN><FCST_TIME>2025-03-25 03:00</FCST_TIME><FCST_CONGEST_LVL>여유</FCST_CONGEST_LVL><FCST_PPLTN_MIN>4500</FCST_PPLTN_MIN><FCST_PPLTN_MAX>5000</FCST_PPLTN_MAX></FCST_PPLTN>\n",
      "<FCST_TIME>2025-03-25 03:00</FCST_TIME>\n",
      "<FCST_PPLTN><FCST_TIME>2025-03-25 04:00</FCST_TIME><FCST_CONGEST_LVL>여유</FCST_CONGEST_LVL><FCST_PPLTN_MIN>4500</FCST_PPLTN_MIN><FCST_PPLTN_MAX>5000</FCST_PPLTN_MAX></FCST_PPLTN>\n",
      "<FCST_TIME>2025-03-25 04:00</FCST_TIME>\n",
      "<FCST_PPLTN><FCST_TIME>2025-03-25 05:00</FCST_TIME><FCST_CONGEST_LVL>여유</FCST_CONGEST_LVL><FCST_PPLTN_MIN>5000</FCST_PPLTN_MIN><FCST_PPLTN_MAX>5500</FCST_PPLTN_MAX></FCST_PPLTN>\n",
      "<FCST_TIME>2025-03-25 05:00</FCST_TIME>\n",
      "<FCST_PPLTN><FCST_TIME>2025-03-25 06:00</FCST_TIME><FCST_CONGEST_LVL>여유</FCST_CONGEST_LVL><FCST_PPLTN_MIN>6000</FCST_PPLTN_MIN><FCST_PPLTN_MAX>6500</FCST_PPLTN_MAX></FCST_PPLTN>\n",
      "<FCST_TIME>2025-03-25 06:00</FCST_TIME>\n",
      "<FCST_PPLTN><FCST_TIME>2025-03-25 07:00</FCST_TIME><FCST_CONGEST_LVL>여유</FCST_CONGEST_LVL><FCST_PPLTN_MIN>8000</FCST_PPLTN_MIN><FCST_PPLTN_MAX>8500</FCST_PPLTN_MAX></FCST_PPLTN>\n",
      "<FCST_TIME>2025-03-25 07:00</FCST_TIME>\n",
      "<FCST_PPLTN><FCST_TIME>2025-03-25 08:00</FCST_TIME><FCST_CONGEST_LVL>여유</FCST_CONGEST_LVL><FCST_PPLTN_MIN>14000</FCST_PPLTN_MIN><FCST_PPLTN_MAX>16000</FCST_PPLTN_MAX></FCST_PPLTN>\n",
      "<FCST_TIME>2025-03-25 08:00</FCST_TIME>\n",
      "<FCST_PPLTN><FCST_TIME>2025-03-25 09:00</FCST_TIME><FCST_CONGEST_LVL>약간 붐빔</FCST_CONGEST_LVL><FCST_PPLTN_MIN>32000</FCST_PPLTN_MIN><FCST_PPLTN_MAX>34000</FCST_PPLTN_MAX></FCST_PPLTN>\n",
      "<FCST_TIME>2025-03-25 09:00</FCST_TIME>\n",
      "<FCST_PPLTN><FCST_TIME>2025-03-25 10:00</FCST_TIME><FCST_CONGEST_LVL>붐빔</FCST_CONGEST_LVL><FCST_PPLTN_MIN>40000</FCST_PPLTN_MIN><FCST_PPLTN_MAX>42000</FCST_PPLTN_MAX></FCST_PPLTN>\n",
      "<FCST_TIME>2025-03-25 10:00</FCST_TIME>\n",
      "<FCST_PPLTN><FCST_TIME>2025-03-25 11:00</FCST_TIME><FCST_CONGEST_LVL>붐빔</FCST_CONGEST_LVL><FCST_PPLTN_MIN>42000</FCST_PPLTN_MIN><FCST_PPLTN_MAX>44000</FCST_PPLTN_MAX></FCST_PPLTN>\n",
      "<FCST_TIME>2025-03-25 11:00</FCST_TIME>\n",
      "12\n"
     ]
    }
   ],
   "source": [
    "fcst_person_many = soup.find_all('FCST_TIME') # 12시간 예측\n",
    "\n",
    "for i in fcst_person_many:\n",
    "    parent = i.parent\n",
    "    print(parent)\n",
    "    print(i)\n",
    "\n",
    "\n",
    "print(len(fcst_person_many))"
   ]
  },
  {
   "cell_type": "markdown",
   "metadata": {},
   "source": [
    "### 3.합쳐보기"
   ]
  },
  {
   "cell_type": "markdown",
   "metadata": {},
   "source": [
    "### 함수"
   ]
  },
  {
   "cell_type": "markdown",
   "metadata": {},
   "source": [
    "-----------"
   ]
  },
  {
   "cell_type": "code",
   "execution_count": 16,
   "metadata": {},
   "outputs": [],
   "source": [
    "from selenium import webdriver\n",
    "from selenium.webdriver.common.by import By\n",
    "from bs4 import BeautifulSoup\n",
    "from selenium.webdriver.chrome.service import Service\n",
    "from selenium.webdriver.support.ui import WebDriverWait\n",
    "from selenium.webdriver.support import expected_conditions as EC\n",
    "import urllib.parse\n",
    "import re\n",
    "from selenium.common.exceptions import TimeoutException\n",
    "\n",
    "#이름 네이버 지도에 검색해서 첫번째 항목 주소 구(서울 아니면 시이름)가져오는 함수\n",
    "def get_addr(not_addr_name):  \n",
    "    # chrome드라이버 설정\n",
    "    options = webdriver.ChromeOptions()\n",
    "    options.add_argument('user-agent=Mozilla/5.0 (Windows NT 10.0; Win64; x64) AppleWebKit/537.36 (KHTML, like Gecko) Chrome/58.0.3029.110 Safari/537.3')\n",
    "    options.add_argument('window-size=1380,900')\n",
    "    options.add_argument(\"--headless\")  # 👈 화면 없이 실행 (필수)\n",
    "    driver = webdriver.Chrome(options=options)\n",
    "\n",
    "    # 네이버 검색\n",
    "    search_url = f\"https://map.naver.com/p/search/{urllib.parse.quote(not_addr_name)}\"\n",
    "    driver.get(search_url)\n",
    "    try:\n",
    "        WebDriverWait(driver, 10).until(EC.invisibility_of_element_located((By.CLASS_NAME, \"spinner_wrap\")))\n",
    "    except TimeoutException:\n",
    "        print(\"iframe 로딩 실패 - 새로고침 시도\")\n",
    "        driver.refresh()\n",
    "\n",
    "        try:\n",
    "            WebDriverWait(driver, 10).until(\n",
    "                EC.frame_to_be_available_and_switch_to_it((By.ID, \"searchIframe\"))\n",
    "            )\n",
    "        except TimeoutException:\n",
    "            print(\"iframe 두 번째 로딩도 실패 - 함수 종료\")\n",
    "            return None\n",
    "        \n",
    "\n",
    "    #iframe 전환\n",
    "    def switch_left():\n",
    "        WebDriverWait(driver, 10).until(EC.frame_to_be_available_and_switch_to_it((By.ID, \"searchIframe\")))\n",
    "    switch_left()\n",
    "\n",
    "\n",
    "    #뷰티플 소프로 검색한 첫번째 장소 주소 가져오기\n",
    "    soup = BeautifulSoup(driver.page_source, \"html.parser\")\n",
    "    search_list = soup.find(id=\"_pcmap_list_scroll_container\").find_all('li')\n",
    "    search_gu_name = search_list[0].find(class_=\"KgfA6 D7FgR\").find(class_=\"Pb4bU\").text\n",
    "    split_gu_name = search_gu_name.split()\n",
    "\n",
    "\n",
    "    # 가져온 값이 서울이면 구 이름 리터 아니면 시이름 리턴\n",
    "    if '서울' in split_gu_name:\n",
    "        gu_name = split_gu_name[1]\n",
    "    else :\n",
    "        gu_name = \"경기도\"\n",
    "\n",
    "    driver.quit()\n",
    "\n",
    "    return gu_name\n"
   ]
  },
  {
   "cell_type": "code",
   "execution_count": 23,
   "metadata": {},
   "outputs": [],
   "source": [
    "import mysql.connector\n",
    "\n",
    "def execute_sql(query, values=None):\n",
    "    ojk = mysql.connector.connect(\n",
    "        host = \"database-1.cnu82kme6p4d.ap-northeast-2.rds.amazonaws.com\",\n",
    "        port = 3306,\n",
    "        user = \"eda\",\n",
    "        password = \"ojk0707\",\n",
    "        database = \"ojk\"\n",
    "    )\n",
    "    cursor = ojk.cursor()\n",
    "    cursor.execute(query, values)\n",
    "    ojk.commit()\n",
    "    cursor.close()"
   ]
  },
  {
   "cell_type": "markdown",
   "metadata": {},
   "source": [
    "------------"
   ]
  },
  {
   "cell_type": "markdown",
   "metadata": {},
   "source": [
    "## DB에 저장하기"
   ]
  },
  {
   "cell_type": "code",
   "execution_count": 24,
   "metadata": {},
   "outputs": [
    {
     "name": "stdout",
     "output_type": "stream",
     "text": [
      "[202503270015, '강남 MICE 관광특구', '강남구', 1000, 1500, 17.0, 0, 60, '없음', '나쁨', '구름많음', '37', 0.6]\n",
      "[202503270015, '동대문 관광특구', '중구', 18000, 20000, 18.5, 0, 60, '없음', '나쁨', '구름많음', '42', 2.6]\n",
      "[202503270015, '명동 관광특구', '중구', 7000, 7500, 18.5, 0, 60, '없음', '나쁨', '구름많음', '42', 2.6]\n",
      "[202503270015, '이태원 관광특구', '용산구', 4500, 5000, 18.3, 0, 60, '없음', '나쁨', '구름많음', '36', 1.1]\n",
      "[202503270015, '잠실 관광특구', '송파구', 16000, 18000, 18.0, 0, 60, '없음', '나쁨', '구름많음', '35', 0.6]\n",
      "[202503270015, '종로·청계 관광특구', '종로구', 8000, 8500, 18.5, 0, 60, '없음', '나쁨', '구름많음', '42', 2.6]\n",
      "[202503270015, '홍대 관광특구', '마포구', 26000, 28000, 16.7, 0, 60, '없음', '나쁨', '구름많음', '45', 0.5]\n",
      "[202503270015, '경복궁', '종로구', 300, 400, 18.5, 0, 60, '없음', '나쁨', '구름많음', '42', 2.6]\n",
      "[202503270015, '광화문·덕수궁', '중구', 4000, 4500, 18.5, 0, 60, '없음', '나쁨', '구름많음', '42', 2.6]\n",
      "[202503270015, '보신각', '종로구', 2000, 2500, 18.5, 0, 60, '없음', '나쁨', '구름많음', '42', 2.6]\n",
      "[202503270015, '서울 암사동 유적', '강동구', 300, 400, 18.0, 0, 60, '없음', '나쁨', '구름많음', '35', 0.6]\n",
      "[202503270015, '창덕궁·종묘', '종로구', 3500, 4000, 18.5, 0, 60, '없음', '나쁨', '구름많음', '42', 2.6]\n",
      "[202503270015, '가산디지털단지역', '금천구', 7000, 7500, 18.7, 0, 60, '없음', '나쁨', '구름많음', '41', 1.5]\n",
      "[202503270015, '강남역', '서초구', 16000, 18000, 17.0, 0, 60, '없음', '점검중', '구름많음', '37', 0.6]\n",
      "[202503270015, '건대입구역', '광진구', 24000, 26000, 18.3, 0, 60, '없음', '나쁨', '구름많음', '36', 1.1]\n",
      "[202503270015, '고덕역', '강동구', 2000, 2500, 13.4, 0, 60, '없음', '나쁨', '구름많음', '45', 0.6]\n",
      "[202503270015, '고속터미널역', '서초구', 2000, 2500, 18.5, 0, 60, '없음', '점검중', '구름많음', '47', 1.5]\n",
      "[202503270015, '교대역', '서초구', 7000, 7500, 17.0, 0, 60, '없음', '점검중', '구름많음', '37', 0.6]\n",
      "[202503270015, '구로디지털단지역', '구로구', 6500, 7000, 18.7, 0, 60, '없음', '나쁨', '구름많음', '41', 1.5]\n",
      "[202503270015, '구로역', '구로구', 4000, 4500, 18.7, 0, 60, '없음', '나쁨', '구름많음', '41', 1.5]\n",
      "[202503270015, '군자역', '광진구', 5500, 6000, 18.1, 0, 60, '없음', '나쁨', '구름많음', '34', 0.8]\n",
      "[202503270015, '남구로역', '구로구', 2500, 3000, 18.7, 0, 60, '없음', '나쁨', '구름많음', '41', 1.5]\n",
      "[202503270015, '대림역', '영등포구', 16000, 18000, 18.7, 0, 60, '없음', '나쁨', '구름많음', '41', 1.5]\n",
      "[202503270015, '동대문역', '종로구', 2000, 2500, 18.5, 0, 60, '없음', '나쁨', '구름많음', '42', 2.6]\n",
      "[202503270015, '뚝섬역', '성동구', 6500, 7000, 18.3, 0, 60, '없음', '점검중', '구름많음', '36', 1.1]\n",
      "[202503270015, '미아사거리역', '강북구', 4000, 4500, 19.6, 0, 60, '없음', '보통', '흐림', '42', 2.1]\n",
      "[202503270015, '발산역', '강서구', 7000, 7500, 17.2, 0, 60, '없음', '나쁨', '흐림', '48', 0.9]\n",
      "[202503270015, '북한산우이역', '강북구', 1000, 1500, 18.9, 0, 60, '없음', '보통', '구름많음', '40', 2.7]\n",
      "[202503270015, '사당역', '서초구', 20000, 22000, 18.5, 0, 60, '없음', '나쁨', '구름많음', '47', 1.5]\n",
      "[202503270015, '삼각지역', '용산구', 1000, 1500, 18.3, 0, 60, '없음', '나쁨', '구름많음', '36', 1.1]\n",
      "[202503270015, '서울대입구역', '관악구', 14000, 16000, 16.9, 0, 60, '없음', '나쁨', '구름많음', '47', 1.0]\n",
      "[202503270015, '서울식물원·마곡나루역', '강서구', 4500, 5000, 17.2, 0, 60, '없음', '나쁨', '흐림', '48', 0.9]\n",
      "[202503270015, '서울역', '중구', 1500, 2000, 18.5, 0, 60, '없음', '나쁨', '구름많음', '42', 2.6]\n",
      "[202503270015, '선릉역', '강남구', 14000, 16000, 17.0, 0, 60, '없음', '나쁨', '구름많음', '37', 0.6]\n",
      "[202503270015, '성신여대입구역', '성북구', 3000, 3500, 18.5, 0, 60, '없음', '나쁨', '구름많음', '42', 2.6]\n",
      "[202503270015, '수유역', '강북구', 7500, 8000, 19.6, 0, 60, '없음', '보통', '흐림', '42', 2.1]\n",
      "[202503270015, '신논현역·논현역', '강남구', 4000, 4500, 17.0, 0, 60, '없음', '나쁨', '구름많음', '37', 0.6]\n",
      "[202503270015, '신도림역', '구로구', 5500, 6000, 16.9, 0, 60, '없음', '나쁨', '구름많음', '47', 1.0]\n",
      "[202503270015, '신림역', '관악구', 8500, 9000, 16.9, 0, 60, '없음', '나쁨', '구름많음', '47', 1.0]\n",
      "[202503270015, '신촌·이대역', '마포구', 22000, 24000, 16.7, 0, 60, '없음', '나쁨', '구름많음', '45', 0.5]\n",
      "[202503270015, '양재역', '서초구', 6500, 7000, 17.0, 0, 60, '없음', '점검중', '구름많음', '37', 0.6]\n",
      "[202503270015, '역삼역', '강남구', 8000, 8500, 17.0, 0, 60, '없음', '나쁨', '구름많음', '37', 0.6]\n",
      "[202503270015, '연신내역', '은평구', 4000, 4500, 11.3, 0, 60, '없음', '나쁨', '흐림', '54', 0.3]\n",
      "[202503270015, '오목교역·목동운동장', '양천구', 46000, 48000, 18.5, 0, 60, '없음', '나쁨', '흐림', '41', 1.2]\n",
      "[202503270015, '왕십리역', '성동구', 16000, 18000, 18.3, 0, 60, '없음', '점검중', '구름많음', '36', 1.1]\n",
      "[202503270015, '용산역', '용산구', 3500, 4000, 18.3, 0, 60, '없음', '나쁨', '구름많음', '36', 1.1]\n",
      "[202503270015, '이태원역', '용산구', 2000, 2500, 18.3, 0, 60, '없음', '나쁨', '구름많음', '36', 1.1]\n",
      "[202503270015, '장지역', '송파구', 12000, 14000, 16.1, 0, 60, '없음', '나쁨', '흐림', '38', 0.5]\n",
      "[202503270015, '장한평역', '동대문구', 12000, 14000, 18.6, 0, 60, '없음', '나쁨', '구름많음', '36', 1.0]\n",
      "[202503270015, '천호역', '강동구', 2500, 3000, 18.0, 0, 60, '없음', '나쁨', '구름많음', '35', 0.6]\n",
      "[202503270015, '총신대입구(이수)역', '동작구', 20000, 22000, 18.5, 0, 60, '없음', '점검중', '구름많음', '47', 1.5]\n",
      "[202503270015, '충정로역', '서대문구', 2500, 3000, 16.7, 0, 60, '없음', '나쁨', '구름많음', '45', 0.5]\n",
      "[202503270015, '합정역', '마포구', 12000, 14000, 16.7, 0, 60, '없음', '나쁨', '구름많음', '45', 0.5]\n",
      "[202503270015, '혜화역', '종로구', 5000, 5500, 18.5, 0, 60, '없음', '나쁨', '구름많음', '42', 2.6]\n",
      "[202503270015, '홍대입구역(2호선)', '마포구', 9000, 9500, 18.1, 0, 60, '없음', '나쁨', '흐림', '39', 1.0]\n",
      "[202503270015, '회기역', '동대문구', 8500, 9000, 18.6, 0, 60, '없음', '나쁨', '구름많음', '36', 1.0]\n",
      "[202503270015, '4·19 카페거리', '강북구', 900, 1000, 18.9, 0, 60, '없음', '보통', '구름많음', '40', 2.7]\n",
      "[202503270015, '가락시장', '송파구', 6500, 7000, 16.1, 0, 60, '없음', '나쁨', '흐림', '38', 0.5]\n",
      "[202503270015, '가로수길', '강남구', 8000, 8500, 18.3, 0, 60, '없음', '나쁨', '구름많음', '36', 1.1]\n",
      "[202503270015, '광장(전통)시장', '종로구', 1000, 1500, 18.5, 0, 60, '없음', '나쁨', '구름많음', '42', 2.6]\n",
      "[202503270015, '김포공항', '강서구', 1500, 2000, 17.2, 0, 60, '없음', '나쁨', '흐림', '48', 0.9]\n",
      "[202503270015, '낙산공원·이화마을', '종로구', 100, 200, 18.5, 0, 60, '없음', '나쁨', '구름많음', '42', 2.6]\n",
      "[202503270015, '노량진', '동작구', 14000, 16000, 16.9, 0, 60, '없음', '점검중', '구름많음', '47', 1.0]\n",
      "[202503270015, '덕수궁길·정동길', '중구', 900, 1000, 18.5, 0, 60, '없음', '나쁨', '구름많음', '42', 2.6]\n",
      "[202503270015, '방배역 먹자골목', '서초구', 300, 400, 18.5, 0, 60, '없음', '점검중', '구름많음', '47', 1.5]\n",
      "[202503270015, '북촌한옥마을', '종로구', 5000, 5500, 18.5, 0, 60, '없음', '나쁨', '구름많음', '42', 2.6]\n",
      "[202503270015, '서촌', '종로구', 9500, 10000, 18.5, 0, 60, '없음', '나쁨', '구름많음', '42', 2.6]\n",
      "[202503270015, '성수카페거리', '성동구', 12000, 14000, 18.3, 0, 60, '없음', '점검중', '구름많음', '36', 1.1]\n",
      "[202503270015, '수유리 먹자골목', '강북구', 3500, 4000, 19.6, 0, 60, '없음', '나쁨', '흐림', '42', 2.1]\n",
      "[202503270015, '쌍문동 맛집거리', '도봉구', 2000, 2500, 19.6, 0, 60, '없음', '나쁨', '흐림', '42', 2.1]\n",
      "[202503270015, '압구정로데오거리', '강남구', 6000, 6500, 18.3, 0, 60, '없음', '나쁨', '구름많음', '36', 1.1]\n",
      "[202503270015, '여의도', '영등포구', 38000, 40000, 16.7, 0, 60, '없음', '나쁨', '구름많음', '45', 0.5]\n",
      "[202503270015, '연남동', '마포구', 6500, 7000, 18.1, 0, 60, '없음', '나쁨', '흐림', '39', 1.0]\n",
      "[202503270015, '영등포 타임스퀘어', '영등포구', 4000, 4500, 16.7, 0, 60, '없음', '나쁨', '구름많음', '45', 0.5]\n",
      "[202503270015, '외대앞', '동대문구', 2000, 2500, 18.6, 0, 60, '없음', '나쁨', '구름많음', '36', 1.0]\n",
      "[202503270015, '용리단길', '용산구', 3000, 3500, 18.3, 0, 60, '없음', '나쁨', '구름많음', '36', 1.1]\n",
      "[202503270015, '이태원 앤틱가구거리', '용산구', 4000, 4500, 18.3, 0, 60, '없음', '나쁨', '구름많음', '36', 1.1]\n",
      "[202503270015, '인사동', '종로구', 3000, 3500, 18.5, 0, 60, '없음', '나쁨', '구름많음', '42', 2.6]\n",
      "[202503270015, '창동 신경제 중심지', '도봉구', 58000, 60000, 13.0, 0, 60, '없음', '나쁨', '구름많음', '46', 0.7]\n",
      "[202503270015, '청담동 명품거리', '강남구', 2000, 2500, 18.3, 0, 60, '없음', '나쁨', '구름많음', '36', 1.1]\n",
      "[202503270015, '청량리 제기동 일대 전통시장', '동대문구', 10000, 12000, 18.6, 0, 60, '없음', '나쁨', '구름많음', '36', 1.0]\n",
      "[202503270015, '해방촌·경리단길', '용산구', 3500, 4000, 18.3, 0, 60, '없음', '나쁨', '구름많음', '36', 1.1]\n",
      "[202503270015, 'DDP(동대문디자인플라자)', '중구', 2000, 2500, 18.5, 0, 60, '없음', '나쁨', '구름많음', '42', 2.6]\n",
      "[202503270015, 'DMC(디지털미디어시티)', '마포구', 20000, 22000, 17.2, 0, 60, '없음', '나쁨', '흐림', '48', 0.9]\n",
      "[202503270015, '강서한강공원', '강서구', 0, 100, 17.2, 0, 60, '없음', '나쁨', '흐림', '48', 0.9]\n",
      "[202503270015, '고척돔', '구로구', 200, 300, 18.7, 0, 60, '없음', '나쁨', '구름많음', '41', 1.5]\n",
      "[202503270015, '광나루한강공원', '강동구', 1500, 2000, 18.0, 0, 60, '없음', '나쁨', '구름많음', '35', 0.6]\n",
      "[202503270015, '광화문광장', '종로구', 700, 800, 18.5, 0, 60, '없음', '나쁨', '구름많음', '42', 2.6]\n",
      "[202503270015, '국립중앙박물관·용산가족공원', '용산구', 1000, 1500, 18.3, 0, 60, '없음', '나쁨', '구름많음', '36', 1.1]\n",
      "[202503270015, '난지한강공원', '마포구', 500, 600, 18.5, 0, 60, '없음', '나쁨', '흐림', '41', 1.2]\n",
      "[202503270015, '남산공원', '중구', 5000, 5500, 18.5, 0, 60, '없음', '나쁨', '구름많음', '42', 2.6]\n",
      "[202503270015, '노들섬', '용산구', 700, 800, 16.7, 0, 60, '없음', '나쁨', '구름많음', '45', 0.5]\n",
      "[202503270015, '뚝섬한강공원', '광진구', 1500, 2000, 18.3, 0, 60, '없음', '나쁨', '구름많음', '36', 1.1]\n",
      "[202503270015, '망원한강공원', '마포구', 1000, 1500, 16.7, 0, 60, '없음', '나쁨', '구름많음', '45', 0.5]\n",
      "[202503270015, '반포한강공원', '동작구', 1000, 1500, 18.5, 0, 60, '없음', '점검중', '구름많음', '47', 1.5]\n",
      "[202503270015, '북서울꿈의숲', '강북구', 4000, 4500, 19.6, 0, 60, '없음', '보통', '흐림', '42', 2.1]\n",
      "[202503270015, '불광천', '은평구', 58000, 60000, 18.1, 0, 60, '없음', '나쁨', '흐림', '39', 1.0]\n",
      "[202503270015, '서리풀공원·몽마르뜨공원', '서초구', 1500, 2000, 18.5, 0, 60, '없음', '점검중', '구름많음', '47', 1.5]\n",
      "[202503270015, '서울광장', '중구', 100, 200, 18.5, 0, 60, '없음', '나쁨', '구름많음', '42', 2.6]\n",
      "[202503270015, '서울대공원', '경기도', 300, 400, 17.0, 0, 60, '없음', '점검중', '구름많음', '37', 0.6]\n",
      "[202503270015, '서울숲공원', '성동구', 3000, 3500, 18.3, 0, 60, '없음', '점검중', '구름많음', '36', 1.1]\n",
      "[202503270015, '아차산', '경기도', 4500, 5000, 18.1, 0, 60, '없음', '나쁨', '구름많음', '34', 0.8]\n",
      "[202503270015, '양화한강공원', '영등포구', 400, 500, 18.5, 0, 60, '없음', '나쁨', '흐림', '41', 1.2]\n",
      "[202503270015, '어린이대공원', '광진구', 3500, 4000, 18.0, 0, 60, '없음', '나쁨', '구름많음', '35', 0.6]\n",
      "[202503270015, '여의도한강공원', '영등포구', 1000, 1500, 16.7, 0, 60, '없음', '나쁨', '구름많음', '45', 0.5]\n",
      "[202503270015, '월드컵공원', '마포구', 3000, 3500, 17.2, 0, 60, '없음', '나쁨', '흐림', '48', 0.9]\n",
      "[202503270015, '응봉산', '성동구', 2000, 2500, 18.3, 0, 60, '없음', '점검중', '구름많음', '36', 1.1]\n",
      "[202503270015, '이촌한강공원', '용산구', 1500, 2000, 16.7, 0, 60, '없음', '나쁨', '구름많음', '45', 0.5]\n",
      "[202503270015, '잠실종합운동장', '송파구', 1000, 1500, 16.1, 0, 60, '없음', '나쁨', '흐림', '38', 0.5]\n",
      "[202503270015, '잠실한강공원', '송파구', 1000, 1500, 18.0, 0, 60, '없음', '나쁨', '구름많음', '35', 0.6]\n",
      "[202503270015, '잠원한강공원', '강남구', 600, 700, 18.3, 0, 60, '없음', '나쁨', '구름많음', '36', 1.1]\n",
      "[202503270015, '청계산', '경기도', 800, 900, 19.4, 0, 60, '없음', '점검중', '구름많음', '43', 1.8]\n",
      "[202503270015, '청와대', '종로구', 0, 100, 18.5, 0, 60, '없음', '나쁨', '구름많음', '42', 2.6]\n",
      "[202503270015, '북창동 먹자골목', '중구', 1000, 1500, 18.5, 0, 60, '없음', '나쁨', '구름많음', '42', 2.6]\n",
      "[202503270015, '남대문시장', '중구', 900, 1000, 18.5, 0, 60, '없음', '나쁨', '구름많음', '42', 2.6]\n",
      "[202503270015, '익선동', '종로구', 4000, 4500, 18.5, 0, 60, '없음', '나쁨', '구름많음', '42', 2.6]\n"
     ]
    }
   ],
   "source": [
    "##### API 가져와보기\n",
    "import requests\n",
    "import pandas as pd \n",
    "from urllib.parse import quote\n",
    "from bs4 import BeautifulSoup\n",
    "import re\n",
    "import mysql.connector\n",
    "\n",
    "\n",
    "# 서울 지역 116곳 번호 뽑기\n",
    "total_listimet = []\n",
    "\n",
    "for i in range(1,117):\n",
    "    area_list = []\n",
    "    #지역 코드 값 자동 완성\n",
    "    area = f\"POI{i:03d}\"\n",
    "    # API 키\n",
    "    api_key = '6e51654f776b353335387168745664'\n",
    "    # API URL 구성\n",
    "    url = f'http://openapi.seoul.go.kr:8088/{api_key}/xml/citydata/1/2/{area}'\n",
    "    # API 요청, 응답\n",
    "    response = requests.get(url)\n",
    "    xml_data = response.text\n",
    "    # xml파싱\n",
    "    soup = BeautifulSoup(xml_data, 'lxml-xml')\n",
    "\n",
    "    # 필요한 값들 가져오기\n",
    "    # datetime\n",
    "    update_time =int(re.sub(r'[^\\w]|[_]', '', soup.find('PPLTN_TIME').text))\n",
    "    #명소명\n",
    "    area_nm = soup.find('AREA_NM').text\n",
    "    #최대 인구\n",
    "    max_pepl = int(soup.find('AREA_PPLTN_MAX').text)\n",
    "    #최소 인구\n",
    "    min_pepl = int(soup.find('AREA_PPLTN_MIN').text)\n",
    "    #기온\n",
    "    temp = float(soup.find('TEMP').text)\n",
    "    #강수\n",
    "    rain_mm = soup.find('PRECIPITATION').text\n",
    "    if rain_mm == \"-\":\n",
    "        rain_mm = 0\n",
    "    else:\n",
    "        rain_mm = int(rain_mm)\n",
    "    #강수확률\n",
    "    rain_per = int(soup.find('RAIN_CHANCE').text)\n",
    "    #강수형태\n",
    "    rain_type = soup.find('PRECPT_TYPE').text\n",
    "    #대기질\n",
    "    air_type = soup.find('AIR_IDX').text\n",
    "    #하늘상태\n",
    "    sky_stts = soup.find('SKY_STTS').text\n",
    "    #습도\n",
    "    air_water = soup.find('HUMIDITY').text\n",
    "    #풍향\n",
    "    wind_level = float(soup.find('WIND_SPD').text)\n",
    "    #구\n",
    "    try:\n",
    "        address = soup.find('ADDRESS').text\n",
    "        gu = re.search(r'[가-힣]+구', address).group()\n",
    "    #주소가 없을때 네이버 검색\n",
    "    except:\n",
    "        not_addr_name = area_nm.split(\"·\")[0]\n",
    "        gu= get_addr(not_addr_name)\n",
    "    area_list += [update_time,area_nm, gu, min_pepl, max_pepl, temp, rain_mm, rain_per, rain_type, air_type, sky_stts, air_water, wind_level]\n",
    "    \n",
    "    query = \"\"\"INSERT INTO spot (datetime, name, gu, min_population, max_population, temp, precipitation,\n",
    "        rain_chance, precpt_type, air_idx, sky_stts, humidity, wind_spd) \n",
    "        VALUES (%s, %s, %s, %s, %s, %s, %s, %s, %s, %s, %s, %s, %s)\"\"\"\n",
    "    \n",
    "    execute_sql(query, area_list)\n",
    "  \n",
    "    \n",
    "    print(area_list)"
   ]
  },
  {
   "cell_type": "code",
   "execution_count": null,
   "metadata": {},
   "outputs": [],
   "source": []
  }
 ],
 "metadata": {
  "kernelspec": {
   "display_name": "eda_venv",
   "language": "python",
   "name": "python3"
  },
  "language_info": {
   "codemirror_mode": {
    "name": "ipython",
    "version": 3
   },
   "file_extension": ".py",
   "mimetype": "text/x-python",
   "name": "python",
   "nbconvert_exporter": "python",
   "pygments_lexer": "ipython3",
   "version": "3.10.12"
  }
 },
 "nbformat": 4,
 "nbformat_minor": 2
}
